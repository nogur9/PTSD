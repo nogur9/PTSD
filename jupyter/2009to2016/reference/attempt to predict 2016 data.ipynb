{
 "cells": [
  {
   "cell_type": "code",
   "execution_count": 1,
   "id": "eight-england",
   "metadata": {},
   "outputs": [
    {
     "name": "stderr",
     "output_type": "stream",
     "text": [
      "Using TensorFlow backend.\n",
      "C:\\Users\\nogag\\AppData\\Local\\Continuum\\anaconda3\\lib\\site-packages\\tensorflow\\python\\framework\\dtypes.py:526: FutureWarning: Passing (type, 1) or '1type' as a synonym of type is deprecated; in a future version of numpy, it will be understood as (type, (1,)) / '(1,)type'.\n",
      "  _np_qint8 = np.dtype([(\"qint8\", np.int8, 1)])\n",
      "C:\\Users\\nogag\\AppData\\Local\\Continuum\\anaconda3\\lib\\site-packages\\tensorflow\\python\\framework\\dtypes.py:527: FutureWarning: Passing (type, 1) or '1type' as a synonym of type is deprecated; in a future version of numpy, it will be understood as (type, (1,)) / '(1,)type'.\n",
      "  _np_quint8 = np.dtype([(\"quint8\", np.uint8, 1)])\n",
      "C:\\Users\\nogag\\AppData\\Local\\Continuum\\anaconda3\\lib\\site-packages\\tensorflow\\python\\framework\\dtypes.py:528: FutureWarning: Passing (type, 1) or '1type' as a synonym of type is deprecated; in a future version of numpy, it will be understood as (type, (1,)) / '(1,)type'.\n",
      "  _np_qint16 = np.dtype([(\"qint16\", np.int16, 1)])\n",
      "C:\\Users\\nogag\\AppData\\Local\\Continuum\\anaconda3\\lib\\site-packages\\tensorflow\\python\\framework\\dtypes.py:529: FutureWarning: Passing (type, 1) or '1type' as a synonym of type is deprecated; in a future version of numpy, it will be understood as (type, (1,)) / '(1,)type'.\n",
      "  _np_quint16 = np.dtype([(\"quint16\", np.uint16, 1)])\n",
      "C:\\Users\\nogag\\AppData\\Local\\Continuum\\anaconda3\\lib\\site-packages\\tensorflow\\python\\framework\\dtypes.py:530: FutureWarning: Passing (type, 1) or '1type' as a synonym of type is deprecated; in a future version of numpy, it will be understood as (type, (1,)) / '(1,)type'.\n",
      "  _np_qint32 = np.dtype([(\"qint32\", np.int32, 1)])\n",
      "C:\\Users\\nogag\\AppData\\Local\\Continuum\\anaconda3\\lib\\site-packages\\tensorflow\\python\\framework\\dtypes.py:535: FutureWarning: Passing (type, 1) or '1type' as a synonym of type is deprecated; in a future version of numpy, it will be understood as (type, (1,)) / '(1,)type'.\n",
      "  np_resource = np.dtype([(\"resource\", np.ubyte, 1)])\n"
     ]
    }
   ],
   "source": [
    "from catboost import CatBoostClassifier\n",
    "from scipy import stats\n",
    "import numpy as np\n",
    "import pandas as pd\n",
    "from sklearn.model_selection import train_test_split, StratifiedKFold, cross_val_score\n",
    "from sklearn.metrics import precision_score, roc_auc_score, f1_score, recall_score\n",
    "from sklearn.preprocessing import StandardScaler\n",
    "from fancyimpute import IterativeImputer\n",
    "from sklearn.base import BaseEstimator, TransformerMixin\n",
    "\n",
    "from sklearn.feature_selection import SelectFromModel, RFE\n",
    "from sklearn.linear_model import LogisticRegression\n",
    "from imblearn.pipeline import Pipeline\n",
    "from sklearn.ensemble import RandomForestClassifier,ExtraTreesClassifier\n",
    "from sklearn.metrics import roc_curve, auc\n",
    "import matplotlib.pyplot as plt\n",
    "import statsmodels.api as sm\n",
    "from statsmodels.formula.api import ols\n",
    "from sklearn.model_selection import GridSearchCV\n",
    "import xlsxwriter\n",
    "from random import randint\n",
    "random_state = 7656\n",
    "from preprocessing import stds, stats, cv_preprocessing\n",
    "from load_data import load_data\n",
    "import os\n"
   ]
  },
  {
   "cell_type": "code",
   "execution_count": 2,
   "id": "static-hearts",
   "metadata": {},
   "outputs": [
    {
     "data": {
      "text/plain": [
       "['PCL_Strict3', 'target_tred', 'target_intrusion', 'phq3']"
      ]
     },
     "execution_count": 2,
     "metadata": {},
     "output_type": "execute_result"
    }
   ],
   "source": [
    "df_preprocessed, features, target_feature = load_data()\n",
    "target_feature"
   ]
  },
  {
   "cell_type": "code",
   "execution_count": 3,
   "id": "stunning-stomach",
   "metadata": {},
   "outputs": [],
   "source": [
    "trans_2009_2016_features = {\n",
    "    \"highschool_diploma\": \"bagrut\",\n",
    "    \"dyslexia\":\"dyslexia\", \n",
    "    \"ADHD\":\"ADHD\",\n",
    "    \"T1Acc1t\": \"Accuracy_threat_T1\",\n",
    "    \"T1Acc1n\": \"Accuracy_NT_T1\",\n",
    "    \"T1bias\": \"Threat_Bias_T1\",\n",
    "    \"phq1\": \"PHQ_T1\",\n",
    "    \"trait1\": \"Trait_T1\",\n",
    "    \"state1\": \"State_T1\",\n",
    "    \"PCL1\": \"PCL_T1\",\n",
    "    \"intrusion_score\": \"Intrusion_T1\"\n",
    "    }\n",
    "features = [i for i in features if i in trans_2009_2016_features.keys()]"
   ]
  },
  {
   "cell_type": "code",
   "execution_count": 4,
   "id": "recent-fraud",
   "metadata": {},
   "outputs": [
    {
     "data": {
      "text/plain": [
       "['highschool_diploma',\n",
       " 'dyslexia',\n",
       " 'ADHD',\n",
       " 'T1Acc1t',\n",
       " 'T1Acc1n',\n",
       " 'T1bias',\n",
       " 'phq1',\n",
       " 'trait1',\n",
       " 'state1',\n",
       " 'PCL1',\n",
       " 'intrusion_score']"
      ]
     },
     "execution_count": 4,
     "metadata": {},
     "output_type": "execute_result"
    }
   ],
   "source": [
    "features"
   ]
  },
  {
   "cell_type": "code",
   "execution_count": 5,
   "id": "metric-popularity",
   "metadata": {},
   "outputs": [],
   "source": [
    "df_2016 = pd.read_csv(r\"C:\\Users\\nogag\\Documents\\birocracy\\PTSDClassifier\\PTSD\\Data\\IDF_ABM_16.2.15_wide.csv\")\n",
    "df_2016 = df_2016[df_2016['Group']=='control']\n",
    "df_2016 = df_2016[~df_2016['PCL_T4'].isna()]"
   ]
  },
  {
   "cell_type": "markdown",
   "id": "elect-lobby",
   "metadata": {},
   "source": [
    "## process with 2009"
   ]
  },
  {
   "cell_type": "code",
   "execution_count": 6,
   "id": "competent-thomas",
   "metadata": {},
   "outputs": [],
   "source": [
    "X, X_out, Y, y_out = train_test_split(df_preprocessed[features], df_preprocessed[target_feature[0]],\\\n",
    "                                          test_size=0.25, random_state=random_state,\\\n",
    "                                          stratify=df_preprocessed[target_feature[0]])"
   ]
  },
  {
   "cell_type": "code",
   "execution_count": 7,
   "id": "powerful-korean",
   "metadata": {},
   "outputs": [],
   "source": [
    "cv = StratifiedKFold(6, random_state=random_state, shuffle=True)"
   ]
  },
  {
   "cell_type": "code",
   "execution_count": 8,
   "id": "buried-voltage",
   "metadata": {},
   "outputs": [],
   "source": [
    "pipe = Pipeline(steps=[\n",
    "        ('classifier', CatBoostClassifier(verbose=0, random_state=random_state))])"
   ]
  },
  {
   "cell_type": "code",
   "execution_count": 9,
   "id": "pursuant-earthquake",
   "metadata": {},
   "outputs": [],
   "source": [
    "mice = IterativeImputer(max_iter=50, random_state=random_state)\n",
    "X = pd.DataFrame(mice.fit_transform(X), columns=X.columns)\n",
    "X_out = pd.DataFrame(mice.transform(X_out), columns=X.columns)"
   ]
  },
  {
   "cell_type": "code",
   "execution_count": 10,
   "id": "prospective-calvin",
   "metadata": {},
   "outputs": [
    {
     "name": "stdout",
     "output_type": "stream",
     "text": [
      "roc_auc = 0.7668733538191397, params = {'classifier__class_weights': [1, 14], 'classifier__depth': 4, 'classifier__l2_leaf_reg': 150}\n"
     ]
    }
   ],
   "source": [
    "grid_params = [{\n",
    "    'classifier__class_weights':[[1, 14]],#, [1, 15], [1, 30]],\n",
    "    'classifier__l2_leaf_reg': [150],# 50],\n",
    "    'classifier__depth': [7, 4],#, 9]\n",
    "    }]\n",
    "clf = GridSearchCV(pipe, grid_params, cv=cv, scoring='roc_auc')\n",
    "clf.fit(X, Y.values.astype(int), classifier__early_stopping_rounds = 15)\n",
    "print(f\"roc_auc = {clf.best_score_}, params = {clf.best_params_}\")"
   ]
  },
  {
   "cell_type": "code",
   "execution_count": 11,
   "id": "spread-advance",
   "metadata": {},
   "outputs": [
    {
     "name": "stdout",
     "output_type": "stream",
     "text": [
      "roc_auc = 0.8027777777777778\n"
     ]
    }
   ],
   "source": [
    "y_pred_target = clf.best_estimator_.predict_proba(X_out)[:, 1]\n",
    "print( f\"roc_auc = {roc_auc_score(y_out.astype(int), y_pred_target)}\")"
   ]
  },
  {
   "cell_type": "markdown",
   "id": "correct-darkness",
   "metadata": {},
   "source": [
    "## train 2009"
   ]
  },
  {
   "cell_type": "code",
   "execution_count": 12,
   "id": "natural-presentation",
   "metadata": {},
   "outputs": [],
   "source": [
    "X_train, y_train = df_preprocessed[features], df_preprocessed[target_feature[0]]\n"
   ]
  },
  {
   "cell_type": "code",
   "execution_count": 13,
   "id": "honest-murder",
   "metadata": {},
   "outputs": [],
   "source": [
    "trans_2016_2009_features = {trans_2009_2016_features[i]: i for i in trans_2009_2016_features.keys()}\n",
    "df_2016 = df_2016.rename(trans_2016_2009_features, axis=1)"
   ]
  },
  {
   "cell_type": "code",
   "execution_count": 14,
   "id": "underlying-narrative",
   "metadata": {},
   "outputs": [],
   "source": [
    "X_test, y_test = df_2016[features], df_2016['PCL_T4'] > 49"
   ]
  },
  {
   "cell_type": "code",
   "execution_count": 15,
   "id": "liable-pharmaceutical",
   "metadata": {},
   "outputs": [
    {
     "name": "stderr",
     "output_type": "stream",
     "text": [
      "C:\\Users\\nogag\\AppData\\Local\\Continuum\\anaconda3\\lib\\site-packages\\ipykernel_launcher.py:1: SettingWithCopyWarning: \n",
      "A value is trying to be set on a copy of a slice from a DataFrame.\n",
      "Try using .loc[row_indexer,col_indexer] = value instead\n",
      "\n",
      "See the caveats in the documentation: https://pandas.pydata.org/pandas-docs/stable/user_guide/indexing.html#returning-a-view-versus-a-copy\n",
      "  \"\"\"Entry point for launching an IPython kernel.\n",
      "C:\\Users\\nogag\\AppData\\Local\\Continuum\\anaconda3\\lib\\site-packages\\ipykernel_launcher.py:2: SettingWithCopyWarning: \n",
      "A value is trying to be set on a copy of a slice from a DataFrame.\n",
      "Try using .loc[row_indexer,col_indexer] = value instead\n",
      "\n",
      "See the caveats in the documentation: https://pandas.pydata.org/pandas-docs/stable/user_guide/indexing.html#returning-a-view-versus-a-copy\n",
      "  \n",
      "C:\\Users\\nogag\\AppData\\Local\\Continuum\\anaconda3\\lib\\site-packages\\ipykernel_launcher.py:3: SettingWithCopyWarning: \n",
      "A value is trying to be set on a copy of a slice from a DataFrame.\n",
      "Try using .loc[row_indexer,col_indexer] = value instead\n",
      "\n",
      "See the caveats in the documentation: https://pandas.pydata.org/pandas-docs/stable/user_guide/indexing.html#returning-a-view-versus-a-copy\n",
      "  This is separate from the ipykernel package so we can avoid doing imports until\n"
     ]
    }
   ],
   "source": [
    "X_test['highschool_diploma'] = X_test['highschool_diploma'] == 'yes'\n",
    "X_test['dyslexia'] = X_test['dyslexia'] == 'yes'\n",
    "X_test['ADHD'] = X_test['ADHD'] == 'yes'"
   ]
  },
  {
   "cell_type": "code",
   "execution_count": 16,
   "id": "introductory-grenada",
   "metadata": {},
   "outputs": [],
   "source": [
    "mice = IterativeImputer(max_iter=50, random_state=random_state)\n",
    "X_train = pd.DataFrame(mice.fit_transform(X_train), columns=X_train.columns)\n",
    "X_test = pd.DataFrame(mice.transform(X_test), columns=X_test.columns)"
   ]
  },
  {
   "cell_type": "code",
   "execution_count": 19,
   "id": "caroline-mexico",
   "metadata": {},
   "outputs": [
    {
     "name": "stdout",
     "output_type": "stream",
     "text": [
      "roc_auc = 0.7955097794423637, params = {'classifier__class_weights': [1, 14], 'classifier__depth': 7, 'classifier__l2_leaf_reg': 150}\n"
     ]
    }
   ],
   "source": [
    "clf = GridSearchCV(pipe, grid_params, cv=cv, scoring='roc_auc')\n",
    "\n",
    "clf.fit(X_train, y_train, classifier__early_stopping_rounds = 15)\n",
    "print(f\"roc_auc = {clf.best_score_}, params = {clf.best_params_}\")"
   ]
  },
  {
   "cell_type": "code",
   "execution_count": 20,
   "id": "unnecessary-christian",
   "metadata": {},
   "outputs": [
    {
     "name": "stdout",
     "output_type": "stream",
     "text": [
      "roc_auc = 0.8064516129032258\n"
     ]
    }
   ],
   "source": [
    "y_pred_target = clf.best_estimator_.predict_proba(X_test)[:, 1]\n",
    "print( f\"roc_auc = {roc_auc_score(y_test.astype(int), y_pred_target)}\")"
   ]
  },
  {
   "cell_type": "code",
   "execution_count": 1,
   "id": "tutorial-institute",
   "metadata": {},
   "outputs": [
    {
     "ename": "NameError",
     "evalue": "name 'X_train' is not defined",
     "output_type": "error",
     "traceback": [
      "\u001b[1;31m---------------------------------------------------------------------------\u001b[0m",
      "\u001b[1;31mNameError\u001b[0m                                 Traceback (most recent call last)",
      "\u001b[1;32m<ipython-input-1-6894983c1a32>\u001b[0m in \u001b[0;36m<module>\u001b[1;34m\u001b[0m\n\u001b[1;32m----> 1\u001b[1;33m \u001b[1;32mfor\u001b[0m \u001b[0mi\u001b[0m\u001b[1;33m,\u001b[0m \u001b[0mj\u001b[0m \u001b[1;32min\u001b[0m \u001b[0mzip\u001b[0m\u001b[1;33m(\u001b[0m\u001b[0mX_train\u001b[0m\u001b[1;33m.\u001b[0m\u001b[0mcolumns\u001b[0m\u001b[1;33m,\u001b[0m \u001b[0mclf\u001b[0m\u001b[1;33m.\u001b[0m\u001b[0mbest_estimator_\u001b[0m\u001b[1;33m[\u001b[0m\u001b[1;34m'rfe'\u001b[0m\u001b[1;33m]\u001b[0m\u001b[1;33m.\u001b[0m\u001b[0mranking_\u001b[0m\u001b[1;33m)\u001b[0m\u001b[1;33m:\u001b[0m\u001b[1;33m\u001b[0m\u001b[1;33m\u001b[0m\u001b[0m\n\u001b[0m\u001b[0;32m      2\u001b[0m     \u001b[1;32mif\u001b[0m \u001b[0mj\u001b[0m \u001b[1;33m==\u001b[0m \u001b[1;36m1\u001b[0m\u001b[1;33m:\u001b[0m\u001b[1;33m\u001b[0m\u001b[1;33m\u001b[0m\u001b[0m\n\u001b[0;32m      3\u001b[0m         \u001b[0mprint\u001b[0m\u001b[1;33m(\u001b[0m\u001b[0mi\u001b[0m\u001b[1;33m)\u001b[0m\u001b[1;33m\u001b[0m\u001b[1;33m\u001b[0m\u001b[0m\n\u001b[0;32m      4\u001b[0m \u001b[0mprint\u001b[0m\u001b[1;33m(\u001b[0m\u001b[1;34m\"\\n\\n\\n\"\u001b[0m\u001b[1;33m)\u001b[0m\u001b[1;33m\u001b[0m\u001b[1;33m\u001b[0m\u001b[0m\n",
      "\u001b[1;31mNameError\u001b[0m: name 'X_train' is not defined"
     ]
    }
   ],
   "source": [
    "for i, j in zip(X_train.columns, clf.best_estimator_['rfe'].ranking_):\n",
    "    "
   ]
  },
  {
   "cell_type": "code",
   "execution_count": null,
   "id": "reduced-pathology",
   "metadata": {},
   "outputs": [],
   "source": []
  }
 ],
 "metadata": {
  "kernelspec": {
   "display_name": "Python 3",
   "language": "python",
   "name": "python3"
  },
  "language_info": {
   "codemirror_mode": {
    "name": "ipython",
    "version": 3
   },
   "file_extension": ".py",
   "mimetype": "text/x-python",
   "name": "python",
   "nbconvert_exporter": "python",
   "pygments_lexer": "ipython3",
   "version": "3.7.4"
  }
 },
 "nbformat": 4,
 "nbformat_minor": 5
}
