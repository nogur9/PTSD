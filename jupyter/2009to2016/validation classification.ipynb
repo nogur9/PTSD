{
 "cells": [
  {
   "cell_type": "code",
   "execution_count": 160,
   "id": "dietary-paste",
   "metadata": {},
   "outputs": [],
   "source": [
    "import numpy as np\n",
    "import pandas as pd\n",
    "from catboost import CatBoostClassifier\n",
    "from sklearn.model_selection import train_test_split, StratifiedKFold, cross_val_score\n",
    "from sklearn.metrics import precision_score, roc_auc_score, f1_score, recall_score\n",
    "from sklearn.metrics import roc_curve, auc\n",
    "from sklearn.model_selection import GridSearchCV\n",
    "from sklearn.pipeline import Pipeline\n",
    "import os\n",
    "\n",
    "random_state = 3602"
   ]
  },
  {
   "cell_type": "code",
   "execution_count": 161,
   "id": "active-pilot",
   "metadata": {},
   "outputs": [],
   "source": [
    "from fancyimpute import IterativeImputer\n"
   ]
  },
  {
   "cell_type": "code",
   "execution_count": 162,
   "id": "essential-supervision",
   "metadata": {},
   "outputs": [],
   "source": [
    "data_path = r'C:\\Users\\nogag\\Documents\\birocracy\\PTSDClassifier\\PTSD\\Data'\n",
    "df_2009 = pd.read_excel(os.path.join(data_path, \"PTSD.xlsx\"))\n"
   ]
  },
  {
   "cell_type": "code",
   "execution_count": 163,
   "id": "domestic-heavy",
   "metadata": {},
   "outputs": [],
   "source": [
    "df_2016 = pd.read_csv(r\"C:\\Users\\nogag\\Documents\\birocracy\\PTSDClassifier\\PTSD\\Data\\IDF_ABM_16.2.15_wide.csv\")\n",
    "df_2016 = df_2016[df_2016['Group']=='control']\n"
   ]
  },
  {
   "cell_type": "code",
   "execution_count": 164,
   "id": "instrumental-utilization",
   "metadata": {},
   "outputs": [],
   "source": [
    "df_questionnaire = pd.read_csv(os.path.join(data_path, f\"questionnaire_PCL.csv\"))\n"
   ]
  },
  {
   "cell_type": "code",
   "execution_count": 165,
   "id": "obvious-photography",
   "metadata": {},
   "outputs": [],
   "source": [
    "intrusion_features = [\"q6.1_INTRU\", \"q6.2_DREAM\", \"q6.3_FLASH\", \"q6.4_UPSET\", \"q6.5_PHYS\"]\n",
    "hypertension = [\"q6.13_SLEEP\", \"q6.14_ANGER\", \"q6.15_CONC\", \"q6.16_HYPER\", \"q6.17_STRTL\"]\n",
    "avoidance = [\"q6.6_AVTHT\", \"q6.7_AVSIT\", \"q6.8_AMNES\", \"q6.9_DISINT\", \"q6.10_DTACH\",  \"q6.11_NUMB\", \"q6.12_FUTRE\"]\n",
    "df_questionnaire['intrusion_score'] = df_questionnaire[intrusion_features].sum(axis=1)\n",
    "df_questionnaire['avoidance_score'] = df_questionnaire[avoidance].sum(axis=1)\n",
    "df_questionnaire['hypertension_score'] = df_questionnaire[hypertension].sum(axis=1)"
   ]
  },
  {
   "cell_type": "code",
   "execution_count": 166,
   "id": "empty-jefferson",
   "metadata": {},
   "outputs": [],
   "source": [
    "df_2009 = df_2009.merge(df_questionnaire[[\"intrusion_score\", \"avoidance_score\", \"hypertension_score\", \"ID\"]], on=\"ID\", how='outer')\n"
   ]
  },
  {
   "cell_type": "code",
   "execution_count": 167,
   "id": "above-procurement",
   "metadata": {},
   "outputs": [],
   "source": [
    "trans_2016_2009_features = {\n",
    "    'bagrut': 'highschool_diploma',\n",
    " #'dyslexia': 'dyslexia',\n",
    " 'ADHD': 'ADHD',\n",
    " #'Accuracy_threat_T1': 'T1Acc1t',\n",
    " #'Accuracy_NT_T1': 'T1Acc1n',\n",
    " 'Threat_Bias_T1': 'T1bias',\n",
    " #'PHQ_T1': 'phq1',\n",
    " #'Trait_T1': 'trait1',\n",
    " #'State_T1': 'state1',\n",
    " # 'PCL_T1': 'PCL1',\n",
    "  'Intrusion_T1': 'intrusion_score',\n",
    "                             'Avoidance_T1': 'avoidance_score',\n",
    "                             'Hyper_T1': 'hypertension_score',\n",
    "# 'PCL_T4': 'PCL_Strict3'\n",
    "}\n"
   ]
  },
  {
   "cell_type": "code",
   "execution_count": 168,
   "id": "cloudy-collaboration",
   "metadata": {},
   "outputs": [],
   "source": [
    "target_feature = 'intrusion_score'\n",
    "X_features = [i for i in trans_2016_2009_features.values() if not i == target_feature]\n"
   ]
  },
  {
   "cell_type": "code",
   "execution_count": 169,
   "id": "massive-stylus",
   "metadata": {},
   "outputs": [],
   "source": [
    "df_2016['PCL_T4'] = df_2016['PCL_T4'] > 49"
   ]
  },
  {
   "cell_type": "code",
   "execution_count": 170,
   "id": "massive-farmer",
   "metadata": {},
   "outputs": [],
   "source": [
    "df_2016['bagrut'] = df_2016['bagrut'] == 'yes'\n",
    "df_2016['dyslexia'] = df_2016['dyslexia'] == 'yes'\n",
    "df_2016['ADHD'] = df_2016['ADHD'] == 'yes'"
   ]
  },
  {
   "cell_type": "code",
   "execution_count": 171,
   "id": "israeli-dryer",
   "metadata": {},
   "outputs": [],
   "source": [
    "df_2016 = df_2016.rename(trans_2016_2009_features, axis=1)"
   ]
  },
  {
   "cell_type": "code",
   "execution_count": 172,
   "id": "metallic-poultry",
   "metadata": {},
   "outputs": [],
   "source": [
    "df_2009 = df_2009[~df_2009[target_feature].isna()]\n",
    "df_2016 = df_2016[~df_2016[target_feature].isna()]"
   ]
  },
  {
   "cell_type": "markdown",
   "id": "specialized-philadelphia",
   "metadata": {},
   "source": [
    "## CV of 2009 data"
   ]
  },
  {
   "cell_type": "code",
   "execution_count": 173,
   "id": "interracial-navigator",
   "metadata": {},
   "outputs": [],
   "source": [
    "cv = StratifiedKFold()\n",
    "pipe = Pipeline(steps=[('classifier', CatBoostClassifier(verbose=0, random_state=random_state))])\n",
    "grid_params = [{\n",
    "        'classifier__class_weights':[[1, 5], [1, 5*1.5], [1, 5*0.5]],\n",
    "        'classifier__l2_leaf_reg': [150, 50, 3, 250],\n",
    "        'classifier__depth': [4],#, 9]\n",
    "        }]"
   ]
  },
  {
   "cell_type": "markdown",
   "id": "extensive-seattle",
   "metadata": {},
   "source": [
    "## 2016"
   ]
  },
  {
   "cell_type": "code",
   "execution_count": 174,
   "id": "accredited-genesis",
   "metadata": {},
   "outputs": [],
   "source": [
    "x_2016, y_2016 = df_2016[X_features], df_2016[target_feature] *0 +1\n",
    "x_2009, y_2009 = df_2009[X_features], df_2009[target_feature] * 0"
   ]
  },
  {
   "cell_type": "code",
   "execution_count": 175,
   "id": "sustainable-maria",
   "metadata": {},
   "outputs": [],
   "source": [
    "X = pd.concat([x_2016, x_2009])\n",
    "Y = np.hstack([y_2016, y_2009])"
   ]
  },
  {
   "cell_type": "code",
   "execution_count": 176,
   "id": "polish-greece",
   "metadata": {},
   "outputs": [
    {
     "data": {
      "text/plain": [
       "(1040,)"
      ]
     },
     "execution_count": 176,
     "metadata": {},
     "output_type": "execute_result"
    }
   ],
   "source": [
    "Y.shape"
   ]
  },
  {
   "cell_type": "code",
   "execution_count": 177,
   "id": "attractive-garbage",
   "metadata": {},
   "outputs": [],
   "source": [
    "x_train, x_val, y_train, y_val = train_test_split(X, Y,  random_state=random_state, test_size=0.2, stratify=Y)"
   ]
  },
  {
   "cell_type": "code",
   "execution_count": 178,
   "id": "prostate-keyboard",
   "metadata": {
    "scrolled": false
   },
   "outputs": [
    {
     "name": "stdout",
     "output_type": "stream",
     "text": [
      "roc_auc = 0.6120337853635724, params = {'classifier__class_weights': [1, 5], 'classifier__depth': 4, 'classifier__l2_leaf_reg': 3}\n"
     ]
    }
   ],
   "source": [
    "clf = GridSearchCV(pipe, grid_params, cv=cv, scoring='roc_auc')\n",
    "clf.fit(x_train, y_train, classifier__early_stopping_rounds = 15)\n",
    "print(f\"roc_auc = {clf.best_score_}, params = {clf.best_params_}\")\n"
   ]
  },
  {
   "cell_type": "code",
   "execution_count": 179,
   "id": "endangered-assumption",
   "metadata": {},
   "outputs": [
    {
     "name": "stdout",
     "output_type": "stream",
     "text": [
      "roc_auc = 0.5623224431818181\n"
     ]
    }
   ],
   "source": [
    "y_pred_target = clf.best_estimator_.predict_proba(x_val)[:, 1]\n",
    "print(f\"roc_auc = {roc_auc_score(y_val, y_pred_target)}\")"
   ]
  },
  {
   "cell_type": "code",
   "execution_count": 180,
   "id": "heavy-chocolate",
   "metadata": {},
   "outputs": [
    {
     "name": "stdout",
     "output_type": "stream",
     "text": [
      "highschool_diploma 2.9450102890701615\n",
      "ADHD 3.6054452946470192\n",
      "T1bias 56.353059850101985\n",
      "avoidance_score 21.190511405953075\n",
      "hypertension_score 15.905973160227754\n"
     ]
    }
   ],
   "source": [
    "for i, j in zip(x_train.columns, clf.best_estimator_['classifier'].get_feature_importance()):\n",
    "    print(i, j)"
   ]
  },
  {
   "cell_type": "code",
   "execution_count": null,
   "id": "useful-things",
   "metadata": {},
   "outputs": [],
   "source": []
  }
 ],
 "metadata": {
  "kernelspec": {
   "display_name": "Python 3",
   "language": "python",
   "name": "python3"
  },
  "language_info": {
   "codemirror_mode": {
    "name": "ipython",
    "version": 3
   },
   "file_extension": ".py",
   "mimetype": "text/x-python",
   "name": "python",
   "nbconvert_exporter": "python",
   "pygments_lexer": "ipython3",
   "version": "3.7.4"
  }
 },
 "nbformat": 4,
 "nbformat_minor": 5
}
