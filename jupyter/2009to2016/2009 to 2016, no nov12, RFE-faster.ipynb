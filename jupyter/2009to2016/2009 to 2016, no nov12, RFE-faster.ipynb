{
 "cells": [
  {
   "cell_type": "code",
   "execution_count": 1,
   "id": "dietary-paste",
   "metadata": {},
   "outputs": [],
   "source": [
    "import numpy as np\n",
    "import pandas as pd\n",
    "from catboost import CatBoostClassifier\n",
    "from sklearn.model_selection import train_test_split, StratifiedKFold, cross_val_score\n",
    "from sklearn.metrics import precision_score, roc_auc_score, f1_score, recall_score\n",
    "from sklearn.metrics import roc_curve, auc\n",
    "from sklearn.model_selection import GridSearchCV\n",
    "from sklearn.pipeline import Pipeline\n",
    "import os\n",
    "\n",
    "random_state = 36021"
   ]
  },
  {
   "cell_type": "code",
   "execution_count": 2,
   "id": "active-pilot",
   "metadata": {},
   "outputs": [
    {
     "name": "stderr",
     "output_type": "stream",
     "text": [
      "Using TensorFlow backend.\n",
      "C:\\Users\\nogag\\AppData\\Local\\Continuum\\anaconda3\\lib\\site-packages\\tensorflow\\python\\framework\\dtypes.py:526: FutureWarning: Passing (type, 1) or '1type' as a synonym of type is deprecated; in a future version of numpy, it will be understood as (type, (1,)) / '(1,)type'.\n",
      "  _np_qint8 = np.dtype([(\"qint8\", np.int8, 1)])\n",
      "C:\\Users\\nogag\\AppData\\Local\\Continuum\\anaconda3\\lib\\site-packages\\tensorflow\\python\\framework\\dtypes.py:527: FutureWarning: Passing (type, 1) or '1type' as a synonym of type is deprecated; in a future version of numpy, it will be understood as (type, (1,)) / '(1,)type'.\n",
      "  _np_quint8 = np.dtype([(\"quint8\", np.uint8, 1)])\n",
      "C:\\Users\\nogag\\AppData\\Local\\Continuum\\anaconda3\\lib\\site-packages\\tensorflow\\python\\framework\\dtypes.py:528: FutureWarning: Passing (type, 1) or '1type' as a synonym of type is deprecated; in a future version of numpy, it will be understood as (type, (1,)) / '(1,)type'.\n",
      "  _np_qint16 = np.dtype([(\"qint16\", np.int16, 1)])\n",
      "C:\\Users\\nogag\\AppData\\Local\\Continuum\\anaconda3\\lib\\site-packages\\tensorflow\\python\\framework\\dtypes.py:529: FutureWarning: Passing (type, 1) or '1type' as a synonym of type is deprecated; in a future version of numpy, it will be understood as (type, (1,)) / '(1,)type'.\n",
      "  _np_quint16 = np.dtype([(\"quint16\", np.uint16, 1)])\n",
      "C:\\Users\\nogag\\AppData\\Local\\Continuum\\anaconda3\\lib\\site-packages\\tensorflow\\python\\framework\\dtypes.py:530: FutureWarning: Passing (type, 1) or '1type' as a synonym of type is deprecated; in a future version of numpy, it will be understood as (type, (1,)) / '(1,)type'.\n",
      "  _np_qint32 = np.dtype([(\"qint32\", np.int32, 1)])\n",
      "C:\\Users\\nogag\\AppData\\Local\\Continuum\\anaconda3\\lib\\site-packages\\tensorflow\\python\\framework\\dtypes.py:535: FutureWarning: Passing (type, 1) or '1type' as a synonym of type is deprecated; in a future version of numpy, it will be understood as (type, (1,)) / '(1,)type'.\n",
      "  np_resource = np.dtype([(\"resource\", np.ubyte, 1)])\n"
     ]
    }
   ],
   "source": [
    "from sklearn.feature_selection import RFE\n",
    "from sklearn.ensemble import ExtraTreesClassifier\n",
    "from fancyimpute import IterativeImputer\n"
   ]
  },
  {
   "cell_type": "code",
   "execution_count": 3,
   "id": "essential-supervision",
   "metadata": {},
   "outputs": [],
   "source": [
    "data_path_2009 = r'C:\\Users\\nogag\\Documents\\birocracy\\PTSDClassifier\\PTSD\\Data\\2009'\n",
    "df_2009 = pd.read_excel(os.path.join(data_path_2009, \"PTSD.xlsx\"))\n"
   ]
  },
  {
   "cell_type": "code",
   "execution_count": 4,
   "id": "domestic-heavy",
   "metadata": {},
   "outputs": [],
   "source": [
    "data_path_2016 = r'C:\\Users\\nogag\\Documents\\birocracy\\PTSDClassifier\\PTSD\\Data\\2016'\n",
    "df_2016 = pd.read_csv(os.path.join(data_path_2016, \"IDF_ABM_16.2.15_wide.csv\"))\n",
    "\n",
    "\n",
    "df_2016 = df_2016[~(df_2016['Wave']=='nov12')]\n"
   ]
  },
  {
   "cell_type": "markdown",
   "id": "dutch-grove",
   "metadata": {},
   "source": [
    "## features in the original data"
   ]
  },
  {
   "cell_type": "code",
   "execution_count": 5,
   "id": "scenic-values",
   "metadata": {},
   "outputs": [],
   "source": [
    "trans_2016_2009_features = {\n",
    "    'bagrut': 'highschool_diploma',\n",
    " 'ADHD': 'ADHD',\n",
    " 'Accuracy_threat_T1': 'T1Acc1t',\n",
    " 'Accuracy_NT_T1': 'T1Acc1n',\n",
    " 'Threat_Bias_T1': 'T1bias',\n",
    " 'PHQ_T1': 'phq1',\n",
    " 'Trait_T1': 'trait1',\n",
    " 'State_T1': 'state1',\n",
    "  'PCL_T1': 'PCL1',\n",
    " 'PCL_T4': 'PCL3'}\n"
   ]
  },
  {
   "cell_type": "markdown",
   "id": "impaired-breakdown",
   "metadata": {},
   "source": [
    "## append PCL intrusion features"
   ]
  },
  {
   "cell_type": "code",
   "execution_count": 6,
   "id": "literary-delight",
   "metadata": {},
   "outputs": [],
   "source": [
    "PCL_2009 = pd.read_csv(os.path.join(data_path_2009, \"questionnaire_PCL1.csv\"))\n",
    "PCL_2016 = pd.read_csv(os.path.join(data_path_2016, \"questionnaire5_PCL.csv\"))                      \n",
    "\n",
    "intrusion_features_2009 = [\"q6.1_INTRU\", \"q6.2_DREAM\", \"q6.3_FLASH\", \"q6.4_UPSET\", \"q6.5_PHYS\"]\n",
    "intrusion_features_2016 = [\"q5.1\", \"q5.2\", \"q5.3\", \"q5.4\", \"q5.5\"]\n",
    "df_2009 = df_2009.merge(PCL_2009[intrusion_features_2009 + [\"ID\"]], on=\"ID\", how='outer')\n",
    "df_2016 = df_2016.merge(PCL_2016[intrusion_features_2016 + [\"ID\"]], on=\"ID\", how='outer')\n",
    "\n",
    "for i, j in zip(intrusion_features_2009, intrusion_features_2016):\n",
    "    trans_2016_2009_features[j] = i"
   ]
  },
  {
   "cell_type": "markdown",
   "id": "minus-inclusion",
   "metadata": {},
   "source": [
    "## append PHQ9 features"
   ]
  },
  {
   "cell_type": "code",
   "execution_count": 7,
   "id": "empty-jefferson",
   "metadata": {},
   "outputs": [],
   "source": [
    "PHQ9_2009 = pd.read_csv(os.path.join(data_path_2009, \"questionnaire5_PHQ9.csv\"))\n",
    "PHQ9_2016 = pd.read_csv(os.path.join(data_path_2016, \"questionnaire4_PHQ9.csv\"))                      \n",
    "\n",
    "PHQ9_features_2009 = [\"T1q5.1\", \"T1q5.2\", \"T1q5.3\", \"T1q5.4\", \"T1q5.5\", \"T1q5.6\", \"T1q5.7\", \"T1q5.8\", \"T1q5.9\"]\n",
    "PHQ9_features_2016 = [\"q4.1\", \"q4.2\",\"q4.3\", \"q4.4\", \"q4.5\", \"q4.6\", \"q4.7\", \"q4.8\", \"q49\"]\n",
    "df_2009 = df_2009.merge(PHQ9_2009[PHQ9_features_2009 + [\"ID\"]], on=\"ID\", how='outer')\n",
    "df_2016 = df_2016.merge(PHQ9_2016[PHQ9_features_2016 + [\"ID\"]], on=\"ID\", how='outer')\n",
    "\n",
    "for i, j in zip(PHQ9_features_2009, PHQ9_features_2016):\n",
    "    trans_2016_2009_features[j] = i"
   ]
  },
  {
   "cell_type": "markdown",
   "id": "contrary-somewhere",
   "metadata": {},
   "source": [
    "## append trait featues"
   ]
  },
  {
   "cell_type": "code",
   "execution_count": 8,
   "id": "liked-peace",
   "metadata": {},
   "outputs": [],
   "source": [
    "Trait_2009 = pd.read_csv(os.path.join(data_path_2009, \"questionnaire3_trait_anxiety_revised.csv\"))\n",
    "Trait_2016 = pd.read_csv(os.path.join(data_path_2016, \"questionnaire3_trait_anxiety.csv\"))                      \n",
    "\n",
    "Trait_features_2009 = [\"T1q3.1\", \"T1q3.2\", \"T1q3.3\", \"T1q3.4\", \"T1q3.5\", \"T1q3.6\", \"T1q3.7\", \"T1q3.8\", \"T1q3.9\", \"T1q3.10\", \"T1q3.11\", \"T1q3.12\", \"T1q3.13\", \"T1q3.14\", \"T1q3.15\", \"T1q3.16\", \"T1q3.17\", \"T1q3.18\", \"T1q3.19\", \"T1q3.20\"]\n",
    "Trait_features_2016 = [\"q3.1\", \"q3.2\", \"q3.3\", \"q3.4\", \"q3.5\", \"q3.6\", \"q3.7\", \"q3.8\", \"q3.9\", \"q3.10\", \"q3.11\", \"q3.12\", \"q3.13\", \"q3.14\", \"q3.15\", \"q3.16\", \"q3.17\", \"q3.18\", \"q3.19\", \"q3.20\"]\n",
    "df_2009 = df_2009.merge(Trait_2009[Trait_features_2009 + [\"ID\"]], on=\"ID\", how='outer')\n",
    "df_2016 = df_2016.merge(Trait_2016[Trait_features_2016 + [\"ID\"]], on=\"ID\", how='outer')\n",
    "\n",
    "for i, j in zip(Trait_features_2009, Trait_features_2016):\n",
    "    trans_2016_2009_features[j] = i"
   ]
  },
  {
   "cell_type": "markdown",
   "id": "registered-concern",
   "metadata": {},
   "source": [
    "## append state featues"
   ]
  },
  {
   "cell_type": "code",
   "execution_count": 9,
   "id": "proved-celebration",
   "metadata": {},
   "outputs": [],
   "source": [
    "State_2009 = pd.read_csv(os.path.join(data_path_2009, \"questionnaire2_state_anxiety_revised.csv\"))\n",
    "State_2016 = pd.read_csv(os.path.join(data_path_2016, \"questionnaire2_state_anxiety.csv\"))                      \n",
    "\n",
    "State_features_2009 = [\"T1q2.1\", \"T1q2.2\", \"T1q2.3\", \"T1q2.4\", \"T1q2.5\", \"T1q2.6\", \"T1q2.7\", \"T1q2.8\", \"T1q2.9\", \"T1q2.10\", \"T1q2.11\", \"T1q2.12\", \"T1q2.13\", \"T1q2.14\", \"T1q2.15\", \"T1q2.16\", \"T1q2.17\", \"T1q2.18\", \"T1q2.19\", \"T1q2.20\"]\n",
    "State_features_2016 = [\"q2.1\", \"q2.2\", \"q2.3\", \"q2.4\", \"q2.5\", \"q2.6\", \"q2.7\", \"q2.8\", \"q2.9\", \"q2.10\", \"q2.11\", \"q2.12\", \"q2.13\", \"q2.14\", \"q2.15\", \"q2.16\", \"q2.17\", \"q2.18\", \"q2.19\", \"q2.20\"]\n",
    "df_2009 = df_2009.merge(State_2009[State_features_2009 + [\"ID\"]], on=\"ID\", how='outer')\n",
    "df_2016 = df_2016.merge(State_2016[State_features_2016 + [\"ID\"]], on=\"ID\", how='outer')\n",
    "\n",
    "for i, j in zip(State_features_2009, State_features_2016):\n",
    "    trans_2016_2009_features[j] = i"
   ]
  },
  {
   "cell_type": "markdown",
   "id": "above-finger",
   "metadata": {},
   "source": [
    "## target feature"
   ]
  },
  {
   "cell_type": "code",
   "execution_count": 10,
   "id": "cloudy-collaboration",
   "metadata": {},
   "outputs": [],
   "source": [
    "target_feature = 'PCL3'\n",
    "X_features = [i for i in trans_2016_2009_features.values() if not i == target_feature]\n"
   ]
  },
  {
   "cell_type": "code",
   "execution_count": 11,
   "id": "massive-stylus",
   "metadata": {},
   "outputs": [],
   "source": [
    "df_2016['PCL_T4'] = (df_2016['PCL_T4'] > 40).astype(int)\n",
    "df_2009['PCL3'] = (df_2009['PCL3'] > 40).astype(int)"
   ]
  },
  {
   "cell_type": "markdown",
   "id": "answering-software",
   "metadata": {},
   "source": [
    "## adjust features from 2016"
   ]
  },
  {
   "cell_type": "code",
   "execution_count": 12,
   "id": "massive-farmer",
   "metadata": {},
   "outputs": [],
   "source": [
    "df_2016['bagrut'] = df_2016['bagrut'] == 'yes'\n",
    "df_2016['dyslexia'] = df_2016['dyslexia'] == 'yes'\n",
    "df_2016['ADHD'] = df_2016['ADHD'] == 'yes'"
   ]
  },
  {
   "cell_type": "code",
   "execution_count": 13,
   "id": "israeli-dryer",
   "metadata": {},
   "outputs": [],
   "source": [
    "df_2016 = df_2016.rename(trans_2016_2009_features, axis=1)"
   ]
  },
  {
   "cell_type": "code",
   "execution_count": 14,
   "id": "metallic-poultry",
   "metadata": {},
   "outputs": [],
   "source": [
    "df_2009 = df_2009[~df_2009[target_feature].isna()]\n",
    "df_2016 = df_2016[~df_2016[target_feature].isna()]"
   ]
  },
  {
   "cell_type": "markdown",
   "id": "specialized-philadelphia",
   "metadata": {},
   "source": [
    "## 2009 data outer CV"
   ]
  },
  {
   "cell_type": "code",
   "execution_count": 15,
   "id": "functional-patent",
   "metadata": {},
   "outputs": [],
   "source": [
    "x, x_test, y, y_test = train_test_split(df_2009[X_features], df_2009[target_feature], test_size=0.25,\n",
    "                                        random_state=random_state, stratify=df_2009[target_feature])"
   ]
  },
  {
   "cell_type": "markdown",
   "id": "worthy-detail",
   "metadata": {},
   "source": [
    "## parameters init"
   ]
  },
  {
   "cell_type": "code",
   "execution_count": 16,
   "id": "environmental-number",
   "metadata": {},
   "outputs": [],
   "source": [
    "? IterativeImputer"
   ]
  },
  {
   "cell_type": "code",
   "execution_count": 29,
   "id": "running-career",
   "metadata": {},
   "outputs": [],
   "source": [
    "cv = StratifiedKFold(6, random_state=random_state, shuffle=True)\n",
    "\n",
    "# class weight\n",
    "pos_sample = y.sum() \n",
    "all_samples = y.count()\n",
    "class_weights = all_samples/ pos_sample\n",
    "\n",
    "\n",
    "# pipeline\n",
    "\n",
    "pipe = Pipeline(steps=[\n",
    "    ('Mice',  IterativeImputer(random_state=random_state, max_iter=65)),\n",
    "    ('RFE', RFE(ExtraTreesClassifier(random_state=random_state))),\n",
    "    ('classifier', CatBoostClassifier(verbose=0, random_state=random_state))\n",
    "\n",
    "    ])\n",
    "grid_params = [{\n",
    "        'RFE__n_features_to_select': [15],\n",
    "        #'classifier__bagging_temperature': [1, 10, 50],#, 9]\n",
    "        #'classifier__learning_rate':[None, 0.01, 0.1],\n",
    "        'classifier__class_weights':[[1, class_weights]],# [1, class_weights*2]],# [1, class_weights*0.5]],\n",
    "        'classifier__l2_leaf_reg': [100],# 250, 500],\n",
    "        'classifier__depth': [4]#, 9]\n",
    "        }]\n",
    "\n",
    "\n"
   ]
  },
  {
   "cell_type": "markdown",
   "id": "focal-modern",
   "metadata": {},
   "source": [
    "## inner CV"
   ]
  },
  {
   "cell_type": "code",
   "execution_count": 30,
   "id": "registered-miller",
   "metadata": {
    "scrolled": false
   },
   "outputs": [],
   "source": [
    "x_train, x_val, y_train, y_val = train_test_split(x, y,  random_state=random_state, test_size=0.2, stratify=y)\n",
    "## grid search\n",
    "clf = GridSearchCV(pipe, grid_params, cv=cv, scoring='roc_auc')"
   ]
  },
  {
   "cell_type": "code",
   "execution_count": 31,
   "id": "handled-integrity",
   "metadata": {},
   "outputs": [
    {
     "name": "stdout",
     "output_type": "stream",
     "text": [
      "roc_auc = 0.6658363430773243, params = {'RFE__n_features_to_select': 15, 'classifier__class_weights': [1, 13.573770491803279], 'classifier__depth': 4, 'classifier__l2_leaf_reg': 100}\n"
     ]
    }
   ],
   "source": [
    "clf.fit(x_train, y_train.values.astype(int), classifier__early_stopping_rounds = 15)\n",
    "print(f\"roc_auc = {clf.best_score_}, params = {clf.best_params_}\")\n"
   ]
  },
  {
   "cell_type": "code",
   "execution_count": 32,
   "id": "likely-rwanda",
   "metadata": {},
   "outputs": [
    {
     "name": "stdout",
     "output_type": "stream",
     "text": [
      "roc_auc = 0.7481060606060607\n"
     ]
    }
   ],
   "source": [
    "y_pred_target = clf.best_estimator_.predict_proba(x_val)[:, 1]\n",
    "print(f\"roc_auc = {roc_auc_score(y_val.astype(int), y_pred_target)}\")"
   ]
  },
  {
   "cell_type": "markdown",
   "id": "dimensional-validity",
   "metadata": {},
   "source": [
    "## outer CV"
   ]
  },
  {
   "cell_type": "code",
   "execution_count": 33,
   "id": "interracial-navigator",
   "metadata": {},
   "outputs": [
    {
     "name": "stdout",
     "output_type": "stream",
     "text": [
      "roc_auc = 0.6246446067465998, params = {'RFE__n_features_to_select': 15, 'classifier__class_weights': [1, 13.573770491803279], 'classifier__depth': 4, 'classifier__l2_leaf_reg': 100}\n"
     ]
    }
   ],
   "source": [
    "clf = GridSearchCV(pipe, grid_params, cv=cv, scoring='roc_auc')\n",
    "clf.fit(x, y.values.astype(int), classifier__early_stopping_rounds = 15)\n",
    "\n",
    "print(f\"roc_auc = {clf.best_score_}, params = {clf.best_params_}\")"
   ]
  },
  {
   "cell_type": "code",
   "execution_count": 34,
   "id": "governing-briefing",
   "metadata": {},
   "outputs": [
    {
     "name": "stdout",
     "output_type": "stream",
     "text": [
      "roc_auc = 0.7026264591439688\n"
     ]
    }
   ],
   "source": [
    "y_pred_target = clf.best_estimator_.predict_proba(x_test)[:, 1]\n",
    "print(f\"roc_auc = {roc_auc_score(y_test.astype(int), y_pred_target)}\")"
   ]
  },
  {
   "cell_type": "markdown",
   "id": "extensive-seattle",
   "metadata": {},
   "source": [
    "## 2016"
   ]
  },
  {
   "cell_type": "code",
   "execution_count": 35,
   "id": "accredited-genesis",
   "metadata": {},
   "outputs": [],
   "source": [
    "x_2016, y_2016 = df_2016[X_features], df_2016[target_feature]\n",
    "clf = GridSearchCV(pipe, grid_params, cv=cv, scoring='roc_auc')\n"
   ]
  },
  {
   "cell_type": "code",
   "execution_count": 36,
   "id": "prostate-keyboard",
   "metadata": {},
   "outputs": [
    {
     "name": "stderr",
     "output_type": "stream",
     "text": [
      "C:\\Users\\nogag\\AppData\\Local\\Continuum\\anaconda3\\lib\\site-packages\\sklearn\\impute\\_iterative.py:686: ConvergenceWarning: [IterativeImputer] Early stopping criterion not reached.\n",
      "  \" reached.\", ConvergenceWarning)\n"
     ]
    },
    {
     "name": "stdout",
     "output_type": "stream",
     "text": [
      "roc_auc = 0.6707710704614729, params = {'RFE__n_features_to_select': 15, 'classifier__class_weights': [1, 13.573770491803279], 'classifier__depth': 4, 'classifier__l2_leaf_reg': 100}\n"
     ]
    }
   ],
   "source": [
    "clf.fit(df_2009[X_features], df_2009[target_feature].astype(int), classifier__early_stopping_rounds = 15)\n",
    "print(f\"roc_auc = {clf.best_score_}, params = {clf.best_params_}\")"
   ]
  },
  {
   "cell_type": "code",
   "execution_count": 37,
   "id": "endangered-assumption",
   "metadata": {},
   "outputs": [
    {
     "name": "stdout",
     "output_type": "stream",
     "text": [
      "roc_auc = 0.3648021597907703\n"
     ]
    }
   ],
   "source": [
    "y_pred_target = clf.best_estimator_.predict_proba(x_2016)[:, 1]\n",
    "print(f\"roc_auc = {roc_auc_score(y_2016.astype(int), y_pred_target)}\")"
   ]
  },
  {
   "cell_type": "code",
   "execution_count": 38,
   "id": "heavy-chocolate",
   "metadata": {},
   "outputs": [
    {
     "name": "stdout",
     "output_type": "stream",
     "text": [
      "highschool_diploma 6.371983060376791\n",
      "ADHD 11.279471356844324\n",
      "T1Acc1t 6.6626085510713\n",
      "T1Acc1n 5.541802810656949\n",
      "T1bias 9.786629607484658\n",
      "phq1 13.922247529675646\n",
      "trait1 2.2718652722770907\n",
      "state1 4.780997661657535\n",
      "PCL1 4.751397082824295\n",
      "q6.1_INTRU 8.840242268096166\n",
      "q6.2_DREAM 4.312139762379893\n",
      "q6.3_FLASH 4.2283178205517755\n",
      "q6.4_UPSET 4.978835442044511\n",
      "q6.5_PHYS 4.868243633380529\n",
      "T1q5.1 7.4032181406785575\n"
     ]
    }
   ],
   "source": [
    "for i, j in zip(x_train.columns, clf.best_estimator_['classifier'].get_feature_importance()):\n",
    "    print(i, j)"
   ]
  },
  {
   "cell_type": "code",
   "execution_count": 27,
   "id": "useful-things",
   "metadata": {},
   "outputs": [
    {
     "data": {
      "text/plain": [
       "0       0\n",
       "1       0\n",
       "2       0\n",
       "3       0\n",
       "4       0\n",
       "       ..\n",
       "1348    0\n",
       "1349    0\n",
       "1350    0\n",
       "1351    0\n",
       "1352    0\n",
       "Name: PCL3, Length: 1353, dtype: int32"
      ]
     },
     "execution_count": 27,
     "metadata": {},
     "output_type": "execute_result"
    }
   ],
   "source": [
    "y_2016.astype(int)"
   ]
  },
  {
   "cell_type": "code",
   "execution_count": 28,
   "id": "standing-necessity",
   "metadata": {},
   "outputs": [
    {
     "data": {
      "text/plain": [
       "0.4535982451699991"
      ]
     },
     "execution_count": 28,
     "metadata": {},
     "output_type": "execute_result"
    }
   ],
   "source": [
    "roc_auc_score(y_2016.astype(int), y_pred_target)"
   ]
  },
  {
   "cell_type": "code",
   "execution_count": null,
   "id": "widespread-special",
   "metadata": {},
   "outputs": [],
   "source": []
  }
 ],
 "metadata": {
  "kernelspec": {
   "display_name": "Python 3",
   "language": "python",
   "name": "python3"
  },
  "language_info": {
   "codemirror_mode": {
    "name": "ipython",
    "version": 3
   },
   "file_extension": ".py",
   "mimetype": "text/x-python",
   "name": "python",
   "nbconvert_exporter": "python",
   "pygments_lexer": "ipython3",
   "version": "3.7.4"
  }
 },
 "nbformat": 4,
 "nbformat_minor": 5
}
