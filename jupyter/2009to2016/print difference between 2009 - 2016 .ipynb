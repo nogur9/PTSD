{
 "cells": [
  {
   "cell_type": "code",
   "execution_count": null,
   "id": "dietary-paste",
   "metadata": {},
   "outputs": [],
   "source": [
    "import numpy as np\n",
    "import pandas as pd\n",
    "from catboost import CatBoostClassifier\n",
    "from sklearn.model_selection import train_test_split, StratifiedKFold, cross_val_score\n",
    "from sklearn.metrics import precision_score, roc_auc_score, f1_score, recall_score\n",
    "from sklearn.metrics import roc_curve, auc\n",
    "from sklearn.model_selection import GridSearchCV\n",
    "from sklearn.pipeline import Pipeline\n",
    "import os\n",
    "\n",
    "random_state = 3603"
   ]
  },
  {
   "cell_type": "code",
   "execution_count": null,
   "id": "essential-supervision",
   "metadata": {},
   "outputs": [],
   "source": [
    "data_path = r'C:\\Users\\nogag\\Documents\\birocracy\\PTSDClassifier\\PTSD\\Data'\n",
    "df_2009 = pd.read_excel(os.path.join(data_path, \"PTSD.xlsx\"))\n"
   ]
  },
  {
   "cell_type": "code",
   "execution_count": null,
   "id": "domestic-heavy",
   "metadata": {},
   "outputs": [],
   "source": [
    "df_2016 = pd.read_csv(r\"C:\\Users\\nogag\\Documents\\birocracy\\PTSDClassifier\\PTSD\\Data\\IDF_ABM_16.2.15_wide.csv\")\n",
    "#df_2016 = df_2016[df_2016['Group']=='control']\n"
   ]
  },
  {
   "cell_type": "code",
   "execution_count": null,
   "id": "instrumental-utilization",
   "metadata": {},
   "outputs": [],
   "source": [
    "df_questionnaire = pd.read_csv(os.path.join(data_path, f\"questionnaire_PCL.csv\"))\n"
   ]
  },
  {
   "cell_type": "code",
   "execution_count": null,
   "id": "obvious-photography",
   "metadata": {},
   "outputs": [],
   "source": [
    "intrusion_features = [\"q6.1_INTRU\", \"q6.2_DREAM\", \"q6.3_FLASH\", \"q6.4_UPSET\", \"q6.5_PHYS\"]\n",
    "hypertension = [\"q6.13_SLEEP\", \"q6.14_ANGER\", \"q6.15_CONC\", \"q6.16_HYPER\", \"q6.17_STRTL\"]\n",
    "avoidance = [\"q6.6_AVTHT\", \"q6.7_AVSIT\", \"q6.8_AMNES\", \"q6.9_DISINT\", \"q6.10_DTACH\",  \"q6.11_NUMB\", \"q6.12_FUTRE\"]\n",
    "df_questionnaire['intrusion_score'] = df_questionnaire[intrusion_features].sum(axis=1)\n",
    "df_questionnaire['avoidance_score'] = df_questionnaire[avoidance].sum(axis=1)\n",
    "df_questionnaire['hypertension_score'] = df_questionnaire[hypertension].sum(axis=1)"
   ]
  },
  {
   "cell_type": "code",
   "execution_count": null,
   "id": "empty-jefferson",
   "metadata": {},
   "outputs": [],
   "source": [
    "df_2009 = df_2009.merge(df_questionnaire[[\"intrusion_score\", \"avoidance_score\", \"hypertension_score\", \"ID\"]], on=\"ID\", how='outer')\n"
   ]
  },
  {
   "cell_type": "code",
   "execution_count": null,
   "id": "above-procurement",
   "metadata": {},
   "outputs": [],
   "source": [
    "trans_2016_2009_features = {\n",
    "    'bagrut': 'highschool_diploma',\n",
    " 'dyslexia': 'dyslexia',\n",
    " 'ADHD': 'ADHD',\n",
    " 'Accuracy_threat_T1': 'T1Acc1t',\n",
    " 'Accuracy_NT_T1': 'T1Acc1n',\n",
    " 'Threat_Bias_T1': 'T1bias',\n",
    " 'PHQ_T1': 'phq1',\n",
    " 'Trait_T1': 'trait1',\n",
    " 'State_T1': 'state1',\n",
    "  'PCL_T1': 'PCL1',\n",
    "  'Intrusion_T1': 'intrusion_score',\n",
    "  'Avoidance_T1': 'avoidance_score',\n",
    "  'Hyper_T1': 'hypertension_score',\n",
    " 'PCL_T4': 'PCL3'}\n"
   ]
  },
  {
   "cell_type": "code",
   "execution_count": null,
   "id": "funny-newspaper",
   "metadata": {},
   "outputs": [],
   "source": [
    "df_2016['Wave'].unique()"
   ]
  },
  {
   "cell_type": "code",
   "execution_count": null,
   "id": "cloudy-collaboration",
   "metadata": {},
   "outputs": [],
   "source": [
    "target_feature = 'PCL3'\n",
    "X_features = [i for i in trans_2016_2009_features.values() if not i == target_feature]\n"
   ]
  },
  {
   "cell_type": "code",
   "execution_count": null,
   "id": "massive-farmer",
   "metadata": {},
   "outputs": [],
   "source": [
    "df_2016['bagrut'] = df_2016['bagrut'] == 'yes'\n",
    "df_2016['dyslexia'] = df_2016['dyslexia'] == 'yes'\n",
    "df_2016['ADHD'] = df_2016['ADHD'] == 'yes'"
   ]
  },
  {
   "cell_type": "code",
   "execution_count": null,
   "id": "israeli-dryer",
   "metadata": {},
   "outputs": [],
   "source": [
    "df_2016 = df_2016.rename(trans_2016_2009_features, axis=1)"
   ]
  },
  {
   "cell_type": "code",
   "execution_count": null,
   "id": "metallic-poultry",
   "metadata": {},
   "outputs": [],
   "source": [
    "df_2009 = df_2009[~df_2009[target_feature].isna()]\n",
    "df_2016 = df_2016[~df_2016[target_feature].isna()]"
   ]
  },
  {
   "cell_type": "markdown",
   "id": "underlying-orlando",
   "metadata": {},
   "source": [
    "## visualizations"
   ]
  },
  {
   "cell_type": "code",
   "execution_count": null,
   "id": "spiritual-scheduling",
   "metadata": {},
   "outputs": [],
   "source": [
    "import matplotlib.pyplot as plt"
   ]
  },
  {
   "cell_type": "code",
   "execution_count": null,
   "id": "demanding-deputy",
   "metadata": {},
   "outputs": [],
   "source": [
    "import seaborn as sns"
   ]
  },
  {
   "cell_type": "code",
   "execution_count": null,
   "id": "italic-raise",
   "metadata": {},
   "outputs": [],
   "source": [
    "df_2016['Wave'].unique()"
   ]
  },
  {
   "cell_type": "code",
   "execution_count": null,
   "id": "numeric-telling",
   "metadata": {},
   "outputs": [],
   "source": [
    "plt.hist(df_2016_1['PCL3'].dropna(), label = '1', alpha=0.5)\n",
    "plt.hist(df_2016_2['PCL3'].dropna(), label = '2', alpha=0.5)\n",
    "plt.hist(df_2016_3['PCL3'].dropna(), label = '3', alpha=0.5)"
   ]
  },
  {
   "cell_type": "code",
   "execution_count": null,
   "id": "wrong-command",
   "metadata": {},
   "outputs": [],
   "source": [
    "plt.hist(df_2009['dyslexia'].dropna().astype(int), label = '2009');\n",
    "plt.hist(df_2016['dyslexia'].dropna().astype(int), label = '2016', alpha=0.75);\n",
    "plt.legend()\n"
   ]
  },
  {
   "cell_type": "code",
   "execution_count": null,
   "id": "toxic-young",
   "metadata": {},
   "outputs": [],
   "source": [
    "plt.hist(df_2009['highschool_diploma'].dropna().astype(int), label = '2009');\n",
    "plt.hist(df_2016['highschool_diploma'].dropna().astype(int), label = '2016', alpha=0.75);\n",
    "plt.legend()"
   ]
  },
  {
   "cell_type": "code",
   "execution_count": null,
   "id": "innovative-banking",
   "metadata": {},
   "outputs": [],
   "source": [
    "df_2016.Wave.unique()\n",
    "df_2016_1 = df_2016[df_2016.Wave=='august12']\n",
    "df_2016_2 = df_2016[df_2016.Wave=='nov12']\n",
    "df_2016_3 = df_2016[df_2016.Wave=='august13']"
   ]
  },
  {
   "cell_type": "code",
   "execution_count": null,
   "id": "stopped-leone",
   "metadata": {},
   "outputs": [],
   "source": [
    "\n",
    "#plt.scatter(df_2009['T1Acc1t'].dropna(),df_2009['T1Acc1n'].dropna(), label = '2009', alpha=0.5)\n",
    "plt.scatter(df_2016_1['T1Acc1t'].dropna(),df_2016_1['T1Acc1n'].dropna(), label = '1', alpha=0.5)\n",
    "plt.scatter(df_2016_2['T1Acc1t'].dropna(),df_2016_2['T1Acc1n'].dropna(), label = '2', alpha=0.5)\n",
    "plt.scatter(df_2016_3['T1Acc1t'].dropna(),df_2016_3['T1Acc1n'].dropna(), label = '3', alpha=0.5)\n"
   ]
  },
  {
   "cell_type": "code",
   "execution_count": null,
   "id": "painted-bloom",
   "metadata": {},
   "outputs": [],
   "source": [
    "#plt.scatter(df_2009['T1Acc1t'].dropna(),df_2009['T1Acc1n'].dropna(), label = '2009', alpha=0.5)\n",
    "plt.hist(df_2016_1['T1Acc1t'].dropna(), label = '1', alpha=0.5)\n",
    "plt.hist(df_2016_2['T1Acc1t'].dropna(), label = '2', alpha=0.5)\n",
    "plt.hist(df_2016_3['T1Acc1t'].dropna(), label = '3', alpha=0.5)"
   ]
  },
  {
   "cell_type": "code",
   "execution_count": null,
   "id": "offshore-spelling",
   "metadata": {},
   "outputs": [],
   "source": [
    "df_2016_1['T1Acc1n'].min()\n",
    "df_2016_1['T1Acc1n'].min()"
   ]
  },
  {
   "cell_type": "code",
   "execution_count": null,
   "id": "corrected-moore",
   "metadata": {},
   "outputs": [],
   "source": [
    "plt.hist(df_2016_1['T1Acc1n'].dropna(), label = '1', alpha=0.5)\n",
    "plt.hist(df_2016_2['T1Acc1n'].dropna(), label = '2', alpha=0.5)\n",
    "plt.hist(df_2016_3['T1Acc1n'].dropna(), label = '3', alpha=0.5)"
   ]
  },
  {
   "cell_type": "code",
   "execution_count": null,
   "id": "attended-feelings",
   "metadata": {},
   "outputs": [],
   "source": [
    "plt.hist(df_2016_1['T1bias'].dropna(), label = '1', alpha=0.5)\n",
    "plt.hist(df_2016_2['T1bias'].dropna(), label = '2', alpha=0.5)\n",
    "plt.hist(df_2016_3['T1bias'].dropna(), label = '3', alpha=0.5)\n",
    "plt.legend()"
   ]
  },
  {
   "cell_type": "code",
   "execution_count": null,
   "id": "radio-glossary",
   "metadata": {},
   "outputs": [],
   "source": [
    "trans_2016_2009_features.values()"
   ]
  },
  {
   "cell_type": "code",
   "execution_count": null,
   "id": "whole-powell",
   "metadata": {},
   "outputs": [],
   "source": [
    "plt.hist(df_2016_1['phq1'].dropna(), label = '1', alpha=0.5)\n",
    "plt.hist(df_2016_2['phq1'].dropna(), label = '2', alpha=0.5)\n",
    "plt.hist(df_2016_3['phq1'].dropna(), label = '3', alpha=0.5)\n",
    "plt.legend()"
   ]
  },
  {
   "cell_type": "code",
   "execution_count": null,
   "id": "developmental-payday",
   "metadata": {},
   "outputs": [],
   "source": [
    "plt.hist(df_2016_1['trait1'].dropna(), label = '1', alpha=0.5)\n",
    "plt.hist(df_2016_2['trait1'].dropna(), label = '2', alpha=0.5)\n",
    "plt.hist(df_2016_3['trait1'].dropna(), label = '3', alpha=0.5)\n",
    "plt.legend()"
   ]
  },
  {
   "cell_type": "code",
   "execution_count": null,
   "id": "rental-joseph",
   "metadata": {},
   "outputs": [],
   "source": []
  },
  {
   "cell_type": "code",
   "execution_count": null,
   "id": "every-wisconsin",
   "metadata": {},
   "outputs": [],
   "source": [
    "plt.hist(df_2016_1['state1'].dropna(), label = 'aug12', alpha=0.5)\n",
    "plt.hist(df_2016_2['state1'].dropna(), label = 'nov12', alpha=0.5)\n",
    "plt.hist(df_2016_3['state1'].dropna(), label = 'aug13', alpha=0.5)\n",
    "plt.hist(df_2009['state1'].dropna(), label = '2009', alpha=0.5)\n",
    "\n",
    "plt.legend()"
   ]
  },
  {
   "cell_type": "code",
   "execution_count": null,
   "id": "optical-graham",
   "metadata": {},
   "outputs": [],
   "source": [
    "plt.hist(df_2016_1['PCL1'].dropna(), label = 'aug12', alpha=0.5)\n",
    "plt.hist(df_2016_2['PCL1'].dropna(), label = 'nov12', alpha=0.5)\n",
    "plt.hist(df_2016_3['PCL1'].dropna(), label = 'aug13', alpha=0.5)\n",
    "\n",
    "plt.legend()"
   ]
  },
  {
   "cell_type": "code",
   "execution_count": null,
   "id": "creative-greensboro",
   "metadata": {},
   "outputs": [],
   "source": []
  },
  {
   "cell_type": "code",
   "execution_count": null,
   "id": "thorough-comment",
   "metadata": {},
   "outputs": [],
   "source": [
    "df_2016['PCL1'].max()"
   ]
  },
  {
   "cell_type": "code",
   "execution_count": null,
   "id": "worldwide-store",
   "metadata": {},
   "outputs": [],
   "source": []
  }
 ],
 "metadata": {
  "kernelspec": {
   "display_name": "Python 3",
   "language": "python",
   "name": "python3"
  },
  "language_info": {
   "codemirror_mode": {
    "name": "ipython",
    "version": 3
   },
   "file_extension": ".py",
   "mimetype": "text/x-python",
   "name": "python",
   "nbconvert_exporter": "python",
   "pygments_lexer": "ipython3",
   "version": "3.7.4"
  }
 },
 "nbformat": 4,
 "nbformat_minor": 5
}
