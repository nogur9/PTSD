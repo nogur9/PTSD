{
 "cells": [
  {
   "cell_type": "code",
   "execution_count": 3,
   "metadata": {},
   "outputs": [],
   "source": [
    "import pandas as pd\n",
    "from imblearn.over_sampling import SMOTE, BorderlineSMOTE\n",
    "from sklearn.model_selection import cross_val_score, cross_val_predict\n",
    "from sklearn.feature_selection import RFE, SelectKBest, SelectFdr, SelectFpr\n",
    "from sklearn.linear_model import ElasticNet, LogisticRegression, SGDClassifier\n",
    "from sklearn.ensemble import RandomForestClassifier, RandomForestRegressor\n",
    "from sklearn.preprocessing import FunctionTransformer, StandardScaler, MinMaxScaler, PowerTransformer\n",
    "from imblearn.ensemble import BalancedBaggingClassifier, BalancedRandomForestClassifier\n",
    "from imblearn.pipeline import Pipeline\n",
    "from sklearn.metrics import accuracy_score, f1_score, recall_score, precision_score\n",
    "from sklearn.svm import SVC\n",
    "from sklearn.model_selection import train_test_split, GridSearchCV, StratifiedKFold, RandomizedSearchCV, LeaveOneOut\n",
    "from xgboost import XGBClassifier, XGBRegressor\n",
    "import numpy as np\n",
    "from sklearn.manifold import TSNE\n",
    "\n",
    "from sklearn.cluster import KMeans,DBSCAN, MeanShift"
   ]
  },
  {
   "cell_type": "code",
   "execution_count": 4,
   "metadata": {},
   "outputs": [],
   "source": [
    "path = r\"C:\\‏‏PycharmProjects\\SocialAnxietyClassifier\\data\\training_data\\training_data_pupil_size_1_std_1_ver4.xlsx\"\n",
    "df = pd.read_excel(path)\n",
    "\n",
    "# impute zeros\n",
    "df = df.fillna(0)\n",
    "\n",
    "# split to holdouts and training\n",
    "sad_cutoff = 63"
   ]
  },
  {
   "cell_type": "code",
   "execution_count": 5,
   "metadata": {},
   "outputs": [
    {
     "name": "stdout",
     "output_type": "stream",
     "text": [
      "\n",
      "Social Anxiety LSAS cutoff is 63\n",
      "\n",
      "pos y = 55\n",
      "neg y = 54\n"
     ]
    }
   ],
   "source": [
    "\n",
    "print(f\"\\nSocial Anxiety LSAS cutoff is {sad_cutoff}\\n\")\n",
    "\n",
    "Y = df[\"LSAS\"] >= sad_cutoff\n",
    "print(f\"pos y = {sum(Y)}\\nneg y = {(len(Y) - sum(Y))}\")\n",
    "\n",
    "X = df.drop([\"LSAS\",\"Subject\"], axis=1)\n",
    "c = ((len(Y) - sum(Y)) / sum(Y))\n",
    "#for i in X.columns:\n",
    " #    X[f'Amit * {i}'] = X['Amit'] * X[i]\n",
    "\n",
    "pipe_en2 = Pipeline(steps=[\n",
    "            ('scaling', StandardScaler()),\n",
    "            ('classifier',  LogisticRegression(penalty = 'l1', tol=0.1))    \n",
    "])\n",
    "\n",
    "params_en2 = {\n",
    "        'classifier__C': [100],\n",
    "        }\n"
   ]
  },
  {
   "cell_type": "code",
   "execution_count": 6,
   "metadata": {},
   "outputs": [],
   "source": [
    "\n",
    "            # Dictionary of pipelines and classifier types for ease of reference\n",
    "           \n",
    "grid_dict = {0: 'gs_en1', 1: 'gs_en2', 2: 'gs_en3', 3: 'gs_en4', 4:'pipe_en5', 5:'pipe_en6', 6:'pipe_en7'}"
   ]
  },
  {
   "cell_type": "code",
   "execution_count": 7,
   "metadata": {},
   "outputs": [
    {
     "name": "stdout",
     "output_type": "stream",
     "text": [
      "\n",
      "\n",
      "\n",
      "\n",
      "\n",
      "Estimator: gs_en1\n",
      "StratifiedKFold(n_splits=10, random_state=None, shuffle=False)\n",
      "accuracy\n",
      "\n",
      "mean gs score =  0.5501149425287356 var = 0.0014586339014400838\n",
      "mean test score =  0.5527272727272726 var = 0.009244628099173556\n",
      "\n",
      "_______________________________\n",
      "\n",
      "\n",
      "\n",
      "\n",
      "\n",
      "\n",
      "Estimator: gs_en2\n",
      "StratifiedKFold(n_splits=10, random_state=None, shuffle=False)\n",
      "accuracy\n",
      "\n"
     ]
    },
    {
     "ename": "IndexError",
     "evalue": "list index out of range",
     "output_type": "error",
     "traceback": [
      "\u001b[1;31m---------------------------------------------------------------------------\u001b[0m",
      "\u001b[1;31mIndexError\u001b[0m                                Traceback (most recent call last)",
      "\u001b[1;32m<ipython-input-7-2fad79b28501>\u001b[0m in \u001b[0;36m<module>\u001b[1;34m\u001b[0m\n\u001b[0;32m     20\u001b[0m             \u001b[1;32mfor\u001b[0m \u001b[0mn\u001b[0m \u001b[1;32min\u001b[0m \u001b[0mrange\u001b[0m\u001b[1;33m(\u001b[0m\u001b[1;36m100\u001b[0m\u001b[1;33m)\u001b[0m\u001b[1;33m:\u001b[0m\u001b[1;33m\u001b[0m\u001b[1;33m\u001b[0m\u001b[0m\n\u001b[0;32m     21\u001b[0m                 \u001b[0mX_train\u001b[0m\u001b[1;33m,\u001b[0m \u001b[0mX_test\u001b[0m\u001b[1;33m,\u001b[0m \u001b[0my_train\u001b[0m\u001b[1;33m,\u001b[0m \u001b[0my_test\u001b[0m \u001b[1;33m=\u001b[0m \u001b[0mtrain_test_split\u001b[0m\u001b[1;33m(\u001b[0m\u001b[0mX\u001b[0m\u001b[1;33m,\u001b[0m \u001b[0mY\u001b[0m\u001b[1;33m,\u001b[0m \u001b[0mtest_size\u001b[0m\u001b[1;33m=\u001b[0m\u001b[1;36m0.2\u001b[0m\u001b[1;33m,\u001b[0m \u001b[0mstratify\u001b[0m\u001b[1;33m=\u001b[0m\u001b[0mY\u001b[0m\u001b[1;33m)\u001b[0m\u001b[1;33m\u001b[0m\u001b[1;33m\u001b[0m\u001b[0m\n\u001b[1;32m---> 22\u001b[1;33m                 \u001b[0mgs\u001b[0m\u001b[1;33m=\u001b[0m \u001b[0mgrids\u001b[0m\u001b[1;33m[\u001b[0m\u001b[0midx\u001b[0m\u001b[1;33m]\u001b[0m\u001b[1;33m\u001b[0m\u001b[1;33m\u001b[0m\u001b[0m\n\u001b[0m\u001b[0;32m     23\u001b[0m                 \u001b[1;31m# Fit grid search\u001b[0m\u001b[1;33m\u001b[0m\u001b[1;33m\u001b[0m\u001b[1;33m\u001b[0m\u001b[0m\n\u001b[0;32m     24\u001b[0m                 \u001b[0mgs\u001b[0m\u001b[1;33m.\u001b[0m\u001b[0mfit\u001b[0m\u001b[1;33m(\u001b[0m\u001b[0mX_train\u001b[0m\u001b[1;33m,\u001b[0m \u001b[0my_train\u001b[0m\u001b[1;33m)\u001b[0m\u001b[1;33m\u001b[0m\u001b[1;33m\u001b[0m\u001b[0m\n",
      "\u001b[1;31mIndexError\u001b[0m: list index out of range"
     ]
    }
   ],
   "source": [
    "\n",
    "for idx in range(15):\n",
    "    print(\"\\n\\n\\n\")\n",
    "    print('\\nEstimator: %s' % grid_dict[idx])\n",
    "    for score in ['accuracy']:\n",
    "        for loo in [StratifiedKFold(10)]:#, StratifiedKFold(10)]:\n",
    "            print(f\"{loo}\\n{score}\\n\")\n",
    "            mean_o = []\n",
    "            test_mean =[]\n",
    "        \n",
    "            gs_en2 = GridSearchCV(estimator=pipe_en2,\n",
    "                                             param_grid=params_en2,\n",
    "                                             scoring=score,\n",
    "                                             cv=loo)\n",
    "                                \n",
    "  \n",
    "                        # List of pipelines for ease of iteration\n",
    "            grids = [gs_en2]\n",
    "            \n",
    "            for n in range(100):\n",
    "                X_train, X_test, y_train, y_test = train_test_split(X, Y, test_size=0.2, stratify=Y)\n",
    "                gs= grids[idx]\n",
    "                # Fit grid search\n",
    "                gs.fit(X_train, y_train)\n",
    "           \n",
    "                mean_o.append(gs.best_score_)\n",
    "                y_pred = gs.predict(X_test)\n",
    "          \n",
    "                test_mean.append(accuracy_score(y_test, y_pred))\n",
    "             \n",
    "            print(\"mean gs score = \", np.mean(mean_o), \"var =\", np.var(mean_o))\n",
    "            print(\"mean test score = \", np.mean(test_mean), \"var =\", np.var(test_mean))\n",
    "            print(\"\\n_______________________________\\n\")"
   ]
  },
  {
   "cell_type": "code",
   "execution_count": null,
   "metadata": {},
   "outputs": [],
   "source": [
    "\n",
    "path =  C:\\‏‏PycharmProjects\\SocialAnxietyClassifier\\data\\training_data\\mean_analysis_trainingpupil_size_1_std_1.xlsx\n",
    "\n",
    "Estimator: lr\n",
    "Best params: {'classifier__C': 0.05, 'classifier__class_weight': {1: 2.7636363636363637}, \n",
    "              'classifier__penalty': 'l2', 'classifier__solver': 'liblinear', 'classifier__tol': 1e-05}\n",
    "Best training score: 0.604\n",
    "Test set score score for best params: 0.630 \n",
    "\n",
    "Estimator: lr dual\n",
    "Best params: {'classifier__C': 0.05, 'classifier__class_weight': {1: 2.7636363636363637}, 'classifier__tol': 1e-05}\n",
    "Best training score: 0.604\n",
    "Test set score score for best params: 0.630 \n"
   ]
  },
  {
   "cell_type": "code",
   "execution_count": null,
   "metadata": {},
   "outputs": [],
   "source": []
  }
 ],
 "metadata": {
  "kernelspec": {
   "display_name": "Python 3",
   "language": "python",
   "name": "python3"
  },
  "language_info": {
   "codemirror_mode": {
    "name": "ipython",
    "version": 3
   },
   "file_extension": ".py",
   "mimetype": "text/x-python",
   "name": "python",
   "nbconvert_exporter": "python",
   "pygments_lexer": "ipython3",
   "version": "3.6.8"
  }
 },
 "nbformat": 4,
 "nbformat_minor": 2
}
