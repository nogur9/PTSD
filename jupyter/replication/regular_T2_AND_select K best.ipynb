{
 "cells": [
  {
   "cell_type": "code",
   "execution_count": 4,
   "metadata": {},
   "outputs": [],
   "source": [
    "from tensorflow.keras.models import Sequential\n",
    "from tensorflow.keras.layers import Dense, Dropout, Input\n",
    "#from tensorflow.keras.layers import Conv2D, Activation\n",
    "from tensorflow.keras.models import Model\n",
    "from tensorflow.keras.optimizers import Adam\n",
    "from tensorflow.keras.callbacks import EarlyStopping\n",
    "import random\n",
    "from sklearn.model_selection import GridSearchCV\n",
    "import tensorflow as tf\n",
    "from sklearn.linear_model import LogisticRegression\n",
    "import numpy as np\n",
    "import pandas as pd\n",
    "from sklearn.neural_network import MLPClassifier\n",
    "from fancyimpute import IterativeImputer\n",
    "from sklearn.model_selection import train_test_split, StratifiedKFold, cross_val_score\n",
    "from sklearn.metrics import precision_score, recall_score,f1_score, roc_auc_score\n",
    "from sklearn.ensemble import RandomForestClassifier\n",
    "from tensorflow.python.framework import ops\n",
    "from sklearn.feature_selection import SelectKBest, chi2, f_classif\n",
    "from sklearn.preprocessing import StandardScaler\n",
    "ops.reset_default_graph()\n",
    "from xgboost import XGBClassifier\n",
    "random.seed(271828)\n",
    "np.random.seed(271828)\n",
    "#import tensorflow as tf\n",
    "from imblearn.over_sampling import SMOTE\n",
    "from sklearn.pipeline import Pipeline\n",
    "tf.random.set_seed(271828)"
   ]
  },
  {
   "cell_type": "code",
   "execution_count": 5,
   "metadata": {},
   "outputs": [],
   "source": [
    "\n",
    "def PCL_calculator(df):\n",
    "\n",
    "    symptomatic_cutoff = 2\n",
    "\n",
    "    intrusion = ['q6.1_INTRU', 'q6.2_DREAM', 'q6.3_FLASH', 'q6.4_UPSET', 'q6.5_PHYS']\n",
    "    avoidance = ['q6.6_AVTHT', 'q6.7_AVSIT', 'q6.8_AMNES', 'q6.9_DISINT', 'q6.10_DTACH',\n",
    "                 'q6.11_NUMB', 'q6.12_FUTRE']\n",
    "    tred = ['q6.1_INTRU', 'q6.2_DREAM', 'q6.3_FLASH']\n",
    "    only_avoidance = ['q6.6_AVTHT', 'q6.7_AVSIT', 'q6.8_AMNES']\n",
    "\n",
    "    hypertension = ['q6.13_SLEEP', 'q6.14_ANGER', 'q6.15_CONC', 'q6.16_HYPER', 'q6.17_STRTL']\n",
    "\n",
    "    depression = ['q6.9_DISINT', 'q6.10_DTACH', 'q6.11_NUMB', 'q6.12_FUTRE']\n",
    "\n",
    "    df[intrusion + avoidance + hypertension].fillna(df[intrusion + avoidance + hypertension].mean(axis=1))\n",
    "    intrusion_cuoff = 1\n",
    "    avoidance_cuoff = 3\n",
    "    hypertension_cuoff = 2\n",
    "    only_avoidance_cutoff = 1\n",
    "    depression_cutoff = 2\n",
    "    tred_cutoff = 1\n",
    "\n",
    "    df['sum'] = (df[intrusion + avoidance + hypertension]).sum(axis=1)\n",
    "\n",
    "    df['intrusion'] = (df[intrusion] > symptomatic_cutoff).sum(axis=1)\n",
    "    df['intrusion_cutoff'] = (df['intrusion'] >= intrusion_cuoff).astype(int)\n",
    "\n",
    "    df['avoidance'] = (df[avoidance] > symptomatic_cutoff).sum(axis=1)\n",
    "    df['avoidance_cutoff'] = (df['avoidance'] >= avoidance_cuoff).astype(int)\n",
    "\n",
    "    df['depression'] = (df[depression] > symptomatic_cutoff).sum(axis=1)\n",
    "    df['depression_cutoff'] = (df['depression'] >= depression_cutoff).astype(int)\n",
    "\n",
    "    df['hypertention'] = (df[hypertension] > symptomatic_cutoff).sum(axis=1)\n",
    "    df['hypertention_cutoff'] = (df['hypertention'] >= hypertension_cuoff).astype(int)\n",
    "\n",
    "    df['tred'] = (df[tred] > symptomatic_cutoff).sum(axis=1)\n",
    "    df['tred_cutoff'] = (df['tred'] >= tred_cutoff).astype(int)\n",
    "\n",
    "    df['only_avoidance'] = (df[only_avoidance] > symptomatic_cutoff).sum(axis=1)\n",
    "    df['only_avoidance_cutoff'] = (df['only_avoidance'] >= only_avoidance_cutoff).astype(int)\n",
    "\n",
    "    df['regression_cutoff_33'] = (df['sum'] >= 33).astype(int)\n",
    "    df['regression_cutoff_50'] = (df['sum'] >= 50).astype(int)\n",
    "    df['diagnosis'] = ((df['hypertention_cutoff']) & (df['avoidance_cutoff']) & (df['intrusion_cutoff']) & (df['sum'] >= 50))\n",
    "\n",
    "    return df\n",
    "\n"
   ]
  },
  {
   "cell_type": "code",
   "execution_count": 6,
   "metadata": {},
   "outputs": [],
   "source": [
    "path = \"C:\\‏‏PycharmProjects\\PTSD\\Data\\PTSD.xlsx\"\n",
    "df = pd.read_excel(path)\n",
    "#combine with specifics of answers\n",
    "df_pcl2 = pd.read_excel(\"C:\\‏‏PycharmProjects\\PTSD\\Data\\questionnaire6PCL2.xlsx\")\n",
    "df_pcl1 = pd.read_excel(\"C:\\‏‏PycharmProjects\\PTSD\\Data\\questionnaire6PCL1.xlsx\")\n",
    "df = df.merge(df_pcl1, on=\"ID\", how='outer')\n",
    "df = df.merge(df_pcl2, suffixes=('_pcl1', '_pcl2'), on=\"ID\", how='outer')\n",
    "\n",
    "df_pcl3 = pd.read_excel(\"C:\\‏‏PycharmProjects\\PTSD\\Data\\questionnaire6PCL3.xlsx\")\n",
    "df_pcl3 = PCL_calculator(df_pcl3)\n",
    "df = df.merge(df_pcl3.drop(['PCL3_Strict', 'pcl3', 'PCL3_Broad'], axis=1), on=\"ID\", how='outer')\n",
    "# rmoving missing Y's\n",
    "df = df[~df['PCL_Strict3'].isna()]"
   ]
  },
  {
   "cell_type": "markdown",
   "metadata": {},
   "source": [
    "## features "
   ]
  },
  {
   "cell_type": "code",
   "execution_count": 7,
   "metadata": {},
   "outputs": [],
   "source": [
    "\n",
    "features = [\"age\", \"highschool_diploma\", \"dyslexia\", \"ADHD\", \"T1Acc1t\", \"T1Acc1n\", \"T1bias\", \"phq1\", \"lot1\",\n",
    "                \"trait1\",\n",
    "                \"state1\", \"PCL1\", \"PCL_Broad1\", \"PCL_Strict1\", \"phq2\", \"lot2\", \"trait2\", \"state2\", \"PCL2\", \"PCL_Broad2\",\n",
    "                \"PCL_Strict2\", \"cd_risc1\", \"active_coping1\", \"planning1\", \"positive_reframing1\", \"acceptance1\",\n",
    "                \"humor1\",\n",
    "                \"religion1\", \"emotional_support1\", \"instrumental_support1\", \"self_distraction1\", \"denial1\",\n",
    "                \"venting1\", \"substance_use1\", \"behavioral_disengagement1\", \"self_blame1\", \"active_coping2\", \"planning2\",\n",
    "                \"positive_reframing2\", \"acceptance2\", \"humor2\", \"religion2\", \"emotional_support2\",\n",
    "                \"instrumental_support2\",\n",
    "                \"self_distraction2\", \"denial2\", \"venting2\", \"substance_use2\", \"behavioral_disengagement2\",\n",
    "                \"self_blame2\",\n",
    "                \"trauma_history8_1\", \"HML_5HTT\", \"HL_MAOA\", \"HML_NPY\", \"COMT_Hap1_recode\",\n",
    "                \"COMT_Hap2_recode\", \"COMT_Hap1_LvsMH\", \"HML_FKBP5\", 'q6.1_INTRU_pcl1', \n",
    "                'q6.2_DREAM_pcl1', 'q6.3_FLASH_pcl1', 'q6.4_UPSET_pcl1',\n",
    "                  'q6.5_PHYS_pcl1', 'q6.6_AVTHT_pcl1', 'q6.7_AVSIT_pcl1', 'q6.8_AMNES_pcl1', 'q6.9_DISINT_pcl1',\n",
    "                  'q6.10_DTACH_pcl1', 'q6.11_NUMB_pcl1', 'q6.12_FUTRE_pcl1', 'q6.13_SLEEP_pcl1',\n",
    "                  'q6.14_ANGER_pcl1', 'q6.15_CONC_pcl1', 'q6.16_HYPER_pcl1', 'q6.17_STRTL_pcl1',\n",
    "                  'q6.1_INTRU_pcl2', 'q6.2_DREAM_pcl2', 'q6.3_FLASH_pcl2', 'q6.4_UPSET_pcl2',\n",
    "                  'q6.5_PHYS_pcl2', 'q6.6_AVTHT_pcl2', 'q6.7_AVSIT_pcl2', 'q6.8_AMNES_pcl2', 'q6.9_DISINT_pcl2',\n",
    "                  'q6.10_DTACH_pcl2', 'q6.11_NUMB_pcl2', 'q6.12_FUTRE_pcl2', 'q6.13_SLEEP_pcl2',\n",
    "                  'q6.14_ANGER_pcl2', 'q6.15_CONC_pcl2', 'q6.16_HYPER_pcl2', 'q6.17_STRTL_pcl2']"
   ]
  },
  {
   "cell_type": "code",
   "execution_count": 8,
   "metadata": {},
   "outputs": [],
   "source": [
    "discrete_features = [\"age\", \"highschool_diploma\", \"dyslexia\", \"ADHD\", \"phq1\", \"lot1\",\n",
    "                    \"trait1\", \"state1\", \"PCL1\", \"PCL_Broad1\", \"PCL_Strict1\", \"phq2\", \"lot2\",\n",
    "                    \"trait2\", \"state2\", \"PCL2\", \"PCL_Broad2\", \"PCL_Strict2\", \"cd_risc1\", \"active_coping1\",\n",
    "                    \"planning1\", \"positive_reframing1\", \"acceptance1\", \"humor1\", \"religion1\",\n",
    "                    \"emotional_support1\", \"instrumental_support1\", \"self_distraction1\", \"denial1\",\n",
    "                    \"venting1\", \"substance_use1\", \"behavioral_disengagement1\", \"self_blame1\", \"active_coping2\",\n",
    "                    \"planning2\", \"positive_reframing2\", \"acceptance2\", \"humor2\", \"religion2\", \"emotional_support2\",\n",
    "                    \"instrumental_support2\", \"self_distraction2\", \"denial2\", \"venting2\", \"substance_use2\",\n",
    "                    \"behavioral_disengagement2\", \"self_blame2\", \"trauma_history8_1\",\n",
    "                    'q6.1_INTRU_pcl1', 'q6.2_DREAM_pcl1', 'q6.3_FLASH_pcl1', 'q6.4_UPSET_pcl1',\n",
    "                    'q6.5_PHYS_pcl1', 'q6.6_AVTHT_pcl1', 'q6.7_AVSIT_pcl1', 'q6.8_AMNES_pcl1', 'q6.9_DISINT_pcl1',\n",
    "                    'q6.10_DTACH_pcl1', 'q6.11_NUMB_pcl1', 'q6.12_FUTRE_pcl1', 'q6.13_SLEEP_pcl1',\n",
    "                    'q6.14_ANGER_pcl1', 'q6.15_CONC_pcl1', 'q6.16_HYPER_pcl1', 'q6.17_STRTL_pcl1',\n",
    "                    'q6.1_INTRU_pcl2', 'q6.2_DREAM_pcl2', 'q6.3_FLASH_pcl2', 'q6.4_UPSET_pcl2',\n",
    "                    'q6.5_PHYS_pcl2', 'q6.6_AVTHT_pcl2', 'q6.7_AVSIT_pcl2', 'q6.8_AMNES_pcl2', 'q6.9_DISINT_pcl2',\n",
    "                    'q6.10_DTACH_pcl2', 'q6.11_NUMB_pcl2', 'q6.12_FUTRE_pcl2', 'q6.13_SLEEP_pcl2',\n",
    "                    'q6.14_ANGER_pcl2', 'q6.15_CONC_pcl2', 'q6.16_HYPER_pcl2', 'q6.17_STRTL_pcl2',\n",
    "                    'intrusion_cutoff', 'avoidance_cutoff', 'hypertention_cutoff', 'regression_cutoff_50',\n",
    "                    'regression_cutoff_33', 'only_avoidance_cutoff', 'tred_cutoff', 'depression_cutoff']"
   ]
  },
  {
   "cell_type": "code",
   "execution_count": 9,
   "metadata": {},
   "outputs": [],
   "source": [
    "genome_features = [\"HML_5HTT\", \"HL_MAOA\", \"HML_NPY\", \"COMT_Hap1_recode\",\n",
    "                \"COMT_Hap2_recode\", \"COMT_Hap1_LvsMH\", \"HML_FKBP5\"]\n",
    "continuous_features = [\"T1Acc1t\", \"T1Acc1n\", \"T1bias\"]"
   ]
  },
  {
   "cell_type": "markdown",
   "metadata": {},
   "source": [
    "## fill the missing values"
   ]
  },
  {
   "cell_type": "code",
   "execution_count": 10,
   "metadata": {},
   "outputs": [],
   "source": [
    "df[genome_features] = df[genome_features].fillna(0)\n",
    "df[continuous_features] = df[continuous_features].fillna(df[continuous_features].mean())\n",
    "df[discrete_features] = df[discrete_features].fillna(df[discrete_features].median())\n"
   ]
  },
  {
   "cell_type": "markdown",
   "metadata": {},
   "source": [
    "## cut off the test set"
   ]
  },
  {
   "cell_type": "code",
   "execution_count": 11,
   "metadata": {},
   "outputs": [],
   "source": [
    "X, X_out, Y, y_out = train_test_split(df[features], df[['intrusion_cutoff', 'avoidance_cutoff', 'hypertention_cutoff', 'regression_cutoff_50',\n",
    "                    'regression_cutoff_33', 'only_avoidance_cutoff', 'tred_cutoff', 'depression_cutoff', 'PCL_Strict3']],\n",
    "                                      test_size=0.25, random_state=271828, stratify=df['PCL_Strict3'])"
   ]
  },
  {
   "cell_type": "markdown",
   "metadata": {},
   "source": [
    "## the Model"
   ]
  },
  {
   "cell_type": "code",
   "execution_count": 12,
   "metadata": {},
   "outputs": [],
   "source": [
    "model = Pipeline(steps=[\n",
    "    \n",
    "    ('anova', SelectKBest()),\n",
    "    ('clf',  XGBClassifier(random_state=271828))])\n",
    "\n",
    "grid_params = [{'anova__k':[40],\n",
    "                'clf__n_estimators': [1000],  'clf__max_depth': [1],\n",
    "               'clf__learning_rate': [0.01], 'clf__pos_class_weight':[0.5]}]\n"
   ]
  },
  {
   "cell_type": "markdown",
   "metadata": {},
   "source": [
    "## intrusion"
   ]
  },
  {
   "cell_type": "code",
   "execution_count": 13,
   "metadata": {},
   "outputs": [],
   "source": [
    "X_train, X_test, y_train, y_test = train_test_split(X, Y['intrusion_cutoff'], test_size=0.25, stratify=Y['PCL_Strict3'], random_state=271828)\n",
    "cv = StratifiedKFold(10, random_state=271828)  "
   ]
  },
  {
   "cell_type": "code",
   "execution_count": 14,
   "metadata": {},
   "outputs": [
    {
     "name": "stdout",
     "output_type": "stream",
     "text": [
      "roc_auc 0.772737840479776 \n",
      "params =  {'anova__k': 40, 'clf__learning_rate': 0.01, 'clf__max_depth': 1, 'clf__n_estimators': 1000, 'clf__pos_class_weight': 0.5}\n"
     ]
    }
   ],
   "source": [
    "intrusion_gs = GridSearchCV(model, grid_params,  scoring=\"roc_auc\", cv=cv)\n",
    "intrusion_gs.fit(X_train, y_train)\n",
    "print(\"roc_auc\", intrusion_gs.best_score_,\"\\nparams = \", intrusion_gs.best_params_)"
   ]
  },
  {
   "cell_type": "code",
   "execution_count": 15,
   "metadata": {},
   "outputs": [
    {
     "name": "stdout",
     "output_type": "stream",
     "text": [
      "precision\n",
      " [1.         0.4        0.8        1.         0.5        0.2\n",
      " 0.66666667 0.66666667 0.85714286 0.6       ] \n",
      "mean =  0.669047619047619\n"
     ]
    }
   ],
   "source": [
    "scores = cross_val_score(intrusion_gs.best_estimator_, X_train, y_train, scoring=\"precision\", cv=cv)\n",
    "print(\"precision\\n\", scores,\"\\nmean = \", scores.mean())\n"
   ]
  },
  {
   "cell_type": "markdown",
   "metadata": {},
   "source": [
    "## avoidance cutoff"
   ]
  },
  {
   "cell_type": "code",
   "execution_count": 16,
   "metadata": {},
   "outputs": [],
   "source": [
    "model = Pipeline(steps=[\n",
    "    \n",
    "    ('anova', SelectKBest()),\n",
    "    ('clf',  XGBClassifier(random_state=271828))])\n",
    "\n",
    "grid_params = [{'anova__k':[10],\n",
    "                'clf__n_estimators': [600],  'clf__max_depth': [2],\n",
    "               'clf__learning_rate': [0.01], 'clf__pos_class_weight':[0.5]}]\n"
   ]
  },
  {
   "cell_type": "code",
   "execution_count": 17,
   "metadata": {},
   "outputs": [],
   "source": [
    "X_train, X_test, y_train, y_test = train_test_split(X, Y['avoidance_cutoff'], test_size=0.25, stratify=Y['PCL_Strict3'], random_state=271828)\n",
    "cv = StratifiedKFold(10, random_state=271828)  "
   ]
  },
  {
   "cell_type": "code",
   "execution_count": 18,
   "metadata": {},
   "outputs": [
    {
     "name": "stdout",
     "output_type": "stream",
     "text": [
      "roc_auc 0.7878719055189645 \n",
      "params =  {'anova__k': 10, 'clf__learning_rate': 0.01, 'clf__max_depth': 2, 'clf__n_estimators': 600, 'clf__pos_class_weight': 0.5}\n"
     ]
    }
   ],
   "source": [
    "avoidance_gs = GridSearchCV(model, grid_params,  scoring=\"roc_auc\", cv=cv)\n",
    "avoidance_gs.fit(X_train, y_train)\n",
    "print(\"roc_auc\", avoidance_gs.best_score_,\"\\nparams = \", avoidance_gs.best_params_)"
   ]
  },
  {
   "cell_type": "code",
   "execution_count": null,
   "metadata": {},
   "outputs": [],
   "source": []
  },
  {
   "cell_type": "code",
   "execution_count": 19,
   "metadata": {},
   "outputs": [
    {
     "name": "stdout",
     "output_type": "stream",
     "text": [
      "precision\n",
      " [0.         0.5        0.         0.         0.         0.\n",
      " 0.33333333 0.         0.2        0.5       ] \n",
      "mean =  0.15333333333333332\n"
     ]
    }
   ],
   "source": [
    "scores = cross_val_score(avoidance_gs.best_estimator_, X_train, y_train, scoring=\"precision\", cv=cv)\n",
    "print(\"precision\\n\", scores,\"\\nmean = \", scores.mean())\n"
   ]
  },
  {
   "cell_type": "markdown",
   "metadata": {},
   "source": [
    "## hypertension cutoff"
   ]
  },
  {
   "cell_type": "code",
   "execution_count": 20,
   "metadata": {},
   "outputs": [],
   "source": [
    "model = Pipeline(steps=[\n",
    "    \n",
    "    ('anova', SelectKBest()),\n",
    "    ('clf',  XGBClassifier(random_state=271828))])\n",
    "\n",
    "grid_params = [{'anova__score_func':[f_classif], 'anova__k':[5],\n",
    "                'clf__n_estimators': [600],  'clf__max_depth': [6],\n",
    "               'clf__learning_rate': [0.01], 'clf__pos_class_weight':[0.5]}]\n"
   ]
  },
  {
   "cell_type": "code",
   "execution_count": 21,
   "metadata": {},
   "outputs": [],
   "source": [
    "X_train, X_test, y_train, y_test = train_test_split(X, Y['hypertention_cutoff'], test_size=0.25, stratify=Y['PCL_Strict3'], random_state=271828)\n",
    "cv = StratifiedKFold(10, random_state=271828)  "
   ]
  },
  {
   "cell_type": "code",
   "execution_count": 22,
   "metadata": {},
   "outputs": [
    {
     "name": "stdout",
     "output_type": "stream",
     "text": [
      "roc_auc 0.7853030358070681 \n",
      "params =  {'anova__k': 5, 'anova__score_func': <function f_classif at 0x00000211456FE158>, 'clf__learning_rate': 0.01, 'clf__max_depth': 6, 'clf__n_estimators': 600, 'clf__pos_class_weight': 0.5}\n"
     ]
    }
   ],
   "source": [
    "hypertention_gs = GridSearchCV(model, grid_params,  scoring=\"roc_auc\", cv=cv)\n",
    "hypertention_gs.fit(X_train, y_train)\n",
    "print(\"roc_auc\", hypertention_gs.best_score_,\"\\nparams = \", hypertention_gs.best_params_)"
   ]
  },
  {
   "cell_type": "code",
   "execution_count": 23,
   "metadata": {},
   "outputs": [
    {
     "name": "stdout",
     "output_type": "stream",
     "text": [
      "precision\n",
      " [0.75       0.5        0.42857143 1.         0.42857143 0.5\n",
      " 1.         0.5        0.57142857 0.66666667] \n",
      "mean =  0.6345238095238096\n"
     ]
    }
   ],
   "source": [
    "scores = cross_val_score(hypertention_gs.best_estimator_, X_train, y_train, scoring=\"precision\", cv=cv)\n",
    "print(\"precision\\n\", scores,\"\\nmean = \", scores.mean())\n"
   ]
  },
  {
   "cell_type": "code",
   "execution_count": null,
   "metadata": {},
   "outputs": [],
   "source": []
  },
  {
   "cell_type": "markdown",
   "metadata": {},
   "source": [
    "## regression_cutoff_50"
   ]
  },
  {
   "cell_type": "code",
   "execution_count": 24,
   "metadata": {},
   "outputs": [],
   "source": [
    "model = Pipeline(steps=[\n",
    "    \n",
    "    ('anova', SelectKBest()),\n",
    "    ('clf',  XGBClassifier(random_state=271828))])\n",
    "\n",
    "grid_params = [{'anova__k':[50],\n",
    "                'clf__n_estimators': [400],  'clf__max_depth': [4],\n",
    "               'clf__learning_rate': [0.1], 'clf__pos_class_weight':[0.25]}]\n"
   ]
  },
  {
   "cell_type": "code",
   "execution_count": 25,
   "metadata": {},
   "outputs": [],
   "source": [
    "X_train, X_test, y_train, y_test = train_test_split(X, Y['regression_cutoff_50'], test_size=0.25, stratify=Y['PCL_Strict3'], random_state=271828)\n",
    "cv = StratifiedKFold(10, random_state=271828)  "
   ]
  },
  {
   "cell_type": "code",
   "execution_count": 26,
   "metadata": {},
   "outputs": [
    {
     "name": "stdout",
     "output_type": "stream",
     "text": [
      "roc_auc 0.8624642308852836 \n",
      "params =  {'anova__k': 50, 'clf__learning_rate': 0.1, 'clf__max_depth': 4, 'clf__n_estimators': 400, 'clf__pos_class_weight': 0.25}\n"
     ]
    }
   ],
   "source": [
    "regression_50_gs = GridSearchCV(model, grid_params,  scoring=\"roc_auc\", cv=cv)\n",
    "regression_50_gs.fit(X_train, y_train)\n",
    "print(\"roc_auc\", regression_50_gs.best_score_,\"\\nparams = \", regression_50_gs.best_params_)"
   ]
  },
  {
   "cell_type": "code",
   "execution_count": 27,
   "metadata": {},
   "outputs": [
    {
     "name": "stdout",
     "output_type": "stream",
     "text": [
      "precision\n",
      " [0.5 0.  0.5 0.  0.  0.  0.  0.  0.  0. ] \n",
      "mean =  0.1\n"
     ]
    }
   ],
   "source": [
    "scores = cross_val_score(regression_50_gs.best_estimator_, X_train, y_train, scoring=\"precision\", cv=cv)\n",
    "print(\"precision\\n\", scores,\"\\nmean = \", scores.mean())\n"
   ]
  },
  {
   "cell_type": "markdown",
   "metadata": {},
   "source": [
    "## regression_cutoff_33"
   ]
  },
  {
   "cell_type": "code",
   "execution_count": 28,
   "metadata": {},
   "outputs": [],
   "source": [
    "model = Pipeline(steps=[\n",
    "    \n",
    "    ('anova', SelectKBest()),\n",
    "    ('clf',  XGBClassifier(random_state=271828))])\n",
    "\n",
    "grid_params = [{'anova__k':[50],\n",
    "                'clf__n_estimators': [200],  'clf__max_depth': [3],\n",
    "               'clf__learning_rate': [0.1], 'clf__pos_class_weight':[0.25]}]\n"
   ]
  },
  {
   "cell_type": "code",
   "execution_count": 29,
   "metadata": {},
   "outputs": [],
   "source": [
    "X_train, X_test, y_train, y_test = train_test_split(X, Y['regression_cutoff_33'], test_size=0.25, stratify=Y['PCL_Strict3'], random_state=271828)\n",
    "cv = StratifiedKFold(10, random_state=271828)  "
   ]
  },
  {
   "cell_type": "code",
   "execution_count": 30,
   "metadata": {},
   "outputs": [
    {
     "name": "stdout",
     "output_type": "stream",
     "text": [
      "roc_auc 0.8603592654394795 \n",
      "params =  {'anova__k': 50, 'clf__learning_rate': 0.1, 'clf__max_depth': 3, 'clf__n_estimators': 200, 'clf__pos_class_weight': 0.25}\n"
     ]
    }
   ],
   "source": [
    "regression_33_gs = GridSearchCV(model, grid_params,  scoring=\"roc_auc\", cv=cv)\n",
    "regression_33_gs.fit(X_train, y_train)\n",
    "print(\"roc_auc\", regression_33_gs.best_score_,\"\\nparams = \", regression_33_gs.best_params_)"
   ]
  },
  {
   "cell_type": "code",
   "execution_count": 31,
   "metadata": {},
   "outputs": [
    {
     "name": "stdout",
     "output_type": "stream",
     "text": [
      "precision\n",
      " [0.66666667 0.5        0.83333333 0.5        0.66666667 0.5\n",
      " 0.75       0.6        0.75       0.66666667] \n",
      "mean =  0.6433333333333333\n"
     ]
    }
   ],
   "source": [
    "scores = cross_val_score(regression_33_gs.best_estimator_, X_train, y_train, scoring=\"precision\", cv=cv)\n",
    "print(\"precision\\n\", scores,\"\\nmean = \", scores.mean())\n"
   ]
  },
  {
   "cell_type": "markdown",
   "metadata": {},
   "source": [
    "## only_avoidance_cutoff"
   ]
  },
  {
   "cell_type": "code",
   "execution_count": 32,
   "metadata": {},
   "outputs": [],
   "source": [
    "model = Pipeline(steps=[\n",
    "    \n",
    "    ('anova', SelectKBest()),\n",
    "    ('clf',  XGBClassifier(random_state=271828))])\n",
    "\n",
    "grid_params = [{'anova__k':[3],\n",
    "                'clf__n_estimators': [200],  'clf__max_depth': [3],\n",
    "               'clf__learning_rate': [0.1], 'clf__pos_class_weight':[0.25]}]\n"
   ]
  },
  {
   "cell_type": "code",
   "execution_count": 33,
   "metadata": {},
   "outputs": [],
   "source": [
    "X_train, X_test, y_train, y_test = train_test_split(X, Y['only_avoidance_cutoff'], test_size=0.25, stratify=Y['PCL_Strict3'], random_state=271828)\n",
    "cv = StratifiedKFold(10, random_state=271828)  "
   ]
  },
  {
   "cell_type": "code",
   "execution_count": 34,
   "metadata": {},
   "outputs": [
    {
     "name": "stdout",
     "output_type": "stream",
     "text": [
      "roc_auc 0.643342315922961 \n",
      "params =  {'anova__k': 3, 'clf__learning_rate': 0.1, 'clf__max_depth': 3, 'clf__n_estimators': 200, 'clf__pos_class_weight': 0.25}\n"
     ]
    }
   ],
   "source": [
    "only_avoidance_gs = GridSearchCV(model, grid_params,  scoring=\"roc_auc\", cv=cv)\n",
    "only_avoidance_gs.fit(X_train, y_train)\n",
    "print(\"roc_auc\", only_avoidance_gs.best_score_,\"\\nparams = \", only_avoidance_gs.best_params_)"
   ]
  },
  {
   "cell_type": "code",
   "execution_count": 35,
   "metadata": {},
   "outputs": [
    {
     "name": "stdout",
     "output_type": "stream",
     "text": [
      "precision\n",
      " [0.5        0.55555556 0.         0.6        0.33333333 0.\n",
      " 0.5        0.4        0.5        0.33333333] \n",
      "mean =  0.37222222222222223\n"
     ]
    }
   ],
   "source": [
    "scores = cross_val_score(only_avoidance_gs.best_estimator_, X_train, y_train, scoring=\"precision\", cv=cv)\n",
    "print(\"precision\\n\", scores,\"\\nmean = \", scores.mean())\n"
   ]
  },
  {
   "cell_type": "markdown",
   "metadata": {},
   "source": [
    "## tred_cutoff"
   ]
  },
  {
   "cell_type": "code",
   "execution_count": 36,
   "metadata": {},
   "outputs": [],
   "source": [
    "model = Pipeline(steps=[\n",
    "    \n",
    "    ('anova', SelectKBest()),\n",
    "    ('clf',  XGBClassifier(random_state=271828))])\n",
    "\n",
    "grid_params = [{'anova__k':[35, 15, 25],\n",
    "                'clf__n_estimators': [600],  'clf__max_depth': [1],\n",
    "               'clf__learning_rate': [0.05], 'clf__pos_class_weight':[0.25]}]\n"
   ]
  },
  {
   "cell_type": "code",
   "execution_count": 37,
   "metadata": {},
   "outputs": [],
   "source": [
    "X_train, X_test, y_train, y_test = train_test_split(X, Y['tred_cutoff'], test_size=0.25, stratify=Y['PCL_Strict3'], random_state=271828)\n",
    "cv = StratifiedKFold(10, random_state=271828)  "
   ]
  },
  {
   "cell_type": "code",
   "execution_count": 38,
   "metadata": {},
   "outputs": [
    {
     "name": "stdout",
     "output_type": "stream",
     "text": [
      "roc_auc 0.7107667363349182 \n",
      "params =  {'anova__k': 25, 'clf__learning_rate': 0.05, 'clf__max_depth': 1, 'clf__n_estimators': 600, 'clf__pos_class_weight': 0.25}\n"
     ]
    }
   ],
   "source": [
    "tred_gs = GridSearchCV(model, grid_params,  scoring=\"roc_auc\", cv=cv)\n",
    "tred_gs.fit(X_train, y_train)\n",
    "print(\"roc_auc\", tred_gs.best_score_,\"\\nparams = \", tred_gs.best_params_)"
   ]
  },
  {
   "cell_type": "code",
   "execution_count": 39,
   "metadata": {},
   "outputs": [
    {
     "name": "stdout",
     "output_type": "stream",
     "text": [
      "precision\n",
      " [1.         0.5        0.5        1.         0.4        0.\n",
      " 0.5        0.         0.66666667 0.33333333] \n",
      "mean =  0.48999999999999994\n"
     ]
    }
   ],
   "source": [
    "scores = cross_val_score(tred_gs.best_estimator_, X_train, y_train, scoring=\"precision\", cv=cv)\n",
    "print(\"precision\\n\", scores,\"\\nmean = \", scores.mean())\n"
   ]
  },
  {
   "cell_type": "markdown",
   "metadata": {},
   "source": [
    "## depression_cutoff"
   ]
  },
  {
   "cell_type": "code",
   "execution_count": 40,
   "metadata": {},
   "outputs": [],
   "source": [
    "model = Pipeline(steps=[\n",
    "    \n",
    "    ('anova', SelectKBest()),\n",
    "    ('clf',  XGBClassifier(random_state=271828))])\n",
    "\n",
    "grid_params = [{'anova__k':[10],\n",
    "                'clf__n_estimators': [100],  'clf__max_depth': [2],\n",
    "               'clf__learning_rate': [0.1], 'clf__pos_class_weight':[0.25]}]\n"
   ]
  },
  {
   "cell_type": "code",
   "execution_count": 41,
   "metadata": {},
   "outputs": [],
   "source": [
    "X_train, X_test, y_train, y_test = train_test_split(X, Y['depression_cutoff'], test_size=0.25, stratify=Y['PCL_Strict3'], random_state=271828)\n",
    "cv = StratifiedKFold(10, random_state=271828)  "
   ]
  },
  {
   "cell_type": "code",
   "execution_count": 42,
   "metadata": {},
   "outputs": [
    {
     "name": "stdout",
     "output_type": "stream",
     "text": [
      "roc_auc 0.7167282637870872 \n",
      "params =  {'anova__k': 10, 'clf__learning_rate': 0.1, 'clf__max_depth': 2, 'clf__n_estimators': 100, 'clf__pos_class_weight': 0.25}\n"
     ]
    }
   ],
   "source": [
    "depression_gs = GridSearchCV(model, grid_params,  scoring=\"roc_auc\", cv=cv)\n",
    "depression_gs.fit(X_train, y_train)\n",
    "print(\"roc_auc\", depression_gs.best_score_,\"\\nparams = \", depression_gs.best_params_)"
   ]
  },
  {
   "cell_type": "code",
   "execution_count": 43,
   "metadata": {},
   "outputs": [
    {
     "name": "stdout",
     "output_type": "stream",
     "text": [
      "precision\n",
      " [0.75       1.         0.66666667 0.66666667 0.         0.5\n",
      " 0.33333333 0.         0.6        0.5       ] \n",
      "mean =  0.5016666666666666\n"
     ]
    }
   ],
   "source": [
    "scores = cross_val_score(depression_gs.best_estimator_, X_train, y_train, scoring=\"precision\", cv=cv)\n",
    "print(\"precision\\n\", scores,\"\\nmean = \", scores.mean())\n"
   ]
  },
  {
   "cell_type": "code",
   "execution_count": null,
   "metadata": {},
   "outputs": [],
   "source": []
  },
  {
   "cell_type": "code",
   "execution_count": 45,
   "metadata": {},
   "outputs": [
    {
     "data": {
      "image/png": "[encoded data removed]",
      "text/plain": [
       "<Figure size 432x288 with 1 Axes>"
      ]
     },
     "metadata": {
      "needs_background": "light"
     },
     "output_type": "display_data"
    }
   ],
   "source": [
    "X_train, X_test, y_train, y_test = train_test_split(X, Y['PCL_Strict3'], test_size=0.25, stratify=Y['PCL_Strict3'], random_state=271828)\n",
    "\n",
    "from sklearn.metrics import roc_curve, auc\n",
    "\n",
    "y_pred_only_avoidance = only_avoidance_gs.best_estimator_.predict_proba(X_test)\n",
    "y_pred_depression = depression_gs.best_estimator_.predict_proba(X_test)\n",
    "y_pred_tred = tred_gs.best_estimator_.predict_proba(X_test)\n",
    "y_pred_33 = regression_33_gs.best_estimator_.predict_proba(X_test)\n",
    "y_pred_50 = regression_50_gs.best_estimator_.predict_proba(X_test)\n",
    "y_pred_intrusion = intrusion_gs.best_estimator_.predict_proba(X_test)\n",
    "y_pred_avoidance = avoidance_gs.best_estimator_.predict_proba(X_test)\n",
    "y_pred_hypertension = hypertention_gs.best_estimator_.predict_proba(X_test)\n",
    "preds = y_pred_50[:, 1]* y_pred_intrusion[:,1] * y_pred_avoidance[:,1] * y_pred_hypertension[:,1]\n",
    "\n",
    "fpr, tpr, threshold = roc_curve(y_test, preds)\n",
    "roc_auc = auc(fpr, tpr)\n",
    "\n",
    "# method I: plt\n",
    "import matplotlib.pyplot as plt\n",
    "plt.title('Receiver Operating Characteristic')\n",
    "plt.plot(fpr, tpr, 'b', label = 'AUC = %0.2f' % roc_auc)\n",
    "plt.legend(loc = 'lower right')\n",
    "plt.plot([0, 1], [0, 1],'r--')\n",
    "plt.xlim([0, 1])\n",
    "plt.ylim([0, 1])\n",
    "plt.ylabel('True Positive Rate')\n",
    "plt.xlabel('False Positive Rate')\n",
    "plt.show()"
   ]
  },
  {
   "cell_type": "code",
   "execution_count": 46,
   "metadata": {},
   "outputs": [
    {
     "data": {
      "text/plain": [
       "[1.5735666e-06,\n",
       " 3.3944848e-06,\n",
       " 0.00017469712,\n",
       " 0.0015909694,\n",
       " 0.0039461893,\n",
       " 0.012844844,\n",
       " 0.02821377,\n",
       " 0.05271889]"
      ]
     },
     "execution_count": 46,
     "metadata": {},
     "output_type": "execute_result"
    },
    {
     "data": {
      "image/png": "[encoded data removed]",
      "text/plain": [
       "<Figure size 432x288 with 1 Axes>"
      ]
     },
     "metadata": {
      "needs_background": "light"
     },
     "output_type": "display_data"
    }
   ],
   "source": [
    "plt.hist(preds[y_test==0], bins=50, color=\"b\", label=\"non PTSD\")\n",
    "plt.hist(preds[y_test==1], color=\"r\", label=\"PTSD\")\n",
    "plt.xlabel('pred probability')\n",
    "plt.legend();\n",
    "sorted(preds[y_test==1])"
   ]
  },
  {
   "cell_type": "code",
   "execution_count": 51,
   "metadata": {},
   "outputs": [],
   "source": [
    "X_train, X_test, y_train, y_test = train_test_split(X, Y, test_size=0.25, stratify=Y['PCL_Strict3'], random_state=271828)\n",
    "cv = StratifiedKFold(5, random_state=271828)\n",
    "scores_f = []\n",
    "scores_p = []\n",
    "scores_r = []\n",
    "scores_auc = []\n",
    "\n",
    "\n",
    "for train, test in cv.split(X_train, y_train['PCL_Strict3']):\n",
    "    X_train_cv = X_train.iloc[train]\n",
    "    y_train_cv = y_train.iloc[train]\n",
    "\n",
    "    t = [y_train_cv['intrusion_cutoff'], y_train_cv['avoidance_cutoff'],\n",
    "         y_train_cv['hypertention_cutoff'], y_train_cv['regression_cutoff_50']]\n",
    "    \n",
    "    y_pred_intrusion = intrusion_gs.best_estimator_.fit(X_train_cv, t[0]).predict_proba(X_train.iloc[test])\n",
    "    y_pred_avoidance = depression_gs.best_estimator_.fit(X_train_cv, t[1]).predict_proba(X_train.iloc[test])\n",
    "    y_pred_hypertension = hypertention_gs.best_estimator_.fit(X_train_cv, t[2]).predict_proba(X_train.iloc[test])\n",
    "    y_pred_regression_50 = regression_50_gs.best_estimator_.fit(X_train_cv, t[3]).predict_proba(X_train.iloc[test])\n",
    "\n",
    "    y_pred = (y_pred_intrusion[:, 1] * y_pred_avoidance[:, 1] *\\\n",
    "              y_pred_hypertension[:, 1] * y_pred_regression_50[:, 1]) > 1.57e-06\n",
    "\n",
    "    scores_f.append(f1_score(y_train['PCL_Strict3'].iloc[test], y_pred))\n",
    "    scores_p.append(precision_score(y_train['PCL_Strict3'].iloc[test], y_pred))\n",
    "    scores_r.append(recall_score(y_train['PCL_Strict3'].iloc[test], y_pred))\n",
    "    scores_auc.append(roc_auc_score(y_train['PCL_Strict3'].iloc[test], y_pred))"
   ]
  },
  {
   "cell_type": "code",
   "execution_count": 52,
   "metadata": {},
   "outputs": [
    {
     "name": "stdout",
     "output_type": "stream",
     "text": [
      "[0.1851851851851852, 0.20833333333333334, 0.14285714285714285, 0.2380952380952381, 0.1851851851851852]\n",
      "0.10678544202093157\n",
      "[1.0, 1.0, 0.8, 1.0, 1.0]\n",
      "[0.7142857142857143, 0.7532467532467533, 0.5907894736842105, 0.7894736842105263, 0.7105263157894737]\n",
      "0.7116643882433357\n"
     ]
    }
   ],
   "source": [
    "print(scores_f)\n",
    "print(np.mean(scores_p))\n",
    "print(scores_r)\n",
    "print(scores_auc)\n",
    "print(np.mean(scores_auc))"
   ]
  },
  {
   "cell_type": "code",
   "execution_count": 53,
   "metadata": {},
   "outputs": [],
   "source": [
    "X_train, X_test, y_train, y_test = train_test_split(X, Y, test_size=0.25, stratify=Y['PCL_Strict3'], random_state=271828)\n",
    "cv = StratifiedKFold(5, random_state=271828)\n",
    "scores_f = []\n",
    "scores_p = []\n",
    "scores_r = []\n",
    "scores_auc = []\n",
    "\n",
    "\n",
    "for train, test in cv.split(X_train, y_train['PCL_Strict3']):\n",
    "    X_train_cv = X_train.iloc[train]\n",
    "    y_train_cv = y_train.iloc[train]\n",
    "\n",
    "    t = [y_train_cv['intrusion_cutoff'], y_train_cv['avoidance_cutoff'],\n",
    "         y_train_cv['hypertention_cutoff'], y_train_cv['regression_cutoff_50']]\n",
    "    \n",
    "    y_pred_intrusion = intrusion_gs.best_estimator_.fit(X_train_cv, t[0]).predict_proba(X_train.iloc[test])\n",
    "    y_pred_avoidance = depression_gs.best_estimator_.fit(X_train_cv, t[1]).predict_proba(X_train.iloc[test])\n",
    "    y_pred_hypertension = hypertention_gs.best_estimator_.fit(X_train_cv, t[2]).predict_proba(X_train.iloc[test])\n",
    "    y_pred_regression_50 = regression_50_gs.best_estimator_.fit(X_train_cv, t[3]).predict_proba(X_train.iloc[test])\n",
    "\n",
    "    y_pred = (y_pred_intrusion[:, 1] * y_pred_avoidance[:, 1] *\\\n",
    "              y_pred_hypertension[:, 1] * y_pred_regression_50[:, 1]) > 0.052\n",
    "\n",
    "    scores_f.append(f1_score(y_train['PCL_Strict3'].iloc[test], y_pred))\n",
    "    scores_p.append(precision_score(y_train['PCL_Strict3'].iloc[test], y_pred))\n",
    "    scores_r.append(recall_score(y_train['PCL_Strict3'].iloc[test], y_pred))\n",
    "    scores_auc.append(roc_auc_score(y_train['PCL_Strict3'].iloc[test], y_pred))"
   ]
  },
  {
   "cell_type": "code",
   "execution_count": 54,
   "metadata": {},
   "outputs": [
    {
     "name": "stdout",
     "output_type": "stream",
     "text": [
      "[0.5, 0.28571428571428575, 0.0, 0.28571428571428575, 0.25]\n",
      "0.39999999999999997\n",
      "[0.4, 0.2, 0.0, 0.2, 0.2]\n",
      "[0.6935064935064935, 0.5935064935064934, 0.4934210526315789, 0.5934210526315788, 0.5868421052631579]\n",
      "0.5921394395078605\n"
     ]
    }
   ],
   "source": [
    "print(scores_f)\n",
    "print(np.mean(scores_p))\n",
    "print(scores_r)\n",
    "print(scores_auc)\n",
    "print(np.mean(scores_auc))"
   ]
  },
  {
   "cell_type": "code",
   "execution_count": null,
   "metadata": {},
   "outputs": [],
   "source": []
  },
  {
   "cell_type": "code",
   "execution_count": null,
   "metadata": {},
   "outputs": [],
   "source": []
  },
  {
   "cell_type": "code",
   "execution_count": null,
   "metadata": {},
   "outputs": [],
   "source": []
  }
 ],
 "metadata": {
  "kernelspec": {
   "display_name": "Python 3",
   "language": "python",
   "name": "python3"
  },
  "language_info": {
   "codemirror_mode": {
    "name": "ipython",
    "version": 3
   },
   "file_extension": ".py",
   "mimetype": "text/x-python",
   "name": "python",
   "nbconvert_exporter": "python",
   "pygments_lexer": "ipython3",
   "version": "3.6.8"
  }
 },
 "nbformat": 4,
 "nbformat_minor": 2
}
