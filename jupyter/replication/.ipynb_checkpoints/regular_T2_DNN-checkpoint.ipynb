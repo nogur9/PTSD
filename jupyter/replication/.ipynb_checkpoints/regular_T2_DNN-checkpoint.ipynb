{
 "cells": [
  {
   "cell_type": "code",
   "execution_count": 1,
   "metadata": {},
   "outputs": [
    {
     "name": "stderr",
     "output_type": "stream",
     "text": [
      "Using TensorFlow backend.\n"
     ]
    }
   ],
   "source": [
    "from scipy import stats\n",
    "import matplotlib.pyplot as plt\n",
    "import random\n",
    "from sklearn.model_selection import GridSearchCV\n",
    "import numpy as np\n",
    "\n",
    "import pandas as pd\n",
    "from sklearn.model_selection import train_test_split, StratifiedKFold, cross_val_score\n",
    "from sklearn.metrics import precision_score, roc_auc_score, make_scorer\n",
    "from sklearn.feature_selection import SelectKBest\n",
    "from sklearn.preprocessing import StandardScaler\n",
    "import os\n",
    "os.environ['PYTHONHASHSEED']=str(271828)\n",
    "random.seed(271828)\n",
    "np.random.seed(271828)\n",
    "#import tensorflow as tf\n",
    "from imblearn.over_sampling import SMOTE\n",
    "\n",
    "from sklearn.pipeline import Pipeline\n",
    "from tensorflow.python.framework import ops\n",
    "import tensorflow as tf\n",
    "tf.random.set_seed(271828)\n",
    "ops.reset_default_graph()\n",
    "from fancyimpute import IterativeImputer\n",
    "\n",
    "from keras.wrappers.scikit_learn import KerasClassifier\n",
    "from tensorflow.keras.models import Sequential\n",
    "from tensorflow.keras.layers import Dense, Dropout, Input, BatchNormalization\n",
    "#from tensorflow.keras.layers import Conv2D, Activation\n",
    "from tensorflow.keras.models import Model\n",
    "from tensorflow.keras.optimizers import Adam\n",
    "from tensorflow.keras.metrics import AUC\n",
    "from tensorflow.keras.callbacks import EarlyStopping\n",
    "\n",
    "import keras.backend as K\n",
    "#session_conf=tf.ConfigProto(intra_op_parallelism_threads=1, inter_op_parallelism_threads=1) \n",
    "#sesCriticalSection=tf.Session(graph=tf.get_default_graph(), config=session_conf)\n",
    "#K.set_session(sess)"
   ]
  },
  {
   "cell_type": "code",
   "execution_count": 2,
   "metadata": {},
   "outputs": [],
   "source": [
    "def PCL_calculator(df):\n",
    "\n",
    "    symptomatic_cutoff = 2\n",
    "\n",
    "    intrusion = ['q6.1_INTRU', 'q6.2_DREAM', 'q6.3_FLASH', 'q6.4_UPSET', 'q6.5_PHYS']\n",
    "    avoidance = ['q6.6_AVTHT', 'q6.7_AVSIT', 'q6.8_AMNES', 'q6.9_DISINT', 'q6.10_DTACH',\n",
    "                 'q6.11_NUMB', 'q6.12_FUTRE']\n",
    "    tred = ['q6.1_INTRU', 'q6.2_DREAM', 'q6.3_FLASH']\n",
    "    only_avoidance = ['q6.6_AVTHT', 'q6.7_AVSIT', 'q6.8_AMNES']\n",
    "\n",
    "    hypertension = ['q6.13_SLEEP', 'q6.14_ANGER', 'q6.15_CONC', 'q6.16_HYPER', 'q6.17_STRTL']\n",
    "\n",
    "    depression = ['q6.9_DISINT', 'q6.10_DTACH', 'q6.11_NUMB', 'q6.12_FUTRE']\n",
    "\n",
    "    df[intrusion + avoidance + hypertension].fillna(df[intrusion + avoidance + hypertension].mean(axis=1))\n",
    "    intrusion_cuoff = 1\n",
    "    avoidance_cuoff = 3\n",
    "    hypertension_cuoff = 2\n",
    "    only_avoidance_cutoff = 1\n",
    "    depression_cutoff = 2\n",
    "    tred_cutoff = 1\n",
    "\n",
    "    df['sum'] = (df[intrusion + avoidance + hypertension]).sum(axis=1)\n",
    "\n",
    "    df['intrusion'] = (df[intrusion] > symptomatic_cutoff).sum(axis=1)\n",
    "    df['intrusion_cutoff'] = (df['intrusion'] >= intrusion_cuoff).astype(int)\n",
    "\n",
    "    df['avoidance'] = (df[avoidance] > symptomatic_cutoff).sum(axis=1)\n",
    "    df['avoidance_cutoff'] = (df['avoidance'] >= avoidance_cuoff).astype(int)\n",
    "\n",
    "    df['depression'] = (df[depression] > symptomatic_cutoff).sum(axis=1)\n",
    "    df['depression_cutoff'] = df['depression'] >= depression_cutoff\n",
    "\n",
    "    df['hypertention'] = (df[hypertension] > symptomatic_cutoff).sum(axis=1)\n",
    "    df['hypertention_cutoff'] = (df['hypertention'] >= hypertension_cuoff).astype(int)\n",
    "\n",
    "    df['tred'] = (df[tred] > symptomatic_cutoff).sum(axis=1)\n",
    "    df['tred_cutoff'] = df['tred'] >= tred_cutoff\n",
    "\n",
    "    df['only_avoidance'] = (df[only_avoidance] > symptomatic_cutoff).sum(axis=1)\n",
    "    df['only_avoidance_cutoff'] = df['only_avoidance'] >= only_avoidance_cutoff\n",
    "\n",
    "    df['regression_cutoff_33'] = df['sum'] >= 33\n",
    "    df['regression_cutoff_50'] = df['sum'] >= 50\n",
    "    df['diagnosis'] = ((df['hypertention_cutoff']) & (df['avoidance_cutoff']) & (df['intrusion_cutoff']) & (df['sum'] >= 50))\n",
    "\n",
    "    return df\n",
    "\n"
   ]
  },
  {
   "cell_type": "code",
   "execution_count": 3,
   "metadata": {},
   "outputs": [],
   "source": [
    "path = \"C:\\‏‏PycharmProjects\\PTSD\\Data\\PTSD.xlsx\"\n",
    "df = pd.read_excel(path)\n",
    "#combine with specifics of answers\n",
    "df_pcl2 = pd.read_excel(\"C:\\‏‏PycharmProjects\\PTSD\\Data\\questionnaire6PCL2.xlsx\")\n",
    "df_pcl1 = pd.read_excel(\"C:\\‏‏PycharmProjects\\PTSD\\Data\\questionnaire6PCL1.xlsx\")\n",
    "df = df.merge(df_pcl1, on=\"ID\", how='outer')\n",
    "df = df.merge(df_pcl2, suffixes=('_pcl1', '_pcl2'), on=\"ID\", how='outer')\n",
    "\n",
    "df_pcl3 = pd.read_excel(\"C:\\‏‏PycharmProjects\\PTSD\\Data\\questionnaire6PCL3.xlsx\")\n",
    "df_pcl3 = PCL_calculator(df_pcl3)\n",
    "df = df.merge(df_pcl3.drop(['PCL3_Strict', 'pcl3', 'PCL3_Broad'], axis=1), on=\"ID\", how='outer')\n",
    "# rmoving missing Y's\n",
    "df = df[~df['PCL_Strict3'].isna()]"
   ]
  },
  {
   "cell_type": "markdown",
   "metadata": {},
   "source": [
    "## features "
   ]
  },
  {
   "cell_type": "code",
   "execution_count": 4,
   "metadata": {},
   "outputs": [],
   "source": [
    "# removed age\n",
    "features = [\"highschool_diploma\", \"dyslexia\", \"ADHD\", \"T1Acc1t\", \"T1Acc1n\", \"T1bias\", \"phq1\", \"lot1\",\n",
    "                \"trait1\",\n",
    "                \"state1\", \"PCL1\", \"PCL_Broad1\", \"PCL_Strict1\", \"phq2\", \"lot2\", \"trait2\", \"state2\", \"PCL2\", \"PCL_Broad2\",\n",
    "                \"PCL_Strict2\", \"cd_risc1\", \"active_coping1\", \"planning1\", \"positive_reframing1\", \"acceptance1\",\n",
    "                \"humor1\",\n",
    "                \"religion1\", \"emotional_support1\", \"instrumental_support1\", \"self_distraction1\", \"denial1\",\n",
    "                \"venting1\", \"substance_use1\", \"behavioral_disengagement1\", \"self_blame1\", \"active_coping2\", \"planning2\",\n",
    "                \"positive_reframing2\", \"acceptance2\", \"humor2\", \"religion2\", \"emotional_support2\",\n",
    "                \"instrumental_support2\",\n",
    "                \"self_distraction2\", \"denial2\", \"venting2\", \"substance_use2\", \"behavioral_disengagement2\",\n",
    "                \"self_blame2\",\n",
    "                \"trauma_history8_1\", \"HML_5HTT\", \"HL_MAOA\", \"HML_NPY\", \"COMT_Hap1_recode\",\n",
    "                \"COMT_Hap2_recode\", \"COMT_Hap1_LvsMH\", \"HML_FKBP5\", 'q6.1_INTRU_pcl1', \n",
    "                'q6.2_DREAM_pcl1', 'q6.3_FLASH_pcl1', 'q6.4_UPSET_pcl1',\n",
    "                  'q6.5_PHYS_pcl1', 'q6.6_AVTHT_pcl1', 'q6.7_AVSIT_pcl1', 'q6.8_AMNES_pcl1', 'q6.9_DISINT_pcl1',\n",
    "                  'q6.10_DTACH_pcl1', 'q6.11_NUMB_pcl1', 'q6.12_FUTRE_pcl1', 'q6.13_SLEEP_pcl1',\n",
    "                  'q6.14_ANGER_pcl1', 'q6.15_CONC_pcl1', 'q6.16_HYPER_pcl1', 'q6.17_STRTL_pcl1',\n",
    "                  'q6.1_INTRU_pcl2', 'q6.2_DREAM_pcl2', 'q6.3_FLASH_pcl2', 'q6.4_UPSET_pcl2',\n",
    "                  'q6.5_PHYS_pcl2', 'q6.6_AVTHT_pcl2', 'q6.7_AVSIT_pcl2', 'q6.8_AMNES_pcl2', 'q6.9_DISINT_pcl2',\n",
    "                  'q6.10_DTACH_pcl2', 'q6.11_NUMB_pcl2', 'q6.12_FUTRE_pcl2', 'q6.13_SLEEP_pcl2',\n",
    "                  'q6.14_ANGER_pcl2', 'q6.15_CONC_pcl2', 'q6.16_HYPER_pcl2', 'q6.17_STRTL_pcl2']"
   ]
  },
  {
   "cell_type": "code",
   "execution_count": 5,
   "metadata": {},
   "outputs": [],
   "source": [
    "t2_features = [\n",
    "    \"lot2\", \"trait2\", \"state2\", \"PCL2\", \"PCL_Broad2\", \"PCL_Strict2\",\n",
    "    \"active_coping2\", \"planning2\", \"positive_reframing2\", \"acceptance2\", \"humor2\", \n",
    "    \"religion2\", \"emotional_support2\", \"instrumental_support2\", \"self_distraction2\",\n",
    "    \"denial2\", \"venting2\", \"substance_use2\", \"behavioral_disengagement2\", \"self_blame2\",\n",
    "    'q6.1_INTRU_pcl2', 'q6.2_DREAM_pcl2', 'q6.3_FLASH_pcl2', 'q6.4_UPSET_pcl2', 'q6.5_PHYS_pcl2',\n",
    "    'q6.6_AVTHT_pcl2', 'q6.7_AVSIT_pcl2', 'q6.8_AMNES_pcl2', 'q6.9_DISINT_pcl2',\n",
    "                    'q6.10_DTACH_pcl2', 'q6.11_NUMB_pcl2', 'q6.12_FUTRE_pcl2', 'q6.13_SLEEP_pcl2',\n",
    "                    'q6.14_ANGER_pcl2', 'q6.15_CONC_pcl2', 'q6.16_HYPER_pcl2', 'q6.17_STRTL_pcl2'\n",
    "]\n",
    "t1_features =[ \"active_coping1\",\"T1Acc1t\", \"T1Acc1n\", \"T1bias\", \"phq1\", \"lot1\",\n",
    "                \"trait1\",\"state1\",\n",
    "                    \"planning1\", \"positive_reframing1\", \"acceptance1\", \"humor1\", \"religion1\",\n",
    "                    \"emotional_support1\", \"instrumental_support1\", \"self_distraction1\", \"denial1\",\n",
    "                    \"venting1\", \"substance_use1\", \"behavioral_disengagement1\", \"self_blame1\",\n",
    "              \"PCL1\", \"PCL_Broad1\", \"PCL_Strict1\",\"cd_risc1\", \n",
    "                'q6.1_INTRU_pcl1', 'q6.2_DREAM_pcl1', 'q6.3_FLASH_pcl1', 'q6.4_UPSET_pcl1',\n",
    "                    'q6.5_PHYS_pcl1', 'q6.6_AVTHT_pcl1', 'q6.7_AVSIT_pcl1', 'q6.8_AMNES_pcl1', 'q6.9_DISINT_pcl1',\n",
    "                    'q6.10_DTACH_pcl1', 'q6.11_NUMB_pcl1','q6.13_SLEEP_pcl1', 'q6.12_FUTRE_pcl1', 'q6.13_SLEEP_pcl1',\n",
    "                    'q6.14_ANGER_pcl1', 'q6.15_CONC_pcl1', 'q6.16_HYPER_pcl1', 'q6.17_STRTL_pcl1']"
   ]
  },
  {
   "cell_type": "code",
   "execution_count": 6,
   "metadata": {},
   "outputs": [],
   "source": [
    "discrete_features = [\"highschool_diploma\", \"dyslexia\", \"ADHD\", \"phq1\", \"lot1\",\n",
    "                    \"trait1\", \"state1\", \"PCL1\", \"PCL_Broad1\", \"PCL_Strict1\", \"phq2\", \"lot2\",\n",
    "                    \"trait2\", \"state2\", \"PCL2\", \"PCL_Broad2\", \"PCL_Strict2\", \"cd_risc1\", \"active_coping1\",\n",
    "                    \"planning1\", \"positive_reframing1\", \"acceptance1\", \"humor1\", \"religion1\",\n",
    "                    \"emotional_support1\", \"instrumental_support1\", \"self_distraction1\", \"denial1\",\n",
    "                    \"venting1\", \"substance_use1\", \"behavioral_disengagement1\", \"self_blame1\", \"active_coping2\",\n",
    "                    \"planning2\", \"positive_reframing2\", \"acceptance2\", \"humor2\", \"religion2\", \"emotional_support2\",\n",
    "                    \"instrumental_support2\", \"self_distraction2\", \"denial2\", \"venting2\", \"substance_use2\",\n",
    "                    \"behavioral_disengagement2\", \"self_blame2\", \"trauma_history8_1\",\n",
    "                    'q6.1_INTRU_pcl1', 'q6.2_DREAM_pcl1', 'q6.3_FLASH_pcl1', 'q6.4_UPSET_pcl1',\n",
    "                    'q6.5_PHYS_pcl1', 'q6.6_AVTHT_pcl1', 'q6.7_AVSIT_pcl1', 'q6.8_AMNES_pcl1', 'q6.9_DISINT_pcl1',\n",
    "                    'q6.10_DTACH_pcl1', 'q6.11_NUMB_pcl1', 'q6.12_FUTRE_pcl1', 'q6.13_SLEEP_pcl1',\n",
    "                    'q6.14_ANGER_pcl1', 'q6.15_CONC_pcl1', 'q6.16_HYPER_pcl1', 'q6.17_STRTL_pcl1',\n",
    "                    'q6.1_INTRU_pcl2', 'q6.2_DREAM_pcl2', 'q6.3_FLASH_pcl2', 'q6.4_UPSET_pcl2',\n",
    "                    'q6.5_PHYS_pcl2', 'q6.6_AVTHT_pcl2', 'q6.7_AVSIT_pcl2', 'q6.8_AMNES_pcl2', 'q6.9_DISINT_pcl2',\n",
    "                    'q6.10_DTACH_pcl2', 'q6.11_NUMB_pcl2', 'q6.12_FUTRE_pcl2', 'q6.13_SLEEP_pcl2',\n",
    "                    'q6.14_ANGER_pcl2', 'q6.15_CONC_pcl2', 'q6.16_HYPER_pcl2', 'q6.17_STRTL_pcl2']"
   ]
  },
  {
   "cell_type": "code",
   "execution_count": 7,
   "metadata": {},
   "outputs": [],
   "source": [
    "genome_features = [\"HML_5HTT\", \"HL_MAOA\", \"HML_NPY\", \"COMT_Hap1_recode\",\n",
    "                \"COMT_Hap2_recode\", \"COMT_Hap1_LvsMH\", \"HML_FKBP5\"]\n",
    "continuous_features = [\"T1Acc1t\", \"T1Acc1n\", \"T1bias\"]\n",
    "demographic_features = [\"highschool_diploma\", \"dyslexia\", \"ADHD\"]"
   ]
  },
  {
   "cell_type": "code",
   "execution_count": 8,
   "metadata": {},
   "outputs": [],
   "source": [
    "df1 = df[features + ['PCL_Strict3']]\n",
    "#df1 = df1.dropna(thresh=47)\n",
    "df_t1 = df1[t1_features]\n",
    "df_t2 = df1[t2_features]\n",
    "df1 = df1[df_t2.isna().astype(int).sum(axis=1)<36]\n",
    "df1 = df1[df_t1.isna().astype(int).sum(axis=1)<42]\n"
   ]
  },
  {
   "cell_type": "code",
   "execution_count": 9,
   "metadata": {},
   "outputs": [],
   "source": [
    "mice = IterativeImputer()\n",
    "df1 = pd.DataFrame(mice.fit_transform(df1), columns=df1.columns)\n",
    "df1 = df1[(np.abs(stats.zscore(df1)) > 3).sum(axis=1)<15]"
   ]
  },
  {
   "cell_type": "code",
   "execution_count": 10,
   "metadata": {},
   "outputs": [
    {
     "data": {
      "text/plain": [
       "(530, 92)"
      ]
     },
     "execution_count": 10,
     "metadata": {},
     "output_type": "execute_result"
    }
   ],
   "source": [
    "df1.shape"
   ]
  },
  {
   "cell_type": "code",
   "execution_count": null,
   "metadata": {},
   "outputs": [],
   "source": []
  },
  {
   "cell_type": "markdown",
   "metadata": {},
   "source": [
    "## cut off the test set"
   ]
  },
  {
   "cell_type": "code",
   "execution_count": 11,
   "metadata": {},
   "outputs": [],
   "source": [
    "X, X_out, Y, y_out = train_test_split(df1[features], df1['PCL_Strict3'],\n",
    "                                      test_size=0.25, random_state=271828, stratify=df1['PCL_Strict3'])\n"
   ]
  },
  {
   "cell_type": "code",
   "execution_count": 12,
   "metadata": {},
   "outputs": [],
   "source": [
    "X_train, X_test, y_train, y_test = train_test_split(X, Y, test_size=0.25, stratify=Y, random_state=271828)\n",
    "cv = StratifiedKFold(5, random_state=271828)  "
   ]
  },
  {
   "cell_type": "markdown",
   "metadata": {},
   "source": [
    "## the Model"
   ]
  },
  {
   "cell_type": "code",
   "execution_count": 13,
   "metadata": {},
   "outputs": [],
   "source": [
    "def roc_auc(y_true, y_pred):\n",
    "    ptas = tf.stack([binary_PTA(y_true,y_pred,k) for k in np.linspace(0, 1, 1000)],axis=0)\n",
    "    pfas = tf.stack([binary_PFA(y_true,y_pred,k) for k in np.linspace(0, 1, 1000)],axis=0)\n",
    "    pfas = tf.concat([tf.ones((1,)) ,pfas],axis=0)\n",
    "    binSizes = -(pfas[1:]-pfas[:-1])\n",
    "    s = ptas*binSizes\n",
    "    return K.sum(s, axis=0)\n",
    "\n",
    "#---------------------\n",
    "# PFA, prob false alert for binary classifier\n",
    "def binary_PFA(y_true, y_pred, threshold=K.variable(value=0.5)):\n",
    "    y_pred = K.cast(y_pred >= threshold, 'float32')\n",
    "    # N = total number of negative labels\n",
    "    N = K.sum(1 - y_true)\n",
    "    # FP = total number of false alerts, alerts from the negative class labels\n",
    "    FP = K.sum(y_pred - y_pred * y_true)\n",
    "    return FP/N\n",
    "\n",
    "#----------------\n",
    "# P_TA prob true alerts for binary classifier\n",
    "def binary_PTA(y_true, y_pred, threshold=K.variable(value=0.5)):\n",
    "    y_pred = K.cast(y_pred >= threshold, 'float32')\n",
    "    # P = total number of positive labels\n",
    "    P = K.sum(y_true)\n",
    "    # TP = total number of correct alerts, alerts from the positive class labels\n",
    "    TP = K.sum(y_pred * y_true)\n",
    "    return TP/P"
   ]
  },
  {
   "cell_type": "code",
   "execution_count": 14,
   "metadata": {},
   "outputs": [],
   "source": [
    "def create_model(dropout_rate=0.0, activation='relu', number_of_neurons=30, second_layer=0):\n",
    "    visible = Input(shape=(91,))\n",
    "    x = Dense(number_of_neurons, activation=activation)(visible)\n",
    "    x = BatchNormalization()(x)\n",
    "    x = Dropout(dropout_rate)(x)\n",
    "    \n",
    "    if second_layer>0:\n",
    "        x = Dense(second_layer, activation=activation)(x)\n",
    "        x = BatchNormalization()(x)\n",
    "        x = Dropout(dropout_rate)(x)\n",
    "    \n",
    "    \n",
    "    output_diagnosis = Dense(1, activation='sigmoid')(x)\n",
    "    \n",
    "    \n",
    "    model = Model(inputs=visible, outputs=output_diagnosis)\n",
    "   \n",
    "    model.compile(loss='binary_crossentropy', optimizer='adam')#, random_state=271828)#,metrics=[roc_auc])\n",
    "        \n",
    "    return model\n"
   ]
  },
  {
   "cell_type": "code",
   "execution_count": 15,
   "metadata": {},
   "outputs": [],
   "source": [
    "ss= StandardScaler()\n",
    "X_train = ss.fit_transform(X_train)"
   ]
  },
  {
   "cell_type": "markdown",
   "metadata": {},
   "source": [
    "\n",
    "\n",
    "\n",
    "\n",
    "## iterate epochs"
   ]
  },
  {
   "cell_type": "code",
   "execution_count": 16,
   "metadata": {},
   "outputs": [
    {
     "name": "stdout",
     "output_type": "stream",
     "text": [
      "roc_auc 0.8617060327586644 \n",
      "params =  {'activation': 'tanh', 'dropout_rate': 0.8, 'number_of_neurons': 60, 'second_layer': 30}\n"
     ]
    }
   ],
   "source": [
    "model = KerasClassifier(build_fn=create_model)\n",
    "activation = ['tanh']#, 'elu']\n",
    "dropout_rate = [0.8]\n",
    "number_of_neurons = [60]\n",
    "second_layer = [30]\n",
    "param_grid = dict(activation=activation, dropout_rate=dropout_rate, \n",
    "                  number_of_neurons=number_of_neurons, second_layer=second_layer)\n",
    "\n",
    "scores_auc = GridSearchCV(model, param_grid, cv=cv, scoring=\"roc_auc\", fit_params={'epochs': 200,\n",
    "                                                                                   'verbose':0})\n",
    "scores_auc.fit(X_train, y_train)\n",
    "print(\"roc_auc\", scores_auc.best_score_,\"\\nparams = \", scores_auc.best_params_)"
   ]
  },
  {
   "cell_type": "code",
   "execution_count": 17,
   "metadata": {},
   "outputs": [
    {
     "name": "stdout",
     "output_type": "stream",
     "text": [
      "roc_auc 0.8593305654709164 \n",
      "params =  {'activation': 'tanh', 'dropout_rate': 0.75, 'number_of_neurons': 60, 'second_layer': 30}\n"
     ]
    }
   ],
   "source": [
    "model = KerasClassifier(build_fn=create_model)\n",
    "activation = ['tanh']#, 'relu', 'elu']\n",
    "dropout_rate = [0.75]\n",
    "number_of_neurons = [60]\n",
    "second_layer = [30]\n",
    "param_grid = dict(activation=activation, dropout_rate=dropout_rate, \n",
    "                  number_of_neurons=number_of_neurons, second_layer=second_layer)\n",
    "\n",
    "scores_auc = GridSearchCV(model, param_grid, cv=cv, scoring=\"roc_auc\", fit_params={'epochs': 200,\n",
    "                                                                                   'verbose':0})\n",
    "scores_auc.fit(X_train, y_train)\n",
    "print(\"roc_auc\", scores_auc.best_score_,\"\\nparams = \", scores_auc.best_params_)"
   ]
  },
  {
   "cell_type": "code",
   "execution_count": 23,
   "metadata": {},
   "outputs": [
    {
     "name": "stdout",
     "output_type": "stream",
     "text": [
      "roc_auc 0.7955009577816595 \n",
      "params =  {'activation': 'tanh', 'dropout_rate': 0.5, 'number_of_neurons': 60, 'second_layer': 30}\n"
     ]
    }
   ],
   "source": [
    "model = KerasClassifier(build_fn=create_model)\n",
    "activation = ['tanh']#, 'relu', 'elu']\n",
    "dropout_rate = [0.5]\n",
    "number_of_neurons = [60]\n",
    "second_layer = [30]\n",
    "param_grid = dict(activation=activation, dropout_rate=dropout_rate, \n",
    "                  number_of_neurons=number_of_neurons, second_layer=second_layer)\n",
    "\n",
    "scores_auc = GridSearchCV(model, param_grid, cv=cv, scoring=\"roc_auc\", fit_params={'epochs': 200,\n",
    "                                                                                   'verbose':0})\n",
    "scores_auc.fit(X_train, y_train)\n",
    "print(\"roc_auc\", scores_auc.best_score_,\"\\nparams = \", scores_auc.best_params_)"
   ]
  },
  {
   "cell_type": "code",
   "execution_count": 24,
   "metadata": {},
   "outputs": [
    {
     "name": "stdout",
     "output_type": "stream",
     "text": [
      "roc_auc 0.8238736572069907 \n",
      "params =  {'activation': 'tanh', 'dropout_rate': 0.4, 'number_of_neurons': 60, 'second_layer': 30}\n"
     ]
    }
   ],
   "source": [
    "model = KerasClassifier(build_fn=create_model)\n",
    "activation = ['tanh']#, 'relu', 'elu']\n",
    "dropout_rate = [0.4]\n",
    "number_of_neurons = [60]\n",
    "second_layer = [30]\n",
    "param_grid = dict(activation=activation, dropout_rate=dropout_rate, \n",
    "                  number_of_neurons=number_of_neurons, second_layer=second_layer)\n",
    "\n",
    "scores_auc = GridSearchCV(model, param_grid, cv=cv, scoring=\"roc_auc\", fit_params={'epochs': 200,\n",
    "                                                                                   'verbose':0})\n",
    "scores_auc.fit(X_train, y_train)\n",
    "print(\"roc_auc\", scores_auc.best_score_,\"\\nparams = \", scores_auc.best_params_)"
   ]
  },
  {
   "cell_type": "code",
   "execution_count": 16,
   "metadata": {},
   "outputs": [
    {
     "name": "stdout",
     "output_type": "stream",
     "text": [
      "roc_auc 0.8037781743922096 \n",
      "params =  {'activation': 'tanh', 'dropout_rate': 0.25, 'number_of_neurons': 60, 'second_layer': 30}\n"
     ]
    }
   ],
   "source": [
    "model = KerasClassifier(build_fn=create_model)\n",
    "activation = ['tanh']#, 'relu', 'elu']\n",
    "dropout_rate = [0.25]\n",
    "number_of_neurons = [60]\n",
    "second_layer = [30]\n",
    "param_grid = dict(activation=activation, dropout_rate=dropout_rate, \n",
    "                  number_of_neurons=number_of_neurons, second_layer=second_layer)\n",
    "\n",
    "scores_auc = GridSearchCV(model, param_grid, cv=cv, scoring=\"roc_auc\", fit_params={'epochs': 200,\n",
    "                                                                                   'verbose':0})\n",
    "scores_auc.fit(X_train, y_train)\n",
    "print(\"roc_auc\", scores_auc.best_score_,\"\\nparams = \", scores_auc.best_params_)"
   ]
  },
  {
   "cell_type": "code",
   "execution_count": 17,
   "metadata": {},
   "outputs": [
    {
     "name": "stdout",
     "output_type": "stream",
     "text": [
      "roc_auc 0.8498846020775845 \n",
      "params =  {'activation': 'elu', 'dropout_rate': 0.75, 'number_of_neurons': 20, 'second_layer': 10}\n"
     ]
    }
   ],
   "source": [
    "model = KerasClassifier(build_fn=create_model)\n",
    "activation = ['tanh', 'relu', 'elu']\n",
    "dropout_rate = [0.75]\n",
    "number_of_neurons = [20]\n",
    "second_layer = [10]\n",
    "param_grid = dict(activation=activation, dropout_rate=dropout_rate, \n",
    "                  number_of_neurons=number_of_neurons, second_layer=second_layer)\n",
    "scores_auc = GridSearchCV(model, param_grid, cv=cv, scoring=\"roc_auc\", fit_params={'epochs': 200,\n",
    "                                                                                   'verbose':0})\n",
    "scores_auc.fit(X_train, y_train)\n",
    "print(\"roc_auc\", scores_auc.best_score_,\"\\nparams = \", scores_auc.best_params_)"
   ]
  },
  {
   "cell_type": "code",
   "execution_count": 18,
   "metadata": {},
   "outputs": [
    {
     "data": {
      "image/png": "[encoded data removed]",
      "text/plain": [
       "<Figure size 432x288 with 1 Axes>"
      ]
     },
     "metadata": {
      "needs_background": "light"
     },
     "output_type": "display_data"
    }
   ],
   "source": [
    "from sklearn.metrics import roc_curve, auc\n",
    "\n",
    "probs = scores_auc.best_estimator_.predict_proba(X_test)\n",
    "preds = probs[:,1]\n",
    "fpr, tpr, threshold = roc_curve(y_test, preds)\n",
    "roc_auc = auc(fpr, tpr)\n",
    "\n",
    "# method I: plt\n",
    "import matplotlib.pyplot as plt\n",
    "plt.title('Receiver Operating Characteristic')\n",
    "plt.plot(fpr, tpr, 'b', label = 'AUC = %0.2f' % roc_auc)\n",
    "plt.legend(loc = 'lower right')\n",
    "plt.plot([0, 1], [0, 1],'r--')\n",
    "plt.xlim([0, 1])\n",
    "plt.ylim([0, 1])\n",
    "plt.ylabel('True Positive Rate')\n",
    "plt.xlabel('False Positive Rate')\n",
    "plt.show();"
   ]
  },
  {
   "cell_type": "code",
   "execution_count": 19,
   "metadata": {},
   "outputs": [
    {
     "data": {
      "text/plain": [
       "array([0.24825361, 0.46158272, 0.40898103, 0.4224319 , 0.6013888 ],\n",
       "      dtype=float32)"
      ]
     },
     "execution_count": 19,
     "metadata": {},
     "output_type": "execute_result"
    },
    {
     "data": {
      "image/png": "[encoded data removed]",
      "text/plain": [
       "<Figure size 432x288 with 1 Axes>"
      ]
     },
     "metadata": {
      "needs_background": "light"
     },
     "output_type": "display_data"
    }
   ],
   "source": [
    "plt.hist(preds[y_test==0], bins=30, color=\"b\", label=\"non PTSD\")\n",
    "plt.hist(preds[y_test==1], alpha=0.8, color=\"r\", label=\"PTSD\")\n",
    "plt.xlabel('pred probability')\n",
    "plt.legend();\n",
    "preds[y_test==1]"
   ]
  },
  {
   "cell_type": "code",
   "execution_count": 20,
   "metadata": {},
   "outputs": [
    {
     "name": "stdout",
     "output_type": "stream",
     "text": [
      "roc_auc 0.8215055736985561 \n",
      "params =  {'activation': 'tanh', 'dropout_rate': 0.75, 'number_of_neurons': 100, 'second_layer': 30}\n"
     ]
    }
   ],
   "source": [
    "model = KerasClassifier(build_fn=create_model)\n",
    "activation = ['tanh']#, 'relu', 'elu']\n",
    "dropout_rate = [0.75]\n",
    "number_of_neurons = [100]\n",
    "second_layer = [30]\n",
    "param_grid = dict(activation=activation, dropout_rate=dropout_rate, \n",
    "                  number_of_neurons=number_of_neurons, second_layer=second_layer)\n",
    "\n",
    "scores_auc = GridSearchCV(model, param_grid, cv=cv, scoring=\"roc_auc\", fit_params={'epochs': 200,\n",
    "                                                                                   'verbose':0})\n",
    "scores_auc.fit(X_train, y_train)\n",
    "print(\"roc_auc\", scores_auc.best_score_,\"\\nparams = \", scores_auc.best_params_)"
   ]
  },
  {
   "cell_type": "code",
   "execution_count": 21,
   "metadata": {},
   "outputs": [
    {
     "name": "stdout",
     "output_type": "stream",
     "text": [
      "roc_auc 0.8297859547859547 \n",
      "params =  {'activation': 'tanh', 'dropout_rate': 0.75, 'number_of_neurons': 80, 'second_layer': 30}\n"
     ]
    }
   ],
   "source": [
    "model = KerasClassifier(build_fn=create_model)\n",
    "activation = ['tanh']#, 'relu', 'elu']\n",
    "dropout_rate = [0.75]\n",
    "number_of_neurons = [80]\n",
    "second_layer = [30]\n",
    "param_grid = dict(activation=activation, dropout_rate=dropout_rate, \n",
    "                  number_of_neurons=number_of_neurons, second_layer=second_layer)\n",
    "\n",
    "scores_auc = GridSearchCV(model, param_grid, cv=cv, scoring=\"roc_auc\", fit_params={'epochs': 200,\n",
    "                                                                                   'verbose':0})\n",
    "scores_auc.fit(X_train, y_train)\n",
    "print(\"roc_auc\", scores_auc.best_score_,\"\\nparams = \", scores_auc.best_params_)"
   ]
  },
  {
   "cell_type": "code",
   "execution_count": 15,
   "metadata": {},
   "outputs": [
    {
     "name": "stdout",
     "output_type": "stream",
     "text": [
      "roc_auc 0.8037781743922096 \n",
      "params =  {'activation': 'tanh', 'dropout_rate': 0.25, 'number_of_neurons': 60, 'second_layer': 30}\n"
     ]
    }
   ],
   "source": [
    "model = KerasClassifier(build_fn=create_model)\n",
    "activation = ['tanh']#, 'relu', 'elu']\n",
    "dropout_rate = [0.25]\n",
    "number_of_neurons = [60]\n",
    "second_layer = [30]\n",
    "param_grid = dict(activation=activation, dropout_rate=dropout_rate, \n",
    "                  number_of_neurons=number_of_neurons, second_layer=second_layer)\n",
    "scores_auc = GridSearchCV(model, param_grid, cv=cv, scoring=\"roc_auc\", fit_params={'epochs': 200,\n",
    "                                                                                   'verbose':0})\n",
    "scores_auc.fit(X_train, y_train)\n",
    "print(\"roc_auc\", scores_auc.best_score_,\"\\nparams = \", scores_auc.best_params_)"
   ]
  },
  {
   "cell_type": "code",
   "execution_count": 16,
   "metadata": {},
   "outputs": [
    {
     "name": "stdout",
     "output_type": "stream",
     "text": [
      "roc_auc 0.8841685442562636 \n",
      "params =  {'activation': 'tanh', 'dropout_rate': 0.75, 'number_of_neurons': 40, 'second_layer': 30}\n"
     ]
    }
   ],
   "source": [
    "model = KerasClassifier(build_fn=create_model)\n",
    "activation = ['tanh']#, 'relu', 'elu']\n",
    "dropout_rate = [0.75]\n",
    "number_of_neurons = [40]\n",
    "second_layer = [30]\n",
    "param_grid = dict(activation=activation, dropout_rate=dropout_rate, \n",
    "                  number_of_neurons=number_of_neurons, second_layer=second_layer)\n",
    "\n",
    "scores_auc = GridSearchCV(model, param_grid, cv=cv, scoring=\"roc_auc\", fit_params={'epochs': 200,\n",
    "                                                                                   'verbose':0})\n",
    "scores_auc.fit(X_train, y_train)\n",
    "print(\"roc_auc\", scores_auc.best_score_,\"\\nparams = \", scores_auc.best_params_)"
   ]
  },
  {
   "cell_type": "code",
   "execution_count": 17,
   "metadata": {},
   "outputs": [
    {
     "name": "stdout",
     "output_type": "stream",
     "text": [
      "roc_auc 0.8593252913428352 \n",
      "params =  {'activation': 'tanh', 'dropout_rate': 0.75, 'number_of_neurons': 60, 'second_layer': 5}\n"
     ]
    }
   ],
   "source": [
    "model = KerasClassifier(build_fn=create_model)\n",
    "activation = ['tanh']#, 'relu', 'elu']\n",
    "dropout_rate = [0.75]\n",
    "number_of_neurons = [60]\n",
    "second_layer = [5]\n",
    "param_grid = dict(activation=activation, dropout_rate=dropout_rate, \n",
    "                  number_of_neurons=number_of_neurons, second_layer=second_layer)\n",
    "\n",
    "scores_auc = GridSearchCV(model, param_grid, cv=cv, scoring=\"roc_auc\", fit_params={'epochs': 200,\n",
    "                                                                                   'verbose':0})\n",
    "scores_auc.fit(X_train, y_train)\n",
    "print(\"roc_auc\", scores_auc.best_score_,\"\\nparams = \", scores_auc.best_params_)"
   ]
  },
  {
   "cell_type": "code",
   "execution_count": null,
   "metadata": {},
   "outputs": [
    {
     "name": "stdout",
     "output_type": "stream",
     "text": [
      "roc_auc 0.8546239335713021 \n",
      "params =  {'activation': 'tanh', 'dropout_rate': 0.75, 'number_of_neurons': 60, 'second_layer': 15}\n"
     ]
    }
   ],
   "source": [
    "model = KerasClassifier(build_fn=create_model)\n",
    "activation = ['tanh']#, 'relu', 'elu']\n",
    "dropout_rate = [0.75]\n",
    "number_of_neurons = [60]\n",
    "second_layer = [15]\n",
    "param_grid = dict(activation=activation, dropout_rate=dropout_rate, \n",
    "                  number_of_neurons=number_of_neurons, second_layer=second_layer)\n",
    "\n",
    "scores_auc = GridSearchCV(model, param_grid, cv=cv, scoring=\"roc_auc\", fit_params={'epochs': 200,\n",
    "                                                                                   'verbose':0})\n",
    "scores_auc.fit(X_train, y_train)\n",
    "print(\"roc_auc\", scores_auc.best_score_,\"\\nparams = \", scores_auc.best_params_)"
   ]
  },
  {
   "cell_type": "code",
   "execution_count": null,
   "metadata": {},
   "outputs": [
    {
     "name": "stdout",
     "output_type": "stream",
     "text": [
      "roc_auc 0.861695484502502 \n",
      "params =  {'activation': 'tanh', 'dropout_rate': 0.75, 'number_of_neurons': 60, 'second_layer': 25}\n"
     ]
    }
   ],
   "source": [
    "model = KerasClassifier(build_fn=create_model)\n",
    "activation = ['tanh']#, 'relu', 'elu']\n",
    "dropout_rate = [0.75]\n",
    "number_of_neurons = [60]\n",
    "second_layer = [25]\n",
    "param_grid = dict(activation=activation, dropout_rate=dropout_rate, \n",
    "                  number_of_neurons=number_of_neurons, second_layer=second_layer)\n",
    "\n",
    "scores_auc = GridSearchCV(model, param_grid, cv=cv, scoring=\"roc_auc\", fit_params={'epochs': 200,\n",
    "                                                                                   'verbose':0})\n",
    "scores_auc.fit(X_train, y_train)\n",
    "print(\"roc_auc\", scores_auc.best_score_,\"\\nparams = \", scores_auc.best_params_)"
   ]
  },
  {
   "cell_type": "code",
   "execution_count": 16,
   "metadata": {},
   "outputs": [
    {
     "name": "stdout",
     "output_type": "stream",
     "text": [
      "roc_auc 0.8451463254094833 \n",
      "params =  {'activation': 'tanh', 'dropout_rate': 0.75, 'number_of_neurons': 60, 'second_layer': 45}\n"
     ]
    }
   ],
   "source": [
    "model = KerasClassifier(build_fn=create_model)\n",
    "activation = ['tanh']#, 'relu', 'elu']\n",
    "dropout_rate = [0.75]\n",
    "number_of_neurons = [60]\n",
    "second_layer = [45]\n",
    "param_grid = dict(activation=activation, dropout_rate=dropout_rate, \n",
    "                  number_of_neurons=number_of_neurons, second_layer=second_layer)\n",
    "\n",
    "scores_auc = GridSearchCV(model, param_grid, cv=cv, scoring=\"roc_auc\", fit_params={'epochs': 200,\n",
    "                                                                                   'verbose':0})\n",
    "scores_auc.fit(X_train, y_train)\n",
    "print(\"roc_auc\", scores_auc.best_score_,\"\\nparams = \", scores_auc.best_params_)"
   ]
  },
  {
   "cell_type": "code",
   "execution_count": 17,
   "metadata": {},
   "outputs": [
    {
     "name": "stdout",
     "output_type": "stream",
     "text": [
      "roc_auc 0.8321666962017839 \n",
      "params =  {'activation': 'tanh', 'dropout_rate': 0.9, 'number_of_neurons': 60, 'second_layer': 5}\n"
     ]
    }
   ],
   "source": [
    "model = KerasClassifier(build_fn=create_model)\n",
    "activation = ['tanh']#, 'relu', 'elu']\n",
    "dropout_rate = [0.9]\n",
    "number_of_neurons = [60]\n",
    "second_layer = [5]\n",
    "param_grid = dict(activation=activation, dropout_rate=dropout_rate, \n",
    "                  number_of_neurons=number_of_neurons, second_layer=second_layer)\n",
    "\n",
    "scores_auc = GridSearchCV(model, param_grid, cv=cv, scoring=\"roc_auc\", fit_params={'epochs': 200,\n",
    "                                                                                   'verbose':0})\n",
    "scores_auc.fit(X_train, y_train)\n",
    "print(\"roc_auc\", scores_auc.best_score_,\"\\nparams = \", scores_auc.best_params_)"
   ]
  },
  {
   "cell_type": "code",
   "execution_count": 18,
   "metadata": {},
   "outputs": [
    {
     "name": "stdout",
     "output_type": "stream",
     "text": [
      "roc_auc 0.8333333333333333 \n",
      "params =  {'activation': 'tanh', 'dropout_rate': 0.75, 'number_of_neurons': 30, 'second_layer': 5}\n"
     ]
    }
   ],
   "source": [
    "model = KerasClassifier(build_fn=create_model)\n",
    "activation = ['tanh']#, 'relu', 'elu']\n",
    "dropout_rate = [0.75]\n",
    "number_of_neurons = [30]\n",
    "second_layer = [5]\n",
    "param_grid = dict(activation=activation, dropout_rate=dropout_rate, \n",
    "                  number_of_neurons=number_of_neurons, second_layer=second_layer)\n",
    "\n",
    "scores_auc = GridSearchCV(model, param_grid, cv=cv, scoring=\"roc_auc\", fit_params={'epochs': 200,\n",
    "                                                                                   'verbose':0})\n",
    "scores_auc.fit(X_train, y_train)\n",
    "print(\"roc_auc\", scores_auc.best_score_,\"\\nparams = \", scores_auc.best_params_)"
   ]
  },
  {
   "cell_type": "code",
   "execution_count": 19,
   "metadata": {},
   "outputs": [
    {
     "name": "stdout",
     "output_type": "stream",
     "text": [
      "roc_auc 0.8557937351797001 \n",
      "params =  {'activation': 'tanh', 'dropout_rate': 0.75, 'number_of_neurons': 15, 'second_layer': 5}\n"
     ]
    }
   ],
   "source": [
    "model = KerasClassifier(build_fn=create_model)\n",
    "activation = ['tanh']#, 'relu', 'elu']\n",
    "dropout_rate = [0.75]\n",
    "number_of_neurons = [15]\n",
    "second_layer = [5]\n",
    "param_grid = dict(activation=activation, dropout_rate=dropout_rate, \n",
    "                  number_of_neurons=number_of_neurons, second_layer=second_layer)\n",
    "\n",
    "scores_auc = GridSearchCV(model, param_grid, cv=cv, scoring=\"roc_auc\", fit_params={'epochs': 200,\n",
    "                                                                                   'verbose':0})\n",
    "scores_auc.fit(X_train, y_train)\n",
    "print(\"roc_auc\", scores_auc.best_score_,\"\\nparams = \", scores_auc.best_params_)"
   ]
  },
  {
   "cell_type": "code",
   "execution_count": 20,
   "metadata": {},
   "outputs": [
    {
     "name": "stdout",
     "output_type": "stream",
     "text": [
      "roc_auc 0.8581491607807398 \n",
      "params =  {'activation': 'tanh', 'dropout_rate': 0.75, 'number_of_neurons': 90, 'second_layer': 5}\n"
     ]
    }
   ],
   "source": [
    "model = KerasClassifier(build_fn=create_model)\n",
    "activation = ['tanh']#, 'relu', 'elu']\n",
    "dropout_rate = [0.75]\n",
    "number_of_neurons = [90]\n",
    "second_layer = [5]\n",
    "param_grid = dict(activation=activation, dropout_rate=dropout_rate, \n",
    "                  number_of_neurons=number_of_neurons, second_layer=second_layer)\n",
    "\n",
    "scores_auc = GridSearchCV(model, param_grid, cv=cv, scoring=\"roc_auc\", fit_params={'epochs': 200,\n",
    "                                                                                   'verbose':0})\n",
    "scores_auc.fit(X_train, y_train)\n",
    "print(\"roc_auc\", scores_auc.best_score_,\"\\nparams = \", scores_auc.best_params_)"
   ]
  },
  {
   "cell_type": "code",
   "execution_count": 18,
   "metadata": {},
   "outputs": [
    {
     "name": "stdout",
     "output_type": "stream",
     "text": [
      "roc_auc 0.7955157253402868 \n",
      "params =  {'activation': 'tanh', 'dropout_rate': 0.5, 'number_of_neurons': 90, 'second_layer': 5}\n"
     ]
    }
   ],
   "source": [
    "model = KerasClassifier(build_fn=create_model)\n",
    "activation = ['tanh']#, 'relu', 'elu']\n",
    "dropout_rate = [0.5]\n",
    "number_of_neurons = [90]\n",
    "second_layer = [5]\n",
    "param_grid = dict(activation=activation, dropout_rate=dropout_rate, \n",
    "                  number_of_neurons=number_of_neurons, second_layer=second_layer)\n",
    "\n",
    "scores_auc = GridSearchCV(model, param_grid, cv=cv, scoring=\"roc_auc\", fit_params={'epochs': 200,\n",
    "                                                                                   'verbose':0})\n",
    "scores_auc.fit(X_train, y_train)\n",
    "print(\"roc_auc\", scores_auc.best_score_,\"\\nparams = \", scores_auc.best_params_)"
   ]
  },
  {
   "cell_type": "code",
   "execution_count": null,
   "metadata": {},
   "outputs": [
    {
     "name": "stdout",
     "output_type": "stream",
     "text": [
      "roc_auc 0.8374919833253167 \n",
      "params =  {'activation': 'relu', 'dropout_rate': 0.75, 'number_of_neurons': 90, 'second_layer': 5}\n"
     ]
    }
   ],
   "source": [
    "model = KerasClassifier(build_fn=create_model)\n",
    "activation = ['relu']#, 'relu', 'elu']\n",
    "dropout_rate = [0.75]\n",
    "number_of_neurons = [90]\n",
    "second_layer = [5]\n",
    "param_grid = dict(activation=activation, dropout_rate=dropout_rate, \n",
    "                  number_of_neurons=number_of_neurons, second_layer=second_layer)\n",
    "\n",
    "scores_auc = GridSearchCV(model, param_grid, cv=cv, scoring=\"roc_auc\", fit_params={'epochs': 200,\n",
    "                                                                                   'verbose':0})\n",
    "scores_auc.fit(X_train, y_train)\n",
    "print(\"roc_auc\", scores_auc.best_score_,\"\\nparams = \", scores_auc.best_params_)"
   ]
  },
  {
   "cell_type": "code",
   "execution_count": null,
   "metadata": {},
   "outputs": [
    {
     "name": "stdout",
     "output_type": "stream",
     "text": [
      "roc_auc 0.8711519961519961 \n",
      "params =  {'activation': 'elu', 'dropout_rate': 0.75, 'number_of_neurons': 90, 'second_layer': 5}\n"
     ]
    }
   ],
   "source": [
    "model = KerasClassifier(build_fn=create_model)\n",
    "activation = ['elu']#, 'relu', 'elu']\n",
    "dropout_rate = [0.75]\n",
    "number_of_neurons = [90]\n",
    "second_layer = [5]\n",
    "param_grid = dict(activation=activation, dropout_rate=dropout_rate, \n",
    "                  number_of_neurons=number_of_neurons, second_layer=second_layer)\n",
    "\n",
    "scores_auc = GridSearchCV(model, param_grid, cv=cv, scoring=\"roc_auc\", fit_params={'epochs': 200,\n",
    "                                                                                   'verbose':0})\n",
    "scores_auc.fit(X_train, y_train)\n",
    "print(\"roc_auc\", scores_auc.best_score_,\"\\nparams = \", scores_auc.best_params_)"
   ]
  },
  {
   "cell_type": "code",
   "execution_count": 20,
   "metadata": {},
   "outputs": [
    {
     "name": "stdout",
     "output_type": "stream",
     "text": [
      "roc_auc 0.832148764166308 \n",
      "params =  {'activation': 'sigmoid', 'dropout_rate': 0.75, 'number_of_neurons': 90, 'second_layer': 5}\n"
     ]
    }
   ],
   "source": [
    "model = KerasClassifier(build_fn=create_model)\n",
    "activation = ['sigmoid']#, 'relu', 'elu']\n",
    "dropout_rate = [0.75]\n",
    "number_of_neurons = [90]\n",
    "second_layer = [5]\n",
    "param_grid = dict(activation=activation, dropout_rate=dropout_rate, \n",
    "                  number_of_neurons=number_of_neurons, second_layer=second_layer)\n",
    "\n",
    "scores_auc = GridSearchCV(model, param_grid, cv=cv, scoring=\"roc_auc\", fit_params={'epochs': 200,\n",
    "                                                                                   'verbose':0})\n",
    "scores_auc.fit(X_train, y_train)\n",
    "print(\"roc_auc\", scores_auc.best_score_,\"\\nparams = \", scores_auc.best_params_)"
   ]
  },
  {
   "cell_type": "code",
   "execution_count": 21,
   "metadata": {},
   "outputs": [
    {
     "name": "stdout",
     "output_type": "stream",
     "text": [
      "roc_auc 0.8215213960827995 \n",
      "params =  {'activation': 'elu', 'dropout_rate': 0.75, 'number_of_neurons': 90, 'second_layer': 5}\n"
     ]
    }
   ],
   "source": [
    "model = KerasClassifier(build_fn=create_model)\n",
    "activation = ['elu']#, 'relu', 'elu']\n",
    "dropout_rate = [0.75]\n",
    "number_of_neurons = [90]\n",
    "second_layer = [5]\n",
    "param_grid = dict(activation=activation, dropout_rate=dropout_rate, \n",
    "                  number_of_neurons=number_of_neurons, second_layer=second_layer)\n",
    "\n",
    "scores_auc = GridSearchCV(model, param_grid, cv=cv, scoring=\"roc_auc\", fit_params={'epochs': 200,\n",
    "                                                                                   'verbose':0})\n",
    "scores_auc.fit(X_train, y_train)\n",
    "print(\"roc_auc\", scores_auc.best_score_,\"\\nparams = \", scores_auc.best_params_)"
   ]
  },
  {
   "cell_type": "code",
   "execution_count": 16,
   "metadata": {},
   "outputs": [
    {
     "name": "stdout",
     "output_type": "stream",
     "text": [
      "roc_auc 0.8274347484873802 \n",
      "params =  {'activation': 'tanh', 'dropout_rate': 0.75, 'number_of_neurons': 190, 'second_layer': 5}\n"
     ]
    }
   ],
   "source": [
    "model = KerasClassifier(build_fn=create_model)\n",
    "activation = ['tanh']#, 'relu', 'elu']\n",
    "dropout_rate = [0.75]\n",
    "number_of_neurons = [190]\n",
    "second_layer = [5]\n",
    "param_grid = dict(activation=activation, dropout_rate=dropout_rate, \n",
    "                  number_of_neurons=number_of_neurons, second_layer=second_layer)\n",
    "\n",
    "scores_auc = GridSearchCV(model, param_grid, cv=cv, scoring=\"roc_auc\", fit_params={'epochs': 200,\n",
    "                                                                                   'verbose':0})\n",
    "scores_auc.fit(X_train, y_train)\n",
    "print(\"roc_auc\", scores_auc.best_score_,\"\\nparams = \", scores_auc.best_params_)"
   ]
  },
  {
   "cell_type": "code",
   "execution_count": 17,
   "metadata": {},
   "outputs": [
    {
     "name": "stdout",
     "output_type": "stream",
     "text": [
      "roc_auc 0.865263959562205 \n",
      "params =  {'activation': 'tanh', 'dropout_rate': 0.75, 'number_of_neurons': 90, 'second_layer': 2}\n"
     ]
    }
   ],
   "source": [
    "model = KerasClassifier(build_fn=create_model)\n",
    "activation = ['tanh']#, 'relu', 'elu']\n",
    "dropout_rate = [0.75]\n",
    "number_of_neurons = [90]\n",
    "second_layer = [2]\n",
    "param_grid = dict(activation=activation, dropout_rate=dropout_rate, \n",
    "                  number_of_neurons=number_of_neurons, second_layer=second_layer)\n",
    "\n",
    "scores_auc = GridSearchCV(model, param_grid, cv=cv, scoring=\"roc_auc\", fit_params={'epochs': 200,\n",
    "                                                                                   'verbose':0})\n",
    "scores_auc.fit(X_train, y_train)\n",
    "print(\"roc_auc\", scores_auc.best_score_,\"\\nparams = \", scores_auc.best_params_)"
   ]
  },
  {
   "cell_type": "code",
   "execution_count": 18,
   "metadata": {},
   "outputs": [
    {
     "name": "stdout",
     "output_type": "stream",
     "text": [
      "roc_auc 0.846355155565682 \n",
      "params =  {'activation': 'tanh', 'dropout_rate': 0.75, 'number_of_neurons': 90, 'second_layer': 5}\n"
     ]
    }
   ],
   "source": [
    "model = KerasClassifier(build_fn=create_model)\n",
    "activation = ['tanh']#, 'relu', 'elu']\n",
    "dropout_rate = [0.75]\n",
    "number_of_neurons = [90]\n",
    "second_layer = [5]\n",
    "param_grid = dict(activation=activation, dropout_rate=dropout_rate, \n",
    "                  number_of_neurons=number_of_neurons, second_layer=second_layer)\n",
    "\n",
    "scores_auc = GridSearchCV(model, param_grid, cv=cv, scoring=\"roc_auc\", fit_params={'epochs': 200,\n",
    "                                                                                   'verbose':0})\n",
    "scores_auc.fit(X_train, y_train)\n",
    "print(\"roc_auc\", scores_auc.best_score_,\"\\nparams = \", scores_auc.best_params_)"
   ]
  },
  {
   "cell_type": "code",
   "execution_count": 19,
   "metadata": {},
   "outputs": [
    {
     "name": "stdout",
     "output_type": "stream",
     "text": [
      "roc_auc 0.8782467532467533 \n",
      "params =  {'activation': 'tanh', 'dropout_rate': 0.75, 'number_of_neurons': 150, 'second_layer': 10}\n"
     ]
    }
   ],
   "source": [
    "model = KerasClassifier(build_fn=create_model)\n",
    "activation = ['tanh']#, 'relu', 'elu']\n",
    "dropout_rate = [0.75]\n",
    "number_of_neurons = [150]\n",
    "second_layer = [10]\n",
    "param_grid = dict(activation=activation, dropout_rate=dropout_rate, \n",
    "                  number_of_neurons=number_of_neurons, second_layer=second_layer)\n",
    "\n",
    "scores_auc = GridSearchCV(model, param_grid, cv=cv, scoring=\"roc_auc\", fit_params={'epochs': 300,\n",
    "                                                                                   'verbose':0})\n",
    "scores_auc.fit(X_train, y_train)\n",
    "print(\"roc_auc\", scores_auc.best_score_,\"\\nparams = \", scores_auc.best_params_)"
   ]
  },
  {
   "cell_type": "code",
   "execution_count": 20,
   "metadata": {},
   "outputs": [
    {
     "name": "stdout",
     "output_type": "stream",
     "text": [
      "roc_auc 0.8333259495540198 \n",
      "params =  {'activation': 'tanh', 'dropout_rate': 0.7, 'number_of_neurons': 90, 'second_layer': 5}\n"
     ]
    }
   ],
   "source": [
    "model = KerasClassifier(build_fn=create_model)\n",
    "activation = ['tanh']#, 'relu', 'elu']\n",
    "dropout_rate = [0.7]\n",
    "number_of_neurons = [90]\n",
    "second_layer = [5]\n",
    "param_grid = dict(activation=activation, dropout_rate=dropout_rate, \n",
    "                  number_of_neurons=number_of_neurons, second_layer=second_layer)\n",
    "\n",
    "scores_auc = GridSearchCV(model, param_grid, cv=cv, scoring=\"roc_auc\", fit_params={'epochs': 200,\n",
    "                                                                                   'verbose':0})\n",
    "scores_auc.fit(X_train, y_train)\n",
    "print(\"roc_auc\", scores_auc.best_score_,\"\\nparams = \", scores_auc.best_params_)"
   ]
  },
  {
   "cell_type": "code",
   "execution_count": 16,
   "metadata": {},
   "outputs": [
    {
     "name": "stdout",
     "output_type": "stream",
     "text": [
      "roc_auc 0.8593421685526949 \n",
      "params =  {'activation': 'tanh', 'dropout_rate': 0.75, 'number_of_neurons': 90, 'second_layer': 10}\n"
     ]
    }
   ],
   "source": [
    "model = KerasClassifier(build_fn=create_model)\n",
    "activation = ['tanh']#, 'relu', 'elu']\n",
    "dropout_rate = [0.75]\n",
    "number_of_neurons = [90]\n",
    "second_layer = [10]\n",
    "param_grid = dict(activation=activation, dropout_rate=dropout_rate, \n",
    "                  number_of_neurons=number_of_neurons, second_layer=second_layer)\n",
    "\n",
    "scores_auc = GridSearchCV(model, param_grid, cv=cv, scoring=\"roc_auc\", fit_params={'epochs': 200,\n",
    "                                                                                   'verbose':0})\n",
    "scores_auc.fit(X_train, y_train)\n",
    "print(\"roc_auc\", scores_auc.best_score_,\"\\nparams = \", scores_auc.best_params_)"
   ]
  },
  {
   "cell_type": "code",
   "execution_count": 17,
   "metadata": {},
   "outputs": [
    {
     "name": "stdout",
     "output_type": "stream",
     "text": [
      "roc_auc 0.8487063618642566 \n",
      "params =  {'activation': 'tanh', 'dropout_rate': 0.75, 'number_of_neurons': 90, 'second_layer': 5}\n"
     ]
    }
   ],
   "source": [
    "model = KerasClassifier(build_fn=create_model)\n",
    "activation = ['tanh']#, 'relu', 'elu']\n",
    "dropout_rate = [0.75]\n",
    "number_of_neurons = [90]\n",
    "second_layer = [5]\n",
    "param_grid = dict(activation=activation, dropout_rate=dropout_rate, \n",
    "                  number_of_neurons=number_of_neurons, second_layer=second_layer)\n",
    "\n",
    "scores_auc = GridSearchCV(model, param_grid, cv=cv, scoring=\"roc_auc\", fit_params={'epochs': 300,\n",
    "                                                                                   'verbose':0})\n",
    "scores_auc.fit(X_train, y_train)\n",
    "print(\"roc_auc\", scores_auc.best_score_,\"\\nparams = \", scores_auc.best_params_)"
   ]
  },
  {
   "cell_type": "code",
   "execution_count": 18,
   "metadata": {},
   "outputs": [
    {
     "name": "stdout",
     "output_type": "stream",
     "text": [
      "roc_auc 0.8605288473709526 \n",
      "params =  {'activation': 'tanh', 'dropout_rate': 0.75, 'number_of_neurons': 150, 'second_layer': 5}\n"
     ]
    }
   ],
   "source": [
    "model = KerasClassifier(build_fn=create_model)\n",
    "activation = ['tanh']#, 'relu', 'elu']\n",
    "dropout_rate = [0.75]\n",
    "number_of_neurons = [150]\n",
    "second_layer = [5]\n",
    "param_grid = dict(activation=activation, dropout_rate=dropout_rate, \n",
    "                  number_of_neurons=number_of_neurons, second_layer=second_layer)\n",
    "\n",
    "scores_auc = GridSearchCV(model, param_grid, cv=cv, scoring=\"roc_auc\", fit_params={'epochs': 200,\n",
    "                                                                                   'verbose':0})\n",
    "scores_auc.fit(X_train, y_train)\n",
    "print(\"roc_auc\", scores_auc.best_score_,\"\\nparams = \", scores_auc.best_params_)"
   ]
  },
  {
   "cell_type": "code",
   "execution_count": 19,
   "metadata": {},
   "outputs": [
    {
     "name": "stdout",
     "output_type": "stream",
     "text": [
      "roc_auc 0.8475217926972314 \n",
      "params =  {'activation': 'tanh', 'dropout_rate': 0.75, 'number_of_neurons': 150, 'second_layer': 5}\n"
     ]
    }
   ],
   "source": [
    "model = KerasClassifier(build_fn=create_model)\n",
    "activation = ['tanh']#, 'relu', 'elu']\n",
    "dropout_rate = [0.75]\n",
    "number_of_neurons = [150]\n",
    "second_layer = [5]\n",
    "param_grid = dict(activation=activation, dropout_rate=dropout_rate, \n",
    "                  number_of_neurons=number_of_neurons, second_layer=second_layer)\n",
    "\n",
    "scores_auc = GridSearchCV(model, param_grid, cv=cv, scoring=\"roc_auc\", fit_params={'epochs': 200,\n",
    "                                                                                   'verbose':0})\n",
    "scores_auc.fit(X_train, y_train)\n",
    "print(\"roc_auc\", scores_auc.best_score_,\"\\nparams = \", scores_auc.best_params_)"
   ]
  },
  {
   "cell_type": "code",
   "execution_count": 20,
   "metadata": {},
   "outputs": [
    {
     "name": "stdout",
     "output_type": "stream",
     "text": [
      "roc_auc 0.7836668691931851 \n",
      "params =  {'activation': 'tanh', 'dropout_rate': 0.5, 'number_of_neurons': 60, 'second_layer': 5}\n"
     ]
    }
   ],
   "source": [
    "model = KerasClassifier(build_fn=create_model)\n",
    "activation = ['tanh']#, 'relu', 'elu']\n",
    "dropout_rate = [0.5]\n",
    "number_of_neurons = [60]\n",
    "second_layer = [5]\n",
    "param_grid = dict(activation=activation, dropout_rate=dropout_rate, \n",
    "                  number_of_neurons=number_of_neurons, second_layer=second_layer)\n",
    "\n",
    "scores_auc = GridSearchCV(model, param_grid, cv=cv, scoring=\"roc_auc\", fit_params={'epochs': 200,\n",
    "                                                                                   'verbose':0})\n",
    "scores_auc.fit(X_train, y_train)\n",
    "print(\"roc_auc\", scores_auc.best_score_,\"\\nparams = \", scores_auc.best_params_)"
   ]
  },
  {
   "cell_type": "markdown",
   "metadata": {},
   "source": [
    "## CV model of roc auc "
   ]
  },
  {
   "cell_type": "code",
   "execution_count": null,
   "metadata": {},
   "outputs": [],
   "source": []
  },
  {
   "cell_type": "code",
   "execution_count": null,
   "metadata": {},
   "outputs": [],
   "source": [
    "my_callbacks = [EarlyStopping(monitor='roc_auc', patience=30, verbose=1, mode='max')]"
   ]
  },
  {
   "cell_type": "code",
   "execution_count": null,
   "metadata": {},
   "outputs": [],
   "source": [
    "scores_auc = GridSearchCV(model, param_grid, cv=cv, scoring=\"roc_auc\", fit_params={'epochs': 300,\n",
    "                                                                                   'verbose':0,\n",
    "                                                                                  'validation_split' :0.2,\n",
    "                                                                                   'callbacks':my_callbacks})\n",
    "scores_auc.fit(X_train, y_train)\n",
    "print(\"roc_auc\", scores_auc.best_score_,\"\\nparams = \", scores_auc.best_params_)"
   ]
  },
  {
   "cell_type": "code",
   "execution_count": null,
   "metadata": {},
   "outputs": [],
   "source": [
    "my_callbacks = [EarlyStopping(monitor='roc_auc', patience=3, verbose=1, mode='max')]\n",
    "scores_auc = GridSearchCV(model, param_grid, cv=cv, scoring=\"roc_auc\", fit_params={'epochs': 300,\n",
    "                                                                                   'verbose':0,\n",
    "                                                                                  'validation_split' :0.1,\n",
    "                                                                                   'callbacks':my_callbacks})\n",
    "scores_auc.fit(X_train, y_train)\n",
    "print(\"roc_auc\", scores_auc.best_score_,\"\\nparams = \", scores_auc.best_params_)"
   ]
  },
  {
   "cell_type": "code",
   "execution_count": null,
   "metadata": {},
   "outputs": [],
   "source": [
    "my_callbacks = [EarlyStopping(monitor='roc_auc', patience=5, verbose=1)]#, mode='max')]\n",
    "scores_auc = GridSearchCV(model, param_grid, cv=cv, scoring=\"roc_auc\", fit_params={'epochs': 300,\n",
    "                                                                                   'verbose':0,\n",
    "                                                                                  'validation_split' :0.2,\n",
    "                                                                                   'callbacks':my_callbacks})\n",
    "scores_auc.fit(X_train, y_train)\n",
    "print(\"roc_auc\", scores_auc.best_score_,\"\\nparams = \", scores_auc.best_params_)"
   ]
  },
  {
   "cell_type": "code",
   "execution_count": null,
   "metadata": {},
   "outputs": [],
   "source": [
    "my_callbacks = [EarlyStopping(monitor='roc_auc', patience=25, verbose=1)]#, mode='max')]\n",
    "scores_auc = GridSearchCV(model, param_grid, cv=cv, scoring=\"roc_auc\", fit_params={'epochs': 500,\n",
    "                                                                                   'verbose':0,\n",
    "                                                                                  'validation_split' :0.15,\n",
    "                                                                                   'callbacks':my_callbacks})\n",
    "scores_auc.fit(X_train, y_train)\n",
    "print(\"roc_auc\", scores_auc.best_score_,\"\\nparams = \", scores_auc.best_params_)"
   ]
  },
  {
   "cell_type": "code",
   "execution_count": null,
   "metadata": {},
   "outputs": [],
   "source": [
    "my_callbacks = [EarlyStopping(monitor='roc_auc', patience=100, verbose=1, mode=\"max\")]#, mode='max')]\n",
    "scores_auc = GridSearchCV(model, param_grid, cv=cv, scoring=\"roc_auc\", fit_params={'epochs': 1000,\n",
    "                                                                                   'verbose':0,\n",
    "                                                                                  'validation_split' :0.15,\n",
    "                                                                                   'callbacks':my_callbacks})\n",
    "scores_auc.fit(X_train, y_train)\n",
    "print(\"roc_auc\", scores_auc.best_score_,\"\\nparams = \", scores_auc.best_params_)"
   ]
  },
  {
   "cell_type": "code",
   "execution_count": null,
   "metadata": {},
   "outputs": [],
   "source": [
    "scores_auc = GridSearchCV(model, param_grid, cv=cv, scoring=\"roc_auc\", fit_params={'epochs': 300,\n",
    "                                                                                   'verbose':0})\n",
    "scores_auc.fit(X_train, y_train)\n",
    "print(\"roc_auc\", scores_auc.best_score_,\"\\nparams = \", scores_auc.best_params_)"
   ]
  },
  {
   "cell_type": "code",
   "execution_count": null,
   "metadata": {},
   "outputs": [],
   "source": [
    "scores_auc = GridSearchCV(model, param_grid, cv=cv, scoring=\"roc_auc\", fit_params={'epochs': 1000,\n",
    "                                                                                   'verbose':0,\n",
    "                                                                                  'callbacks': [EarlyStopping(monitor='loss', patience=30, verbose=0)]})\n",
    "scores_auc.fit(X_train, y_train)\n",
    "print(\"roc_auc\", scores_auc.best_score_,\"\\nparams = \", scores_auc.best_params_)"
   ]
  },
  {
   "cell_type": "code",
   "execution_count": null,
   "metadata": {},
   "outputs": [],
   "source": [
    "scores_auc = GridSearchCV(model, param_grid, cv=cv, scoring=\"roc_auc\", fit_params={'epochs': 500,\n",
    "                                                                                   'verbose':0,\n",
    "                                                                                  'callbacks': [EarlyStopping(monitor='loss', patience=30, verbose=0)]})\n",
    "scores_auc.fit(X_train, y_train)\n",
    "print(\"roc_auc\", scores_auc.best_score_,\"\\nparams = \", scores_auc.best_params_)"
   ]
  },
  {
   "cell_type": "code",
   "execution_count": null,
   "metadata": {},
   "outputs": [],
   "source": [
    "scores_auc = GridSearchCV(model, param_grid, cv=cv, scoring=\"roc_auc\", fit_params={'epochs': 500,\n",
    "                                                                                   'verbose':0,\n",
    "                                                                                  'callbacks': [EarlyStopping(monitor='loss', patience=10, verbose=0)]})\n",
    "scores_auc.fit(X_train, y_train)\n",
    "print(\"roc_auc\", scores_auc.best_score_,\"\\nparams = \", scores_auc.best_params_)"
   ]
  },
  {
   "cell_type": "code",
   "execution_count": null,
   "metadata": {},
   "outputs": [],
   "source": [
    "scores_auc = GridSearchCV(model, param_grid, cv=cv, scoring=\"roc_auc\", fit_params={'epochs': 300,\n",
    "                                                                                   'verbose':0,\n",
    "                                                                                  'callbacks': [EarlyStopping(monitor='loss', patience=10, verbose=0)]})\n",
    "scores_auc.fit(X_train, y_train)\n",
    "print(\"roc_auc\", scores_auc.best_score_,\"\\nparams = \", scores_auc.best_params_)"
   ]
  },
  {
   "cell_type": "code",
   "execution_count": null,
   "metadata": {},
   "outputs": [],
   "source": [
    "scores_auc = GridSearchCV(model, param_grid, cv=cv, scoring=\"roc_auc\", fit_params={'epochs': 300,\n",
    "                                                                                   'verbose':0,\n",
    "                                                                                  'callbacks': [EarlyStopping(monitor='loss', patience=50, verbose=0)]})\n",
    "scores_auc.fit(X_train, y_train)\n",
    "print(\"roc_auc\", scores_auc.best_score_,\"\\nparams = \", scores_auc.best_params_)"
   ]
  },
  {
   "cell_type": "code",
   "execution_count": null,
   "metadata": {},
   "outputs": [],
   "source": [
    "scores_auc = GridSearchCV(model, param_grid, cv=cv, scoring=\"roc_auc\", fit_params={'epochs': 200,\n",
    "                                                                                   'verbose':0})\n",
    "scores_auc.fit(X_train, y_train)\n",
    "print(\"roc_auc\", scores_auc.best_score_,\"\\nparams = \", scores_auc.best_params_)"
   ]
  },
  {
   "cell_type": "markdown",
   "metadata": {},
   "source": [
    "## CV model of precision"
   ]
  },
  {
   "cell_type": "code",
   "execution_count": null,
   "metadata": {},
   "outputs": [],
   "source": [
    "scores_f1 = GridSearchCV(model, param_grid, cv=cv, scoring=\"f1\", fit_params={'callbacks':\n",
    "                                                                             #[EarlyStopping(monitor='loss',patience=300,verbose=0)],\n",
    "                                                                            EarlyStopping(monitor='loss',patience=100,verbose=0),\n",
    "                                                                       #     EarlyStopping(monitor='loss',patience=20,verbose=0)]\n",
    "                                                                             'verbose':[0]})\n",
    "scores_f1.fit(X_train, y_train)\n",
    "#scores = cross_val_score(model, X_train, y_train, scoring=\"roc_auc\", cv=cv)\n",
    "print(\"f1\", scores_f1.best_score_,\"\\nparams = \", scores_f1.best_params_)"
   ]
  },
  {
   "cell_type": "markdown",
   "metadata": {},
   "source": [
    "## CV model of f1"
   ]
  },
  {
   "cell_type": "code",
   "execution_count": null,
   "metadata": {},
   "outputs": [],
   "source": [
    "scores = cross_val_score(scores_auc.best_estimator_, X_train, y_train, scoring=\"precision\", cv=cv)\n",
    "print(\"precision\\n\", scores,\"\\nmean = \", scores.mean())\n",
    "\n",
    "scores = cross_val_score(scores_f1.best_estimator_, X_train, y_train, scoring=\"precision\", cv=cv)\n",
    "print(\"precision\\n\", scores,\"\\nmean = \", scores.mean())"
   ]
  },
  {
   "cell_type": "markdown",
   "metadata": {},
   "source": [
    "## predict holdout set"
   ]
  },
  {
   "cell_type": "code",
   "execution_count": null,
   "metadata": {},
   "outputs": [],
   "source": [
    "y_pred1 = scores_f1.best_estimator_.predict_proba(X_test)\n",
    "y_pred2 = scores_auc.best_estimator_.predict_proba(X_test)\n",
    "y_pred = y_pred1[:, 1]>0.25\n",
    "print(\"f1 precision_score =\", precision_score(y_test, y_pred), \"from \", sum(y_pred))\n",
    "y_pred = y_pred2[:, 1]>0.25\n",
    "print(\"auc precision_score =\", precision_score(y_test, y_pred), \"from \", sum(y_pred))\n"
   ]
  },
  {
   "cell_type": "code",
   "execution_count": null,
   "metadata": {},
   "outputs": [],
   "source": [
    "y_pred = y_pred1[:, 1]>0.15\n",
    "print(\"f1 precision_score =\", precision_score(y_test, y_pred), \"from \", sum(y_pred))\n",
    "y_pred = y_pred2[:, 1]>0.15\n",
    "print(\"auc precision_score =\", precision_score(y_test, y_pred), \"from \", sum(y_pred))\n"
   ]
  },
  {
   "cell_type": "code",
   "execution_count": null,
   "metadata": {},
   "outputs": [],
   "source": [
    "y_pred = y_pred1[:, 1]>0.6\n",
    "print(\"f1 precision_score =\", precision_score(y_test, y_pred), \"from \", sum(y_pred))\n",
    "y_pred = y_pred2[:, 1]>0.6\n",
    "print(\"auc precision_score =\", precision_score(y_test, y_pred), \"from \", sum(y_pred))\n"
   ]
  },
  {
   "cell_type": "code",
   "execution_count": null,
   "metadata": {},
   "outputs": [],
   "source": [
    "y_pred = y_pred1[:, 1]>0.5\n",
    "print(\"f1 precision_score =\", precision_score(y_test, y_pred), \"from \", sum(y_pred))\n",
    "y_pred = y_pred2[:, 1]>1e-08\n",
    "print(\"auc precision_score =\", precision_score(y_test, y_pred), \"from \", sum(y_pred))\n"
   ]
  },
  {
   "cell_type": "code",
   "execution_count": null,
   "metadata": {},
   "outputs": [],
   "source": [
    "max(y_pred2[:,1])"
   ]
  },
  {
   "cell_type": "code",
   "execution_count": null,
   "metadata": {},
   "outputs": [],
   "source": []
  }
 ],
 "metadata": {
  "kernelspec": {
   "display_name": "Python 3",
   "language": "python",
   "name": "python3"
  },
  "language_info": {
   "codemirror_mode": {
    "name": "ipython",
    "version": 3
   },
   "file_extension": ".py",
   "mimetype": "text/x-python",
   "name": "python",
   "nbconvert_exporter": "python",
   "pygments_lexer": "ipython3",
   "version": "3.6.8"
  }
 },
 "nbformat": 4,
 "nbformat_minor": 2
}
