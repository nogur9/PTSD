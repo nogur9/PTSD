{
 "cells": [
  {
   "cell_type": "code",
   "execution_count": 1,
   "metadata": {},
   "outputs": [
    {
     "name": "stderr",
     "output_type": "stream",
     "text": [
      "Using TensorFlow backend.\n",
      "C:\\Anaconda\\lib\\site-packages\\tensorflow-2.0.0a0-py3.6-win-amd64.egg\\tensorflow\\python\\framework\\dtypes.py:523: FutureWarning: Passing (type, 1) or '1type' as a synonym of type is deprecated; in a future version of numpy, it will be understood as (type, (1,)) / '(1,)type'.\n",
      "  _np_qint8 = np.dtype([(\"qint8\", np.int8, 1)])\n",
      "C:\\Anaconda\\lib\\site-packages\\tensorflow-2.0.0a0-py3.6-win-amd64.egg\\tensorflow\\python\\framework\\dtypes.py:524: FutureWarning: Passing (type, 1) or '1type' as a synonym of type is deprecated; in a future version of numpy, it will be understood as (type, (1,)) / '(1,)type'.\n",
      "  _np_quint8 = np.dtype([(\"quint8\", np.uint8, 1)])\n",
      "C:\\Anaconda\\lib\\site-packages\\tensorflow-2.0.0a0-py3.6-win-amd64.egg\\tensorflow\\python\\framework\\dtypes.py:525: FutureWarning: Passing (type, 1) or '1type' as a synonym of type is deprecated; in a future version of numpy, it will be understood as (type, (1,)) / '(1,)type'.\n",
      "  _np_qint16 = np.dtype([(\"qint16\", np.int16, 1)])\n",
      "C:\\Anaconda\\lib\\site-packages\\tensorflow-2.0.0a0-py3.6-win-amd64.egg\\tensorflow\\python\\framework\\dtypes.py:526: FutureWarning: Passing (type, 1) or '1type' as a synonym of type is deprecated; in a future version of numpy, it will be understood as (type, (1,)) / '(1,)type'.\n",
      "  _np_quint16 = np.dtype([(\"quint16\", np.uint16, 1)])\n",
      "C:\\Anaconda\\lib\\site-packages\\tensorflow-2.0.0a0-py3.6-win-amd64.egg\\tensorflow\\python\\framework\\dtypes.py:527: FutureWarning: Passing (type, 1) or '1type' as a synonym of type is deprecated; in a future version of numpy, it will be understood as (type, (1,)) / '(1,)type'.\n",
      "  _np_qint32 = np.dtype([(\"qint32\", np.int32, 1)])\n",
      "C:\\Anaconda\\lib\\site-packages\\tensorflow-2.0.0a0-py3.6-win-amd64.egg\\tensorflow\\python\\framework\\dtypes.py:532: FutureWarning: Passing (type, 1) or '1type' as a synonym of type is deprecated; in a future version of numpy, it will be understood as (type, (1,)) / '(1,)type'.\n",
      "  np_resource = np.dtype([(\"resource\", np.ubyte, 1)])\n",
      "C:\\Anaconda\\lib\\site-packages\\tensorboard\\compat\\tensorflow_stub\\dtypes.py:541: FutureWarning: Passing (type, 1) or '1type' as a synonym of type is deprecated; in a future version of numpy, it will be understood as (type, (1,)) / '(1,)type'.\n",
      "  _np_qint8 = np.dtype([(\"qint8\", np.int8, 1)])\n",
      "C:\\Anaconda\\lib\\site-packages\\tensorboard\\compat\\tensorflow_stub\\dtypes.py:542: FutureWarning: Passing (type, 1) or '1type' as a synonym of type is deprecated; in a future version of numpy, it will be understood as (type, (1,)) / '(1,)type'.\n",
      "  _np_quint8 = np.dtype([(\"quint8\", np.uint8, 1)])\n",
      "C:\\Anaconda\\lib\\site-packages\\tensorboard\\compat\\tensorflow_stub\\dtypes.py:543: FutureWarning: Passing (type, 1) or '1type' as a synonym of type is deprecated; in a future version of numpy, it will be understood as (type, (1,)) / '(1,)type'.\n",
      "  _np_qint16 = np.dtype([(\"qint16\", np.int16, 1)])\n",
      "C:\\Anaconda\\lib\\site-packages\\tensorboard\\compat\\tensorflow_stub\\dtypes.py:544: FutureWarning: Passing (type, 1) or '1type' as a synonym of type is deprecated; in a future version of numpy, it will be understood as (type, (1,)) / '(1,)type'.\n",
      "  _np_quint16 = np.dtype([(\"quint16\", np.uint16, 1)])\n",
      "C:\\Anaconda\\lib\\site-packages\\tensorboard\\compat\\tensorflow_stub\\dtypes.py:545: FutureWarning: Passing (type, 1) or '1type' as a synonym of type is deprecated; in a future version of numpy, it will be understood as (type, (1,)) / '(1,)type'.\n",
      "  _np_qint32 = np.dtype([(\"qint32\", np.int32, 1)])\n",
      "C:\\Anaconda\\lib\\site-packages\\tensorboard\\compat\\tensorflow_stub\\dtypes.py:550: FutureWarning: Passing (type, 1) or '1type' as a synonym of type is deprecated; in a future version of numpy, it will be understood as (type, (1,)) / '(1,)type'.\n",
      "  np_resource = np.dtype([(\"resource\", np.ubyte, 1)])\n"
     ]
    }
   ],
   "source": [
    "from catboost import CatBoostClassifier\n",
    "from scipy import stats\n",
    "import numpy as np\n",
    "import pandas as pd\n",
    "from sklearn.model_selection import train_test_split, StratifiedKFold, cross_val_score\n",
    "from sklearn.metrics import precision_score, roc_auc_score, f1_score, recall_score\n",
    "from sklearn.preprocessing import StandardScaler\n",
    "from fancyimpute import IterativeImputer\n",
    "from sklearn.feature_selection import SelectFromModel, RFE\n",
    "from sklearn.linear_model import LogisticRegression\n",
    "from imblearn.pipeline import Pipeline\n",
    "from sklearn.ensemble import RandomForestClassifier,ExtraTreesClassifier\n",
    "\n",
    "\n",
    "# seed\n",
    "# import os\n",
    "# import random\n",
    "# os.environ['PYTHONHASHSEED']=str(271828)\n",
    "# random.seed(271828)\n",
    "# np.random.seed(271828)\n"
   ]
  },
  {
   "cell_type": "code",
   "execution_count": 2,
   "metadata": {},
   "outputs": [],
   "source": [
    "\n",
    "def PCL_calculator(df):\n",
    "\n",
    "    symptomatic_cutoff = 2\n",
    "    intrusion = ['q6.1_INTRU', 'q6.2_DREAM', 'q6.3_FLASH', 'q6.4_UPSET', 'q6.5_PHYS']\n",
    "    avoidance = ['q6.6_AVTHT', 'q6.7_AVSIT', 'q6.8_AMNES', 'q6.9_DISINT', 'q6.10_DTACH',\n",
    "                 'q6.11_NUMB', 'q6.12_FUTRE']\n",
    "    tred = ['q6.1_INTRU', 'q6.2_DREAM', 'q6.3_FLASH']\n",
    "    only_avoidance = ['q6.6_AVTHT', 'q6.7_AVSIT', 'q6.8_AMNES']\n",
    "    hypertension = ['q6.13_SLEEP', 'q6.14_ANGER', 'q6.15_CONC', 'q6.16_HYPER', 'q6.17_STRTL']\n",
    "    depression = ['q6.9_DISINT', 'q6.10_DTACH', 'q6.11_NUMB', 'q6.12_FUTRE']\n",
    "\n",
    "    #df[intrusion + avoidance + hypertension].fillna(df[intrusion + avoidance + hypertension].mean(axis=0))\n",
    "    #print(df[intrusion + avoidance + hypertension].isna().sum())\n",
    "    intrusion_cuoff = 1\n",
    "    avoidance_cuoff = 3\n",
    "    hypertension_cuoff = 2\n",
    "    only_avoidance_cutoff = 1\n",
    "    depression_cutoff = 2\n",
    "    tred_cutoff = 1\n",
    "\n",
    "    df['PCL_score'] = (df[intrusion + avoidance + hypertension]).sum(axis=1)\n",
    "    df['PCL_mean'] = (df[intrusion + avoidance + hypertension]).mean(axis=1)\n",
    "    df['PCL_std'] = (df[intrusion + avoidance + hypertension]).std(axis=1)\n",
    "    \n",
    "\n",
    "    df['intrusion'] = (df[intrusion] > symptomatic_cutoff).sum(axis=1)\n",
    "    df['intrusion_mean'] = (df[intrusion] > symptomatic_cutoff).mean(axis=1)\n",
    "    df['intrusion_std'] = (df[intrusion] > symptomatic_cutoff).std(axis=1)\n",
    "    df['intrusion_cutoff'] = (df['intrusion'] >= intrusion_cuoff).astype(int)\n",
    "\n",
    "    df['avoidance'] = (df[avoidance] > symptomatic_cutoff).sum(axis=1)\n",
    "    df['avoidance_mean'] = (df[avoidance] > symptomatic_cutoff).mean(axis=1)\n",
    "    df['avoidance_std'] = (df[avoidance] > symptomatic_cutoff).std(axis=1)\n",
    "    df['avoidance_cutoff'] = (df['avoidance'] >= avoidance_cuoff).astype(int)\n",
    "\n",
    "    df['depression'] = (df[depression] > symptomatic_cutoff).sum(axis=1)\n",
    "    df['depression_mean'] = (df[depression] > symptomatic_cutoff).mean(axis=1)\n",
    "    df['depression_std'] = (df[depression] > symptomatic_cutoff).std(axis=1)\n",
    "    df['depression_cutoff'] = (df['depression'] >= depression_cutoff).astype(int)\n",
    "\n",
    "    df['hypertention'] = (df[hypertension] > symptomatic_cutoff).sum(axis=1)\n",
    "    df['hypertention_mean'] = (df[hypertension] > symptomatic_cutoff).mean(axis=1)\n",
    "    df['hypertention_std'] = (df[hypertension] > symptomatic_cutoff).std(axis=1)\n",
    "    df['hypertention_cutoff'] = (df['hypertention'] >= hypertension_cuoff).astype(int)\n",
    "\n",
    "    df['tred'] = (df[tred] > symptomatic_cutoff).sum(axis=1)\n",
    "    df['tred_mean'] = (df[tred] > symptomatic_cutoff).mean(axis=1)\n",
    "    df['tred_std'] = (df[tred] > symptomatic_cutoff).std(axis=1)\n",
    "    df['tred_cutoff'] = df['tred'] >= tred_cutoff\n",
    "\n",
    "    df['only_avoidance'] = (df[only_avoidance] > symptomatic_cutoff).sum(axis=1)\n",
    "    df['only_avoidance_mean'] = (df[only_avoidance] > symptomatic_cutoff).sum(axis=1)\n",
    "    df['only_avoidance_std'] = (df[only_avoidance] > symptomatic_cutoff).sum(axis=1)\n",
    "    df['only_avoidance_cutoff'] = df['only_avoidance'] >= only_avoidance_cutoff\n",
    "\n",
    "    #df['regression_cutoff_33'] = df['sum'] >= 33\n",
    "    #df['regression_cutoff_50'] = df['sum'] >= 49\n",
    "    df['diagnosis'] = ((df['hypertention_cutoff']) & (df['avoidance_cutoff']) & (df['intrusion_cutoff']) & (df['PCL_score'] >= 49))\n",
    "\n",
    "    return df\n",
    "\n"
   ]
  },
  {
   "cell_type": "code",
   "execution_count": 3,
   "metadata": {},
   "outputs": [
    {
     "data": {
      "text/plain": [
       "(array([ 20, 453, 614], dtype=int64),)"
      ]
     },
     "execution_count": 3,
     "metadata": {},
     "output_type": "execute_result"
    }
   ],
   "source": [
    "path = \"C:\\‏‏PycharmProjects\\PTSD\\Data\\PTSD.xlsx\"\n",
    "df = pd.read_excel(path)\n",
    "#combine with specifics of answers\n",
    "df_pcl2 = pd.read_excel(\"C:\\‏‏PycharmProjects\\PTSD\\Data\\questionnaire6PCL2.xlsx\")\n",
    "df_pcl2 = PCL_calculator(df_pcl2)\n",
    "\n",
    "df_pcl1 = pd.read_excel(\"C:\\‏‏PycharmProjects\\PTSD\\Data\\questionnaire6PCL1.xlsx\")\n",
    "df_pcl1 = PCL_calculator(df_pcl1)\n",
    "\n",
    "df = df.merge(df_pcl1, on=\"ID\", how='outer')\n",
    "df = df.merge(df_pcl2, suffixes=('_pcl1', '_pcl2'), on=\"ID\", how='outer')\n",
    "\n",
    "df_pcl3 = pd.read_excel(\"C:\\‏‏PycharmProjects\\PTSD\\Data\\questionnaire6PCL3.xlsx\")\n",
    "df_pcl3 = PCL_calculator(df_pcl3)\n",
    "df = df.merge(df_pcl3.drop(['PCL3_Strict', 'pcl3', 'PCL3_Broad'], axis=1), on=\"ID\", how='outer')\n",
    "# rmoving missing Y's\n",
    "df = df[(df['PCL_score'] < 34) | (df['PCL_score'] > 48) ]\n",
    "df = df[~df['PCL_Strict3'].isna()]\n",
    "np.where(df['PCL_Strict3'] != df['diagnosis'])"
   ]
  },
  {
   "cell_type": "markdown",
   "metadata": {},
   "source": [
    "## features "
   ]
  },
  {
   "cell_type": "code",
   "execution_count": 4,
   "metadata": {},
   "outputs": [],
   "source": [
    "\n",
    "features = [\"highschool_diploma\", \"dyslexia\",\n",
    "     \"ADHD\", \"T1Acc1t\", \"T1Acc1n\", \"T1bias\", 'Ashken_scale', 'Sephar_scale',\n",
    "            \"phq1\", \"lot1\", \"trait1\",\n",
    "                \"state1\", \"PCL1\", \"PCL_Broad1\", \"PCL_Strict1\", \"phq2\", \"lot2\", \"trait2\", \"state2\", \"PCL2\", \"PCL_Broad2\",\n",
    "                \"PCL_Strict2\", \"cd_risc1\", \"active_coping1\", \"planning1\", \"positive_reframing1\", \"acceptance1\",\n",
    "                \"humor1\",\n",
    "                \"religion1\", \"emotional_support1\", \"instrumental_support1\", \"self_distraction1\", \"denial1\",\n",
    "                \"venting1\", \"substance_use1\", \"behavioral_disengagement1\", \"self_blame1\", \"active_coping2\", \"planning2\",\n",
    "                \"positive_reframing2\", \"acceptance2\", \"humor2\", \"religion2\", \"emotional_support2\",\n",
    "                \"instrumental_support2\",\n",
    "                \"self_distraction2\", \"denial2\", \"venting2\", \"substance_use2\", \"behavioral_disengagement2\",\n",
    "                \"self_blame2\",\n",
    "                \"trauma_history8_1\", \"HML_5HTT\", \"HL_MAOA\", \"HML_NPY\", \"COMT_Hap1_recode\",\n",
    "                \"COMT_Hap2_recode\", \"COMT_Hap1_LvsMH\", \"HML_FKBP5\", 'q6.1_INTRU_pcl1', \n",
    "                'q6.2_DREAM_pcl1', 'q6.3_FLASH_pcl1', 'q6.4_UPSET_pcl1',\n",
    "                  'q6.5_PHYS_pcl1', 'q6.6_AVTHT_pcl1', 'q6.7_AVSIT_pcl1', 'q6.8_AMNES_pcl1', 'q6.9_DISINT_pcl1',\n",
    "                  'q6.10_DTACH_pcl1', 'q6.11_NUMB_pcl1', 'q6.12_FUTRE_pcl1', 'q6.13_SLEEP_pcl1',\n",
    "                  'q6.14_ANGER_pcl1', 'q6.15_CONC_pcl1', 'q6.16_HYPER_pcl1', 'q6.17_STRTL_pcl1',\n",
    "                  'q6.1_INTRU_pcl2', 'q6.2_DREAM_pcl2', 'q6.3_FLASH_pcl2', 'q6.4_UPSET_pcl2',\n",
    "                  'q6.5_PHYS_pcl2', 'q6.6_AVTHT_pcl2', 'q6.7_AVSIT_pcl2', 'q6.8_AMNES_pcl2', 'q6.9_DISINT_pcl2',\n",
    "                  'q6.10_DTACH_pcl2', 'q6.11_NUMB_pcl2', 'q6.12_FUTRE_pcl2', 'q6.13_SLEEP_pcl2',\n",
    "                  'q6.14_ANGER_pcl2', 'q6.15_CONC_pcl2', 'q6.16_HYPER_pcl2', 'q6.17_STRTL_pcl2',\n",
    "            \n",
    "            'PCL_score_pcl1', 'PCL_mean_pcl1', 'PCL_std_pcl1', 'intrusion_pcl1', 'intrusion_mean_pcl1', 'intrusion_std_pcl1',\n",
    "            'intrusion_cutoff_pcl1', 'avoidance_pcl1', 'avoidance_mean_pcl1', 'avoidance_std_pcl1', 'avoidance_cutoff_pcl1', \n",
    "            'depression_pcl1', 'depression_mean_pcl1', 'depression_std_pcl1', 'depression_cutoff_pcl1', 'hypertention_pcl1',\n",
    "            'hypertention_mean_pcl1', 'hypertention_std_pcl1', 'hypertention_cutoff_pcl1', 'tred_pcl1', 'tred_mean_pcl1', \n",
    "            'tred_std_pcl1', 'tred_cutoff_pcl1', 'only_avoidance_pcl1','only_avoidance_mean_pcl1', 'only_avoidance_std_pcl1', \n",
    "            'only_avoidance_cutoff_pcl1',\n",
    "            \n",
    "            'PCL_score_pcl2', 'PCL_mean_pcl2', 'PCL_std_pcl2', 'intrusion_pcl2', 'intrusion_mean_pcl2', 'intrusion_std_pcl2',\n",
    "            'intrusion_cutoff_pcl2', 'avoidance_pcl2', 'avoidance_mean_pcl2', 'avoidance_std_pcl2', 'avoidance_cutoff_pcl2', \n",
    "            'depression_pcl2', 'depression_mean_pcl2', 'depression_std_pcl2', 'depression_cutoff_pcl2', 'hypertention_pcl2',\n",
    "            'hypertention_mean_pcl2', 'hypertention_std_pcl2', 'hypertention_cutoff_pcl2', 'tred_pcl2', 'tred_mean_pcl2', \n",
    "            'tred_std_pcl2', 'tred_cutoff_pcl2', 'only_avoidance_pcl2','only_avoidance_mean_pcl2', 'only_avoidance_std_pcl2', \n",
    "            'only_avoidance_cutoff_pcl2'\n",
    "]"
   ]
  },
  {
   "cell_type": "code",
   "execution_count": 5,
   "metadata": {},
   "outputs": [],
   "source": [
    "discrete_features = [\"age\", \"highschool_diploma\", \"dyslexia\", \"ADHD\", \"phq1\", \"lot1\",\n",
    "                    \"trait1\", \"state1\", \"PCL1\", \"PCL_Broad1\", \"PCL_Strict1\", \"phq2\", \"lot2\",\n",
    "                    \"trait2\", \"state2\", \"PCL2\", \"PCL_Broad2\", \"PCL_Strict2\", \"cd_risc1\", \"active_coping1\",\n",
    "                    \"planning1\", \"positive_reframing1\", \"acceptance1\", \"humor1\", \"religion1\",\n",
    "                    \"emotional_support1\", \"instrumental_support1\", \"self_distraction1\", \"denial1\",\n",
    "                    \"venting1\", \"substance_use1\", \"behavioral_disengagement1\", \"self_blame1\", \"active_coping2\",\n",
    "                    \"planning2\", \"positive_reframing2\", \"acceptance2\", \"humor2\", \"religion2\", \"emotional_support2\",\n",
    "                    \"instrumental_support2\", \"self_distraction2\", \"denial2\", \"venting2\", \"substance_use2\",\n",
    "                    \"behavioral_disengagement2\", \"self_blame2\", \"trauma_history8_1\",\n",
    "                    'q6.1_INTRU_pcl1', 'q6.2_DREAM_pcl1', 'q6.3_FLASH_pcl1', 'q6.4_UPSET_pcl1',\n",
    "                    'q6.5_PHYS_pcl1', 'q6.6_AVTHT_pcl1', 'q6.7_AVSIT_pcl1', 'q6.8_AMNES_pcl1', 'q6.9_DISINT_pcl1',\n",
    "                    'q6.10_DTACH_pcl1', 'q6.11_NUMB_pcl1', 'q6.12_FUTRE_pcl1', 'q6.13_SLEEP_pcl1',\n",
    "                    'q6.14_ANGER_pcl1', 'q6.15_CONC_pcl1', 'q6.16_HYPER_pcl1', 'q6.17_STRTL_pcl1',\n",
    "                    'q6.1_INTRU_pcl2', 'q6.2_DREAM_pcl2', 'q6.3_FLASH_pcl2', 'q6.4_UPSET_pcl2',\n",
    "                    'q6.5_PHYS_pcl2', 'q6.6_AVTHT_pcl2', 'q6.7_AVSIT_pcl2', 'q6.8_AMNES_pcl2', 'q6.9_DISINT_pcl2',\n",
    "                    'q6.10_DTACH_pcl2', 'q6.11_NUMB_pcl2', 'q6.12_FUTRE_pcl2', 'q6.13_SLEEP_pcl2',\n",
    "                    'q6.14_ANGER_pcl2', 'q6.15_CONC_pcl2', 'q6.16_HYPER_pcl2', 'q6.17_STRTL_pcl2',\n",
    "                    'intrusion_cutoff', 'avoidance_cutoff', 'hypertention_cutoff', 'regression_cutoff_50']"
   ]
  },
  {
   "cell_type": "code",
   "execution_count": 6,
   "metadata": {},
   "outputs": [],
   "source": [
    "genome_features = [\"HML_5HTT\", \"HL_MAOA\", \"HML_NPY\", \"COMT_Hap1_recode\",\n",
    "                \"COMT_Hap2_recode\", \"COMT_Hap1_LvsMH\", \"HML_FKBP5\"]\n",
    "continuous_features = [\"T1Acc1t\", \"T1Acc1n\", \"T1bias\"]\n",
    "t2_features = [\n",
    "    \"lot2\", \"trait2\", \"state2\", \"PCL2\", \"PCL_Broad2\", \"PCL_Strict2\", \"phq2\",\n",
    "\n",
    "    \"active_coping2\", \"planning2\", \"positive_reframing2\", \"acceptance2\", \"humor2\", \n",
    "    \"religion2\", \"emotional_support2\", \"instrumental_support2\", \"self_distraction2\",\n",
    "    \"denial2\", \"venting2\", \"substance_use2\", \"behavioral_disengagement2\", \"self_blame2\",\n",
    "    \n",
    "    'q6.1_INTRU_pcl2', 'q6.2_DREAM_pcl2', 'q6.3_FLASH_pcl2', 'q6.4_UPSET_pcl2', 'q6.5_PHYS_pcl2',\n",
    "    'q6.6_AVTHT_pcl2', 'q6.7_AVSIT_pcl2', 'q6.8_AMNES_pcl2', 'q6.9_DISINT_pcl2',\n",
    "                    'q6.10_DTACH_pcl2', 'q6.11_NUMB_pcl2', 'q6.12_FUTRE_pcl2', 'q6.13_SLEEP_pcl2',\n",
    "                    'q6.14_ANGER_pcl2', 'q6.15_CONC_pcl2', 'q6.16_HYPER_pcl2', 'q6.17_STRTL_pcl2'\n",
    "]\n",
    "t1_features =[ \"phq1\", \"lot1\", \"trait1\",\"state1\", \"PCL1\", \"PCL_Broad1\", \"PCL_Strict1\",\n",
    "              \n",
    "                    \"active_coping1\", \"planning1\", \"positive_reframing1\", \"acceptance1\", \"humor1\", \"religion1\",\n",
    "                    \"emotional_support1\", \"instrumental_support1\", \"self_distraction1\", \"denial1\",\n",
    "                    \"venting1\", \"substance_use1\", \"behavioral_disengagement1\", \"self_blame1\",\n",
    "                'q6.1_INTRU_pcl1', 'q6.2_DREAM_pcl1', 'q6.3_FLASH_pcl1', 'q6.4_UPSET_pcl1',\n",
    "                    'q6.5_PHYS_pcl1', 'q6.6_AVTHT_pcl1', 'q6.7_AVSIT_pcl1', 'q6.8_AMNES_pcl1', 'q6.9_DISINT_pcl1',\n",
    "                    'q6.10_DTACH_pcl1', 'q6.11_NUMB_pcl1', 'q6.12_FUTRE_pcl1', 'q6.13_SLEEP_pcl1',\n",
    "                    'q6.14_ANGER_pcl1', 'q6.15_CONC_pcl1', 'q6.16_HYPER_pcl1', 'q6.17_STRTL_pcl1']"
   ]
  },
  {
   "cell_type": "markdown",
   "metadata": {},
   "source": [
    "## fill the missing values"
   ]
  },
  {
   "cell_type": "code",
   "execution_count": 7,
   "metadata": {},
   "outputs": [],
   "source": [
    "target_feature = ['PCL_Strict3']"
   ]
  },
  {
   "cell_type": "code",
   "execution_count": 8,
   "metadata": {},
   "outputs": [],
   "source": [
    "df1 = df[features + target_feature]\n",
    "\n",
    "#df1 = df1.dropna(thresh=47)\n",
    "df_t1 = df1[t1_features]\n",
    "df_t2 = df1[t2_features]\n",
    "df1 = df1[(df_t1.isna().astype(int).sum(axis=1)<38) | (df_t2.isna().astype(int).sum(axis=1)<38)]\n",
    "df1[\"t1_missing\"] = df_t1.isna().astype(int).sum(axis=1)==38\n",
    "df1[\"t2_missing\"] = df_t2.isna().astype(int).sum(axis=1)==38\n",
    "features.extend([\"t1_missing\", \"t2_missing\"])\n",
    "\n",
    "    \n"
   ]
  },
  {
   "cell_type": "code",
   "execution_count": 9,
   "metadata": {},
   "outputs": [],
   "source": [
    "from scipy.stats import zscore\n",
    "def stds(X):\n",
    "    X[\"outliers_count_t1_35\"] = (np.abs(zscore(X[t1_features])) > 3.5).sum(axis=1)\n",
    "    X[\"outliers_count_t1_25\"] = (np.abs(zscore(X[t1_features])) > 2.5).sum(axis=1)\n",
    "    X[\"outliers_count_t2_35\"] = (np.abs(zscore(X[t2_features])) > 3.5).sum(axis=1)\n",
    "    X[\"outliers_count_t2_25\"] = (np.abs(zscore(X[t2_features])) > 2.5).sum(axis=1)\n",
    "    X['std_genome'] = X[genome_features].std(axis=1)\n",
    "    X['std_t2'] = X[[ \"trait2\", \"state2\", \"PCL2\", \"phq2\"]].std(axis=1)\n",
    "    X['std_t1'] = X[[ \"trait1\", \"state1\", \"PCL1\", \"phq1\"]].std(axis=1)\n",
    "\n",
    "    X['std_pos_coping_t1'] = X[[\"active_coping1\", \"planning1\", \"positive_reframing1\", \"acceptance1\", \"humor1\",\n",
    "                    \"religion1\", \"emotional_support1\", \"instrumental_support1\", \"self_distraction1\",\"venting1\"]].std(axis=1)\n",
    "\n",
    "    X['std_neg_coping_t1'] = X[[\"denial1\", \"substance_use1\", \"behavioral_disengagement1\", \"self_blame1\"]].std(axis=1)\n",
    "\n",
    "    X['std_pos_coping_t2'] = X[[\"active_coping2\", \"planning2\", \"positive_reframing2\", \"acceptance2\", \"humor2\",\n",
    "                    \"religion1\", \"emotional_support2\", \"instrumental_support2\", \"self_distraction2\",\"venting2\"]].std(axis=1)\n",
    "\n",
    "    X['std_neg_coping_t2'] = X[[\"denial2\", \"substance_use2\", \"behavioral_disengagement2\", \"self_blame2\"]].std(axis=1)\n",
    "    return X"
   ]
  },
  {
   "cell_type": "code",
   "execution_count": 10,
   "metadata": {},
   "outputs": [],
   "source": [
    "for i in t1_features:\n",
    "    df1[\"delta_\"+i[:len(i)-1:]] = df1[i] - df1[i[:len(i)-1:]+\"2\"]\n",
    "    features = features + [\"delta_\"+i[:len(i)-1:]]"
   ]
  },
  {
   "cell_type": "code",
   "execution_count": 11,
   "metadata": {},
   "outputs": [],
   "source": [
    "for i in genome_features:\n",
    "    for j in ['Ashken_scale', 'Sephar_scale']:\n",
    "        df1[i + \"_\" + j] = df1[i] * df1[j] * 0.01\n",
    "        features = features + [i + \"_\" + j]\n",
    "        "
   ]
  },
  {
   "cell_type": "code",
   "execution_count": 12,
   "metadata": {},
   "outputs": [],
   "source": [
    "from statsmodels.formula.api import ols\n",
    "def stats(X_train,X_test=None):\n",
    "    if X_test is not None:\n",
    "        m = ols('PCL_score_pcl2 ~ PCL_score_pcl1 + phq1 + lot1 + trait1 + state1 + active_coping1 + '\\\n",
    "                'planning1 + positive_reframing1 + acceptance1 + humor1 + religion1 + emotional_support1 + '\\\n",
    "                'instrumental_support1 + self_distraction1 + denial1 + venting1 + substance_use1 + '\\\n",
    "                'behavioral_disengagement1 + self_blame1',X_test.append(X_train, ignore_index=True)).fit()\n",
    "        infl = m.get_influence()\n",
    "        sm_fr = infl.summary_frame()\n",
    "        X_test[['cooks_d_PCL_score_pcl2', 'dffits_PCL_score_pcl2', 'standard_resid_PCL_score_pcl2']] = sm_fr[['cooks_d', 'dffits', 'standard_resid']][:X_test.shape[0]:]\n",
    "\n",
    "        m = ols('intrusion_pcl2 ~ PCL_score_pcl1 + phq1 + lot1 + trait1 + state1 + active_coping1 + '\\\n",
    "                'planning1 + positive_reframing1 + acceptance1 + humor1 + religion1 + emotional_support1 + '\\\n",
    "                'instrumental_support1 + self_distraction1 + denial1 + venting1 + substance_use1 + '\\\n",
    "                'behavioral_disengagement1 + self_blame1',X_test.append(X_train, ignore_index=True)).fit()\n",
    "        infl = m.get_influence()\n",
    "        sm_fr = infl.summary_frame();\n",
    "        X_test[['cooks_d_intrusion_pcl2', 'dffits_intrusion_pcl2', 'standard_resid_intrusion_pcl2']] = sm_fr[['cooks_d', 'dffits', 'standard_resid']][:X_test.shape[0]:]\n",
    "\n",
    "\n",
    "        m = ols('avoidance_pcl2 ~ PCL_score_pcl1 + phq1 + lot1 + trait1 + state1 + active_coping1 + '\\\n",
    "                'planning1 + positive_reframing1 + acceptance1 + humor1 + religion1 + emotional_support1 + '\\\n",
    "                'instrumental_support1 + self_distraction1 + denial1 + venting1 + substance_use1 + '\\\n",
    "                'behavioral_disengagement1 + self_blame1',X_test.append(X_train, ignore_index=True)).fit()\n",
    "        infl = m.get_influence()\n",
    "        sm_fr = infl.summary_frame()\n",
    "        X_test[['cooks_d_avoidance_pcl2', 'dffits_avoidance_pcl2', 'standard_resid_avoidance_pcl2']] = sm_fr[['cooks_d', 'dffits', 'standard_resid']][:X_test.shape[0]:]\n",
    "\n",
    "\n",
    "        m = ols('depression_pcl2 ~ PCL_score_pcl1 + phq1 + lot1 + trait1 + state1 + active_coping1 + '\\\n",
    "                'planning1 + positive_reframing1 + acceptance1 + humor1 + religion1 + emotional_support1 + '\\\n",
    "                'instrumental_support1 + self_distraction1 + denial1 + venting1 + substance_use1 + '\\\n",
    "                'behavioral_disengagement1 + self_blame1',X_test.append(X_train, ignore_index=True)).fit()\n",
    "        infl = m.get_influence()\n",
    "        sm_fr = infl.summary_frame();\n",
    "        X_test[['cooks_d_depression_pcl2', 'dffits_depression_pcl2', 'standard_resid_depression_pcl2']] = sm_fr[['cooks_d', 'dffits', 'standard_resid']][:X_test.shape[0]:]\n",
    "\n",
    "\n",
    "        m = ols('hypertention_pcl2 ~ PCL_score_pcl1 + phq1 + lot1 + trait1 + state1 + active_coping1 + '\\\n",
    "                'planning1 + positive_reframing1 + acceptance1 + humor1 + religion1 + emotional_support1 + '\\\n",
    "                'instrumental_support1 + self_distraction1 + denial1 + venting1 + substance_use1 + '\\\n",
    "                'behavioral_disengagement1 + self_blame1',X_test.append(X_train, ignore_index=True)).fit()\n",
    "        infl = m.get_influence()\n",
    "        sm_fr = infl.summary_frame()\n",
    "        X_test[['cooks_d_hypertention_pcl2', 'dffits_hypertention_pcl2', 'standard_resid_hypertention_pcl2']] = sm_fr[['cooks_d', 'dffits', 'standard_resid']][:X_test.shape[0]:]\n",
    "        return X_test\n",
    "      \n",
    "        \n",
    "    else:\n",
    "        m = ols('PCL_score_pcl2 ~ PCL_score_pcl1 + phq1 + lot1 + trait1 + state1 + active_coping1 + '\\\n",
    "                'planning1 + positive_reframing1 + acceptance1 + humor1 + religion1 + emotional_support1 + '\\\n",
    "                'instrumental_support1 + self_distraction1 + denial1 + venting1 + substance_use1 + '\\\n",
    "                'behavioral_disengagement1 + self_blame1',X_train).fit()\n",
    "        infl = m.get_influence()\n",
    "        sm_fr = infl.summary_frame()\n",
    "        X_train[['cooks_d_PCL_score_pcl2', 'dffits_PCL_score_pcl2', 'standard_resid_PCL_score_pcl2']] = sm_fr[['cooks_d', 'dffits', 'standard_resid']]\n",
    "\n",
    "        m = ols('intrusion_pcl2 ~ PCL_score_pcl1 + phq1 + lot1 + trait1 + state1 + active_coping1 + '\\\n",
    "                'planning1 + positive_reframing1 + acceptance1 + humor1 + religion1 + emotional_support1 + '\\\n",
    "                'instrumental_support1 + self_distraction1 + denial1 + venting1 + substance_use1 + '\\\n",
    "                'behavioral_disengagement1 + self_blame1',X_train).fit()\n",
    "        infl = m.get_influence()\n",
    "        sm_fr = infl.summary_frame()\n",
    "        X_train[['cooks_d_intrusion_pcl2', 'dffits_intrusion_pcl2', 'standard_resid_intrusion_pcl2']] = sm_fr[['cooks_d', 'dffits', 'standard_resid']]\n",
    "\n",
    "\n",
    "        m = ols('avoidance_pcl2 ~ PCL_score_pcl1 + phq1 + lot1 + trait1 + state1 + active_coping1 + '\\\n",
    "                'planning1 + positive_reframing1 + acceptance1 + humor1 + religion1 + emotional_support1 + '\\\n",
    "                'instrumental_support1 + self_distraction1 + denial1 + venting1 + substance_use1 + '\\\n",
    "                'behavioral_disengagement1 + self_blame1',X_train).fit()\n",
    "        infl = m.get_influence()\n",
    "        sm_fr = infl.summary_frame()\n",
    "        X_train[['cooks_d_avoidance_pcl2', 'dffits_avoidance_pcl2', 'standard_resid_avoidance_pcl2']] = sm_fr[['cooks_d', 'dffits', 'standard_resid']]\n",
    "\n",
    "\n",
    "        m = ols('depression_pcl2 ~ PCL_score_pcl1 + phq1 + lot1 + trait1 + state1 + active_coping1 + '\\\n",
    "                'planning1 + positive_reframing1 + acceptance1 + humor1 + religion1 + emotional_support1 + '\\\n",
    "                'instrumental_support1 + self_distraction1 + denial1 + venting1 + substance_use1 + '\\\n",
    "                'behavioral_disengagement1 + self_blame1',X_train).fit()\n",
    "        infl = m.get_influence()\n",
    "        sm_fr = infl.summary_frame()\n",
    "        X_train[['cooks_d_depression_pcl2', 'dffits_depression_pcl2', 'standard_resid_depression_pcl2']] = sm_fr[['cooks_d', 'dffits', 'standard_resid']]\n",
    "\n",
    "\n",
    "        m = ols('hypertention_pcl2 ~ PCL_score_pcl1 + phq1 + lot1 + trait1 + state1 + active_coping1 + '\\\n",
    "                'planning1 + positive_reframing1 + acceptance1 + humor1 + religion1 + emotional_support1 + '\\\n",
    "                'instrumental_support1 + self_distraction1 + denial1 + venting1 + substance_use1 + '\\\n",
    "                'behavioral_disengagement1 + self_blame1',X_train).fit()\n",
    "        infl = m.get_influence()\n",
    "        sm_fr = infl.summary_frame()\n",
    "        X_train[['cooks_d_hypertention_pcl2', 'dffits_hypertention_pcl2', 'standard_resid_hypertention_pcl2']] = sm_fr[['cooks_d', 'dffits', 'standard_resid']]\n",
    "        return X_train\n",
    "        "
   ]
  },
  {
   "cell_type": "code",
   "execution_count": 13,
   "metadata": {},
   "outputs": [],
   "source": [
    "def removal (X):\n",
    "    useless_features = [\"dyslexia\",\"T1Acc1n\", 'Ashken_scale', 'Sephar_scale', \"phq1\", \"lot1\", \"trait1\",\n",
    "                \"state1\", \"PCL1\", \"PCL_Broad1\", \"PCL_Strict1\", \"state2\", \"PCL_Broad2\",\n",
    "                \"PCL_Strict2\", \"active_coping1\", \"planning1\", \"positive_reframing1\", \"acceptance1\",\n",
    "                \"humor1\", \"religion1\", \"emotional_support1\", \"instrumental_support1\", \"self_distraction1\", \"denial1\",\n",
    "                \"venting1\", \"substance_use1\", \"behavioral_disengagement1\", \"self_blame1\", \"planning2\",\n",
    "                \"religion2\", \"instrumental_support2\", \"venting2\", \"behavioral_disengagement2\",\n",
    "                \"trauma_history8_1\", \"HML_5HTT\", \"HL_MAOA\", \"HML_NPY\", \"COMT_Hap1_recode\",\n",
    "                \"COMT_Hap2_recode\", \"COMT_Hap1_LvsMH\", \"HML_FKBP5\", 'q6.1_INTRU_pcl1', \n",
    "                'q6.2_DREAM_pcl1', 'q6.3_FLASH_pcl1', 'q6.4_UPSET_pcl1',\n",
    "                  'q6.5_PHYS_pcl1', 'q6.6_AVTHT_pcl1', 'q6.7_AVSIT_pcl1', 'q6.8_AMNES_pcl1', 'q6.9_DISINT_pcl1',\n",
    "                  'q6.10_DTACH_pcl1', 'q6.11_NUMB_pcl1', 'q6.12_FUTRE_pcl1', 'q6.13_SLEEP_pcl1',\n",
    "                  'q6.14_ANGER_pcl1', 'q6.15_CONC_pcl1', 'q6.16_HYPER_pcl1', 'q6.17_STRTL_pcl1',\n",
    "                \n",
    "                    'q6.1_INTRU_pcl2', 'q6.2_DREAM_pcl2', 'q6.3_FLASH_pcl2', 'q6.4_UPSET_pcl2',\n",
    "                  'q6.5_PHYS_pcl2', 'q6.6_AVTHT_pcl2', 'q6.7_AVSIT_pcl2', 'q6.8_AMNES_pcl2', 'q6.9_DISINT_pcl2',\n",
    "                  'q6.10_DTACH_pcl2', 'q6.11_NUMB_pcl2', 'q6.12_FUTRE_pcl2', 'q6.13_SLEEP_pcl2',\n",
    "                  'q6.14_ANGER_pcl2', 'q6.15_CONC_pcl2', 'q6.16_HYPER_pcl2', 'q6.17_STRTL_pcl2',\n",
    "            \n",
    "            'PCL_score_pcl1', 'PCL_mean_pcl1', 'intrusion_mean_pcl1', 'intrusion_cutoff_pcl1', 'avoidance_pcl1',\n",
    "            'avoidance_mean_pcl1', 'avoidance_std_pcl1', 'avoidance_cutoff_pcl1', \n",
    "            'depression_pcl1', 'depression_mean_pcl1', 'depression_cutoff_pcl1', 'hypertention_pcl1',\n",
    "            'hypertention_mean_pcl1', 'hypertention_cutoff_pcl1', 'tred_pcl1', 'tred_mean_pcl1', \n",
    "            'tred_std_pcl1', 'tred_cutoff_pcl1', 'only_avoidance_pcl1','only_avoidance_mean_pcl1', 'only_avoidance_std_pcl1', \n",
    "            'only_avoidance_cutoff_pcl1',\n",
    "            \n",
    "            'PCL_score_pcl2', 'PCL_mean_pcl2', 'PCL_std_pcl2', 'intrusion_pcl2',\n",
    "            'intrusion_cutoff_pcl2',  'avoidance_cutoff_pcl2', \n",
    "            'depression_pcl2', 'depression_mean_pcl2', 'depression_cutoff_pcl2', 'hypertention_pcl2',\n",
    "            'hypertention_cutoff_pcl2', 'tred_pcl2', 'tred_mean_pcl2', \n",
    "            'tred_std_pcl2', 'tred_cutoff_pcl2', 'only_avoidance_pcl2','only_avoidance_mean_pcl2', \n",
    "                    'only_avoidance_std_pcl2', \n",
    "            'only_avoidance_cutoff_pcl2',  \n",
    "                     \"dyslexia\", \"ADHD\", \"T1Acc1t\", \"T1Acc1n\", \"T1bias\", 'Ashken_scale', 'Sephar_scale',\n",
    "            \"phq1\", \"lot1\", \"trait1\",\n",
    "                \"state1\", \"PCL1\", \"PCL_Broad1\", \"PCL_Strict1\", \"phq2\", \"lot2\", \"trait2\", \"state2\", \"PCL2\", \"PCL_Broad2\",\n",
    "                \"PCL_Strict2\", \"cd_risc1\", \"active_coping1\", \"planning1\", \"positive_reframing1\", \"acceptance1\",\n",
    "                \"humor1\",\n",
    "                \"religion1\", \"emotional_support1\", \"instrumental_support1\", \"self_distraction1\", \"denial1\",\n",
    "                \"venting1\", \"substance_use1\", \"behavioral_disengagement1\", \"self_blame1\", \"active_coping2\", \"planning2\",\n",
    "                \"positive_reframing2\", \"acceptance2\", \"humor2\", \"religion2\", \"emotional_support2\",\n",
    "                \"instrumental_support2\",\n",
    "                \"self_distraction2\", \"denial2\", \"venting2\", \"substance_use2\", \"behavioral_disengagement2\",\n",
    "                \"self_blame2\",\n",
    "                \"trauma_history8_1\", \"HML_5HTT\", \"HL_MAOA\", \"HML_NPY\", \"COMT_Hap1_recode\",\n",
    "                \"COMT_Hap2_recode\", \"COMT_Hap1_LvsMH\", \"HML_FKBP5\", 'q6.1_INTRU_pcl1', \n",
    "                'q6.2_DREAM_pcl1', 'q6.3_FLASH_pcl1', 'q6.4_UPSET_pcl1',\n",
    "                  'q6.5_PHYS_pcl1', 'q6.6_AVTHT_pcl1', 'q6.7_AVSIT_pcl1', 'q6.8_AMNES_pcl1', 'q6.9_DISINT_pcl1',\n",
    "                  'q6.10_DTACH_pcl1', 'q6.11_NUMB_pcl1', 'q6.12_FUTRE_pcl1', 'q6.13_SLEEP_pcl1',\n",
    "                  'q6.14_ANGER_pcl1', 'q6.15_CONC_pcl1', 'q6.16_HYPER_pcl1', 'q6.17_STRTL_pcl1',\n",
    "                  'q6.1_INTRU_pcl2', 'q6.2_DREAM_pcl2', 'q6.3_FLASH_pcl2', 'q6.4_UPSET_pcl2',\n",
    "                  'q6.5_PHYS_pcl2', 'q6.6_AVTHT_pcl2', 'q6.7_AVSIT_pcl2', 'q6.8_AMNES_pcl2', 'q6.9_DISINT_pcl2',\n",
    "                  'q6.10_DTACH_pcl2', 'q6.11_NUMB_pcl2', 'q6.12_FUTRE_pcl2', 'q6.13_SLEEP_pcl2',\n",
    "                  'q6.14_ANGER_pcl2', 'q6.15_CONC_pcl2', 'q6.16_HYPER_pcl2', 'q6.17_STRTL_pcl2',\n",
    "            \n",
    "            'PCL_score_pcl1', 'PCL_mean_pcl1', 'PCL_std_pcl1', 'intrusion_pcl1', 'intrusion_mean_pcl1', 'intrusion_std_pcl1',\n",
    "            'intrusion_cutoff_pcl1', 'avoidance_pcl1', 'avoidance_mean_pcl1', 'avoidance_std_pcl1', 'avoidance_cutoff_pcl1', \n",
    "            'depression_pcl1', 'depression_mean_pcl1', 'depression_std_pcl1', 'depression_cutoff_pcl1', 'hypertention_pcl1',\n",
    "            'hypertention_mean_pcl1', 'hypertention_std_pcl1', 'hypertention_cutoff_pcl1', 'tred_pcl1', 'tred_mean_pcl1', \n",
    "            'tred_std_pcl1', 'tred_cutoff_pcl1', 'only_avoidance_pcl1','only_avoidance_mean_pcl1', 'only_avoidance_std_pcl1', \n",
    "            'only_avoidance_cutoff_pcl1',\n",
    "            \n",
    "            'PCL_score_pcl2', 'PCL_mean_pcl2', 'PCL_std_pcl2', 'intrusion_pcl2', 'intrusion_mean_pcl2', 'intrusion_std_pcl2',\n",
    "            'intrusion_cutoff_pcl2', 'avoidance_pcl2', 'avoidance_mean_pcl2', 'avoidance_std_pcl2', 'avoidance_cutoff_pcl2', \n",
    "            'depression_pcl2', 'depression_mean_pcl2', 'depression_std_pcl2', 'depression_cutoff_pcl2', 'hypertention_pcl2',\n",
    "            'hypertention_mean_pcl2', 'hypertention_std_pcl2', 'hypertention_cutoff_pcl2', 'tred_pcl2', 'tred_mean_pcl2', \n",
    "            'tred_std_pcl2', 'tred_cutoff_pcl2', 'only_avoidance_pcl2','only_avoidance_mean_pcl2', 'only_avoidance_std_pcl2', \n",
    "            'only_avoidance_cutoff_pcl2'\n",
    "]\n",
    "\n",
    "    X = X.drop(useless_features, axis=1)\n",
    "    return X"
   ]
  },
  {
   "cell_type": "markdown",
   "metadata": {},
   "source": [
    "## cut off the test set"
   ]
  },
  {
   "cell_type": "code",
   "execution_count": 14,
   "metadata": {},
   "outputs": [],
   "source": [
    "X, X_out, Y, y_out = train_test_split(df1[features], df1[target_feature[0]],\n",
    "                                      test_size=0.25, random_state=271828, stratify=df1[target_feature[0]])\n"
   ]
  },
  {
   "cell_type": "markdown",
   "metadata": {},
   "source": [
    "## the Model"
   ]
  },
  {
   "cell_type": "markdown",
   "metadata": {},
   "source": [
    "## CV model of roc auc "
   ]
  },
  {
   "cell_type": "code",
   "execution_count": 15,
   "metadata": {},
   "outputs": [],
   "source": [
    "from sklearn.metrics import roc_curve, auc\n",
    "import matplotlib.pyplot as plt\n"
   ]
  },
  {
   "cell_type": "code",
   "execution_count": 16,
   "metadata": {},
   "outputs": [
    {
     "name": "stdout",
     "output_type": "stream",
     "text": [
      "1\n",
      "2\n",
      "3\n",
      "4\n",
      "5\n",
      "6\n",
      "7\n",
      "8\n",
      "9\n",
      "10\n",
      "11\n",
      "12\n",
      "[0.8610169491525423]\n",
      "1\n",
      "2\n",
      "3\n",
      "4\n",
      "5\n",
      "6\n",
      "7\n",
      "8\n",
      "9\n",
      "10\n",
      "11\n",
      "12\n",
      "[0.8610169491525423, 0.9152542372881356]\n",
      "1\n",
      "2\n",
      "3\n",
      "4\n",
      "5\n",
      "6\n",
      "7\n",
      "8\n",
      "9\n",
      "10\n",
      "11\n",
      "12\n",
      "[0.8610169491525423, 0.9152542372881356, 0.9237288135593221]\n",
      "1\n",
      "2\n",
      "3\n",
      "4\n",
      "5\n",
      "6\n",
      "7\n",
      "8\n",
      "9\n",
      "10\n",
      "11\n",
      "12\n",
      "[0.8610169491525423, 0.9152542372881356, 0.9237288135593221, 0.7161016949152542]\n",
      "1\n",
      "2\n",
      "3\n",
      "4\n",
      "5\n",
      "6\n",
      "7\n",
      "8\n",
      "9\n",
      "10\n",
      "11\n",
      "12\n",
      "[0.8610169491525423, 0.9152542372881356, 0.9237288135593221, 0.7161016949152542, 0.6206896551724138]\n",
      "1\n",
      "2\n",
      "3\n",
      "4\n",
      "5\n",
      "6\n",
      "7\n",
      "8\n",
      "9\n",
      "10\n",
      "11\n",
      "12\n",
      "[0.8610169491525423, 0.9152542372881356, 0.9237288135593221, 0.7161016949152542, 0.6206896551724138, 0.8793103448275863]\n",
      "i = HML_FKBP5, roc_auc = [0.8610169491525423, 0.9152542372881356, 0.9237288135593221, 0.7161016949152542, 0.6206896551724138, 0.8793103448275863]\n",
      "13\n",
      "14\n",
      "15\n",
      "16\n",
      "17\n",
      "18\n",
      "19\n",
      "holdout i = HML_FKBP5, roc_auc = 0.8782771535580525\n"
     ]
    }
   ],
   "source": [
    "\n",
    "X_train, X_test, y_train, y_test = train_test_split(X, Y, test_size=0.2, stratify=Y)\n",
    "cv = StratifiedKFold(6)  \n",
    "scores_auc = []    \n",
    "for train, test in cv.split(X_train, y_train.astype(int)):\n",
    "    print(1)\n",
    "    X_train_cv = X_train.iloc[train]\n",
    "    y_train_cv = y_train.iloc[train]\n",
    "    y_test_cv = y_train.iloc[test]\n",
    "    X_test_cv = X_train.iloc[test]\n",
    "    print(2)\n",
    "    mice = IterativeImputer()\n",
    "    X_train_cv = pd.DataFrame(mice.fit_transform(X_train_cv), columns=X_train_cv.columns)\n",
    "    print(3)\n",
    "    X_test_cv = pd.DataFrame(mice.transform(X_test_cv), columns=X_test_cv.columns)\n",
    "    print(4)\n",
    "    X_train_cv = stds(X_train_cv)\n",
    "    print(5)\n",
    "    X_test_cv = stds(X_test_cv)\n",
    "    print(6)    \n",
    "    X_train_cv = stats(X_train_cv)\n",
    "    print(7)\n",
    "    X_test_cv = stats(X_train_cv, X_test_cv)\n",
    "    print(8)    \n",
    "    X_train_cv = removal(X_train_cv)\n",
    "    print(9)\n",
    "    X_test_cv = removal(X_test_cv)\n",
    "    print(10)\n",
    "                    \n",
    "    pipe = Pipeline(steps=[\n",
    "            #('rfe', RFE(ExtraTreesClassifier(n_estimators=100), n_features_to_select = 20)),\n",
    "            ('classifier', CatBoostClassifier(verbose=0, class_weights=[1, 25], l2_leaf_reg=100))\n",
    "        ])      \n",
    "    print(11)\n",
    "    y_pred_target = pipe.fit(X_train_cv, y_train_cv.values.astype(int)).predict_proba(X_test_cv)[:, 1]\n",
    "    print(12)\n",
    "    \n",
    "    scores_auc.append(roc_auc_score(y_test_cv.astype(int), y_pred_target.ravel()))\n",
    "    print(scores_auc)\n",
    "    \n",
    "print(f\"i = {i}, roc_auc = {scores_auc}\")\n",
    "mice = IterativeImputer()\n",
    "X_train = pd.DataFrame(mice.fit_transform(X_train), columns=X_train.columns)\n",
    "print(13)\n",
    "X_test = pd.DataFrame(mice.transform(X_test), columns=X_test.columns)\n",
    "print(14)\n",
    "X_train = stds(X_train)\n",
    "print(15)\n",
    "X_test = stds(X_test)\n",
    "print(16)\n",
    "X_train = stats(X_train)\n",
    "print(17)\n",
    "X_test = stats(X_train, X_test)\n",
    "print(18)\n",
    "X_train = removal(X_train)\n",
    "X_test = removal(X_test)\n",
    "print(19)                \n",
    "pipe = Pipeline(steps=[\n",
    "        #('rfe', RFE(ExtraTreesClassifier(n_estimators=100), n_features_to_select = 20)),\n",
    "        ('classifier', CatBoostClassifier(verbose=0, class_weights=[1, 25], l2_leaf_reg=100))\n",
    "    ])\n",
    "                    \n",
    "\n",
    "\n",
    "y_pred_target = pipe.fit(X_train, y_train.values.astype(int)).predict_proba(X_test)[:, 1]\n",
    "print(f\"holdout i = {i}, roc_auc = {roc_auc_score(y_test.astype(int), y_pred_target)}\")"
   ]
  },
  {
   "cell_type": "code",
   "execution_count": 17,
   "metadata": {},
   "outputs": [
    {
     "data": {
      "text/plain": [
       "Index(['highschool_diploma', 'dyslexia', 'ADHD', 'T1Acc1t', 'T1Acc1n',\n",
       "       'T1bias', 'Ashken_scale', 'Sephar_scale', 'phq1', 'lot1',\n",
       "       ...\n",
       "       'HML_NPY_Ashken_scale', 'HML_NPY_Sephar_scale',\n",
       "       'COMT_Hap1_recode_Ashken_scale', 'COMT_Hap1_recode_Sephar_scale',\n",
       "       'COMT_Hap2_recode_Ashken_scale', 'COMT_Hap2_recode_Sephar_scale',\n",
       "       'COMT_Hap1_LvsMH_Ashken_scale', 'COMT_Hap1_LvsMH_Sephar_scale',\n",
       "       'HML_FKBP5_Ashken_scale', 'HML_FKBP5_Sephar_scale'],\n",
       "      dtype='object', length=201)"
      ]
     },
     "execution_count": 17,
     "metadata": {},
     "output_type": "execute_result"
    }
   ],
   "source": [
    "X.columns"
   ]
  },
  {
   "cell_type": "code",
   "execution_count": 18,
   "metadata": {},
   "outputs": [
    {
     "data": {
      "text/plain": [
       "(158, 201)"
      ]
     },
     "execution_count": 18,
     "metadata": {},
     "output_type": "execute_result"
    }
   ],
   "source": [
    "X_out.shape"
   ]
  },
  {
   "cell_type": "code",
   "execution_count": 19,
   "metadata": {},
   "outputs": [],
   "source": [
    "mice = IterativeImputer(random_state=271828)\n",
    "X = pd.DataFrame(mice.fit_transform(X), columns=X.columns)\n",
    "X_out = pd.DataFrame(mice.transform(X_out), columns=X_out.columns)"
   ]
  },
  {
   "cell_type": "code",
   "execution_count": 20,
   "metadata": {},
   "outputs": [],
   "source": [
    "                    \n",
    "X = stds(X)\n",
    "X_out = stds(X_out)"
   ]
  },
  {
   "cell_type": "code",
   "execution_count": 21,
   "metadata": {},
   "outputs": [],
   "source": [
    "        \n",
    "X = stats(X)\n",
    "X_out = stats(X, X_out)"
   ]
  },
  {
   "cell_type": "code",
   "execution_count": 22,
   "metadata": {},
   "outputs": [],
   "source": [
    "\n",
    "                    \n",
    "X = removal(X)\n",
    "X_out = removal(X_out)"
   ]
  },
  {
   "cell_type": "code",
   "execution_count": 23,
   "metadata": {},
   "outputs": [
    {
     "data": {
      "text/plain": [
       "Index(['highschool_diploma', 't1_missing', 't2_missing', 'delta_phq',\n",
       "       'delta_lot', 'delta_trait', 'delta_state', 'delta_PCL',\n",
       "       'delta_PCL_Broad', 'delta_PCL_Strict', 'delta_active_coping',\n",
       "       'delta_planning', 'delta_positive_reframing', 'delta_acceptance',\n",
       "       'delta_humor', 'delta_religion', 'delta_emotional_support',\n",
       "       'delta_instrumental_support', 'delta_self_distraction', 'delta_denial',\n",
       "       'delta_venting', 'delta_substance_use',\n",
       "       'delta_behavioral_disengagement', 'delta_self_blame',\n",
       "       'delta_q6.1_INTRU_pcl', 'delta_q6.2_DREAM_pcl', 'delta_q6.3_FLASH_pcl',\n",
       "       'delta_q6.4_UPSET_pcl', 'delta_q6.5_PHYS_pcl', 'delta_q6.6_AVTHT_pcl',\n",
       "       'delta_q6.7_AVSIT_pcl', 'delta_q6.8_AMNES_pcl', 'delta_q6.9_DISINT_pcl',\n",
       "       'delta_q6.10_DTACH_pcl', 'delta_q6.11_NUMB_pcl',\n",
       "       'delta_q6.12_FUTRE_pcl', 'delta_q6.13_SLEEP_pcl',\n",
       "       'delta_q6.14_ANGER_pcl', 'delta_q6.15_CONC_pcl',\n",
       "       'delta_q6.16_HYPER_pcl', 'delta_q6.17_STRTL_pcl',\n",
       "       'HML_5HTT_Ashken_scale', 'HML_5HTT_Sephar_scale',\n",
       "       'HL_MAOA_Ashken_scale', 'HL_MAOA_Sephar_scale', 'HML_NPY_Ashken_scale',\n",
       "       'HML_NPY_Sephar_scale', 'COMT_Hap1_recode_Ashken_scale',\n",
       "       'COMT_Hap1_recode_Sephar_scale', 'COMT_Hap2_recode_Ashken_scale',\n",
       "       'COMT_Hap2_recode_Sephar_scale', 'COMT_Hap1_LvsMH_Ashken_scale',\n",
       "       'COMT_Hap1_LvsMH_Sephar_scale', 'HML_FKBP5_Ashken_scale',\n",
       "       'HML_FKBP5_Sephar_scale', 'outliers_count_t1_35',\n",
       "       'outliers_count_t1_25', 'outliers_count_t2_35', 'outliers_count_t2_25',\n",
       "       'std_genome', 'std_t2', 'std_t1', 'std_pos_coping_t1',\n",
       "       'std_neg_coping_t1', 'std_pos_coping_t2', 'std_neg_coping_t2',\n",
       "       'cooks_d_PCL_score_pcl2', 'dffits_PCL_score_pcl2',\n",
       "       'standard_resid_PCL_score_pcl2', 'cooks_d_intrusion_pcl2',\n",
       "       'dffits_intrusion_pcl2', 'standard_resid_intrusion_pcl2',\n",
       "       'cooks_d_avoidance_pcl2', 'dffits_avoidance_pcl2',\n",
       "       'standard_resid_avoidance_pcl2', 'cooks_d_depression_pcl2',\n",
       "       'dffits_depression_pcl2', 'standard_resid_depression_pcl2',\n",
       "       'cooks_d_hypertention_pcl2', 'dffits_hypertention_pcl2',\n",
       "       'standard_resid_hypertention_pcl2'],\n",
       "      dtype='object')"
      ]
     },
     "execution_count": 23,
     "metadata": {},
     "output_type": "execute_result"
    }
   ],
   "source": [
    "X.columns"
   ]
  },
  {
   "cell_type": "code",
   "execution_count": 24,
   "metadata": {},
   "outputs": [],
   "source": [
    "pipe = Pipeline(steps=[\n",
    "            #('rfe', RFE(ExtraTreesClassifier(n_estimators=100), n_features_to_select = 20)),\n",
    "    ('classifier', CatBoostClassifier(verbose=0, class_weights=[1, 25], l2_leaf_reg=250, random_state=271828))\n",
    "]) \n",
    "pipe = pipe.fit(X, Y.values.astype(int))"
   ]
  },
  {
   "cell_type": "code",
   "execution_count": 25,
   "metadata": {},
   "outputs": [],
   "source": [
    "\n",
    "\n",
    "\n",
    "                    \n",
    "         \n",
    "y_pred_target= pipe.predict_proba(X_out)[:, 1]\n",
    "        "
   ]
  },
  {
   "cell_type": "code",
   "execution_count": 26,
   "metadata": {},
   "outputs": [
    {
     "name": "stdout",
     "output_type": "stream",
     "text": [
      "test roc_auc = 0.906617192331478\n"
     ]
    }
   ],
   "source": [
    "\n",
    "print(f\"test roc_auc = {roc_auc_score(y_out.astype(int), y_pred_target)}\")"
   ]
  },
  {
   "cell_type": "code",
   "execution_count": 27,
   "metadata": {},
   "outputs": [
    {
     "data": {
      "image/png": "[encoded data removed]",
      "text/plain": [
       "<Figure size 432x288 with 1 Axes>"
      ]
     },
     "metadata": {
      "needs_background": "light"
     },
     "output_type": "display_data"
    }
   ],
   "source": [
    "\n",
    "fpr, tpr, threshold = roc_curve(y_out.astype(int), y_pred_target)\n",
    "roc_auc = auc(fpr, tpr)\n",
    "\n",
    "                    # method I: plt\n",
    "plt.title('Receiver Operating Characteristic')\n",
    "plt.plot(fpr, tpr, 'b', label = 'AUC = %0.2f' % roc_auc)\n",
    "plt.legend(loc = 'lower right')\n",
    "plt.plot([0, 1], [0, 1],'r--')\n",
    "plt.xlim([0, 1])\n",
    "plt.ylim([0, 1])\n",
    "plt.ylabel('True Positive Rate')\n",
    "plt.xlabel('False Positive Rate')\n",
    "plt.show() "
   ]
  },
  {
   "cell_type": "code",
   "execution_count": null,
   "metadata": {},
   "outputs": [],
   "source": []
  },
  {
   "cell_type": "code",
   "execution_count": null,
   "metadata": {},
   "outputs": [],
   "source": []
  }
 ],
 "metadata": {
  "kernelspec": {
   "display_name": "Python 3",
   "language": "python",
   "name": "python3"
  },
  "language_info": {
   "codemirror_mode": {
    "name": "ipython",
    "version": 3
   },
   "file_extension": ".py",
   "mimetype": "text/x-python",
   "name": "python",
   "nbconvert_exporter": "python",
   "pygments_lexer": "ipython3",
   "version": "3.6.8"
  }
 },
 "nbformat": 4,
 "nbformat_minor": 2
}
