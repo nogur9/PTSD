{
 "cells": [
  {
   "cell_type": "code",
   "execution_count": 2,
   "id": "elegant-adapter",
   "metadata": {},
   "outputs": [],
   "source": [
    "import scipy\n",
    "import pandas as pd\n",
    "import numpy as np\n",
    "import pandas_profiling as pp"
   ]
  },
  {
   "cell_type": "code",
   "execution_count": 3,
   "id": "multiple-domain",
   "metadata": {},
   "outputs": [
    {
     "data": {
      "application/vnd.jupyter.widget-view+json": {
       "model_id": "48a165e5b2eb412eb3f3404f5844c15e",
       "version_major": 2,
       "version_minor": 0
      },
      "text/plain": [
       "Summarize dataset:   0%|          | 0/119 [00:00<?, ?it/s]"
      ]
     },
     "metadata": {},
     "output_type": "display_data"
    },
    {
     "data": {
      "application/vnd.jupyter.widget-view+json": {
       "model_id": "e6e01b37d4f940759a7dc1fb2d2ccd24",
       "version_major": 2,
       "version_minor": 0
      },
      "text/plain": [
       "Generate report structure:   0%|          | 0/1 [00:00<?, ?it/s]"
      ]
     },
     "metadata": {},
     "output_type": "display_data"
    },
    {
     "data": {
      "application/vnd.jupyter.widget-view+json": {
       "model_id": "20ec2c1707914eb2aa70a80c6d6590b0",
       "version_major": 2,
       "version_minor": 0
      },
      "text/plain": [
       "Render HTML:   0%|          | 0/1 [00:00<?, ?it/s]"
      ]
     },
     "metadata": {},
     "output_type": "display_data"
    },
    {
     "data": {
      "application/vnd.jupyter.widget-view+json": {
       "model_id": "6a0e69c2dab7499e8a133d8f1252af56",
       "version_major": 2,
       "version_minor": 0
      },
      "text/plain": [
       "Export report to file:   0%|          | 0/1 [00:00<?, ?it/s]"
      ]
     },
     "metadata": {},
     "output_type": "display_data"
    }
   ],
   "source": [
    "df = pd.read_csv(r\"C:\\Users\\nogag\\Documents\\birocracy\\PTSDClassifier\\PTSD\\Data\\IDF_ABM_16.2.15_wide.csv\")\n",
    "prof = pp.ProfileReport(df)\n",
    "prof.to_file(output_file='output.html')"
   ]
  },
  {
   "cell_type": "code",
   "execution_count": 5,
   "id": "loving-dylan",
   "metadata": {},
   "outputs": [
    {
     "data": {
      "text/plain": [
       "Index(['Unnamed: 0', 'ID', 'Group', 'Wave', 'Number_train', 'Drop_Out',\n",
       "       'Refusal', 'Makim', 'age', 'גדוד',\n",
       "       ...\n",
       "       'Hyper_T3', 'Hyper_T4', 'PCL1_40', 'filter_$', 'Group_exact_original',\n",
       "       'CAPS40', 'CAPS30', 'PCL4_40', 'PCL4_30', 'PrimaryLast'],\n",
       "      dtype='object', length=105)"
      ]
     },
     "execution_count": 5,
     "metadata": {},
     "output_type": "execute_result"
    }
   ],
   "source": [
    "df.columns"
   ]
  },
  {
   "cell_type": "code",
   "execution_count": 14,
   "id": "intensive-singer",
   "metadata": {},
   "outputs": [
    {
     "data": {
      "text/plain": [
       "['CAPS_Intrusion_T4_CLI',\n",
       " 'CAPS_Avoidance_T4_CLI',\n",
       " 'CAPS_Hyper_T4_CLI',\n",
       " 'Military_Expirience_T4',\n",
       " 'Military_Expirience_T4_New',\n",
       " 'PHQ_T4',\n",
       " 'PCL_T4',\n",
       " 'Intrusion_T4',\n",
       " 'Avoidance_T4',\n",
       " 'Hyper_T4',\n",
       " 'PCL1_40',\n",
       " 'CAPS40',\n",
       " 'PCL4_40',\n",
       " 'PCL4_30']"
      ]
     },
     "execution_count": 14,
     "metadata": {},
     "output_type": "execute_result"
    }
   ],
   "source": [
    "[i for i in df.columns if '4' in i]"
   ]
  },
  {
   "cell_type": "code",
   "execution_count": 13,
   "id": "leading-somewhere",
   "metadata": {},
   "outputs": [
    {
     "data": {
      "text/plain": [
       "['State_T3',\n",
       " 'Trait_T3',\n",
       " 'Military_Expirience_T3',\n",
       " 'Military_Expirience_T3_New',\n",
       " 'PHQ_T3',\n",
       " 'PCL_T3',\n",
       " 'Intrusion_T3',\n",
       " 'Avoidance_T3',\n",
       " 'Hyper_T3',\n",
       " 'CAPS30',\n",
       " 'PCL4_30']"
      ]
     },
     "execution_count": 13,
     "metadata": {},
     "output_type": "execute_result"
    }
   ],
   "source": [
    "[i for i in df.columns if '3' in i]"
   ]
  },
  {
   "cell_type": "code",
   "execution_count": 12,
   "id": "thorough-lying",
   "metadata": {},
   "outputs": [
    {
     "data": {
      "text/plain": [
       "['State_T2',\n",
       " 'Trait_T2',\n",
       " 'Accuracy_all_T2',\n",
       " 'Accuracy_neutral_T2',\n",
       " 'Accuracy_threat_T2',\n",
       " 'Accuracy_NT_T2',\n",
       " 'RT_all_T2',\n",
       " 'RT_neutral_NT_T2',\n",
       " 'RT_threat_NT_T2',\n",
       " 'RT_NT_T2',\n",
       " 'Threat_bias_T2',\n",
       " 'ABV_T2',\n",
       " 'New_rank_2',\n",
       " 'New_Military_Role_2',\n",
       " 'New_Battelion_2',\n",
       " 'New_Company_2',\n",
       " 'Military_Expirience_T2',\n",
       " 'PHQ_T2',\n",
       " 'PCL_T2',\n",
       " 'Intrusion_T2',\n",
       " 'Avoidance_T2',\n",
       " 'Hyper_T2']"
      ]
     },
     "execution_count": 12,
     "metadata": {},
     "output_type": "execute_result"
    }
   ],
   "source": [
    "[i for i in df.columns if '2' in i]"
   ]
  },
  {
   "cell_type": "code",
   "execution_count": 16,
   "id": "positive-imagination",
   "metadata": {},
   "outputs": [
    {
     "data": {
      "text/plain": [
       "['CAPS_Intrusion_T4_CLI',\n",
       " 'CAPS_Avoidance_T4_CLI',\n",
       " 'CAPS_Hyper_T4_CLI',\n",
       " 'Military_Expirience_T4',\n",
       " 'Military_Expirience_T4_New',\n",
       " 'PHQ_T4',\n",
       " 'PCL_T4',\n",
       " 'Intrusion_T4',\n",
       " 'Avoidance_T4',\n",
       " 'Hyper_T4',\n",
       " 'PCL1_40',\n",
       " 'CAPS40',\n",
       " 'PCL4_40',\n",
       " 'PCL4_30']"
      ]
     },
     "execution_count": 16,
     "metadata": {},
     "output_type": "execute_result"
    }
   ],
   "source": [
    "[i for i in df.columns if '4' in i]"
   ]
  },
  {
   "cell_type": "code",
   "execution_count": 15,
   "id": "polished-vintage",
   "metadata": {},
   "outputs": [
    {
     "data": {
      "text/plain": [
       "['Unnamed: 0',\n",
       " 'ID',\n",
       " 'Group',\n",
       " 'Wave',\n",
       " 'Number_train',\n",
       " 'Drop_Out',\n",
       " 'Refusal',\n",
       " 'Makim',\n",
       " 'age',\n",
       " 'גדוד',\n",
       " 'מחלקה',\n",
       " 'birth_country',\n",
       " 'year_aliya',\n",
       " 'mother_tongue',\n",
       " 'birth_father',\n",
       " 'birth_mother',\n",
       " 'years_study',\n",
       " 'bagrut',\n",
       " 'dyslexia',\n",
       " 'ADHD',\n",
       " 'Army_rank',\n",
       " 'Hebrew_Difficult',\n",
       " 'Profesional_Level',\n",
       " 'Social',\n",
       " 'Motivation',\n",
       " 'Mental',\n",
       " 'Total_Performance',\n",
       " 'New_rank',\n",
       " 'New_Military_Role',\n",
       " 'New_Battelion',\n",
       " 'New_Company',\n",
       " 'New_rank_2',\n",
       " 'New_Military_Role_2',\n",
       " 'New_Battelion_2',\n",
       " 'New_Company_2',\n",
       " 'Traumtic_Event',\n",
       " 'Injured',\n",
       " 'Injury_Sevirety',\n",
       " 'PTSD_CAPS',\n",
       " 'Function_Disability',\n",
       " 'PTSD_CAPS_FUNC',\n",
       " 'CAPS_TOTAL_17',\n",
       " 'PCL1_40',\n",
       " 'filter_$',\n",
       " 'Group_exact_original',\n",
       " 'CAPS40',\n",
       " 'CAPS30',\n",
       " 'PCL4_40',\n",
       " 'PCL4_30',\n",
       " 'PrimaryLast']"
      ]
     },
     "execution_count": 15,
     "metadata": {},
     "output_type": "execute_result"
    }
   ],
   "source": [
    "[i for i in df.columns if ('T1' not in i) and ('T2' not in i) and ('T3' not in i) and ('T4' not in i)]"
   ]
  },
  {
   "cell_type": "code",
   "execution_count": null,
   "id": "prerequisite-grounds",
   "metadata": {},
   "outputs": [],
   "source": []
  }
 ],
 "metadata": {
  "kernelspec": {
   "display_name": "Python 3",
   "language": "python",
   "name": "python3"
  },
  "language_info": {
   "codemirror_mode": {
    "name": "ipython",
    "version": 3
   },
   "file_extension": ".py",
   "mimetype": "text/x-python",
   "name": "python",
   "nbconvert_exporter": "python",
   "pygments_lexer": "ipython3",
   "version": "3.7.4"
  }
 },
 "nbformat": 4,
 "nbformat_minor": 5
}
