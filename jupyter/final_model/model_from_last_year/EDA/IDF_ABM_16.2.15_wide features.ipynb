{
 "cells": [
  {
   "cell_type": "code",
   "execution_count": 1,
   "id": "organized-baseline",
   "metadata": {},
   "outputs": [],
   "source": [
    "import scipy\n",
    "import pandas as pd\n",
    "import numpy as np\n",
    "import pandas_profiling as pp"
   ]
  },
  {
   "cell_type": "code",
   "execution_count": 21,
   "id": "stuck-bandwidth",
   "metadata": {},
   "outputs": [
    {
     "data": {
      "text/plain": [
       "1      False\n",
       "6      False\n",
       "7      False\n",
       "12     False\n",
       "16     False\n",
       "       ...  \n",
       "702    False\n",
       "704     True\n",
       "712     True\n",
       "713    False\n",
       "719    False\n",
       "Name: PCL_T4, Length: 179, dtype: bool"
      ]
     },
     "execution_count": 21,
     "metadata": {},
     "output_type": "execute_result"
    }
   ],
   "source": [
    "df = pd.read_csv(r\"C:\\Users\\nogag\\Documents\\birocracy\\PTSDClassifier\\PTSD\\Data\\IDF_ABM_16.2.15_wide.csv\")\n",
    "df = df[df['Group']=='control']\n",
    "df = df[~df['PCL_T4'].isna()]"
   ]
  },
  {
   "cell_type": "markdown",
   "id": "acute-split",
   "metadata": {},
   "source": [
    "## סינון"
   ]
  },
  {
   "cell_type": "code",
   "execution_count": 7,
   "id": "about-vermont",
   "metadata": {},
   "outputs": [
    {
     "data": {
      "text/plain": [
       "array(['placebo', 'control', 'train_4', 'train_8'], dtype=object)"
      ]
     },
     "execution_count": 7,
     "metadata": {},
     "output_type": "execute_result"
    }
   ],
   "source": [
    "df['Group'].unique()"
   ]
  },
  {
   "cell_type": "markdown",
   "id": "opponent-twins",
   "metadata": {},
   "source": [
    "## Demographic"
   ]
  },
  {
   "cell_type": "code",
   "execution_count": null,
   "id": "mighty-sheet",
   "metadata": {},
   "outputs": [],
   "source": [
    "demographics = ['Group',  'Wave', 'Number_train',  'Drop_Out',  'Refusal',\n",
    " 'Makim', 'age',  'גדוד',  'מחלקה',  'birth_country',  'year_aliya',  'mother_tongue',\n",
    " 'birth_father',  'birth_mother',  'years_study',  'bagrut',  'dyslexia',  'ADHD',\n",
    " 'Army_rank',  'Hebrew_Difficult',  'Profesional_Level',  'Social',  'Motivation',\n",
    " 'Mental',  'Total_Performance',  'New_rank',  'New_Military_Role',  'New_Battelion',\n",
    " 'New_Company',  'New_rank_2',  'New_Military_Role_2',\n",
    " 'New_Battelion_2',  'New_Company_2',  'Traumtic_Event',  'Injured',\n",
    " 'Injury_Sevirety',  'PTSD_CAPS',  'Function_Disability',  'PTSD_CAPS_FUNC',\n",
    " 'CAPS_TOTAL_17',  'filter_$',  'Group_exact_original',  'CAPS40',\n",
    " 'CAPS30',  'PrimaryLast']"
   ]
  },
  {
   "cell_type": "markdown",
   "id": "wicked-humanitarian",
   "metadata": {},
   "source": [
    "## T1 data"
   ]
  },
  {
   "cell_type": "code",
   "execution_count": 8,
   "id": "humanitarian-albuquerque",
   "metadata": {},
   "outputs": [],
   "source": [
    "T1_columns  = ['State_T1', 'Trait_T1', 'Accuracy_all_T1', 'Accuracy_neutral_T1',\n",
    " 'Accuracy_threat_T1', 'Accuracy_NT_T1', 'RT_all_T1', 'RT_neutral_NT_T1',\n",
    " 'RT_threat_NT_T1', 'RT_NT_T1', 'Threat_Bias_T1', 'ABV_T1', 'Military_Expirience_T1',\n",
    " 'CAPS_TOTAL_17', 'PHQ_T1', 'PCL_T1', 'Intrusion_T1', 'Avoidance_T1',\n",
    " 'Hyper_T1', 'PCL1_40']"
   ]
  },
  {
   "cell_type": "markdown",
   "id": "technological-geology",
   "metadata": {},
   "source": [
    "## transformation dictionary"
   ]
  },
  {
   "cell_type": "code",
   "execution_count": 11,
   "id": "recognized-refund",
   "metadata": {},
   "outputs": [],
   "source": [
    "trans_2009_2016_features = {\n",
    "    \"highschool_diploma\": \"bagrut\",\n",
    "    \"dyslexia\":\"dyslexia\", \n",
    "    \"ADHD\":\"ADHD\",\n",
    "    \"T1Acc1t\": \"Accuracy_threat_T1\",\n",
    "    \"T1Acc1n\": \"Accuracy_NT_T1\",\n",
    "    \"T1bias\": \"Threat_Bias_T1\",\n",
    "    \"phq1\": \"PHQ_T1\",\n",
    "    \"trait1\": \"Trait_T1\",\n",
    "    \"state1\": \"State_T1\",\n",
    "    \"PCL1\": \"PCL_T1\",\n",
    "    \"intrusion_score\": \"Intrusion_T1\"\n",
    "    }"
   ]
  },
  {
   "cell_type": "code",
   "execution_count": 17,
   "id": "textile-netherlands",
   "metadata": {},
   "outputs": [
    {
     "ename": "KeyError",
     "evalue": "'T1Acc1n'",
     "output_type": "error",
     "traceback": [
      "\u001b[1;31m---------------------------------------------------------------------------\u001b[0m",
      "\u001b[1;31mKeyError\u001b[0m                                  Traceback (most recent call last)",
      "\u001b[1;32m~\\AppData\\Local\\Continuum\\anaconda3\\lib\\site-packages\\pandas\\core\\indexes\\base.py\u001b[0m in \u001b[0;36mget_loc\u001b[1;34m(self, key, method, tolerance)\u001b[0m\n\u001b[0;32m   3079\u001b[0m             \u001b[1;32mtry\u001b[0m\u001b[1;33m:\u001b[0m\u001b[1;33m\u001b[0m\u001b[1;33m\u001b[0m\u001b[0m\n\u001b[1;32m-> 3080\u001b[1;33m                 \u001b[1;32mreturn\u001b[0m \u001b[0mself\u001b[0m\u001b[1;33m.\u001b[0m\u001b[0m_engine\u001b[0m\u001b[1;33m.\u001b[0m\u001b[0mget_loc\u001b[0m\u001b[1;33m(\u001b[0m\u001b[0mcasted_key\u001b[0m\u001b[1;33m)\u001b[0m\u001b[1;33m\u001b[0m\u001b[1;33m\u001b[0m\u001b[0m\n\u001b[0m\u001b[0;32m   3081\u001b[0m             \u001b[1;32mexcept\u001b[0m \u001b[0mKeyError\u001b[0m \u001b[1;32mas\u001b[0m \u001b[0merr\u001b[0m\u001b[1;33m:\u001b[0m\u001b[1;33m\u001b[0m\u001b[1;33m\u001b[0m\u001b[0m\n",
      "\u001b[1;32mpandas\\_libs\\index.pyx\u001b[0m in \u001b[0;36mpandas._libs.index.IndexEngine.get_loc\u001b[1;34m()\u001b[0m\n",
      "\u001b[1;32mpandas\\_libs\\index.pyx\u001b[0m in \u001b[0;36mpandas._libs.index.IndexEngine.get_loc\u001b[1;34m()\u001b[0m\n",
      "\u001b[1;32mpandas\\_libs\\hashtable_class_helper.pxi\u001b[0m in \u001b[0;36mpandas._libs.hashtable.PyObjectHashTable.get_item\u001b[1;34m()\u001b[0m\n",
      "\u001b[1;32mpandas\\_libs\\hashtable_class_helper.pxi\u001b[0m in \u001b[0;36mpandas._libs.hashtable.PyObjectHashTable.get_item\u001b[1;34m()\u001b[0m\n",
      "\u001b[1;31mKeyError\u001b[0m: 'T1Acc1n'",
      "\nThe above exception was the direct cause of the following exception:\n",
      "\u001b[1;31mKeyError\u001b[0m                                  Traceback (most recent call last)",
      "\u001b[1;32m<ipython-input-17-864936a2f427>\u001b[0m in \u001b[0;36m<module>\u001b[1;34m\u001b[0m\n\u001b[0;32m      1\u001b[0m \u001b[0mtrans_2016_2009_features\u001b[0m \u001b[1;33m=\u001b[0m \u001b[1;33m{\u001b[0m\u001b[0mtrans_2009_2016_features\u001b[0m\u001b[1;33m[\u001b[0m\u001b[0mi\u001b[0m\u001b[1;33m]\u001b[0m\u001b[1;33m:\u001b[0m \u001b[0mi\u001b[0m \u001b[1;32mfor\u001b[0m \u001b[0mi\u001b[0m \u001b[1;32min\u001b[0m \u001b[0mtrans_2009_2016_features\u001b[0m\u001b[1;33m.\u001b[0m\u001b[0mkeys\u001b[0m\u001b[1;33m(\u001b[0m\u001b[1;33m)\u001b[0m\u001b[1;33m}\u001b[0m\u001b[1;33m\u001b[0m\u001b[1;33m\u001b[0m\u001b[0m\n\u001b[0;32m      2\u001b[0m \u001b[1;33m\u001b[0m\u001b[0m\n\u001b[1;32m----> 3\u001b[1;33m \u001b[0mdf\u001b[0m\u001b[1;33m.\u001b[0m\u001b[0mrename\u001b[0m\u001b[1;33m(\u001b[0m\u001b[0mtrans_2009_2016_features\u001b[0m\u001b[1;33m,\u001b[0m \u001b[0maxis\u001b[0m\u001b[1;33m=\u001b[0m\u001b[1;36m1\u001b[0m\u001b[1;33m)\u001b[0m\u001b[1;33m[\u001b[0m\u001b[1;34m'T1Acc1n'\u001b[0m\u001b[1;33m]\u001b[0m\u001b[1;33m\u001b[0m\u001b[1;33m\u001b[0m\u001b[0m\n\u001b[0m",
      "\u001b[1;32m~\\AppData\\Local\\Continuum\\anaconda3\\lib\\site-packages\\pandas\\core\\frame.py\u001b[0m in \u001b[0;36m__getitem__\u001b[1;34m(self, key)\u001b[0m\n\u001b[0;32m   3022\u001b[0m             \u001b[1;32mif\u001b[0m \u001b[0mself\u001b[0m\u001b[1;33m.\u001b[0m\u001b[0mcolumns\u001b[0m\u001b[1;33m.\u001b[0m\u001b[0mnlevels\u001b[0m \u001b[1;33m>\u001b[0m \u001b[1;36m1\u001b[0m\u001b[1;33m:\u001b[0m\u001b[1;33m\u001b[0m\u001b[1;33m\u001b[0m\u001b[0m\n\u001b[0;32m   3023\u001b[0m                 \u001b[1;32mreturn\u001b[0m \u001b[0mself\u001b[0m\u001b[1;33m.\u001b[0m\u001b[0m_getitem_multilevel\u001b[0m\u001b[1;33m(\u001b[0m\u001b[0mkey\u001b[0m\u001b[1;33m)\u001b[0m\u001b[1;33m\u001b[0m\u001b[1;33m\u001b[0m\u001b[0m\n\u001b[1;32m-> 3024\u001b[1;33m             \u001b[0mindexer\u001b[0m \u001b[1;33m=\u001b[0m \u001b[0mself\u001b[0m\u001b[1;33m.\u001b[0m\u001b[0mcolumns\u001b[0m\u001b[1;33m.\u001b[0m\u001b[0mget_loc\u001b[0m\u001b[1;33m(\u001b[0m\u001b[0mkey\u001b[0m\u001b[1;33m)\u001b[0m\u001b[1;33m\u001b[0m\u001b[1;33m\u001b[0m\u001b[0m\n\u001b[0m\u001b[0;32m   3025\u001b[0m             \u001b[1;32mif\u001b[0m \u001b[0mis_integer\u001b[0m\u001b[1;33m(\u001b[0m\u001b[0mindexer\u001b[0m\u001b[1;33m)\u001b[0m\u001b[1;33m:\u001b[0m\u001b[1;33m\u001b[0m\u001b[1;33m\u001b[0m\u001b[0m\n\u001b[0;32m   3026\u001b[0m                 \u001b[0mindexer\u001b[0m \u001b[1;33m=\u001b[0m \u001b[1;33m[\u001b[0m\u001b[0mindexer\u001b[0m\u001b[1;33m]\u001b[0m\u001b[1;33m\u001b[0m\u001b[1;33m\u001b[0m\u001b[0m\n",
      "\u001b[1;32m~\\AppData\\Local\\Continuum\\anaconda3\\lib\\site-packages\\pandas\\core\\indexes\\base.py\u001b[0m in \u001b[0;36mget_loc\u001b[1;34m(self, key, method, tolerance)\u001b[0m\n\u001b[0;32m   3080\u001b[0m                 \u001b[1;32mreturn\u001b[0m \u001b[0mself\u001b[0m\u001b[1;33m.\u001b[0m\u001b[0m_engine\u001b[0m\u001b[1;33m.\u001b[0m\u001b[0mget_loc\u001b[0m\u001b[1;33m(\u001b[0m\u001b[0mcasted_key\u001b[0m\u001b[1;33m)\u001b[0m\u001b[1;33m\u001b[0m\u001b[1;33m\u001b[0m\u001b[0m\n\u001b[0;32m   3081\u001b[0m             \u001b[1;32mexcept\u001b[0m \u001b[0mKeyError\u001b[0m \u001b[1;32mas\u001b[0m \u001b[0merr\u001b[0m\u001b[1;33m:\u001b[0m\u001b[1;33m\u001b[0m\u001b[1;33m\u001b[0m\u001b[0m\n\u001b[1;32m-> 3082\u001b[1;33m                 \u001b[1;32mraise\u001b[0m \u001b[0mKeyError\u001b[0m\u001b[1;33m(\u001b[0m\u001b[0mkey\u001b[0m\u001b[1;33m)\u001b[0m \u001b[1;32mfrom\u001b[0m \u001b[0merr\u001b[0m\u001b[1;33m\u001b[0m\u001b[1;33m\u001b[0m\u001b[0m\n\u001b[0m\u001b[0;32m   3083\u001b[0m \u001b[1;33m\u001b[0m\u001b[0m\n\u001b[0;32m   3084\u001b[0m         \u001b[1;32mif\u001b[0m \u001b[0mtolerance\u001b[0m \u001b[1;32mis\u001b[0m \u001b[1;32mnot\u001b[0m \u001b[1;32mNone\u001b[0m\u001b[1;33m:\u001b[0m\u001b[1;33m\u001b[0m\u001b[1;33m\u001b[0m\u001b[0m\n",
      "\u001b[1;31mKeyError\u001b[0m: 'T1Acc1n'"
     ]
    }
   ],
   "source": [
    "trans_2016_2009_features = {trans_2009_2016_features[i]: i for i in trans_2009_2016_features.keys()}\n",
    "\n",
    "df.rename(trans_2016_2009_features, axis=1)['T1Acc1n']"
   ]
  },
  {
   "cell_type": "markdown",
   "id": "duplicate-jurisdiction",
   "metadata": {},
   "source": [
    "## T4 data"
   ]
  },
  {
   "cell_type": "code",
   "execution_count": null,
   "id": "burning-seventh",
   "metadata": {},
   "outputs": [],
   "source": [
    "T4_columns = ['CAPS_Intrusion_T4_CLI',\n",
    " 'CAPS_Avoidance_T4_CLI',\n",
    " 'CAPS_Hyper_T4_CLI',\n",
    " 'Military_Expirience_T4',\n",
    " 'Military_Expirience_T4_New',\n",
    " 'PHQ_T4',\n",
    " 'PCL_T4',\n",
    " 'Intrusion_T4',\n",
    " 'Avoidance_T4',\n",
    " 'Hyper_T4',\n",
    " 'PCL1_40',\n",
    " 'CAPS40',\n",
    " 'PCL4_40',\n",
    " 'PCL4_30']"
   ]
  }
 ],
 "metadata": {
  "kernelspec": {
   "display_name": "Python 3",
   "language": "python",
   "name": "python3"
  },
  "language_info": {
   "codemirror_mode": {
    "name": "ipython",
    "version": 3
   },
   "file_extension": ".py",
   "mimetype": "text/x-python",
   "name": "python",
   "nbconvert_exporter": "python",
   "pygments_lexer": "ipython3",
   "version": "3.7.4"
  }
 },
 "nbformat": 4,
 "nbformat_minor": 5
}
