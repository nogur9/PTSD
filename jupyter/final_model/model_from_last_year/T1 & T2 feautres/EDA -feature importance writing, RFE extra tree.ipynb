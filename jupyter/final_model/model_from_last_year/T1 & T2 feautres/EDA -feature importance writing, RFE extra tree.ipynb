{
 "cells": [
  {
   "cell_type": "code",
   "execution_count": 1,
   "metadata": {},
   "outputs": [
    {
     "name": "stderr",
     "output_type": "stream",
     "text": [
      "Using TensorFlow backend.\n",
      "C:\\Users\\nogag\\AppData\\Local\\Continuum\\anaconda3\\lib\\site-packages\\tensorflow\\python\\framework\\dtypes.py:526: FutureWarning: Passing (type, 1) or '1type' as a synonym of type is deprecated; in a future version of numpy, it will be understood as (type, (1,)) / '(1,)type'.\n",
      "  _np_qint8 = np.dtype([(\"qint8\", np.int8, 1)])\n",
      "C:\\Users\\nogag\\AppData\\Local\\Continuum\\anaconda3\\lib\\site-packages\\tensorflow\\python\\framework\\dtypes.py:527: FutureWarning: Passing (type, 1) or '1type' as a synonym of type is deprecated; in a future version of numpy, it will be understood as (type, (1,)) / '(1,)type'.\n",
      "  _np_quint8 = np.dtype([(\"quint8\", np.uint8, 1)])\n",
      "C:\\Users\\nogag\\AppData\\Local\\Continuum\\anaconda3\\lib\\site-packages\\tensorflow\\python\\framework\\dtypes.py:528: FutureWarning: Passing (type, 1) or '1type' as a synonym of type is deprecated; in a future version of numpy, it will be understood as (type, (1,)) / '(1,)type'.\n",
      "  _np_qint16 = np.dtype([(\"qint16\", np.int16, 1)])\n",
      "C:\\Users\\nogag\\AppData\\Local\\Continuum\\anaconda3\\lib\\site-packages\\tensorflow\\python\\framework\\dtypes.py:529: FutureWarning: Passing (type, 1) or '1type' as a synonym of type is deprecated; in a future version of numpy, it will be understood as (type, (1,)) / '(1,)type'.\n",
      "  _np_quint16 = np.dtype([(\"quint16\", np.uint16, 1)])\n",
      "C:\\Users\\nogag\\AppData\\Local\\Continuum\\anaconda3\\lib\\site-packages\\tensorflow\\python\\framework\\dtypes.py:530: FutureWarning: Passing (type, 1) or '1type' as a synonym of type is deprecated; in a future version of numpy, it will be understood as (type, (1,)) / '(1,)type'.\n",
      "  _np_qint32 = np.dtype([(\"qint32\", np.int32, 1)])\n",
      "C:\\Users\\nogag\\AppData\\Local\\Continuum\\anaconda3\\lib\\site-packages\\tensorflow\\python\\framework\\dtypes.py:535: FutureWarning: Passing (type, 1) or '1type' as a synonym of type is deprecated; in a future version of numpy, it will be understood as (type, (1,)) / '(1,)type'.\n",
      "  np_resource = np.dtype([(\"resource\", np.ubyte, 1)])\n"
     ]
    }
   ],
   "source": [
    "from catboost import CatBoostClassifier\n",
    "from scipy import stats\n",
    "import numpy as np\n",
    "import pandas as pd\n",
    "from sklearn.model_selection import train_test_split, StratifiedKFold, cross_val_score\n",
    "from sklearn.metrics import precision_score, roc_auc_score, f1_score, recall_score\n",
    "from sklearn.preprocessing import StandardScaler\n",
    "from fancyimpute import IterativeImputer\n",
    "from sklearn.base import BaseEstimator, TransformerMixin\n",
    "\n",
    "from sklearn.feature_selection import SelectFromModel, RFE\n",
    "from sklearn.linear_model import LogisticRegression\n",
    "from imblearn.pipeline import Pipeline\n",
    "from sklearn.ensemble import RandomForestClassifier,ExtraTreesClassifier\n",
    "from sklearn.metrics import roc_curve, auc\n",
    "import matplotlib.pyplot as plt\n",
    "import statsmodels.api as sm\n",
    "from statsmodels.formula.api import ols\n",
    "from sklearn.model_selection import GridSearchCV\n",
    "import xlsxwriter\n",
    "from random import randint\n",
    "random_state = 7656\n",
    "from preprocessing import stds, stats, removal, cv_preprocessing\n",
    "from load_data import load_data\n",
    "import os"
   ]
  },
  {
   "cell_type": "code",
   "execution_count": 2,
   "metadata": {},
   "outputs": [],
   "source": [
    "class CustomAnovaFeatureSelection(BaseEstimator, TransformerMixin):\n",
    "    def __init__(self, n_features=None):\n",
    "        super().__init__()\n",
    "\n",
    "        self.n_features = n_features\n",
    "        self.features = []\n",
    "        \n",
    "    def fit(self, X, y=None):\n",
    "        if len(X.columns) < 3:\n",
    "            return X\n",
    "        \n",
    "        if self.n_features is None:\n",
    "            self.n_features = max(int(np.sqrt(len(X.columns))), 3)\n",
    "        \n",
    "        features_significance = {}\n",
    "        # three way anova\n",
    "\n",
    "        for i, a in enumerate(X.columns):\n",
    "            for j, b in enumerate(X.columns[:i]):\n",
    "                for c in X.columns[:j]:\n",
    "                    \n",
    "                    model = ols(f'y ~ {a} + {b} + {c} + {a}:{b} + {a}:{c} + {b}:{c} + {a}:{b}:{c}', data=X).fit()\n",
    "                    mo = sm.stats.anova_lm(model,typ=3)\n",
    "                    print(a, b, c)\n",
    "                    a_significance = [mo['PR(>F)'][f'{a}'], mo['PR(>F)'][f'{a}:{c}'], mo['PR(>F)'][f'{a}:{b}'], mo['PR(>F)'][f'{a}:{b}:{c}']]\n",
    "                    if f'{a}' in features_significance.keys():\n",
    "                        a_significance.append(features_significance[f'{a}'])\n",
    "                    features_significance[f'{a}'] = min(a_significance)\n",
    "                    \n",
    "                    b_significance = [mo['PR(>F)'][f'{b}'], mo['PR(>F)'][f'{b}:{c}'], mo['PR(>F)'][f'{a}:{b}'], mo['PR(>F)'][f'{a}:{b}:{c}']]\n",
    "                    if f'{b}' in features_significance.keys():\n",
    "                        b_significance.append(features_significance[f'{b}'])\n",
    "                    features_significance[f'{b}'] = min(b_significance)\n",
    "                    \n",
    "                    c_significance = [mo['PR(>F)'][f'{c}'], mo['PR(>F)'][f'{a}:{c}'], mo['PR(>F)'][f'{b}:{c}'], mo['PR(>F)'][f'{a}:{b}:{c}']]\n",
    "                    if f'{c}' in features_significance.keys():\n",
    "                        c_significance.append(features_significance[f'{c}'])\n",
    "                    features_significance[f'{c}'] = min(c_significance)                    \n",
    "        \n",
    "        features = sorted(X.columns, key=lambda x: features_significance[x])\n",
    "        self.features = features[:self.n_features]\n",
    "        \n",
    "        #print(self.features)\n",
    "        i = randint(start, end)\n",
    "        kendall_feats = X.columns.insert(0, 'Features')\n",
    "        with xlsxwriter.Workbook(f'CustomAnovaFeatureSelection_{i}.xlsx') as workbook:\n",
    "            worksheet = workbook.add_worksheet()\n",
    "            worksheet.write_column(0, 0, kendall_feats)\n",
    "        \n",
    "        return self\n",
    "\n",
    "    def transform(self, X, y=None):\n",
    "        \n",
    "        return X[self.features]"
   ]
  },
  {
   "cell_type": "code",
   "execution_count": 3,
   "metadata": {},
   "outputs": [],
   "source": [
    "def clean_features(X):\n",
    "    rename_cols = {i: i.replace('.', '').replace(' ', '') for i in X.columns}\n",
    "    return X.rename(rename_cols, axis=1)"
   ]
  },
  {
   "cell_type": "code",
   "execution_count": 4,
   "metadata": {},
   "outputs": [
    {
     "name": "stdout",
     "output_type": "stream",
     "text": [
      "\n",
      "\n",
      "T2\n",
      "\n",
      "\n",
      "pcl1\n",
      "PCL1_Broad\n",
      "PCL1_Strict\n",
      "(array([ 20, 502, 585, 688], dtype=int64),)\n"
     ]
    }
   ],
   "source": [
    "df_preprocessed, features, target_feature = load_data()\n",
    "X, X_out, Y, y_out = train_test_split(df_preprocessed[features], df_preprocessed[target_feature[0]],\\\n",
    "                                      test_size=0.25, random_state=random_state,\\\n",
    "                                      stratify=df_preprocessed[target_feature[0]])\n",
    "\n",
    "\n"
   ]
  },
  {
   "cell_type": "code",
   "execution_count": 5,
   "metadata": {
    "scrolled": false
   },
   "outputs": [
    {
     "name": "stderr",
     "output_type": "stream",
     "text": [
      "C:\\Users\\nogag\\AppData\\Local\\Continuum\\anaconda3\\lib\\site-packages\\sklearn\\utils\\validation.py:72: FutureWarning: Pass n_features_to_select=15 as keyword args. From version 1.0 (renaming of 0.25) passing these as positional arguments will result in an error\n",
      "  \"will result in an error\", FutureWarning)\n"
     ]
    },
    {
     "name": "stdout",
     "output_type": "stream",
     "text": [
      "i = 7656, roc_auc = 0.79845846524951, params = {'classifier__class_weights': [1, 10], 'classifier__depth': 6, 'classifier__l2_leaf_reg': 150}\n",
      "holdout i = 7656, roc_auc = 0.72\n",
      "PCL1\n",
      "phq2\n",
      "PCL2\n",
      "denial2\n",
      "q68_AMNES_pcl1\n",
      "q62_DREAM_pcl2\n",
      "q69_DISINT_pcl2\n",
      "q613_SLEEP_pcl2\n",
      "q615_CONC_pcl2\n",
      "binary_intrusion_pcl1\n",
      "binary_avoidance_pcl1\n",
      "delta_PCL\n",
      "delta_q611_NUMB_pcl\n",
      "std_pos_coping_t1\n",
      "dffits_intrusion_pcl2\n",
      "\n",
      "\n",
      "\n",
      "\n"
     ]
    },
    {
     "name": "stderr",
     "output_type": "stream",
     "text": [
      "C:\\Users\\nogag\\AppData\\Local\\Continuum\\anaconda3\\lib\\site-packages\\sklearn\\utils\\validation.py:72: FutureWarning: Pass n_features_to_select=15 as keyword args. From version 1.0 (renaming of 0.25) passing these as positional arguments will result in an error\n",
      "  \"will result in an error\", FutureWarning)\n"
     ]
    },
    {
     "name": "stdout",
     "output_type": "stream",
     "text": [
      "i = 7637, roc_auc = 0.7806328207447609, params = {'classifier__class_weights': [1, 10], 'classifier__depth': 6, 'classifier__l2_leaf_reg': 150}\n",
      "holdout i = 7637, roc_auc = 0.825\n",
      "T1Acc1t\n",
      "phq2\n",
      "PCL2\n",
      "q62_DREAM_pcl1\n",
      "q68_AMNES_pcl1\n",
      "q611_NUMB_pcl1\n",
      "q65_PHYS_pcl2\n",
      "q67_AVSIT_pcl2\n",
      "q69_DISINT_pcl2\n",
      "q611_NUMB_pcl2\n",
      "q613_SLEEP_pcl2\n",
      "delta_emotional_support\n",
      "delta_self_distraction\n",
      "delta_q613_SLEEP_pcl\n",
      "cooks_d_intrusion_pcl2\n",
      "\n",
      "\n",
      "\n",
      "\n"
     ]
    },
    {
     "name": "stderr",
     "output_type": "stream",
     "text": [
      "C:\\Users\\nogag\\AppData\\Local\\Continuum\\anaconda3\\lib\\site-packages\\sklearn\\utils\\validation.py:72: FutureWarning: Pass n_features_to_select=15 as keyword args. From version 1.0 (renaming of 0.25) passing these as positional arguments will result in an error\n",
      "  \"will result in an error\", FutureWarning)\n"
     ]
    },
    {
     "name": "stdout",
     "output_type": "stream",
     "text": [
      "i = 7690, roc_auc = 0.7340701794060003, params = {'classifier__class_weights': [1, 10], 'classifier__depth': 6, 'classifier__l2_leaf_reg': 150}\n",
      "holdout i = 7690, roc_auc = 0.79\n",
      "phq2\n",
      "PCL2\n",
      "denial2\n",
      "substance_use2\n",
      "q68_AMNES_pcl1\n",
      "q613_SLEEP_pcl1\n",
      "q615_CONC_pcl1\n",
      "q67_AVSIT_pcl2\n",
      "q69_DISINT_pcl2\n",
      "q611_NUMB_pcl2\n",
      "delta_instrumental_support\n",
      "delta_q617_STRTL_pcl\n",
      "std_pos_coping_t2\n",
      "cooks_d_PCL_score_pcl2\n",
      "dffits_intrusion_pcl2\n",
      "\n",
      "\n",
      "\n",
      "\n"
     ]
    },
    {
     "name": "stderr",
     "output_type": "stream",
     "text": [
      "C:\\Users\\nogag\\AppData\\Local\\Continuum\\anaconda3\\lib\\site-packages\\sklearn\\utils\\validation.py:72: FutureWarning: Pass n_features_to_select=15 as keyword args. From version 1.0 (renaming of 0.25) passing these as positional arguments will result in an error\n",
      "  \"will result in an error\", FutureWarning)\n"
     ]
    },
    {
     "name": "stdout",
     "output_type": "stream",
     "text": [
      "i = 7622, roc_auc = 0.755031659882406, params = {'classifier__class_weights': [1, 10], 'classifier__depth': 6, 'classifier__l2_leaf_reg': 150}\n",
      "holdout i = 7622, roc_auc = 0.8066666666666666\n",
      "phq1\n",
      "phq2\n",
      "PCL2\n",
      "q65_PHYS_pcl1\n",
      "q68_AMNES_pcl1\n",
      "q617_STRTL_pcl1\n",
      "q64_UPSET_pcl2\n",
      "q615_CONC_pcl2\n",
      "delta_PCL\n",
      "delta_religion\n",
      "delta_q68_AMNES_pcl\n",
      "delta_q611_NUMB_pcl\n",
      "delta_q613_SLEEP_pcl\n",
      "delta_q617_STRTL_pcl\n",
      "cooks_d_intrusion_pcl2\n",
      "\n",
      "\n",
      "\n",
      "\n"
     ]
    },
    {
     "name": "stderr",
     "output_type": "stream",
     "text": [
      "C:\\Users\\nogag\\AppData\\Local\\Continuum\\anaconda3\\lib\\site-packages\\sklearn\\utils\\validation.py:72: FutureWarning: Pass n_features_to_select=15 as keyword args. From version 1.0 (renaming of 0.25) passing these as positional arguments will result in an error\n",
      "  \"will result in an error\", FutureWarning)\n"
     ]
    },
    {
     "name": "stdout",
     "output_type": "stream",
     "text": [
      "i = 7675, roc_auc = 0.7937547112920247, params = {'classifier__class_weights': [1, 10], 'classifier__depth': 6, 'classifier__l2_leaf_reg': 150}\n",
      "holdout i = 7675, roc_auc = 0.81\n",
      "phq1\n",
      "PCL1\n",
      "phq2\n",
      "PCL2\n",
      "positive_reframing1\n",
      "COMT_Hap2_recode\n",
      "q62_DREAM_pcl1\n",
      "q68_AMNES_pcl1\n",
      "q616_HYPER_pcl1\n",
      "q65_PHYS_pcl2\n",
      "q69_DISINT_pcl2\n",
      "binary_intrusion_pcl1\n",
      "delta_trait\n",
      "delta_q617_STRTL_pcl\n",
      "dffits_intrusion_pcl2\n",
      "\n",
      "\n",
      "\n",
      "\n"
     ]
    }
   ],
   "source": [
    "\n",
    "for i in [random_state, random_state-19, random_state+34, random_state-34, random_state+19]:\n",
    "    X_train, X_test, y_train, y_test = train_test_split(X, Y,  random_state=i, test_size=0.2, stratify=Y)\n",
    "    cv = StratifiedKFold(6, random_state=i, shuffle=True)\n",
    "\n",
    "    X_train, X_test = cv_preprocessing(X_train, X_test, i)\n",
    "    \n",
    "    X_train, X_test = clean_features(X_train), clean_features(X_test)\n",
    "    pipe = Pipeline(steps=[\n",
    "    ('rfe', RFE(ExtraTreesClassifier(), 15)),\n",
    "    ('classifier', CatBoostClassifier(verbose=0, random_state=i))])\n",
    "        \n",
    "    grid_params = [{\n",
    "    'classifier__class_weights':[[1, 10]],#, [1, 15], [1, 30]],\n",
    "    'classifier__l2_leaf_reg': [150],# 50],\n",
    "    'classifier__depth': [6],#, 9]\n",
    "    }]\n",
    "    clf = GridSearchCV(pipe, grid_params, cv=cv, scoring='roc_auc')\n",
    "    clf.fit(X_train, y_train.values.astype(int))#, fit_params = {'classifier__early_stopping_rounds':15})\n",
    "    print(f\"i = {i}, roc_auc = {clf.best_score_}, params = {clf.best_params_}\")\n",
    "    y_pred_target = clf.best_estimator_.predict_proba(X_test)[:, 1]\n",
    "    print(f\"holdout i = {i}, roc_auc = {roc_auc_score(y_test.astype(int), y_pred_target)}\")\n",
    "    for i, j in zip(X_train.columns, clf.best_estimator_['rfe'].ranking_):\n",
    "        if j == 1:\n",
    "            print(i)\n",
    "    print(\"\\n\\n\\n\")"
   ]
  },
  {
   "cell_type": "code",
   "execution_count": null,
   "metadata": {},
   "outputs": [],
   "source": []
  },
  {
   "cell_type": "code",
   "execution_count": null,
   "metadata": {},
   "outputs": [],
   "source": []
  }
 ],
 "metadata": {
  "kernelspec": {
   "display_name": "Python 3",
   "language": "python",
   "name": "python3"
  },
  "language_info": {
   "codemirror_mode": {
    "name": "ipython",
    "version": 3
   },
   "file_extension": ".py",
   "mimetype": "text/x-python",
   "name": "python",
   "nbconvert_exporter": "python",
   "pygments_lexer": "ipython3",
   "version": "3.7.4"
  }
 },
 "nbformat": 4,
 "nbformat_minor": 2
}
