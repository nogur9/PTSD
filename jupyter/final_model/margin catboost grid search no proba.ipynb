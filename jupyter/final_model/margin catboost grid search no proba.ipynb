{
 "cells": [
  {
   "cell_type": "code",
   "execution_count": 1,
   "metadata": {},
   "outputs": [
    {
     "name": "stderr",
     "output_type": "stream",
     "text": [
      "Using TensorFlow backend.\n",
      "C:\\Anaconda\\lib\\site-packages\\sklearn\\externals\\six.py:31: DeprecationWarning: The module is deprecated in version 0.21 and will be removed in version 0.23 since we've dropped support for Python 2.7. Please rely on the official version of six (https://pypi.org/project/six/).\n",
      "  \"(https://pypi.org/project/six/).\", DeprecationWarning)\n"
     ]
    }
   ],
   "source": [
    "from catboost import CatBoostClassifier\n",
    "from scipy import stats\n",
    "import numpy as np\n",
    "import pandas as pd\n",
    "from sklearn.model_selection import train_test_split, StratifiedKFold, cross_val_score\n",
    "from sklearn.metrics import precision_score, roc_auc_score, f1_score, recall_score\n",
    "from sklearn.preprocessing import StandardScaler\n",
    "from fancyimpute import IterativeImputer\n",
    "from sklearn.feature_selection import SelectFromModel, RFE\n",
    "from sklearn.linear_model import LogisticRegression\n",
    "from imblearn.pipeline import Pipeline\n",
    "from sklearn.ensemble import RandomForestClassifier,ExtraTreesClassifier\n",
    "\n",
    "from sklearn.model_selection import GridSearchCV\n",
    "\n",
    "# seed\n",
    "# import os\n",
    "# import random\n",
    "# os.environ['PYTHONHASHSEED']=str(271828)\n",
    "# random.seed(271828)\n",
    "# np.random.seed(271828)\n"
   ]
  },
  {
   "cell_type": "code",
   "execution_count": 2,
   "metadata": {},
   "outputs": [],
   "source": [
    "\n",
    "def PCL_calculator(df):\n",
    "\n",
    "    symptomatic_cutoff = 2\n",
    "    intrusion = ['q6.1_INTRU', 'q6.2_DREAM', 'q6.3_FLASH', 'q6.4_UPSET', 'q6.5_PHYS']\n",
    "    avoidance = ['q6.6_AVTHT', 'q6.7_AVSIT', 'q6.8_AMNES', 'q6.9_DISINT', 'q6.10_DTACH',\n",
    "                 'q6.11_NUMB', 'q6.12_FUTRE']\n",
    "    tred = ['q6.1_INTRU', 'q6.2_DREAM', 'q6.3_FLASH']\n",
    "    only_avoidance = ['q6.6_AVTHT', 'q6.7_AVSIT', 'q6.8_AMNES']\n",
    "    hypertension = ['q6.13_SLEEP', 'q6.14_ANGER', 'q6.15_CONC', 'q6.16_HYPER', 'q6.17_STRTL']\n",
    "    depression = ['q6.9_DISINT', 'q6.10_DTACH', 'q6.11_NUMB', 'q6.12_FUTRE']\n",
    "\n",
    "    df[intrusion + avoidance + hypertension].fillna(df[intrusion + avoidance + hypertension].mean(axis=0))\n",
    "    intrusion_cuoff = 1\n",
    "    avoidance_cuoff = 3\n",
    "    hypertension_cuoff = 2\n",
    "    only_avoidance_cutoff = 1\n",
    "    depression_cutoff = 2\n",
    "    tred_cutoff = 1\n",
    "\n",
    "    df['PCL_score'] = (df[intrusion + avoidance + hypertension]).sum(axis=1)\n",
    "    df['PCL_mean'] = (df[intrusion + avoidance + hypertension]).mean(axis=1)\n",
    "    df['PCL_std'] = (df[intrusion + avoidance + hypertension]).std(axis=1)\n",
    "    \n",
    "\n",
    "    df['intrusion'] = (df[intrusion] > symptomatic_cutoff).sum(axis=1)\n",
    "    df['intrusion_mean'] = (df[intrusion] > symptomatic_cutoff).mean(axis=1)\n",
    "    df['intrusion_std'] = (df[intrusion] > symptomatic_cutoff).std(axis=1)\n",
    "    df['intrusion_cutoff'] = (df['intrusion'] >= intrusion_cuoff).astype(int)\n",
    "\n",
    "    df['avoidance'] = (df[avoidance] > symptomatic_cutoff).sum(axis=1)\n",
    "    df['avoidance_mean'] = (df[avoidance] > symptomatic_cutoff).mean(axis=1)\n",
    "    df['avoidance_std'] = (df[avoidance] > symptomatic_cutoff).std(axis=1)\n",
    "    df['avoidance_cutoff'] = (df['avoidance'] >= avoidance_cuoff).astype(int)\n",
    "\n",
    "    df['depression'] = (df[depression] > symptomatic_cutoff).sum(axis=1)\n",
    "    df['depression_mean'] = (df[depression] > symptomatic_cutoff).mean(axis=1)\n",
    "    df['depression_std'] = (df[depression] > symptomatic_cutoff).std(axis=1)\n",
    "    df['depression_cutoff'] = (df['depression'] >= depression_cutoff).astype(int)\n",
    "\n",
    "    df['hypertention'] = (df[hypertension] > symptomatic_cutoff).sum(axis=1)\n",
    "    df['hypertention_mean'] = (df[hypertension] > symptomatic_cutoff).mean(axis=1)\n",
    "    df['hypertention_std'] = (df[hypertension] > symptomatic_cutoff).std(axis=1)\n",
    "    df['hypertention_cutoff'] = (df['hypertention'] >= hypertension_cuoff).astype(int)\n",
    "\n",
    "    df['tred'] = (df[tred] > symptomatic_cutoff).sum(axis=1)\n",
    "    df['tred_mean'] = (df[tred] > symptomatic_cutoff).mean(axis=1)\n",
    "    df['tred_std'] = (df[tred] > symptomatic_cutoff).std(axis=1)\n",
    "    df['tred_cutoff'] = df['tred'] >= tred_cutoff\n",
    "\n",
    "    df['only_avoidance'] = (df[only_avoidance] > symptomatic_cutoff).sum(axis=1)\n",
    "    df['only_avoidance_mean'] = (df[only_avoidance] > symptomatic_cutoff).sum(axis=1)\n",
    "    df['only_avoidance_std'] = (df[only_avoidance] > symptomatic_cutoff).sum(axis=1)\n",
    "    df['only_avoidance_cutoff'] = df['only_avoidance'] >= only_avoidance_cutoff\n",
    "\n",
    "    #df['regression_cutoff_33'] = df['sum'] >= 33\n",
    "    #df['regression_cutoff_50'] = df['sum'] >= 49\n",
    "    df['diagnosis'] = ((df['hypertention_cutoff']) & (df['avoidance_cutoff']) & (df['intrusion_cutoff']) & (df['PCL_score'] >= 49))\n",
    "\n",
    "    return df\n",
    "\n"
   ]
  },
  {
   "cell_type": "code",
   "execution_count": 3,
   "metadata": {},
   "outputs": [
    {
     "data": {
      "text/plain": [
       "(array([ 20, 425, 574], dtype=int64),)"
      ]
     },
     "execution_count": 3,
     "metadata": {},
     "output_type": "execute_result"
    }
   ],
   "source": [
    "path = \"C:\\‏‏PycharmProjects\\PTSD\\Data\\PTSD.xlsx\"\n",
    "df = pd.read_excel(path)\n",
    "#combine with specifics of answers\n",
    "df_pcl2 = pd.read_excel(\"C:\\‏‏PycharmProjects\\PTSD\\Data\\questionnaire6PCL2.xlsx\")\n",
    "df_pcl2 = PCL_calculator(df_pcl2)\n",
    "\n",
    "df_pcl1 = pd.read_excel(\"C:\\‏‏PycharmProjects\\PTSD\\Data\\questionnaire6PCL1.xlsx\")\n",
    "df_pcl1 = PCL_calculator(df_pcl1)\n",
    "\n",
    "df = df.merge(df_pcl1, on=\"ID\", how='outer')\n",
    "df = df.merge(df_pcl2, suffixes=('_pcl1', '_pcl2'), on=\"ID\", how='outer')\n",
    "\n",
    "df_pcl3 = pd.read_excel(\"C:\\‏‏PycharmProjects\\PTSD\\Data\\questionnaire6PCL3.xlsx\")\n",
    "df_pcl3 = PCL_calculator(df_pcl3)\n",
    "df = df.merge(df_pcl3.drop(['PCL3_Strict', 'pcl3', 'PCL3_Broad'], axis=1), on=\"ID\", how='outer')\n",
    "# rmoving missing Y's\n",
    "df = df[(df['PCL_score'] < 31) | (df['PCL_score'] > 48) ]\n",
    "df = df[~df['PCL_Strict3'].isna()]\n",
    "np.where(df['PCL_Strict3'] != df['diagnosis'])"
   ]
  },
  {
   "cell_type": "markdown",
   "metadata": {},
   "source": [
    "## features "
   ]
  },
  {
   "cell_type": "code",
   "execution_count": 4,
   "metadata": {},
   "outputs": [],
   "source": [
    "\n",
    "features = [\"highschool_diploma\", \"dyslexia\",#\"T2Acc1t\", \"T2Acc1n\", \"military_exposure_unit\",\n",
    "     \"ADHD\", \"T1Acc1t\", \"T1Acc1n\", \"T1bias\", 'Ashken_scale', 'Sephar_scale',\n",
    "            \"phq1\", \"lot1\", \"trait1\",\n",
    "                \"state1\", \"PCL1\", \"PCL_Broad1\", \"PCL_Strict1\", \"phq2\", \"lot2\", \"trait2\", \"state2\", \"PCL2\", \"PCL_Broad2\",\n",
    "                \"PCL_Strict2\", \"cd_risc1\", \"active_coping1\", \"planning1\", \"positive_reframing1\", \"acceptance1\",\n",
    "                \"humor1\",\n",
    "                \"religion1\", \"emotional_support1\", \"instrumental_support1\", \"self_distraction1\", \"denial1\",\n",
    "                \"venting1\", \"substance_use1\", \"behavioral_disengagement1\", \"self_blame1\", \"active_coping2\", \"planning2\",\n",
    "                \"positive_reframing2\", \"acceptance2\", \"humor2\", \"religion2\", \"emotional_support2\",\n",
    "                \"instrumental_support2\",\n",
    "                \"self_distraction2\", \"denial2\", \"venting2\", \"substance_use2\", \"behavioral_disengagement2\",\n",
    "                \"self_blame2\",\n",
    "                \"trauma_history8_1\", \"HML_5HTT\", \"HL_MAOA\", \"HML_NPY\", \"COMT_Hap1_recode\",\n",
    "                \"COMT_Hap2_recode\", \"COMT_Hap1_LvsMH\", \"HML_FKBP5\", 'q6.1_INTRU_pcl1', \n",
    "                'q6.2_DREAM_pcl1', 'q6.3_FLASH_pcl1', 'q6.4_UPSET_pcl1',\n",
    "                  'q6.5_PHYS_pcl1', 'q6.6_AVTHT_pcl1', 'q6.7_AVSIT_pcl1', 'q6.8_AMNES_pcl1', 'q6.9_DISINT_pcl1',\n",
    "                  'q6.10_DTACH_pcl1', 'q6.11_NUMB_pcl1', 'q6.12_FUTRE_pcl1', 'q6.13_SLEEP_pcl1',\n",
    "                  'q6.14_ANGER_pcl1', 'q6.15_CONC_pcl1', 'q6.16_HYPER_pcl1', 'q6.17_STRTL_pcl1',\n",
    "                  'q6.1_INTRU_pcl2', 'q6.2_DREAM_pcl2', 'q6.3_FLASH_pcl2', 'q6.4_UPSET_pcl2',\n",
    "                  'q6.5_PHYS_pcl2', 'q6.6_AVTHT_pcl2', 'q6.7_AVSIT_pcl2', 'q6.8_AMNES_pcl2', 'q6.9_DISINT_pcl2',\n",
    "                  'q6.10_DTACH_pcl2', 'q6.11_NUMB_pcl2', 'q6.12_FUTRE_pcl2', 'q6.13_SLEEP_pcl2',\n",
    "                  'q6.14_ANGER_pcl2', 'q6.15_CONC_pcl2', 'q6.16_HYPER_pcl2', 'q6.17_STRTL_pcl2',\n",
    "            \n",
    "            'PCL_score_pcl1', 'PCL_mean_pcl1', 'PCL_std_pcl1', \n",
    "            'intrusion_pcl1', 'intrusion_mean_pcl1', 'intrusion_std_pcl1',\n",
    "            'intrusion_cutoff_pcl1', \n",
    "            'avoidance_pcl1', 'avoidance_mean_pcl1', 'avoidance_std_pcl1', 'avoidance_cutoff_pcl1', \n",
    "            'depression_pcl1', 'depression_mean_pcl1', 'depression_std_pcl1', 'depression_cutoff_pcl1',\n",
    "            'hypertention_pcl1',\n",
    "            'hypertention_mean_pcl1', 'hypertention_std_pcl1', 'hypertention_cutoff_pcl1',\n",
    "            'tred_pcl1', 'tred_mean_pcl1', \n",
    "            'tred_std_pcl1', 'tred_cutoff_pcl1', \n",
    "            'only_avoidance_pcl1','only_avoidance_mean_pcl1', 'only_avoidance_std_pcl1', \n",
    "            'only_avoidance_cutoff_pcl1',\n",
    "            \n",
    "            'PCL_score_pcl2', 'PCL_mean_pcl2', 'PCL_std_pcl2', 'intrusion_pcl2', 'intrusion_mean_pcl2', 'intrusion_std_pcl2',\n",
    "            'intrusion_cutoff_pcl2', 'avoidance_pcl2', 'avoidance_mean_pcl2', 'avoidance_std_pcl2', 'avoidance_cutoff_pcl2', \n",
    "            'depression_pcl2', 'depression_mean_pcl2', 'depression_std_pcl2', 'depression_cutoff_pcl2', 'hypertention_pcl2',\n",
    "            'hypertention_mean_pcl2', 'hypertention_std_pcl2', 'hypertention_cutoff_pcl2', 'tred_pcl2', 'tred_mean_pcl2', \n",
    "            'tred_std_pcl2', 'tred_cutoff_pcl2', 'only_avoidance_pcl2','only_avoidance_mean_pcl2', 'only_avoidance_std_pcl2', \n",
    "            'only_avoidance_cutoff_pcl2'\n",
    "]"
   ]
  },
  {
   "cell_type": "code",
   "execution_count": 5,
   "metadata": {},
   "outputs": [],
   "source": [
    "discrete_features = [\"age\", \"highschool_diploma\", \"dyslexia\", \"ADHD\", \"phq1\", \"lot1\",\n",
    "                    \"trait1\", \"state1\", \"PCL1\", \"PCL_Broad1\", \"PCL_Strict1\", \"phq2\", \"lot2\",\n",
    "                    \"trait2\", \"state2\", \"PCL2\", \"PCL_Broad2\", \"PCL_Strict2\", \"cd_risc1\", \"active_coping1\",\n",
    "                    \"planning1\", \"positive_reframing1\", \"acceptance1\", \"humor1\", \"religion1\",\n",
    "                    \"emotional_support1\", \"instrumental_support1\", \"self_distraction1\", \"denial1\",\n",
    "                    \"venting1\", \"substance_use1\", \"behavioral_disengagement1\", \"self_blame1\", \"active_coping2\",\n",
    "                    \"planning2\", \"positive_reframing2\", \"acceptance2\", \"humor2\", \"religion2\", \"emotional_support2\",\n",
    "                    \"instrumental_support2\", \"self_distraction2\", \"denial2\", \"venting2\", \"substance_use2\",\n",
    "                    \"behavioral_disengagement2\", \"self_blame2\", \"trauma_history8_1\",\n",
    "                    'q6.1_INTRU_pcl1', 'q6.2_DREAM_pcl1', 'q6.3_FLASH_pcl1', 'q6.4_UPSET_pcl1',\n",
    "                    'q6.5_PHYS_pcl1', 'q6.6_AVTHT_pcl1', 'q6.7_AVSIT_pcl1', 'q6.8_AMNES_pcl1', 'q6.9_DISINT_pcl1',\n",
    "                    'q6.10_DTACH_pcl1', 'q6.11_NUMB_pcl1', 'q6.12_FUTRE_pcl1', 'q6.13_SLEEP_pcl1',\n",
    "                    'q6.14_ANGER_pcl1', 'q6.15_CONC_pcl1', 'q6.16_HYPER_pcl1', 'q6.17_STRTL_pcl1',\n",
    "                    'q6.1_INTRU_pcl2', 'q6.2_DREAM_pcl2', 'q6.3_FLASH_pcl2', 'q6.4_UPSET_pcl2',\n",
    "                    'q6.5_PHYS_pcl2', 'q6.6_AVTHT_pcl2', 'q6.7_AVSIT_pcl2', 'q6.8_AMNES_pcl2', 'q6.9_DISINT_pcl2',\n",
    "                    'q6.10_DTACH_pcl2', 'q6.11_NUMB_pcl2', 'q6.12_FUTRE_pcl2', 'q6.13_SLEEP_pcl2',\n",
    "                    'q6.14_ANGER_pcl2', 'q6.15_CONC_pcl2', 'q6.16_HYPER_pcl2', 'q6.17_STRTL_pcl2',\n",
    "                    'intrusion_cutoff', 'avoidance_cutoff', 'hypertention_cutoff', 'regression_cutoff_50']"
   ]
  },
  {
   "cell_type": "code",
   "execution_count": 6,
   "metadata": {},
   "outputs": [],
   "source": [
    "genome_features = [\"HML_5HTT\", \"HL_MAOA\", \"HML_NPY\", \"COMT_Hap1_recode\",\n",
    "                \"COMT_Hap2_recode\", \"COMT_Hap1_LvsMH\", \"HML_FKBP5\"]\n",
    "continuous_features = [\"T1Acc1t\", \"T1Acc1n\", \"T1bias\"]\n",
    "t2_features = [\n",
    "    \"lot2\", \"trait2\", \"state2\", \"PCL2\", \"PCL_Broad2\", \"PCL_Strict2\", \"phq2\",\n",
    "\n",
    "    \"active_coping2\", \"planning2\", \"positive_reframing2\", \"acceptance2\", \"humor2\", \n",
    "    \"religion2\", \"emotional_support2\", \"instrumental_support2\", \"self_distraction2\",\n",
    "    \"denial2\", \"venting2\", \"substance_use2\", \"behavioral_disengagement2\", \"self_blame2\",\n",
    "    \n",
    "    'q6.1_INTRU_pcl2', 'q6.2_DREAM_pcl2', 'q6.3_FLASH_pcl2', 'q6.4_UPSET_pcl2', 'q6.5_PHYS_pcl2',\n",
    "    'q6.6_AVTHT_pcl2', 'q6.7_AVSIT_pcl2', 'q6.8_AMNES_pcl2', 'q6.9_DISINT_pcl2',\n",
    "                    'q6.10_DTACH_pcl2', 'q6.11_NUMB_pcl2', 'q6.12_FUTRE_pcl2', 'q6.13_SLEEP_pcl2',\n",
    "                    'q6.14_ANGER_pcl2', 'q6.15_CONC_pcl2', 'q6.16_HYPER_pcl2', 'q6.17_STRTL_pcl2'\n",
    "]\n",
    "t1_features =[ \"phq1\", \"lot1\", \"trait1\",\"state1\", \"PCL1\", \"PCL_Broad1\", \"PCL_Strict1\",\n",
    "              \n",
    "                    \"active_coping1\", \"planning1\", \"positive_reframing1\", \"acceptance1\", \"humor1\", \"religion1\",\n",
    "                    \"emotional_support1\", \"instrumental_support1\", \"self_distraction1\", \"denial1\",\n",
    "                    \"venting1\", \"substance_use1\", \"behavioral_disengagement1\", \"self_blame1\",\n",
    "                'q6.1_INTRU_pcl1', 'q6.2_DREAM_pcl1', 'q6.3_FLASH_pcl1', 'q6.4_UPSET_pcl1',\n",
    "                    'q6.5_PHYS_pcl1', 'q6.6_AVTHT_pcl1', 'q6.7_AVSIT_pcl1', 'q6.8_AMNES_pcl1', 'q6.9_DISINT_pcl1',\n",
    "                    'q6.10_DTACH_pcl1', 'q6.11_NUMB_pcl1', 'q6.12_FUTRE_pcl1', 'q6.13_SLEEP_pcl1',\n",
    "                    'q6.14_ANGER_pcl1', 'q6.15_CONC_pcl1', 'q6.16_HYPER_pcl1', 'q6.17_STRTL_pcl1']"
   ]
  },
  {
   "cell_type": "markdown",
   "metadata": {},
   "source": [
    "## fill the missing values"
   ]
  },
  {
   "cell_type": "code",
   "execution_count": 7,
   "metadata": {},
   "outputs": [],
   "source": [
    "target_feature = ['PCL_Strict3']"
   ]
  },
  {
   "cell_type": "code",
   "execution_count": 8,
   "metadata": {},
   "outputs": [],
   "source": [
    "df1 = df[features + target_feature]\n",
    "\n",
    "#df1 = df1.dropna(thresh=47)\n",
    "df_t1 = df1[t1_features]\n",
    "df_t2 = df1[t2_features]\n",
    "df1 = df1[(df_t1.isna().astype(int).sum(axis=1)<38) | (df_t2.isna().astype(int).sum(axis=1)<38)]\n",
    "df1[\"t1_missing\"] = df_t1.isna().astype(int).sum(axis=1)==38\n",
    "df1[\"t2_missing\"] = df_t2.isna().astype(int).sum(axis=1)==38\n",
    "features.extend([\"t1_missing\", \"t2_missing\"])\n",
    "\n",
    "    \n"
   ]
  },
  {
   "cell_type": "code",
   "execution_count": 9,
   "metadata": {},
   "outputs": [],
   "source": [
    "from scipy.stats import zscore\n",
    "def stds(X):\n",
    "    X[\"outliers_count_t1_35\"] = (np.abs(zscore(X[t1_features])) > 3.5).sum(axis=1)\n",
    "    X[\"outliers_count_t1_25\"] = (np.abs(zscore(X[t1_features])) > 2.5).sum(axis=1)\n",
    "    X[\"outliers_count_t2_35\"] = (np.abs(zscore(X[t2_features])) > 3.5).sum(axis=1)\n",
    "    X[\"outliers_count_t2_25\"] = (np.abs(zscore(X[t2_features])) > 2.5).sum(axis=1)\n",
    "#    X['std_genome'] = X[genome_features].std(axis=1)\n",
    " #   X['std_t2'] = X[[ \"trait2\", \"state2\", \"PCL2\", \"phq2\"]].std(axis=1)\n",
    "  #  X['std_t1'] = X[[ \"trait1\", \"state1\", \"PCL1\", \"phq1\"]].std(axis=1)\n",
    "\n",
    "    X['std_pos_coping_t1'] = X[[\"active_coping1\", \"planning1\", \"positive_reframing1\", \"acceptance1\", \"humor1\",\n",
    "                    \"religion1\", \"emotional_support1\", \"instrumental_support1\", \"self_distraction1\",\"venting1\"]].std(axis=1)\n",
    "\n",
    "    X['std_neg_coping_t1'] = X[[\"denial1\", \"substance_use1\", \"behavioral_disengagement1\", \"self_blame1\"]].std(axis=1)\n",
    "\n",
    "    X['std_pos_coping_t2'] = X[[\"active_coping2\", \"planning2\", \"positive_reframing2\", \"acceptance2\", \"humor2\",\n",
    "                    \"religion1\", \"emotional_support2\", \"instrumental_support2\", \"self_distraction2\",\"venting2\"]].std(axis=1)\n",
    "\n",
    "    X['std_neg_coping_t2'] = X[[\"denial2\", \"substance_use2\", \"behavioral_disengagement2\", \"self_blame2\"]].std(axis=1)\n",
    "    return X"
   ]
  },
  {
   "cell_type": "code",
   "execution_count": 10,
   "metadata": {},
   "outputs": [],
   "source": [
    "for i in t1_features:\n",
    "    df1[\"delta_\"+i[:len(i)-1:]] = df1[i] - df1[i[:len(i)-1:]+\"2\"]\n",
    "    features = features + [\"delta_\"+i[:len(i)-1:]]"
   ]
  },
  {
   "cell_type": "code",
   "execution_count": 11,
   "metadata": {},
   "outputs": [],
   "source": [
    "# for i in genome_features:\n",
    "#     for j in ['Ashken_scale', 'Sephar_scale']:\n",
    "#         df1[i + \"_\" + j] = df1[i] * df1[j] * 0.01\n",
    "#         features = features + [i + \"_\" + j]\n",
    "        "
   ]
  },
  {
   "cell_type": "code",
   "execution_count": 12,
   "metadata": {},
   "outputs": [],
   "source": [
    "from statsmodels.formula.api import ols\n",
    "def stats(X_train,X_test=None):\n",
    "    if X_test is not None:\n",
    "        m = ols('PCL_score_pcl2 ~ PCL_score_pcl1 + phq1 + lot1 + trait1 + state1 + active_coping1 + '\\\n",
    "                'planning1 + positive_reframing1 + acceptance1 + humor1 + religion1 + emotional_support1 + '\\\n",
    "                'instrumental_support1 + self_distraction1 + denial1 + venting1 + substance_use1 + '\\\n",
    "                'behavioral_disengagement1 + self_blame1',X_test.append(X_train, ignore_index=True)).fit()\n",
    "        infl = m.get_influence()\n",
    "        sm_fr = infl.summary_frame()\n",
    "        X_test[['cooks_d_PCL_score_pcl2', 'dffits_PCL_score_pcl2', 'standard_resid_PCL_score_pcl2']] = sm_fr[['cooks_d', 'dffits', 'standard_resid']][:X_test.shape[0]:]\n",
    "\n",
    "        m = ols('intrusion_pcl2 ~ PCL_score_pcl1 + phq1 + lot1 + trait1 + state1 + active_coping1 + '\\\n",
    "                'planning1 + positive_reframing1 + acceptance1 + humor1 + religion1 + emotional_support1 + '\\\n",
    "                'instrumental_support1 + self_distraction1 + denial1 + venting1 + substance_use1 + '\\\n",
    "                'behavioral_disengagement1 + self_blame1',X_test.append(X_train, ignore_index=True)).fit()\n",
    "        infl = m.get_influence()\n",
    "        sm_fr = infl.summary_frame();\n",
    "        X_test[['cooks_d_intrusion_pcl2', 'dffits_intrusion_pcl2', 'standard_resid_intrusion_pcl2']] = sm_fr[['cooks_d', 'dffits', 'standard_resid']][:X_test.shape[0]:]\n",
    "\n",
    "\n",
    "        m = ols('avoidance_pcl2 ~ PCL_score_pcl1 + phq1 + lot1 + trait1 + state1 + active_coping1 + '\\\n",
    "                'planning1 + positive_reframing1 + acceptance1 + humor1 + religion1 + emotional_support1 + '\\\n",
    "                'instrumental_support1 + self_distraction1 + denial1 + venting1 + substance_use1 + '\\\n",
    "                'behavioral_disengagement1 + self_blame1',X_test.append(X_train, ignore_index=True)).fit()\n",
    "        infl = m.get_influence()\n",
    "        sm_fr = infl.summary_frame()\n",
    "        X_test[['cooks_d_avoidance_pcl2', 'dffits_avoidance_pcl2', 'standard_resid_avoidance_pcl2']] = sm_fr[['cooks_d', 'dffits', 'standard_resid']][:X_test.shape[0]:]\n",
    "\n",
    "\n",
    "        m = ols('depression_pcl2 ~ PCL_score_pcl1 + phq1 + lot1 + trait1 + state1 + active_coping1 + '\\\n",
    "                'planning1 + positive_reframing1 + acceptance1 + humor1 + religion1 + emotional_support1 + '\\\n",
    "                'instrumental_support1 + self_distraction1 + denial1 + venting1 + substance_use1 + '\\\n",
    "                'behavioral_disengagement1 + self_blame1',X_test.append(X_train, ignore_index=True)).fit()\n",
    "        infl = m.get_influence()\n",
    "        sm_fr = infl.summary_frame();\n",
    "        X_test[['cooks_d_depression_pcl2', 'dffits_depression_pcl2', 'standard_resid_depression_pcl2']] = sm_fr[['cooks_d', 'dffits', 'standard_resid']][:X_test.shape[0]:]\n",
    "\n",
    "\n",
    "        m = ols('hypertention_pcl2 ~ PCL_score_pcl1 + phq1 + lot1 + trait1 + state1 + active_coping1 + '\\\n",
    "                'planning1 + positive_reframing1 + acceptance1 + humor1 + religion1 + emotional_support1 + '\\\n",
    "                'instrumental_support1 + self_distraction1 + denial1 + venting1 + substance_use1 + '\\\n",
    "                'behavioral_disengagement1 + self_blame1',X_test.append(X_train, ignore_index=True)).fit()\n",
    "        infl = m.get_influence()\n",
    "        sm_fr = infl.summary_frame()\n",
    "        X_test[['cooks_d_hypertention_pcl2', 'dffits_hypertention_pcl2', 'standard_resid_hypertention_pcl2']] = sm_fr[['cooks_d', 'dffits', 'standard_resid']][:X_test.shape[0]:]\n",
    "        return X_test\n",
    "      \n",
    "        \n",
    "    else:\n",
    "        m = ols('PCL_score_pcl2 ~ PCL_score_pcl1 + phq1 + lot1 + trait1 + state1 + active_coping1 + '\\\n",
    "                'planning1 + positive_reframing1 + acceptance1 + humor1 + religion1 + emotional_support1 + '\\\n",
    "                'instrumental_support1 + self_distraction1 + denial1 + venting1 + substance_use1 + '\\\n",
    "                'behavioral_disengagement1 + self_blame1',X_train).fit()\n",
    "        infl = m.get_influence()\n",
    "        sm_fr = infl.summary_frame()\n",
    "        X_train[['cooks_d_PCL_score_pcl2', 'dffits_PCL_score_pcl2', 'standard_resid_PCL_score_pcl2']] = sm_fr[['cooks_d', 'dffits', 'standard_resid']]\n",
    "\n",
    "        m = ols('intrusion_pcl2 ~ PCL_score_pcl1 + phq1 + lot1 + trait1 + state1 + active_coping1 + '\\\n",
    "                'planning1 + positive_reframing1 + acceptance1 + humor1 + religion1 + emotional_support1 + '\\\n",
    "                'instrumental_support1 + self_distraction1 + denial1 + venting1 + substance_use1 + '\\\n",
    "                'behavioral_disengagement1 + self_blame1',X_train).fit()\n",
    "        infl = m.get_influence()\n",
    "        sm_fr = infl.summary_frame()\n",
    "        X_train[['cooks_d_intrusion_pcl2', 'dffits_intrusion_pcl2', 'standard_resid_intrusion_pcl2']] = sm_fr[['cooks_d', 'dffits', 'standard_resid']]\n",
    "\n",
    "\n",
    "        m = ols('avoidance_pcl2 ~ PCL_score_pcl1 + phq1 + lot1 + trait1 + state1 + active_coping1 + '\\\n",
    "                'planning1 + positive_reframing1 + acceptance1 + humor1 + religion1 + emotional_support1 + '\\\n",
    "                'instrumental_support1 + self_distraction1 + denial1 + venting1 + substance_use1 + '\\\n",
    "                'behavioral_disengagement1 + self_blame1',X_train).fit()\n",
    "        infl = m.get_influence()\n",
    "        sm_fr = infl.summary_frame()\n",
    "        X_train[['cooks_d_avoidance_pcl2', 'dffits_avoidance_pcl2', 'standard_resid_avoidance_pcl2']] = sm_fr[['cooks_d', 'dffits', 'standard_resid']]\n",
    "\n",
    "\n",
    "        m = ols('depression_pcl2 ~ PCL_score_pcl1 + phq1 + lot1 + trait1 + state1 + active_coping1 + '\\\n",
    "                'planning1 + positive_reframing1 + acceptance1 + humor1 + religion1 + emotional_support1 + '\\\n",
    "                'instrumental_support1 + self_distraction1 + denial1 + venting1 + substance_use1 + '\\\n",
    "                'behavioral_disengagement1 + self_blame1',X_train).fit()\n",
    "        infl = m.get_influence()\n",
    "        sm_fr = infl.summary_frame()\n",
    "        X_train[['cooks_d_depression_pcl2', 'dffits_depression_pcl2', 'standard_resid_depression_pcl2']] = sm_fr[['cooks_d', 'dffits', 'standard_resid']]\n",
    "\n",
    "\n",
    "        m = ols('hypertention_pcl2 ~ PCL_score_pcl1 + phq1 + lot1 + trait1 + state1 + active_coping1 + '\\\n",
    "                'planning1 + positive_reframing1 + acceptance1 + humor1 + religion1 + emotional_support1 + '\\\n",
    "                'instrumental_support1 + self_distraction1 + denial1 + venting1 + substance_use1 + '\\\n",
    "                'behavioral_disengagement1 + self_blame1',X_train).fit()\n",
    "        infl = m.get_influence()\n",
    "        sm_fr = infl.summary_frame()\n",
    "        X_train[['cooks_d_hypertention_pcl2', 'dffits_hypertention_pcl2', 'standard_resid_hypertention_pcl2']] = sm_fr[['cooks_d', 'dffits', 'standard_resid']]\n",
    "        return X_train\n",
    "        "
   ]
  },
  {
   "cell_type": "code",
   "execution_count": 13,
   "metadata": {},
   "outputs": [],
   "source": [
    "def removal (X):\n",
    "    useless_features = [\"dyslexia\", \"PCL1\", \"PCL_Broad1\", \"PCL_Strict1\", \"PCL2\", \"PCL_Broad2\",\n",
    "                \"PCL_Strict2\",'q6.1_INTRU_pcl1', \n",
    "                'q6.2_DREAM_pcl1', 'q6.3_FLASH_pcl1', 'q6.4_UPSET_pcl1',\n",
    "                  'q6.5_PHYS_pcl1', 'q6.6_AVTHT_pcl1', 'q6.7_AVSIT_pcl1', 'q6.8_AMNES_pcl1', 'q6.9_DISINT_pcl1',\n",
    "                  'q6.10_DTACH_pcl1', 'q6.11_NUMB_pcl1', 'q6.12_FUTRE_pcl1', 'q6.13_SLEEP_pcl1',\n",
    "                  'q6.14_ANGER_pcl1', 'q6.15_CONC_pcl1', 'q6.16_HYPER_pcl1', 'q6.17_STRTL_pcl1',\n",
    "                \n",
    "                    'q6.1_INTRU_pcl2', 'q6.2_DREAM_pcl2', 'q6.3_FLASH_pcl2', 'q6.4_UPSET_pcl2',\n",
    "                  'q6.5_PHYS_pcl2', 'q6.6_AVTHT_pcl2', 'q6.7_AVSIT_pcl2', 'q6.8_AMNES_pcl2', 'q6.9_DISINT_pcl2',\n",
    "                  'q6.10_DTACH_pcl2', 'q6.11_NUMB_pcl2', 'q6.12_FUTRE_pcl2', 'q6.13_SLEEP_pcl2',\n",
    "                  'q6.14_ANGER_pcl2', 'q6.15_CONC_pcl2', 'q6.16_HYPER_pcl2', 'q6.17_STRTL_pcl2',\n",
    "            \n",
    "]\n",
    "\n",
    "    X = X.drop(useless_features, axis=1)\n",
    "    return X"
   ]
  },
  {
   "cell_type": "markdown",
   "metadata": {},
   "source": [
    "## cut off the test set"
   ]
  },
  {
   "cell_type": "code",
   "execution_count": 14,
   "metadata": {},
   "outputs": [],
   "source": [
    "X, X_out, Y, y_out = train_test_split(df1[features], df1[target_feature[0]],\n",
    "                                      test_size=0.25, random_state=1844, stratify=df1[target_feature[0]])\n"
   ]
  },
  {
   "cell_type": "markdown",
   "metadata": {},
   "source": [
    "## the Model"
   ]
  },
  {
   "cell_type": "markdown",
   "metadata": {},
   "source": [
    "## CV model of roc auc "
   ]
  },
  {
   "cell_type": "code",
   "execution_count": 15,
   "metadata": {},
   "outputs": [],
   "source": [
    "from sklearn.metrics import roc_curve, auc\n",
    "import matplotlib.pyplot as plt\n"
   ]
  },
  {
   "cell_type": "code",
   "execution_count": 16,
   "metadata": {},
   "outputs": [
    {
     "name": "stderr",
     "output_type": "stream",
     "text": [
      "C:\\Anaconda\\lib\\site-packages\\sklearn\\impute\\_iterative.py:603: ConvergenceWarning: [IterativeImputer] Early stopping criterion not reached.\n",
      "  \" reached.\", ConvergenceWarning)\n",
      "C:\\Anaconda\\lib\\site-packages\\pandas\\core\\frame.py:6692: FutureWarning: Sorting because non-concatenation axis is not aligned. A future version\n",
      "of pandas will change to not sort by default.\n",
      "\n",
      "To accept the future behavior, pass 'sort=False'.\n",
      "\n",
      "To retain the current behavior and silence the warning, pass 'sort=True'.\n",
      "\n",
      "  sort=sort)\n"
     ]
    },
    {
     "name": "stdout",
     "output_type": "stream",
     "text": [
      "i = 0\n"
     ]
    },
    {
     "name": "stderr",
     "output_type": "stream",
     "text": [
      "C:\\Anaconda\\lib\\site-packages\\sklearn\\model_selection\\_search.py:814: DeprecationWarning: The default of the `iid` parameter will change from True to False in version 0.22 and will be removed in 0.24. This will change numeric results when test-set sizes are unequal.\n",
      "  DeprecationWarning)\n"
     ]
    },
    {
     "name": "stdout",
     "output_type": "stream",
     "text": [
      "i = 0, roc_auc = 0.866601329632491, params = {'class_weights': [1, 25], 'depth': 3, 'l2_leaf_reg': 100}\n",
      "holdout i = 0, roc_auc = 0.7791164658634537\n"
     ]
    }
   ],
   "source": [
    "\n",
    "for i in range(1):\n",
    "    X_train, X_test, y_train, y_test = train_test_split(X, Y, test_size=0.2, stratify=Y)\n",
    "    cv = StratifiedKFold(6)\n",
    "\n",
    "    mice = IterativeImputer()\n",
    "    X_train = pd.DataFrame(mice.fit_transform(X_train), columns=X_train.columns)\n",
    "    X_test = pd.DataFrame(mice.transform(X_test), columns=X_test.columns)\n",
    "                    \n",
    "    X_train = stds(X_train)\n",
    "    X_test = stds(X_test)\n",
    "    \n",
    "    X_train = stats(X_train)\n",
    "    X_test = stats(X_train, X_test)\n",
    "\n",
    "    X_train = removal(X_train)\n",
    "    X_test = removal(X_test)\n",
    "    print(f\"i = {i}\")\n",
    "    pipe = CatBoostClassifier(verbose=0)\n",
    "        \n",
    "    grid_params = [{\n",
    "    'class_weights':[[1, 25]],\n",
    "    #'grow_policy': ['SymmetricTree', 'Depthwiise', 'Lossguide'],\n",
    "    'l2_leaf_reg': [100],\n",
    "    'depth': [6, 3]\n",
    "    }]\n",
    "\n",
    "\n",
    "    clf = GridSearchCV(pipe, grid_params, cv=cv, scoring='roc_auc')\n",
    "    clf.fit(X_train, y_train.values.astype(int), early_stopping_rounds=15)\n",
    "    print(f\"i = {i}, roc_auc = {clf.best_score_}, params = {clf.best_params_}\")\n",
    "    y_pred_target = clf.best_estimator_.predict(X_test)\n",
    "    print(f\"holdout i = {i}, roc_auc = {roc_auc_score(y_test.astype(int), y_pred_target)}\")"
   ]
  },
  {
   "cell_type": "code",
   "execution_count": 17,
   "metadata": {},
   "outputs": [
    {
     "name": "stderr",
     "output_type": "stream",
     "text": [
      "C:\\Anaconda\\lib\\site-packages\\sklearn\\impute\\_iterative.py:603: ConvergenceWarning: [IterativeImputer] Early stopping criterion not reached.\n",
      "  \" reached.\", ConvergenceWarning)\n"
     ]
    }
   ],
   "source": [
    "mice = IterativeImputer()\n",
    "X = pd.DataFrame(mice.fit_transform(X), columns=X.columns)\n",
    "X_out = pd.DataFrame(mice.transform(X_out), columns=X_out.columns)"
   ]
  },
  {
   "cell_type": "code",
   "execution_count": 18,
   "metadata": {},
   "outputs": [
    {
     "data": {
      "text/plain": [
       "Index(['highschool_diploma', 'dyslexia', 'ADHD', 'T1Acc1t', 'T1Acc1n',\n",
       "       'T1bias', 'Ashken_scale', 'Sephar_scale', 'phq1', 'lot1',\n",
       "       ...\n",
       "       'delta_q6.8_AMNES_pcl', 'delta_q6.9_DISINT_pcl',\n",
       "       'delta_q6.10_DTACH_pcl', 'delta_q6.11_NUMB_pcl',\n",
       "       'delta_q6.12_FUTRE_pcl', 'delta_q6.13_SLEEP_pcl',\n",
       "       'delta_q6.14_ANGER_pcl', 'delta_q6.15_CONC_pcl',\n",
       "       'delta_q6.16_HYPER_pcl', 'delta_q6.17_STRTL_pcl'],\n",
       "      dtype='object', length=187)"
      ]
     },
     "execution_count": 18,
     "metadata": {},
     "output_type": "execute_result"
    }
   ],
   "source": [
    "X.columns"
   ]
  },
  {
   "cell_type": "code",
   "execution_count": 19,
   "metadata": {},
   "outputs": [
    {
     "name": "stderr",
     "output_type": "stream",
     "text": [
      "C:\\Anaconda\\lib\\site-packages\\pandas\\core\\frame.py:6692: FutureWarning: Sorting because non-concatenation axis is not aligned. A future version\n",
      "of pandas will change to not sort by default.\n",
      "\n",
      "To accept the future behavior, pass 'sort=False'.\n",
      "\n",
      "To retain the current behavior and silence the warning, pass 'sort=True'.\n",
      "\n",
      "  sort=sort)\n"
     ]
    }
   ],
   "source": [
    "X = stds(X)\n",
    "X_out = stds(X_out)\n",
    "X = stats(X)\n",
    "X_out = stats(X, X_out)"
   ]
  },
  {
   "cell_type": "code",
   "execution_count": 20,
   "metadata": {},
   "outputs": [],
   "source": [
    "X = removal(X)\n",
    "X_out = removal(X_out)"
   ]
  },
  {
   "cell_type": "code",
   "execution_count": 21,
   "metadata": {},
   "outputs": [
    {
     "name": "stderr",
     "output_type": "stream",
     "text": [
      "C:\\Anaconda\\lib\\site-packages\\sklearn\\model_selection\\_search.py:814: DeprecationWarning: The default of the `iid` parameter will change from True to False in version 0.22 and will be removed in 0.24. This will change numeric results when test-set sizes are unequal.\n",
      "  DeprecationWarning)\n"
     ]
    },
    {
     "name": "stdout",
     "output_type": "stream",
     "text": [
      "i = 0, roc_auc = 0.866601329632491, params = {'class_weights': [1, 25], 'depth': 3, 'l2_leaf_reg': 100}\n"
     ]
    }
   ],
   "source": [
    "pipe = CatBoostClassifier(verbose=0)\n",
    "\n",
    "grid_params = [{\n",
    "    'class_weights':[[1, 25]],\n",
    "    #'grow_policy': ['SymmetricTree', 'Depthwiise', 'Lossguide'],\n",
    "    'l2_leaf_reg': [100],\n",
    "    'depth': [6, 3]\n",
    "    }]\n",
    "\n",
    "clf = GridSearchCV(pipe, grid_params, cv=cv, scoring='roc_auc')\n",
    "clf.fit(X_train, y_train.values.astype(int), early_stopping_rounds=15)\n",
    "print(f\"i = {i}, roc_auc = {clf.best_score_}, params = {clf.best_params_}\")"
   ]
  },
  {
   "cell_type": "code",
   "execution_count": 22,
   "metadata": {},
   "outputs": [],
   "source": [
    "y_pred_target= clf.predict(X_out)"
   ]
  },
  {
   "cell_type": "code",
   "execution_count": 23,
   "metadata": {},
   "outputs": [
    {
     "name": "stdout",
     "output_type": "stream",
     "text": [
      "test roc_auc = 0.7325812873258128\n"
     ]
    }
   ],
   "source": [
    "print(f\"test roc_auc = {roc_auc_score(y_out, y_pred_target)}\")"
   ]
  },
  {
   "cell_type": "code",
   "execution_count": 24,
   "metadata": {},
   "outputs": [
    {
     "data": {
      "image/png": "[encoded data removed]",
      "text/plain": [
       "<Figure size 432x288 with 1 Axes>"
      ]
     },
     "metadata": {
      "needs_background": "light"
     },
     "output_type": "display_data"
    }
   ],
   "source": [
    "\n",
    "fpr, tpr, threshold = roc_curve(y_out, y_pred_target)\n",
    "roc_auc = auc(fpr, tpr)\n",
    "\n",
    "                    # method I: plt\n",
    "plt.title('Receiver Operating Characteristic')\n",
    "plt.plot(fpr, tpr, 'b', label = 'AUC = %0.2f' % roc_auc)\n",
    "plt.legend(loc = 'lower right')\n",
    "plt.plot([0, 1], [0, 1],'r--')\n",
    "plt.xlim([0, 1])\n",
    "plt.ylim([0, 1])\n",
    "plt.ylabel('True Positive Rate')\n",
    "plt.xlabel('False Positive Rate')\n",
    "plt.show() "
   ]
  },
  {
   "cell_type": "code",
   "execution_count": null,
   "metadata": {},
   "outputs": [],
   "source": []
  }
 ],
 "metadata": {
  "kernelspec": {
   "display_name": "Python 3",
   "language": "python",
   "name": "python3"
  },
  "language_info": {
   "codemirror_mode": {
    "name": "ipython",
    "version": 3
   },
   "file_extension": ".py",
   "mimetype": "text/x-python",
   "name": "python",
   "nbconvert_exporter": "python",
   "pygments_lexer": "ipython3",
   "version": "3.6.8"
  }
 },
 "nbformat": 4,
 "nbformat_minor": 2
}
