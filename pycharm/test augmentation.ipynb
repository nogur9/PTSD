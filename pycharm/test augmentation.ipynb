{
 "cells": [
  {
   "cell_type": "code",
   "execution_count": 39,
   "id": "happy-psychology",
   "metadata": {},
   "outputs": [],
   "source": [
    "from load_data import load_data\n",
    "# compare amount of noise added to examples created during the test-time augmentation\n",
    "from numpy.random import seed\n",
    "from numpy.random import normal\n",
    "from numpy import arange\n",
    "from numpy import mean\n",
    "from numpy import std\n",
    "from scipy.stats import mode\n",
    "from sklearn.datasets import make_classification\n",
    "from sklearn.model_selection import RepeatedStratifiedKFold\n",
    "from sklearn.model_selection import cross_val_score\n",
    "from sklearn.linear_model import LogisticRegression\n",
    "from sklearn.metrics import accuracy_score\n",
    "from matplotlib import pyplot\n",
    "from sklearn.model_selection import train_test_split, StratifiedKFold, cross_val_score\n",
    "from sklearn.metrics import precision_score, roc_auc_score, f1_score, recall_score, precision_recall_curve, auc, average_precision_score, precision_recall_fscore_support\n",
    "from xgboost import XGBClassifier\n",
    "import pandas as pd"
   ]
  },
  {
   "cell_type": "code",
   "execution_count": 40,
   "id": "prompt-providence",
   "metadata": {},
   "outputs": [],
   "source": [
    "def print_results(y_test, y_pred):\n",
    "    \n",
    "    #print(f1_score(y_test.astype(int), y_pred))\n",
    "    precision, recall, _ = precision_recall_curve(y_test.astype(int), y_pred)\n",
    "    avs = average_precision_score(y_test.astype(int), y_pred)\n",
    "    print(f\"average_precision_score = {avs}\")\n",
    "\n",
    "    auc_score = auc(recall, precision)\n",
    "    print(f\"pr_auc = {auc_score}\")\n",
    "    plt.plot(recall, precision)\n",
    "    plt.show()\n",
    "    print(f\"holdout i = , roc_auc = {roc_auc_score(y_test.astype(int), y_pred)}\")\n",
    "    print('f')"
   ]
  },
  {
   "cell_type": "code",
   "execution_count": 41,
   "id": "friendly-magnet",
   "metadata": {},
   "outputs": [],
   "source": [
    "\n",
    "# create a test set for a row of real data with an unknown label\n",
    "def create_test_set(row, n_cases=3, feature_scale=0.2):\n",
    "\ttest_set = list()\n",
    "\ttest_set.append(row)\n",
    "\t# make copies of row\n",
    "\tfor _ in range(n_cases):\n",
    "\t\t# create vector of random gaussians\n",
    "\t\tgauss = normal(loc=0.0, scale=feature_scale, size=len(row))\n",
    "\t\t# add to test case\n",
    "\t\tnew_row = row + gauss\n",
    "\t\t# store in test set\n",
    "\t\ttest_set.append(new_row)\n",
    "\treturn test_set\n",
    " \n",
    "# make predictions using test-time augmentation\n",
    "def test_time_augmentation(model, X_test, noise):\n",
    "    # evaluate model\n",
    "    y_hat = list()\n",
    "    for i in range(X_test.shape[0]):\n",
    "        # retrieve the row\n",
    "        row = X_test.iloc[i]\n",
    "        # create the test set\n",
    "        test_set = create_test_set(row, feature_scale=noise)\n",
    "        print(len(test_set))\n",
    "        print(len(test_set[0]))\n",
    "        \n",
    "        # make a prediction for all examples in the test set\n",
    "        labels = model.predict_proba(pd.concat(test_set))[:, 1]\n",
    "        # select the label as the mode of the distribution\n",
    "        label, _ = mode(labels)\n",
    "        # store the prediction\n",
    "        y_hat.append(label)\n",
    "    return y_hat"
   ]
  },
  {
   "cell_type": "code",
   "execution_count": 42,
   "id": "spare-intake",
   "metadata": {},
   "outputs": [],
   "source": [
    "\n",
    "    \n",
    "df_preprocessed, features, target_feature = load_data()\n",
    "df_preprocessed = df_preprocessed.dropna(subset = ['target_binary_intrusion'], how='any')\n",
    "    \n",
    "    \n",
    "    \n",
    "X, X_out, Y, y_out = train_test_split(df_preprocessed[features], df_preprocessed['target_binary_intrusion'],\\\n",
    "                                          test_size=0.15,\\\n",
    "                                          stratify=df_preprocessed['target_binary_intrusion'])\n",
    "\n",
    "\n",
    "cv = StratifiedKFold(5)"
   ]
  },
  {
   "cell_type": "code",
   "execution_count": 44,
   "id": "empty-heather",
   "metadata": {},
   "outputs": [
    {
     "name": "stdout",
     "output_type": "stream",
     "text": [
      "4\n",
      "73\n"
     ]
    },
    {
     "ename": "ValueError",
     "evalue": "feature_names mismatch: ['highschool_diploma', 'ADHD', 'phq1', 'PCL1', 'intrusion_PCL_T1', 'PCL_Strict1', 'ABV', 'dyslexia', 'ID', 'trauma_history6_1', 'T1std1t', 'T1median1t', 'T1std1n', 'T1median1n', 'T1mean1t', 'T1mean1n', 'T1Acc1t', 'T1Acc1n', 'T1bias', 'q6.1_INTRU', 'q6.2_DREAM', 'q6.3_FLASH', 'q6.4_UPSET', 'q6.5_PHYS', 'q6.6_AVTHT', 'q6.7_AVSIT', 'q6.8_AMNES', 'q6.9_DISINT', 'q6.10_DTACH', 'q6.11_NUMB', 'q6.12_FUTRE', 'q6.13_SLEEP', 'q6.14_ANGER', 'q6.15_CONC', 'q6.16_HYPER', 'q6.17_STRTL', 'intrusion_score', 'intrusion_mean', 'intrusion_std', 'binary_intrusion', 'tred_score', 'tred_mean', 'tred_std', 'binary_tred', 'avoidance_score', 'avoidance_mean', 'avoidance_std', 'binary_avoidance', 'hyper_score', 'hyper_mean', 'hyper_std', 'binary_hyper', 'T1q5.1', 'T1q5.2', 'T1q5.3', 'T1q5.4', 'T1q5.5', 'T1q5.6', 'T1q5.7', 'T1q5.8', 'T1q5.9', 'phq_physical_score', 'binary_phq_physical', 'phq_feels_score', 'binary_phq_feels', 'phq_an_score', 'binary_phq_an', 'phq_func_score', 'binary_phq_func', 'phq_score', 'phq_mean', 'phq_std', 'binary_phq'] ['f0', 'f1', 'f2', 'f3', 'f4', 'f5', 'f6', 'f7', 'f8', 'f9', 'f10', 'f11', 'f12', 'f13', 'f14', 'f15', 'f16', 'f17', 'f18', 'f19', 'f20', 'f21', 'f22', 'f23', 'f24', 'f25', 'f26', 'f27', 'f28', 'f29', 'f30', 'f31', 'f32', 'f33', 'f34', 'f35', 'f36', 'f37', 'f38', 'f39', 'f40', 'f41', 'f42', 'f43', 'f44', 'f45', 'f46', 'f47', 'f48', 'f49', 'f50', 'f51', 'f52', 'f53', 'f54', 'f55', 'f56', 'f57', 'f58', 'f59', 'f60', 'f61', 'f62', 'f63', 'f64', 'f65', 'f66', 'f67', 'f68', 'f69', 'f70', 'f71', 'f72', 'f73', 'f74', 'f75', 'f76', 'f77', 'f78', 'f79', 'f80', 'f81', 'f82', 'f83', 'f84', 'f85', 'f86', 'f87', 'f88', 'f89', 'f90', 'f91', 'f92', 'f93', 'f94', 'f95', 'f96', 'f97', 'f98', 'f99', 'f100', 'f101', 'f102', 'f103', 'f104', 'f105', 'f106', 'f107', 'f108', 'f109', 'f110', 'f111', 'f112', 'f113', 'f114', 'f115', 'f116', 'f117', 'f118', 'f119', 'f120', 'f121', 'f122', 'f123', 'f124', 'f125', 'f126', 'f127', 'f128', 'f129', 'f130', 'f131', 'f132', 'f133', 'f134', 'f135', 'f136', 'f137', 'f138', 'f139', 'f140', 'f141', 'f142', 'f143', 'f144', 'f145', 'f146', 'f147', 'f148', 'f149', 'f150', 'f151', 'f152', 'f153', 'f154', 'f155', 'f156', 'f157', 'f158', 'f159', 'f160', 'f161', 'f162', 'f163', 'f164', 'f165', 'f166', 'f167', 'f168', 'f169', 'f170', 'f171', 'f172', 'f173', 'f174', 'f175', 'f176', 'f177', 'f178', 'f179', 'f180', 'f181', 'f182', 'f183', 'f184', 'f185', 'f186', 'f187', 'f188', 'f189', 'f190', 'f191', 'f192', 'f193', 'f194', 'f195', 'f196', 'f197', 'f198', 'f199', 'f200', 'f201', 'f202', 'f203', 'f204', 'f205', 'f206', 'f207', 'f208', 'f209', 'f210', 'f211', 'f212', 'f213', 'f214', 'f215', 'f216', 'f217', 'f218', 'f219', 'f220', 'f221', 'f222', 'f223', 'f224', 'f225', 'f226', 'f227', 'f228', 'f229', 'f230', 'f231', 'f232', 'f233', 'f234', 'f235', 'f236', 'f237', 'f238', 'f239', 'f240', 'f241', 'f242', 'f243', 'f244', 'f245', 'f246', 'f247', 'f248', 'f249', 'f250', 'f251', 'f252', 'f253', 'f254', 'f255', 'f256', 'f257', 'f258', 'f259', 'f260', 'f261', 'f262', 'f263', 'f264', 'f265', 'f266', 'f267', 'f268', 'f269', 'f270', 'f271', 'f272', 'f273', 'f274', 'f275', 'f276', 'f277', 'f278', 'f279', 'f280', 'f281', 'f282', 'f283', 'f284', 'f285', 'f286', 'f287', 'f288', 'f289', 'f290', 'f291']\nexpected q6.17_STRTL, binary_tred, q6.14_ANGER, hyper_std, intrusion_PCL_T1, q6.5_PHYS, avoidance_mean, q6.12_FUTRE, T1median1t, binary_phq_physical, q6.8_AMNES, q6.1_INTRU, q6.2_DREAM, q6.6_AVTHT, q6.15_CONC, T1std1n, binary_phq_an, trauma_history6_1, q6.16_HYPER, phq_std, intrusion_std, T1std1t, phq_score, T1mean1n, hyper_mean, phq_mean, binary_phq_func, T1q5.9, q6.11_NUMB, PCL_Strict1, phq1, tred_score, T1bias, phq_an_score, binary_phq, T1q5.8, T1q5.1, binary_hyper, T1Acc1n, binary_phq_feels, q6.3_FLASH, phq_feels_score, ABV, q6.10_DTACH, highschool_diploma, q6.4_UPSET, intrusion_mean, avoidance_std, T1q5.3, T1q5.6, dyslexia, T1q5.4, tred_mean, phq_physical_score, q6.13_SLEEP, T1mean1t, binary_avoidance, T1Acc1t, T1q5.2, q6.9_DISINT, ADHD, T1median1n, q6.7_AVSIT, intrusion_score, hyper_score, T1q5.5, phq_func_score, avoidance_score, ID, tred_std, binary_intrusion, PCL1, T1q5.7 in input data\ntraining data did not have the following fields: f154, f169, f210, f72, f199, f129, f78, f22, f182, f279, f196, f262, f268, f20, f288, f187, f191, f104, f34, f103, f5, f87, f206, f242, f47, f282, f113, f18, f200, f243, f67, f25, f237, f94, f80, f278, f189, f41, f170, f8, f178, f55, f128, f141, f9, f236, f291, f89, f255, f69, f96, f179, f220, f173, f70, f225, f134, f21, f74, f98, f258, f53, f51, f145, f110, f151, f13, f127, f32, f50, f254, f228, f201, f137, f56, f257, f217, f111, f46, f107, f121, f136, f290, f88, f241, f63, f44, f122, f131, f37, f68, f209, f219, f114, f119, f194, f16, f231, f248, f133, f283, f247, f185, f264, f150, f73, f287, f289, f40, f146, f186, f212, f125, f218, f181, f139, f175, f97, f62, f272, f91, f86, f123, f66, f153, f172, f180, f239, f244, f28, f167, f274, f105, f2, f253, f195, f224, f285, f269, f38, f112, f174, f202, f229, f12, f251, f49, f11, f160, f108, f4, f260, f267, f124, f30, f286, f31, f52, f76, f259, f3, f276, f45, f33, f101, f143, f184, f176, f159, f208, f90, f54, f148, f235, f7, f15, f245, f65, f39, f79, f234, f168, f135, f26, f252, f197, f275, f162, f58, f207, f42, f116, f118, f92, f60, f227, f29, f120, f64, f84, f100, f102, f261, f17, f115, f204, f117, f0, f99, f144, f213, f142, f23, f109, f250, f163, f222, f249, f284, f273, f152, f193, f126, f6, f188, f156, f106, f164, f43, f165, f265, f266, f132, f232, f10, f155, f61, f171, f183, f198, f216, f14, f149, f233, f81, f71, f240, f177, f192, f223, f161, f147, f215, f190, f27, f93, f158, f36, f281, f95, f238, f77, f19, f130, f1, f138, f166, f85, f277, f246, f256, f75, f263, f157, f48, f280, f203, f82, f83, f211, f57, f140, f59, f205, f221, f35, f230, f24, f214, f270, f271, f226",
     "output_type": "error",
     "traceback": [
      "\u001b[1;31m---------------------------------------------------------------------------\u001b[0m",
      "\u001b[1;31mValueError\u001b[0m                                Traceback (most recent call last)",
      "\u001b[1;32m<ipython-input-44-700edd49ac1f>\u001b[0m in \u001b[0;36m<module>\u001b[1;34m\u001b[0m\n\u001b[0;32m     17\u001b[0m \u001b[1;33m\u001b[0m\u001b[0m\n\u001b[0;32m     18\u001b[0m \u001b[1;33m\u001b[0m\u001b[0m\n\u001b[1;32m---> 19\u001b[1;33m         \u001b[0my_pred\u001b[0m \u001b[1;33m=\u001b[0m \u001b[0mtest_time_augmentation\u001b[0m\u001b[1;33m(\u001b[0m\u001b[0mmodel\u001b[0m\u001b[1;33m,\u001b[0m \u001b[0mx_train\u001b[0m\u001b[1;33m,\u001b[0m \u001b[0mn\u001b[0m\u001b[1;33m)\u001b[0m\u001b[1;33m\u001b[0m\u001b[1;33m\u001b[0m\u001b[0m\n\u001b[0m\u001b[0;32m     20\u001b[0m         \u001b[0mprint_results\u001b[0m\u001b[1;33m(\u001b[0m\u001b[0my_train\u001b[0m\u001b[1;33m,\u001b[0m \u001b[0my_pred\u001b[0m\u001b[1;33m)\u001b[0m\u001b[1;33m\u001b[0m\u001b[1;33m\u001b[0m\u001b[0m\n\u001b[0;32m     21\u001b[0m \u001b[1;33m\u001b[0m\u001b[0m\n",
      "\u001b[1;32m<ipython-input-41-10f63043ae79>\u001b[0m in \u001b[0;36mtest_time_augmentation\u001b[1;34m(model, X_test, noise)\u001b[0m\n\u001b[0;32m     26\u001b[0m \u001b[1;33m\u001b[0m\u001b[0m\n\u001b[0;32m     27\u001b[0m         \u001b[1;31m# make a prediction for all examples in the test set\u001b[0m\u001b[1;33m\u001b[0m\u001b[1;33m\u001b[0m\u001b[1;33m\u001b[0m\u001b[0m\n\u001b[1;32m---> 28\u001b[1;33m         \u001b[0mlabels\u001b[0m \u001b[1;33m=\u001b[0m \u001b[0mmodel\u001b[0m\u001b[1;33m.\u001b[0m\u001b[0mpredict_proba\u001b[0m\u001b[1;33m(\u001b[0m\u001b[0mpd\u001b[0m\u001b[1;33m.\u001b[0m\u001b[0mconcat\u001b[0m\u001b[1;33m(\u001b[0m\u001b[0mtest_set\u001b[0m\u001b[1;33m)\u001b[0m\u001b[1;33m)\u001b[0m\u001b[1;33m[\u001b[0m\u001b[1;33m:\u001b[0m\u001b[1;33m,\u001b[0m \u001b[1;36m1\u001b[0m\u001b[1;33m]\u001b[0m\u001b[1;33m\u001b[0m\u001b[1;33m\u001b[0m\u001b[0m\n\u001b[0m\u001b[0;32m     29\u001b[0m         \u001b[1;31m# select the label as the mode of the distribution\u001b[0m\u001b[1;33m\u001b[0m\u001b[1;33m\u001b[0m\u001b[1;33m\u001b[0m\u001b[0m\n\u001b[0;32m     30\u001b[0m         \u001b[0mlabel\u001b[0m\u001b[1;33m,\u001b[0m \u001b[0m_\u001b[0m \u001b[1;33m=\u001b[0m \u001b[0mmode\u001b[0m\u001b[1;33m(\u001b[0m\u001b[0mlabels\u001b[0m\u001b[1;33m)\u001b[0m\u001b[1;33m\u001b[0m\u001b[1;33m\u001b[0m\u001b[0m\n",
      "\u001b[1;32m~\\AppData\\Local\\Continuum\\anaconda3\\lib\\site-packages\\xgboost\\sklearn.py\u001b[0m in \u001b[0;36mpredict_proba\u001b[1;34m(self, data, ntree_limit, validate_features, base_margin)\u001b[0m\n\u001b[0;32m    935\u001b[0m         class_probs = self.get_booster().predict(test_dmatrix,\n\u001b[0;32m    936\u001b[0m                                                  \u001b[0mntree_limit\u001b[0m\u001b[1;33m=\u001b[0m\u001b[0mntree_limit\u001b[0m\u001b[1;33m,\u001b[0m\u001b[1;33m\u001b[0m\u001b[1;33m\u001b[0m\u001b[0m\n\u001b[1;32m--> 937\u001b[1;33m                                                  validate_features=validate_features)\n\u001b[0m\u001b[0;32m    938\u001b[0m         \u001b[1;32mif\u001b[0m \u001b[0mself\u001b[0m\u001b[1;33m.\u001b[0m\u001b[0mobjective\u001b[0m \u001b[1;33m==\u001b[0m \u001b[1;34m\"multi:softprob\"\u001b[0m\u001b[1;33m:\u001b[0m\u001b[1;33m\u001b[0m\u001b[1;33m\u001b[0m\u001b[0m\n\u001b[0;32m    939\u001b[0m             \u001b[1;32mreturn\u001b[0m \u001b[0mclass_probs\u001b[0m\u001b[1;33m\u001b[0m\u001b[1;33m\u001b[0m\u001b[0m\n",
      "\u001b[1;32m~\\AppData\\Local\\Continuum\\anaconda3\\lib\\site-packages\\xgboost\\core.py\u001b[0m in \u001b[0;36mpredict\u001b[1;34m(self, data, output_margin, ntree_limit, pred_leaf, pred_contribs, approx_contribs, pred_interactions, validate_features, training)\u001b[0m\n\u001b[0;32m   1440\u001b[0m \u001b[1;33m\u001b[0m\u001b[0m\n\u001b[0;32m   1441\u001b[0m         \u001b[1;32mif\u001b[0m \u001b[0mvalidate_features\u001b[0m\u001b[1;33m:\u001b[0m\u001b[1;33m\u001b[0m\u001b[1;33m\u001b[0m\u001b[0m\n\u001b[1;32m-> 1442\u001b[1;33m             \u001b[0mself\u001b[0m\u001b[1;33m.\u001b[0m\u001b[0m_validate_features\u001b[0m\u001b[1;33m(\u001b[0m\u001b[0mdata\u001b[0m\u001b[1;33m)\u001b[0m\u001b[1;33m\u001b[0m\u001b[1;33m\u001b[0m\u001b[0m\n\u001b[0m\u001b[0;32m   1443\u001b[0m \u001b[1;33m\u001b[0m\u001b[0m\n\u001b[0;32m   1444\u001b[0m         \u001b[0mlength\u001b[0m \u001b[1;33m=\u001b[0m \u001b[0mc_bst_ulong\u001b[0m\u001b[1;33m(\u001b[0m\u001b[1;33m)\u001b[0m\u001b[1;33m\u001b[0m\u001b[1;33m\u001b[0m\u001b[0m\n",
      "\u001b[1;32m~\\AppData\\Local\\Continuum\\anaconda3\\lib\\site-packages\\xgboost\\core.py\u001b[0m in \u001b[0;36m_validate_features\u001b[1;34m(self, data)\u001b[0m\n\u001b[0;32m   1852\u001b[0m \u001b[1;33m\u001b[0m\u001b[0m\n\u001b[0;32m   1853\u001b[0m                 raise ValueError(msg.format(self.feature_names,\n\u001b[1;32m-> 1854\u001b[1;33m                                             data.feature_names))\n\u001b[0m\u001b[0;32m   1855\u001b[0m \u001b[1;33m\u001b[0m\u001b[0m\n\u001b[0;32m   1856\u001b[0m     def get_split_value_histogram(self, feature, fmap='', bins=None,\n",
      "\u001b[1;31mValueError\u001b[0m: feature_names mismatch: ['highschool_diploma', 'ADHD', 'phq1', 'PCL1', 'intrusion_PCL_T1', 'PCL_Strict1', 'ABV', 'dyslexia', 'ID', 'trauma_history6_1', 'T1std1t', 'T1median1t', 'T1std1n', 'T1median1n', 'T1mean1t', 'T1mean1n', 'T1Acc1t', 'T1Acc1n', 'T1bias', 'q6.1_INTRU', 'q6.2_DREAM', 'q6.3_FLASH', 'q6.4_UPSET', 'q6.5_PHYS', 'q6.6_AVTHT', 'q6.7_AVSIT', 'q6.8_AMNES', 'q6.9_DISINT', 'q6.10_DTACH', 'q6.11_NUMB', 'q6.12_FUTRE', 'q6.13_SLEEP', 'q6.14_ANGER', 'q6.15_CONC', 'q6.16_HYPER', 'q6.17_STRTL', 'intrusion_score', 'intrusion_mean', 'intrusion_std', 'binary_intrusion', 'tred_score', 'tred_mean', 'tred_std', 'binary_tred', 'avoidance_score', 'avoidance_mean', 'avoidance_std', 'binary_avoidance', 'hyper_score', 'hyper_mean', 'hyper_std', 'binary_hyper', 'T1q5.1', 'T1q5.2', 'T1q5.3', 'T1q5.4', 'T1q5.5', 'T1q5.6', 'T1q5.7', 'T1q5.8', 'T1q5.9', 'phq_physical_score', 'binary_phq_physical', 'phq_feels_score', 'binary_phq_feels', 'phq_an_score', 'binary_phq_an', 'phq_func_score', 'binary_phq_func', 'phq_score', 'phq_mean', 'phq_std', 'binary_phq'] ['f0', 'f1', 'f2', 'f3', 'f4', 'f5', 'f6', 'f7', 'f8', 'f9', 'f10', 'f11', 'f12', 'f13', 'f14', 'f15', 'f16', 'f17', 'f18', 'f19', 'f20', 'f21', 'f22', 'f23', 'f24', 'f25', 'f26', 'f27', 'f28', 'f29', 'f30', 'f31', 'f32', 'f33', 'f34', 'f35', 'f36', 'f37', 'f38', 'f39', 'f40', 'f41', 'f42', 'f43', 'f44', 'f45', 'f46', 'f47', 'f48', 'f49', 'f50', 'f51', 'f52', 'f53', 'f54', 'f55', 'f56', 'f57', 'f58', 'f59', 'f60', 'f61', 'f62', 'f63', 'f64', 'f65', 'f66', 'f67', 'f68', 'f69', 'f70', 'f71', 'f72', 'f73', 'f74', 'f75', 'f76', 'f77', 'f78', 'f79', 'f80', 'f81', 'f82', 'f83', 'f84', 'f85', 'f86', 'f87', 'f88', 'f89', 'f90', 'f91', 'f92', 'f93', 'f94', 'f95', 'f96', 'f97', 'f98', 'f99', 'f100', 'f101', 'f102', 'f103', 'f104', 'f105', 'f106', 'f107', 'f108', 'f109', 'f110', 'f111', 'f112', 'f113', 'f114', 'f115', 'f116', 'f117', 'f118', 'f119', 'f120', 'f121', 'f122', 'f123', 'f124', 'f125', 'f126', 'f127', 'f128', 'f129', 'f130', 'f131', 'f132', 'f133', 'f134', 'f135', 'f136', 'f137', 'f138', 'f139', 'f140', 'f141', 'f142', 'f143', 'f144', 'f145', 'f146', 'f147', 'f148', 'f149', 'f150', 'f151', 'f152', 'f153', 'f154', 'f155', 'f156', 'f157', 'f158', 'f159', 'f160', 'f161', 'f162', 'f163', 'f164', 'f165', 'f166', 'f167', 'f168', 'f169', 'f170', 'f171', 'f172', 'f173', 'f174', 'f175', 'f176', 'f177', 'f178', 'f179', 'f180', 'f181', 'f182', 'f183', 'f184', 'f185', 'f186', 'f187', 'f188', 'f189', 'f190', 'f191', 'f192', 'f193', 'f194', 'f195', 'f196', 'f197', 'f198', 'f199', 'f200', 'f201', 'f202', 'f203', 'f204', 'f205', 'f206', 'f207', 'f208', 'f209', 'f210', 'f211', 'f212', 'f213', 'f214', 'f215', 'f216', 'f217', 'f218', 'f219', 'f220', 'f221', 'f222', 'f223', 'f224', 'f225', 'f226', 'f227', 'f228', 'f229', 'f230', 'f231', 'f232', 'f233', 'f234', 'f235', 'f236', 'f237', 'f238', 'f239', 'f240', 'f241', 'f242', 'f243', 'f244', 'f245', 'f246', 'f247', 'f248', 'f249', 'f250', 'f251', 'f252', 'f253', 'f254', 'f255', 'f256', 'f257', 'f258', 'f259', 'f260', 'f261', 'f262', 'f263', 'f264', 'f265', 'f266', 'f267', 'f268', 'f269', 'f270', 'f271', 'f272', 'f273', 'f274', 'f275', 'f276', 'f277', 'f278', 'f279', 'f280', 'f281', 'f282', 'f283', 'f284', 'f285', 'f286', 'f287', 'f288', 'f289', 'f290', 'f291']\nexpected q6.17_STRTL, binary_tred, q6.14_ANGER, hyper_std, intrusion_PCL_T1, q6.5_PHYS, avoidance_mean, q6.12_FUTRE, T1median1t, binary_phq_physical, q6.8_AMNES, q6.1_INTRU, q6.2_DREAM, q6.6_AVTHT, q6.15_CONC, T1std1n, binary_phq_an, trauma_history6_1, q6.16_HYPER, phq_std, intrusion_std, T1std1t, phq_score, T1mean1n, hyper_mean, phq_mean, binary_phq_func, T1q5.9, q6.11_NUMB, PCL_Strict1, phq1, tred_score, T1bias, phq_an_score, binary_phq, T1q5.8, T1q5.1, binary_hyper, T1Acc1n, binary_phq_feels, q6.3_FLASH, phq_feels_score, ABV, q6.10_DTACH, highschool_diploma, q6.4_UPSET, intrusion_mean, avoidance_std, T1q5.3, T1q5.6, dyslexia, T1q5.4, tred_mean, phq_physical_score, q6.13_SLEEP, T1mean1t, binary_avoidance, T1Acc1t, T1q5.2, q6.9_DISINT, ADHD, T1median1n, q6.7_AVSIT, intrusion_score, hyper_score, T1q5.5, phq_func_score, avoidance_score, ID, tred_std, binary_intrusion, PCL1, T1q5.7 in input data\ntraining data did not have the following fields: f154, f169, f210, f72, f199, f129, f78, f22, f182, f279, f196, f262, f268, f20, f288, f187, f191, f104, f34, f103, f5, f87, f206, f242, f47, f282, f113, f18, f200, f243, f67, f25, f237, f94, f80, f278, f189, f41, f170, f8, f178, f55, f128, f141, f9, f236, f291, f89, f255, f69, f96, f179, f220, f173, f70, f225, f134, f21, f74, f98, f258, f53, f51, f145, f110, f151, f13, f127, f32, f50, f254, f228, f201, f137, f56, f257, f217, f111, f46, f107, f121, f136, f290, f88, f241, f63, f44, f122, f131, f37, f68, f209, f219, f114, f119, f194, f16, f231, f248, f133, f283, f247, f185, f264, f150, f73, f287, f289, f40, f146, f186, f212, f125, f218, f181, f139, f175, f97, f62, f272, f91, f86, f123, f66, f153, f172, f180, f239, f244, f28, f167, f274, f105, f2, f253, f195, f224, f285, f269, f38, f112, f174, f202, f229, f12, f251, f49, f11, f160, f108, f4, f260, f267, f124, f30, f286, f31, f52, f76, f259, f3, f276, f45, f33, f101, f143, f184, f176, f159, f208, f90, f54, f148, f235, f7, f15, f245, f65, f39, f79, f234, f168, f135, f26, f252, f197, f275, f162, f58, f207, f42, f116, f118, f92, f60, f227, f29, f120, f64, f84, f100, f102, f261, f17, f115, f204, f117, f0, f99, f144, f213, f142, f23, f109, f250, f163, f222, f249, f284, f273, f152, f193, f126, f6, f188, f156, f106, f164, f43, f165, f265, f266, f132, f232, f10, f155, f61, f171, f183, f198, f216, f14, f149, f233, f81, f71, f240, f177, f192, f223, f161, f147, f215, f190, f27, f93, f158, f36, f281, f95, f238, f77, f19, f130, f1, f138, f166, f85, f277, f246, f256, f75, f263, f157, f48, f280, f203, f82, f83, f211, f57, f140, f59, f205, f221, f35, f230, f24, f214, f270, f271, f226"
     ]
    }
   ],
   "source": [
    "\n",
    " \n",
    "# evaluate different number of synthetic examples created at test time\n",
    "noise = arange(0.01, 0.31, 0.01)\n",
    "results = list()\n",
    "for n in noise:\n",
    "    # initialize numpy random number generator\n",
    "    seed(1)\n",
    "    # create dataset\n",
    "\n",
    "\n",
    "    for train, test in cv.split(X, Y):\n",
    "        x_train, y_train = X.iloc[train], Y.iloc[train]\n",
    "        x_test, y_test = X.iloc[test], Y.iloc[test]\n",
    "\n",
    "        # create the model\n",
    "        model = XGBClassifier(class_weights=[1,5])\n",
    "        model.fit(x_train, y_train)\n",
    "\n",
    "\n",
    "        y_pred = test_time_augmentation(model, x_train, n)\n",
    "        print_results(y_train, y_pred)\n",
    "        \n",
    "        y_pred = test_time_augmentation(model, x_test, n)\n",
    "        print_results(y_test, y_pred)\n",
    "\n",
    "\n",
    "    "
   ]
  },
  {
   "cell_type": "code",
   "execution_count": null,
   "id": "psychological-parks",
   "metadata": {},
   "outputs": [],
   "source": []
  }
 ],
 "metadata": {
  "kernelspec": {
   "display_name": "Python 3",
   "language": "python",
   "name": "python3"
  },
  "language_info": {
   "codemirror_mode": {
    "name": "ipython",
    "version": 3
   },
   "file_extension": ".py",
   "mimetype": "text/x-python",
   "name": "python",
   "nbconvert_exporter": "python",
   "pygments_lexer": "ipython3",
   "version": "3.7.4"
  }
 },
 "nbformat": 4,
 "nbformat_minor": 5
}
