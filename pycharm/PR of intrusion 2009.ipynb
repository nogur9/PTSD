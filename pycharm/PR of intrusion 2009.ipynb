{
 "cells": [
  {
   "cell_type": "code",
   "execution_count": 1,
   "metadata": {
    "scrolled": true
   },
   "outputs": [
    {
     "name": "stderr",
     "output_type": "stream",
     "text": [
      "Using TensorFlow backend.\n",
      "C:\\Users\\nogag\\AppData\\Local\\Continuum\\anaconda3\\lib\\site-packages\\tensorflow\\python\\framework\\dtypes.py:526: FutureWarning: Passing (type, 1) or '1type' as a synonym of type is deprecated; in a future version of numpy, it will be understood as (type, (1,)) / '(1,)type'.\n",
      "  _np_qint8 = np.dtype([(\"qint8\", np.int8, 1)])\n",
      "C:\\Users\\nogag\\AppData\\Local\\Continuum\\anaconda3\\lib\\site-packages\\tensorflow\\python\\framework\\dtypes.py:527: FutureWarning: Passing (type, 1) or '1type' as a synonym of type is deprecated; in a future version of numpy, it will be understood as (type, (1,)) / '(1,)type'.\n",
      "  _np_quint8 = np.dtype([(\"quint8\", np.uint8, 1)])\n",
      "C:\\Users\\nogag\\AppData\\Local\\Continuum\\anaconda3\\lib\\site-packages\\tensorflow\\python\\framework\\dtypes.py:528: FutureWarning: Passing (type, 1) or '1type' as a synonym of type is deprecated; in a future version of numpy, it will be understood as (type, (1,)) / '(1,)type'.\n",
      "  _np_qint16 = np.dtype([(\"qint16\", np.int16, 1)])\n",
      "C:\\Users\\nogag\\AppData\\Local\\Continuum\\anaconda3\\lib\\site-packages\\tensorflow\\python\\framework\\dtypes.py:529: FutureWarning: Passing (type, 1) or '1type' as a synonym of type is deprecated; in a future version of numpy, it will be understood as (type, (1,)) / '(1,)type'.\n",
      "  _np_quint16 = np.dtype([(\"quint16\", np.uint16, 1)])\n",
      "C:\\Users\\nogag\\AppData\\Local\\Continuum\\anaconda3\\lib\\site-packages\\tensorflow\\python\\framework\\dtypes.py:530: FutureWarning: Passing (type, 1) or '1type' as a synonym of type is deprecated; in a future version of numpy, it will be understood as (type, (1,)) / '(1,)type'.\n",
      "  _np_qint32 = np.dtype([(\"qint32\", np.int32, 1)])\n",
      "C:\\Users\\nogag\\AppData\\Local\\Continuum\\anaconda3\\lib\\site-packages\\tensorflow\\python\\framework\\dtypes.py:535: FutureWarning: Passing (type, 1) or '1type' as a synonym of type is deprecated; in a future version of numpy, it will be understood as (type, (1,)) / '(1,)type'.\n",
      "  np_resource = np.dtype([(\"resource\", np.ubyte, 1)])\n"
     ]
    }
   ],
   "source": [
    "from catboost import CatBoostClassifier, CatBoostRegressor\n",
    "from scipy import stats\n",
    "import numpy as np\n",
    "import pandas as pd\n",
    "from sklearn.model_selection import train_test_split, StratifiedKFold, cross_val_score\n",
    "from sklearn.metrics import precision_score, roc_auc_score, f1_score, recall_score, precision_recall_curve, auc, average_precision_score, precision_recall_fscore_support\n",
    "from sklearn.preprocessing import StandardScaler\n",
    "from fancyimpute import IterativeImputer\n",
    "from sklearn.base import BaseEstimator, TransformerMixin\n",
    "\n",
    "from sklearn.feature_selection import SelectFromModel, RFE\n",
    "from sklearn.linear_model import LogisticRegression\n",
    "from imblearn.pipeline import Pipeline\n",
    "from sklearn.ensemble import RandomForestClassifier,ExtraTreesClassifier\n",
    "from sklearn.metrics import roc_curve, auc\n",
    "import matplotlib.pyplot as plt\n",
    "import statsmodels.api as sm\n",
    "from statsmodels.formula.api import ols\n",
    "from sklearn.model_selection import GridSearchCV\n",
    "import xlsxwriter\n",
    "from random import randint\n",
    "random_state = 7656\n",
    "from preprocessing import stds, stats, cv_preprocessing\n",
    "from load_data import load_data\n",
    "import os\n",
    "from scipy.stats import mode\n",
    "\n",
    "from tensorflow.keras.models import Sequential\n",
    "from tensorflow.keras.layers import Dense, Dropout, Input\n",
    "#from tensorflow.keras.layers import Conv2D, Activation\n",
    "from tensorflow.keras.models import Model\n",
    "from tensorflow.keras.optimizers import Adam\n",
    "from tensorflow.keras.callbacks import EarlyStopping"
   ]
  },
  {
   "cell_type": "markdown",
   "metadata": {},
   "source": [
    "## Multi Cat-Boost"
   ]
  },
  {
   "cell_type": "code",
   "execution_count": 2,
   "metadata": {},
   "outputs": [],
   "source": [
    "pcls = [\"q6.1_INTRU\", \"q6.2_DREAM\", \"q6.3_FLASH\", \"q6.4_UPSET\",\n",
    "               \"q6.5_PHYS\", \"q6.6_AVTHT\", \"q6.7_AVSIT\", \"q6.8_AMNES\", \"q6.9_DISINT\",\n",
    "               \"q6.10_DTACH\", \"q6.11_NUMB\", \"q6.12_FUTRE\", \"q6.13_SLEEP\",\n",
    "               \"q6.14_ANGER\", \"q6.15_CONC\", \"q6.16_HYPER\", \"q6.17_STRTL\"]\n",
    "phqs = [f\"T1q5.{i}\" for i in range(1, 10)]\n",
    "phqs2 = [f\"T1q5.{i}_\" for i in range(1, 10)]\n"
   ]
  },
  {
   "cell_type": "code",
   "execution_count": null,
   "metadata": {},
   "outputs": [],
   "source": []
  },
  {
   "cell_type": "code",
   "execution_count": 8,
   "metadata": {
    "scrolled": false
   },
   "outputs": [
    {
     "name": "stdout",
     "output_type": "stream",
     "text": [
      "average_precision_score = 0.4250697075376254\n",
      "pr_auc = 0.3948973102267876\n"
     ]
    },
    {
     "data": {
      "image/png": "[encoded data removed]",
      "text/plain": [
       "<Figure size 432x288 with 1 Axes>"
      ]
     },
     "metadata": {
      "needs_background": "light"
     },
     "output_type": "display_data"
    },
    {
     "name": "stdout",
     "output_type": "stream",
     "text": [
      "holdout i = , roc_auc = 0.7208333333333333\n"
     ]
    },
    {
     "ename": "NameError",
     "evalue": "name 'printd' is not defined",
     "output_type": "error",
     "traceback": [
      "\u001b[1;31m---------------------------------------------------------------------------\u001b[0m",
      "\u001b[1;31mNameError\u001b[0m                                 Traceback (most recent call last)",
      "\u001b[1;32m<ipython-input-8-57b70a5b59e7>\u001b[0m in \u001b[0;36m<module>\u001b[1;34m\u001b[0m\n\u001b[0;32m     99\u001b[0m         \u001b[0mplt\u001b[0m\u001b[1;33m.\u001b[0m\u001b[0mshow\u001b[0m\u001b[1;33m(\u001b[0m\u001b[1;33m)\u001b[0m\u001b[1;33m\u001b[0m\u001b[1;33m\u001b[0m\u001b[0m\n\u001b[0;32m    100\u001b[0m         \u001b[0mprint\u001b[0m\u001b[1;33m(\u001b[0m\u001b[1;34mf\"holdout i = , roc_auc = {roc_auc_score(y_test.astype(int), y_pred)}\"\u001b[0m\u001b[1;33m)\u001b[0m\u001b[1;33m\u001b[0m\u001b[1;33m\u001b[0m\u001b[0m\n\u001b[1;32m--> 101\u001b[1;33m         \u001b[0mprintd\u001b[0m\u001b[1;33m(\u001b[0m\u001b[1;34m'f'\u001b[0m\u001b[1;33m)\u001b[0m\u001b[1;33m\u001b[0m\u001b[1;33m\u001b[0m\u001b[0m\n\u001b[0m",
      "\u001b[1;31mNameError\u001b[0m: name 'printd' is not defined"
     ]
    }
   ],
   "source": [
    "df_preprocessed, features, target_feature = load_data()\n",
    "df_preprocessed[phqs2] = 0\n",
    "df_preprocessed[phqs2] = df_preprocessed[phqs] + 1\n",
    "df_preprocessed['blop1'] = mode(df_preprocessed[phqs2+pcls], axis=1)[0]\n",
    "df_preprocessed['blop2'] = mode(df_preprocessed[pcls], axis=1)[0]\n",
    "df_preprocessed['blop3'] = mode(df_preprocessed[phqs2], axis=1)[0]\n",
    "features.extend(['blop1', 'blop2', 'blop3'])\n",
    "features2 = [i for i in features if i not in phqs+pcls]\n",
    "#df_preprocessed = df_preprocessed[~df_preprocessed['phq3'].isna()]\n",
    "secondary_targets2 = { i:2 for i in target_feature}\n",
    "#     'PCL_Strict3':0,\n",
    "#      'q6.1_INTRU_target':2,\n",
    "#  'q6.2_DREAM_target':2,\n",
    "#  'q6.3_FLASH_target':2,\n",
    "#  'q6.4_UPSET_target':2,\n",
    "#  'q6.5_PHYS_target':2,\n",
    "#     'target_intrusion':10\n",
    "# }\n",
    "\n",
    "secondary_targets = {\n",
    "    \n",
    "         'q6.1_INTRU_target':1,\n",
    " 'q6.2_DREAM_target':1,\n",
    "  'q6.3_FLASH_target':1,\n",
    "    'q6.4_UPSET_target':2,\n",
    "  'q6.5_PHYS_target':1,\n",
    "}\n",
    "\n",
    "for j in range(1):\n",
    "    X, X_out, Y, y_out = train_test_split(df_preprocessed[features + list(secondary_targets.keys())], df_preprocessed['target_binary_intrusion'],\\\n",
    "                                          test_size=0.15, random_state=random_state,\\\n",
    "                                          stratify=df_preprocessed['target_binary_intrusion'])\n",
    "\n",
    "\n",
    "    cv = StratifiedKFold(5)\n",
    "\n",
    "    for train, test in cv.split(X, Y):\n",
    "        \n",
    "        x_train2, y_train = X.iloc[train], Y.iloc[train]\n",
    "        x_test2, y_test = X.iloc[test], Y.iloc[test]\n",
    "        \n",
    "        x_train = x_train2[features]\n",
    "        x_test = x_test2[features]\n",
    "        \n",
    "        x_train, x_test = cv_preprocessing(x_train, x_test)\n",
    "        x_train = x_train[features2]\n",
    "        x_test = x_test[features2]\n",
    "        train_preds = np.zeros_like(y_train)\n",
    "        test_preds = np.zeros_like(y_test)\n",
    "\n",
    "        for k in secondary_targets.keys():\n",
    "            lim2 = x_train2[k].apply(lambda x: int(x > 2))\n",
    "            lim1 = x_train2[k].apply(lambda x: int(x > 1))\n",
    "\n",
    "\n",
    "\n",
    "            model2 = LogisticRegression(verbose=0, class_weight=[10, 1], max_iter=250)\n",
    "            model2.fit(x_train,lim2)\n",
    "            \n",
    "            train_hat = model2.predict_proba(x_train)[:,1]\n",
    "            test_hat = model2.predict_proba(x_test)[:,1]\n",
    "\n",
    "            train_preds = np.vstack([train_preds, train_hat])\n",
    "            test_preds = np.vstack([test_preds, test_hat])\n",
    "\n",
    "            \n",
    "            model1 = LogisticRegression(verbose=0, class_weight=[5, 1], max_iter=250)\n",
    "            model1.fit(x_train,lim1)\n",
    "            \n",
    "            train_hat = model1.predict_proba(x_train)[:,1]\n",
    "            test_hat = model1.predict_proba(x_test)[:,1]\n",
    "\n",
    "            train_preds = np.vstack([train_preds, train_hat])\n",
    "            test_preds = np.vstack([test_preds, test_hat])\n",
    "\n",
    "             \n",
    "            \n",
    "        x_train = np.hstack([train_preds.T, x_train])\n",
    "        x_test = np.hstack([test_preds.T, x_test])\n",
    "        \n",
    "        \n",
    "        \n",
    "        model = CatBoostClassifier(verbose=0,  class_weights=[10, 1])\n",
    "        model.fit(x_train,y_train)\n",
    "\n",
    "        #y_pred = model.predict(x_test)\n",
    "        #y_pred = np.vstack([preds, model.predict_proba(x_test)[:,1]]).min(axis=0)\n",
    "        y_pred = model.predict_proba(x_test)[:,1]\n",
    "\n",
    "\n",
    "        #print(f1_score(y_test.astype(int), y_pred))\n",
    "        precision, recall, _ = precision_recall_curve(y_test.astype(int), y_pred)\n",
    "        avs = average_precision_score(y_test.astype(int), y_pred)\n",
    "        print(f\"average_precision_score = {avs}\")\n",
    "\n",
    "        auc_score = auc(recall, precision)\n",
    "        print(f\"pr_auc = {auc_score}\")\n",
    "        plt.plot(recall, precision)\n",
    "        plt.show()\n",
    "        print(f\"holdout i = , roc_auc = {roc_auc_score(y_test.astype(int), y_pred)}\")\n",
    "        printd('f')"
   ]
  },
  {
   "cell_type": "code",
   "execution_count": 27,
   "metadata": {},
   "outputs": [
    {
     "data": {
      "text/plain": [
       "(104,)"
      ]
     },
     "execution_count": 27,
     "metadata": {},
     "output_type": "execute_result"
    }
   ],
   "source": [
    "model.get_feature_importance().shape"
   ]
  },
  {
   "cell_type": "code",
   "execution_count": 20,
   "metadata": {},
   "outputs": [
    {
     "data": {
      "text/plain": [
       "['highschool_diploma',\n",
       " 'ADHD',\n",
       " 'T1Acc1t',\n",
       " 'T1Acc1n',\n",
       " 'T1bias',\n",
       " 'phq1',\n",
       " 'trait1',\n",
       " 'state1',\n",
       " 'PCL1',\n",
       " 'intrusion_PCL_T1',\n",
       " 'T1mean1t',\n",
       " 'T1mean1n',\n",
       " 'PCL_Strict1',\n",
       " 'ABV',\n",
       " 'dyslexia',\n",
       " 'trauma_history6_1',\n",
       " 'terror_p1',\n",
       " 'terror_i1',\n",
       " 'mva_p1',\n",
       " 'mva_i1',\n",
       " 'violent1',\n",
       " 'sexual1',\n",
       " 'q6.1_INTRU',\n",
       " 'q6.2_DREAM',\n",
       " 'q6.3_FLASH',\n",
       " 'q6.4_UPSET',\n",
       " 'q6.5_PHYS',\n",
       " 'q6.6_AVTHT',\n",
       " 'q6.7_AVSIT',\n",
       " 'q6.8_AMNES',\n",
       " 'q6.9_DISINT',\n",
       " 'q6.10_DTACH',\n",
       " 'q6.11_NUMB',\n",
       " 'q6.12_FUTRE',\n",
       " 'q6.13_SLEEP',\n",
       " 'q6.14_ANGER',\n",
       " 'q6.15_CONC',\n",
       " 'q6.16_HYPER',\n",
       " 'q6.17_STRTL',\n",
       " 'intrusion_score',\n",
       " 'intrusion_mean',\n",
       " 'intrusion_std',\n",
       " 'binary_intrusion',\n",
       " 'tred_score',\n",
       " 'tred_mean',\n",
       " 'tred_std',\n",
       " 'binary_tred',\n",
       " 'avoidance_score',\n",
       " 'avoidance_mean',\n",
       " 'avoidance_std',\n",
       " 'binary_avoidance',\n",
       " 'hyper_score',\n",
       " 'hyper_mean',\n",
       " 'hyper_std',\n",
       " 'binary_hyper',\n",
       " 'T1q5.1',\n",
       " 'T1q5.2',\n",
       " 'T1q5.3',\n",
       " 'T1q5.4',\n",
       " 'T1q5.5',\n",
       " 'T1q5.6',\n",
       " 'T1q5.7',\n",
       " 'T1q5.8',\n",
       " 'T1q5.9',\n",
       " 'phq_physical_score',\n",
       " 'binary_phq_physical',\n",
       " 'phq_feels_score',\n",
       " 'binary_phq_feels',\n",
       " 'phq_an_score',\n",
       " 'binary_phq_an',\n",
       " 'phq_func_score',\n",
       " 'binary_phq_func',\n",
       " 'phq_score',\n",
       " 'phq_mean',\n",
       " 'phq_std',\n",
       " 'binary_phq',\n",
       " 'blop1',\n",
       " 'blop2',\n",
       " 'blop3']"
      ]
     },
     "execution_count": 20,
     "metadata": {},
     "output_type": "execute_result"
    }
   ],
   "source": [
    "features"
   ]
  },
  {
   "cell_type": "code",
   "execution_count": 5,
   "metadata": {},
   "outputs": [
    {
     "ename": "AttributeError",
     "evalue": "'Index' object has no attribute 'count'",
     "output_type": "error",
     "traceback": [
      "\u001b[1;31m---------------------------------------------------------------------------\u001b[0m",
      "\u001b[1;31mAttributeError\u001b[0m                            Traceback (most recent call last)",
      "\u001b[1;32m<ipython-input-5-b79a95e0333e>\u001b[0m in \u001b[0;36m<module>\u001b[1;34m\u001b[0m\n\u001b[1;32m----> 1\u001b[1;33m \u001b[0mdf_preprocessed\u001b[0m\u001b[1;33m.\u001b[0m\u001b[0mcolumns\u001b[0m\u001b[1;33m.\u001b[0m\u001b[0mcount\u001b[0m\u001b[1;33m(\u001b[0m\u001b[1;33m)\u001b[0m\u001b[1;33m\u001b[0m\u001b[1;33m\u001b[0m\u001b[0m\n\u001b[0m",
      "\u001b[1;31mAttributeError\u001b[0m: 'Index' object has no attribute 'count'"
     ]
    }
   ],
   "source": [
    "df_preprocessed.columns.count()"
   ]
  },
  {
   "cell_type": "code",
   "execution_count": 1,
   "metadata": {},
   "outputs": [
    {
     "ename": "NameError",
     "evalue": "name 'df_preprocessed' is not defined",
     "output_type": "error",
     "traceback": [
      "\u001b[1;31m---------------------------------------------------------------------------\u001b[0m",
      "\u001b[1;31mNameError\u001b[0m                                 Traceback (most recent call last)",
      "\u001b[1;32m<ipython-input-1-898967459e82>\u001b[0m in \u001b[0;36m<module>\u001b[1;34m\u001b[0m\n\u001b[1;32m----> 1\u001b[1;33m \u001b[0mdf_preprocessed\u001b[0m\u001b[1;33m[\u001b[0m\u001b[1;33m(\u001b[0m\u001b[0mdf_preprocessed\u001b[0m\u001b[1;33m[\u001b[0m\u001b[1;34m'intrusion_PCL_T1'\u001b[0m\u001b[1;33m]\u001b[0m \u001b[1;33m==\u001b[0m \u001b[1;36m1\u001b[0m\u001b[1;33m)\u001b[0m \u001b[1;33m&\u001b[0m\u001b[1;33m(\u001b[0m\u001b[0mdf_preprocessed\u001b[0m\u001b[1;33m[\u001b[0m\u001b[1;34m'target_binary_intrusion'\u001b[0m\u001b[1;33m]\u001b[0m\u001b[1;33m==\u001b[0m\u001b[1;36m0\u001b[0m\u001b[1;33m)\u001b[0m\u001b[1;33m]\u001b[0m\u001b[1;33m\u001b[0m\u001b[1;33m\u001b[0m\u001b[0m\n\u001b[0m",
      "\u001b[1;31mNameError\u001b[0m: name 'df_preprocessed' is not defined"
     ]
    }
   ],
   "source": [
    "df_preprocessed[(df_preprocessed['intrusion_PCL_T1'] == 1) &(df_preprocessed['target_binary_intrusion']==0)]"
   ]
  },
  {
   "cell_type": "code",
   "execution_count": 15,
   "metadata": {},
   "outputs": [
    {
     "data": {
      "text/plain": [
       "0.0"
      ]
     },
     "execution_count": 15,
     "metadata": {},
     "output_type": "execute_result"
    }
   ],
   "source": [
    "y_test.iloc[y_pred.argmax()]#[70:100]"
   ]
  },
  {
   "cell_type": "code",
   "execution_count": 90,
   "metadata": {},
   "outputs": [
    {
     "ename": "ValueError",
     "evalue": "all the input array dimensions for the concatenation axis must match exactly, but along dimension 0, the array at index 0 has size 9 and the array at index 1 has size 367",
     "output_type": "error",
     "traceback": [
      "\u001b[1;31m---------------------------------------------------------------------------\u001b[0m",
      "\u001b[1;31mValueError\u001b[0m                                Traceback (most recent call last)",
      "\u001b[1;32m<ipython-input-90-0b5bffa6374a>\u001b[0m in \u001b[0;36m<module>\u001b[1;34m\u001b[0m\n\u001b[1;32m----> 1\u001b[1;33m \u001b[0mnp\u001b[0m\u001b[1;33m.\u001b[0m\u001b[0mhstack\u001b[0m\u001b[1;33m(\u001b[0m\u001b[1;33m[\u001b[0m\u001b[0mtrain_preds\u001b[0m\u001b[1;33m,\u001b[0m \u001b[0mx_train\u001b[0m\u001b[1;33m]\u001b[0m\u001b[1;33m)\u001b[0m\u001b[1;33m.\u001b[0m\u001b[0mshape\u001b[0m\u001b[1;33m\u001b[0m\u001b[1;33m\u001b[0m\u001b[0m\n\u001b[0m",
      "\u001b[1;32m<__array_function__ internals>\u001b[0m in \u001b[0;36mhstack\u001b[1;34m(*args, **kwargs)\u001b[0m\n",
      "\u001b[1;32m~\\AppData\\Local\\Continuum\\anaconda3\\lib\\site-packages\\numpy\\core\\shape_base.py\u001b[0m in \u001b[0;36mhstack\u001b[1;34m(tup)\u001b[0m\n\u001b[0;32m    343\u001b[0m         \u001b[1;32mreturn\u001b[0m \u001b[0m_nx\u001b[0m\u001b[1;33m.\u001b[0m\u001b[0mconcatenate\u001b[0m\u001b[1;33m(\u001b[0m\u001b[0marrs\u001b[0m\u001b[1;33m,\u001b[0m \u001b[1;36m0\u001b[0m\u001b[1;33m)\u001b[0m\u001b[1;33m\u001b[0m\u001b[1;33m\u001b[0m\u001b[0m\n\u001b[0;32m    344\u001b[0m     \u001b[1;32melse\u001b[0m\u001b[1;33m:\u001b[0m\u001b[1;33m\u001b[0m\u001b[1;33m\u001b[0m\u001b[0m\n\u001b[1;32m--> 345\u001b[1;33m         \u001b[1;32mreturn\u001b[0m \u001b[0m_nx\u001b[0m\u001b[1;33m.\u001b[0m\u001b[0mconcatenate\u001b[0m\u001b[1;33m(\u001b[0m\u001b[0marrs\u001b[0m\u001b[1;33m,\u001b[0m \u001b[1;36m1\u001b[0m\u001b[1;33m)\u001b[0m\u001b[1;33m\u001b[0m\u001b[1;33m\u001b[0m\u001b[0m\n\u001b[0m\u001b[0;32m    346\u001b[0m \u001b[1;33m\u001b[0m\u001b[0m\n\u001b[0;32m    347\u001b[0m \u001b[1;33m\u001b[0m\u001b[0m\n",
      "\u001b[1;32m<__array_function__ internals>\u001b[0m in \u001b[0;36mconcatenate\u001b[1;34m(*args, **kwargs)\u001b[0m\n",
      "\u001b[1;31mValueError\u001b[0m: all the input array dimensions for the concatenation axis must match exactly, but along dimension 0, the array at index 0 has size 9 and the array at index 1 has size 367"
     ]
    }
   ],
   "source": [
    "np.hstack([train_preds, x_train]).shape"
   ]
  },
  {
   "cell_type": "code",
   "execution_count": 9,
   "metadata": {},
   "outputs": [
    {
     "data": {
      "image/png": "[encoded data removed]",
      "text/plain": [
       "<Figure size 432x288 with 2 Axes>"
      ]
     },
     "metadata": {
      "needs_background": "light"
     },
     "output_type": "display_data"
    }
   ],
   "source": [
    "import seaborn as sn\n",
    "import matplotlib.pyplot as plt\n",
    "corrMatrix = df_preprocessed[[i for i in secondary_targets.keys()]+['target_binary_intrusion']].corr()\n",
    "sn.heatmap(corrMatrix, annot=True)\n",
    "plt.show()"
   ]
  },
  {
   "cell_type": "code",
   "execution_count": null,
   "metadata": {},
   "outputs": [],
   "source": [
    "x_test2[(model.predict(x_test) == 0) & (y_test.astype(int) == 1 )][features]"
   ]
  },
  {
   "cell_type": "code",
   "execution_count": 16,
   "metadata": {},
   "outputs": [
    {
     "data": {
      "text/html": [
       "<div>\n",
       "<style scoped>\n",
       "    .dataframe tbody tr th:only-of-type {\n",
       "        vertical-align: middle;\n",
       "    }\n",
       "\n",
       "    .dataframe tbody tr th {\n",
       "        vertical-align: top;\n",
       "    }\n",
       "\n",
       "    .dataframe thead th {\n",
       "        text-align: right;\n",
       "    }\n",
       "</style>\n",
       "<table border=\"1\" class=\"dataframe\">\n",
       "  <thead>\n",
       "    <tr style=\"text-align: right;\">\n",
       "      <th></th>\n",
       "      <th>highschool_diploma</th>\n",
       "      <th>ADHD</th>\n",
       "      <th>T1Acc1t</th>\n",
       "      <th>T1Acc1n</th>\n",
       "      <th>T1bias</th>\n",
       "      <th>phq1</th>\n",
       "      <th>trait1</th>\n",
       "      <th>state1</th>\n",
       "      <th>PCL1</th>\n",
       "      <th>intrusion_PCL_T1</th>\n",
       "      <th>...</th>\n",
       "      <th>phq_feels_score</th>\n",
       "      <th>binary_phq_feels</th>\n",
       "      <th>phq_an_score</th>\n",
       "      <th>binary_phq_an</th>\n",
       "      <th>phq_func_score</th>\n",
       "      <th>binary_phq_func</th>\n",
       "      <th>phq_score</th>\n",
       "      <th>phq_mean</th>\n",
       "      <th>phq_std</th>\n",
       "      <th>binary_phq</th>\n",
       "    </tr>\n",
       "  </thead>\n",
       "  <tbody>\n",
       "    <tr>\n",
       "      <th>603</th>\n",
       "      <td>0.0</td>\n",
       "      <td>0.0</td>\n",
       "      <td>0.9737</td>\n",
       "      <td>1.0000</td>\n",
       "      <td>19.34</td>\n",
       "      <td>10.0</td>\n",
       "      <td>37.0</td>\n",
       "      <td>26.0</td>\n",
       "      <td>36.0</td>\n",
       "      <td>0.0</td>\n",
       "      <td>...</td>\n",
       "      <td>2.0</td>\n",
       "      <td>0.0</td>\n",
       "      <td>3.0</td>\n",
       "      <td>1.0</td>\n",
       "      <td>2.0</td>\n",
       "      <td>1.0</td>\n",
       "      <td>10.0</td>\n",
       "      <td>1.111111</td>\n",
       "      <td>1.054093</td>\n",
       "      <td>1.0</td>\n",
       "    </tr>\n",
       "    <tr>\n",
       "      <th>115</th>\n",
       "      <td>0.0</td>\n",
       "      <td>1.0</td>\n",
       "      <td>0.9605</td>\n",
       "      <td>0.9868</td>\n",
       "      <td>-0.86</td>\n",
       "      <td>18.0</td>\n",
       "      <td>35.0</td>\n",
       "      <td>60.0</td>\n",
       "      <td>53.0</td>\n",
       "      <td>1.0</td>\n",
       "      <td>...</td>\n",
       "      <td>6.0</td>\n",
       "      <td>1.0</td>\n",
       "      <td>5.0</td>\n",
       "      <td>1.0</td>\n",
       "      <td>4.0</td>\n",
       "      <td>1.0</td>\n",
       "      <td>18.0</td>\n",
       "      <td>2.000000</td>\n",
       "      <td>1.118034</td>\n",
       "      <td>1.0</td>\n",
       "    </tr>\n",
       "    <tr>\n",
       "      <th>406</th>\n",
       "      <td>1.0</td>\n",
       "      <td>0.0</td>\n",
       "      <td>0.9868</td>\n",
       "      <td>0.9737</td>\n",
       "      <td>-15.42</td>\n",
       "      <td>3.0</td>\n",
       "      <td>24.0</td>\n",
       "      <td>20.0</td>\n",
       "      <td>17.0</td>\n",
       "      <td>0.0</td>\n",
       "      <td>...</td>\n",
       "      <td>0.0</td>\n",
       "      <td>0.0</td>\n",
       "      <td>1.0</td>\n",
       "      <td>0.0</td>\n",
       "      <td>0.0</td>\n",
       "      <td>0.0</td>\n",
       "      <td>3.0</td>\n",
       "      <td>0.333333</td>\n",
       "      <td>0.500000</td>\n",
       "      <td>0.0</td>\n",
       "    </tr>\n",
       "    <tr>\n",
       "      <th>69</th>\n",
       "      <td>1.0</td>\n",
       "      <td>0.0</td>\n",
       "      <td>1.0000</td>\n",
       "      <td>1.0000</td>\n",
       "      <td>-14.07</td>\n",
       "      <td>9.0</td>\n",
       "      <td>41.0</td>\n",
       "      <td>42.0</td>\n",
       "      <td>28.0</td>\n",
       "      <td>0.0</td>\n",
       "      <td>...</td>\n",
       "      <td>1.0</td>\n",
       "      <td>0.0</td>\n",
       "      <td>3.0</td>\n",
       "      <td>1.0</td>\n",
       "      <td>2.0</td>\n",
       "      <td>0.0</td>\n",
       "      <td>9.0</td>\n",
       "      <td>1.000000</td>\n",
       "      <td>0.707107</td>\n",
       "      <td>0.0</td>\n",
       "    </tr>\n",
       "    <tr>\n",
       "      <th>682</th>\n",
       "      <td>1.0</td>\n",
       "      <td>0.0</td>\n",
       "      <td>0.9605</td>\n",
       "      <td>1.0000</td>\n",
       "      <td>-28.75</td>\n",
       "      <td>3.0</td>\n",
       "      <td>35.0</td>\n",
       "      <td>36.0</td>\n",
       "      <td>24.0</td>\n",
       "      <td>0.0</td>\n",
       "      <td>...</td>\n",
       "      <td>1.0</td>\n",
       "      <td>0.0</td>\n",
       "      <td>1.0</td>\n",
       "      <td>0.0</td>\n",
       "      <td>0.0</td>\n",
       "      <td>0.0</td>\n",
       "      <td>3.0</td>\n",
       "      <td>0.333333</td>\n",
       "      <td>0.500000</td>\n",
       "      <td>0.0</td>\n",
       "    </tr>\n",
       "    <tr>\n",
       "      <th>...</th>\n",
       "      <td>...</td>\n",
       "      <td>...</td>\n",
       "      <td>...</td>\n",
       "      <td>...</td>\n",
       "      <td>...</td>\n",
       "      <td>...</td>\n",
       "      <td>...</td>\n",
       "      <td>...</td>\n",
       "      <td>...</td>\n",
       "      <td>...</td>\n",
       "      <td>...</td>\n",
       "      <td>...</td>\n",
       "      <td>...</td>\n",
       "      <td>...</td>\n",
       "      <td>...</td>\n",
       "      <td>...</td>\n",
       "      <td>...</td>\n",
       "      <td>...</td>\n",
       "      <td>...</td>\n",
       "      <td>...</td>\n",
       "      <td>...</td>\n",
       "    </tr>\n",
       "    <tr>\n",
       "      <th>355</th>\n",
       "      <td>1.0</td>\n",
       "      <td>0.0</td>\n",
       "      <td>0.9474</td>\n",
       "      <td>0.9868</td>\n",
       "      <td>15.32</td>\n",
       "      <td>5.0</td>\n",
       "      <td>24.0</td>\n",
       "      <td>24.0</td>\n",
       "      <td>20.0</td>\n",
       "      <td>0.0</td>\n",
       "      <td>...</td>\n",
       "      <td>0.0</td>\n",
       "      <td>0.0</td>\n",
       "      <td>4.0</td>\n",
       "      <td>1.0</td>\n",
       "      <td>3.0</td>\n",
       "      <td>1.0</td>\n",
       "      <td>5.0</td>\n",
       "      <td>0.555556</td>\n",
       "      <td>1.013794</td>\n",
       "      <td>0.0</td>\n",
       "    </tr>\n",
       "    <tr>\n",
       "      <th>122</th>\n",
       "      <td>1.0</td>\n",
       "      <td>1.0</td>\n",
       "      <td>0.9868</td>\n",
       "      <td>0.9868</td>\n",
       "      <td>-21.85</td>\n",
       "      <td>11.0</td>\n",
       "      <td>40.0</td>\n",
       "      <td>36.0</td>\n",
       "      <td>36.0</td>\n",
       "      <td>1.0</td>\n",
       "      <td>...</td>\n",
       "      <td>3.0</td>\n",
       "      <td>1.0</td>\n",
       "      <td>3.0</td>\n",
       "      <td>1.0</td>\n",
       "      <td>3.0</td>\n",
       "      <td>1.0</td>\n",
       "      <td>11.0</td>\n",
       "      <td>1.222222</td>\n",
       "      <td>0.666667</td>\n",
       "      <td>1.0</td>\n",
       "    </tr>\n",
       "    <tr>\n",
       "      <th>484</th>\n",
       "      <td>0.0</td>\n",
       "      <td>1.0</td>\n",
       "      <td>1.0000</td>\n",
       "      <td>0.9868</td>\n",
       "      <td>-2.63</td>\n",
       "      <td>3.0</td>\n",
       "      <td>33.0</td>\n",
       "      <td>26.0</td>\n",
       "      <td>27.0</td>\n",
       "      <td>0.0</td>\n",
       "      <td>...</td>\n",
       "      <td>1.0</td>\n",
       "      <td>0.0</td>\n",
       "      <td>1.0</td>\n",
       "      <td>0.0</td>\n",
       "      <td>0.0</td>\n",
       "      <td>0.0</td>\n",
       "      <td>3.0</td>\n",
       "      <td>0.333333</td>\n",
       "      <td>0.500000</td>\n",
       "      <td>0.0</td>\n",
       "    </tr>\n",
       "    <tr>\n",
       "      <th>582</th>\n",
       "      <td>0.0</td>\n",
       "      <td>0.0</td>\n",
       "      <td>0.9868</td>\n",
       "      <td>0.9868</td>\n",
       "      <td>-19.20</td>\n",
       "      <td>7.0</td>\n",
       "      <td>44.0</td>\n",
       "      <td>45.0</td>\n",
       "      <td>22.0</td>\n",
       "      <td>0.0</td>\n",
       "      <td>...</td>\n",
       "      <td>4.0</td>\n",
       "      <td>1.0</td>\n",
       "      <td>2.0</td>\n",
       "      <td>0.0</td>\n",
       "      <td>1.0</td>\n",
       "      <td>0.0</td>\n",
       "      <td>7.0</td>\n",
       "      <td>0.777778</td>\n",
       "      <td>0.971825</td>\n",
       "      <td>0.0</td>\n",
       "    </tr>\n",
       "    <tr>\n",
       "      <th>326</th>\n",
       "      <td>1.0</td>\n",
       "      <td>0.0</td>\n",
       "      <td>0.9868</td>\n",
       "      <td>1.0000</td>\n",
       "      <td>3.60</td>\n",
       "      <td>5.0</td>\n",
       "      <td>41.0</td>\n",
       "      <td>48.0</td>\n",
       "      <td>17.0</td>\n",
       "      <td>0.0</td>\n",
       "      <td>...</td>\n",
       "      <td>1.0</td>\n",
       "      <td>0.0</td>\n",
       "      <td>3.0</td>\n",
       "      <td>1.0</td>\n",
       "      <td>1.0</td>\n",
       "      <td>0.0</td>\n",
       "      <td>5.0</td>\n",
       "      <td>0.555556</td>\n",
       "      <td>0.726483</td>\n",
       "      <td>0.0</td>\n",
       "    </tr>\n",
       "  </tbody>\n",
       "</table>\n",
       "<p>72 rows × 68 columns</p>\n",
       "</div>"
      ],
      "text/plain": [
       "     highschool_diploma  ADHD  T1Acc1t  T1Acc1n  T1bias  phq1  trait1  state1  \\\n",
       "603                 0.0   0.0   0.9737   1.0000   19.34  10.0    37.0    26.0   \n",
       "115                 0.0   1.0   0.9605   0.9868   -0.86  18.0    35.0    60.0   \n",
       "406                 1.0   0.0   0.9868   0.9737  -15.42   3.0    24.0    20.0   \n",
       "69                  1.0   0.0   1.0000   1.0000  -14.07   9.0    41.0    42.0   \n",
       "682                 1.0   0.0   0.9605   1.0000  -28.75   3.0    35.0    36.0   \n",
       "..                  ...   ...      ...      ...     ...   ...     ...     ...   \n",
       "355                 1.0   0.0   0.9474   0.9868   15.32   5.0    24.0    24.0   \n",
       "122                 1.0   1.0   0.9868   0.9868  -21.85  11.0    40.0    36.0   \n",
       "484                 0.0   1.0   1.0000   0.9868   -2.63   3.0    33.0    26.0   \n",
       "582                 0.0   0.0   0.9868   0.9868  -19.20   7.0    44.0    45.0   \n",
       "326                 1.0   0.0   0.9868   1.0000    3.60   5.0    41.0    48.0   \n",
       "\n",
       "     PCL1  intrusion_PCL_T1  ...  phq_feels_score  binary_phq_feels  \\\n",
       "603  36.0               0.0  ...              2.0               0.0   \n",
       "115  53.0               1.0  ...              6.0               1.0   \n",
       "406  17.0               0.0  ...              0.0               0.0   \n",
       "69   28.0               0.0  ...              1.0               0.0   \n",
       "682  24.0               0.0  ...              1.0               0.0   \n",
       "..    ...               ...  ...              ...               ...   \n",
       "355  20.0               0.0  ...              0.0               0.0   \n",
       "122  36.0               1.0  ...              3.0               1.0   \n",
       "484  27.0               0.0  ...              1.0               0.0   \n",
       "582  22.0               0.0  ...              4.0               1.0   \n",
       "326  17.0               0.0  ...              1.0               0.0   \n",
       "\n",
       "     phq_an_score  binary_phq_an  phq_func_score  binary_phq_func  phq_score  \\\n",
       "603           3.0            1.0             2.0              1.0       10.0   \n",
       "115           5.0            1.0             4.0              1.0       18.0   \n",
       "406           1.0            0.0             0.0              0.0        3.0   \n",
       "69            3.0            1.0             2.0              0.0        9.0   \n",
       "682           1.0            0.0             0.0              0.0        3.0   \n",
       "..            ...            ...             ...              ...        ...   \n",
       "355           4.0            1.0             3.0              1.0        5.0   \n",
       "122           3.0            1.0             3.0              1.0       11.0   \n",
       "484           1.0            0.0             0.0              0.0        3.0   \n",
       "582           2.0            0.0             1.0              0.0        7.0   \n",
       "326           3.0            1.0             1.0              0.0        5.0   \n",
       "\n",
       "     phq_mean   phq_std  binary_phq  \n",
       "603  1.111111  1.054093         1.0  \n",
       "115  2.000000  1.118034         1.0  \n",
       "406  0.333333  0.500000         0.0  \n",
       "69   1.000000  0.707107         0.0  \n",
       "682  0.333333  0.500000         0.0  \n",
       "..        ...       ...         ...  \n",
       "355  0.555556  1.013794         0.0  \n",
       "122  1.222222  0.666667         1.0  \n",
       "484  0.333333  0.500000         0.0  \n",
       "582  0.777778  0.971825         0.0  \n",
       "326  0.555556  0.726483         0.0  \n",
       "\n",
       "[72 rows x 68 columns]"
      ]
     },
     "execution_count": 16,
     "metadata": {},
     "output_type": "execute_result"
    }
   ],
   "source": [
    "x_test2[(model.predict(x_test) == 1) & (y_test.astype(int) == 0 )][features]"
   ]
  },
  {
   "cell_type": "code",
   "execution_count": 51,
   "metadata": {},
   "outputs": [
    {
     "data": {
      "text/plain": [
       "(27, 39)"
      ]
     },
     "execution_count": 51,
     "metadata": {},
     "output_type": "execute_result"
    }
   ],
   "source": [
    "x_test2[(model.predict(x_test) != y_test.astype(int))].shape"
   ]
  },
  {
   "cell_type": "code",
   "execution_count": 52,
   "metadata": {},
   "outputs": [
    {
     "data": {
      "text/plain": [
       "(27, 39)"
      ]
     },
     "execution_count": 52,
     "metadata": {},
     "output_type": "execute_result"
    }
   ],
   "source": [
    "x_test2[(model.predict(x_test) != y_test.astype(int))].shape"
   ]
  },
  {
   "cell_type": "code",
   "execution_count": 53,
   "metadata": {},
   "outputs": [
    {
     "data": {
      "text/plain": [
       "0.37037037037037035"
      ]
     },
     "execution_count": 53,
     "metadata": {},
     "output_type": "execute_result"
    }
   ],
   "source": [
    "precision_score(y_test.astype(int), y_pred)"
   ]
  },
  {
   "cell_type": "code",
   "execution_count": 54,
   "metadata": {},
   "outputs": [
    {
     "data": {
      "text/plain": [
       "20"
      ]
     },
     "execution_count": 54,
     "metadata": {},
     "output_type": "execute_result"
    }
   ],
   "source": [
    "y_test.astype(int).sum()"
   ]
  },
  {
   "cell_type": "code",
   "execution_count": 55,
   "metadata": {},
   "outputs": [
    {
     "data": {
      "text/plain": [
       "27.0"
      ]
     },
     "execution_count": 55,
     "metadata": {},
     "output_type": "execute_result"
    }
   ],
   "source": [
    "y_pred.sum()"
   ]
  },
  {
   "cell_type": "code",
   "execution_count": null,
   "metadata": {},
   "outputs": [],
   "source": []
  }
 ],
 "metadata": {
  "kernelspec": {
   "display_name": "Python 3",
   "language": "python",
   "name": "python3"
  },
  "language_info": {
   "codemirror_mode": {
    "name": "ipython",
    "version": 3
   },
   "file_extension": ".py",
   "mimetype": "text/x-python",
   "name": "python",
   "nbconvert_exporter": "python",
   "pygments_lexer": "ipython3",
   "version": "3.7.4"
  }
 },
 "nbformat": 4,
 "nbformat_minor": 2
}
