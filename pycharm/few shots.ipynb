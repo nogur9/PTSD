{
 "cells": [
  {
   "cell_type": "code",
   "execution_count": 1,
   "id": "resident-paraguay",
   "metadata": {},
   "outputs": [],
   "source": [
    "import matplotlib.pyplot as plt\n",
    "import numpy as np\n",
    "import random\n",
    "import tensorflow as tf\n",
    "from tensorflow import keras\n",
    "#from tensorflow.keras import layers\n",
    "#import tensorflow_datasets as tfds\n",
    "\n",
    "\n",
    "from sklearn.model_selection import train_test_split, StratifiedKFold, cross_val_score\n",
    "from sklearn.metrics import precision_score, roc_auc_score, f1_score, recall_score, precision_recall_curve, auc, average_precision_score, precision_recall_fscore_support\n",
    "from xgboost import XGBClassifier\n",
    "import pandas as pd\n",
    "from load_data import load_data\n",
    "import matplotlib.pyplot as plt\n"
   ]
  },
  {
   "cell_type": "code",
   "execution_count": 2,
   "id": "suspected-parade",
   "metadata": {},
   "outputs": [],
   "source": [
    "learning_rate = 0.003\n",
    "meta_step_size = 0.25\n",
    "\n",
    "inner_batch_size = 25\n",
    "eval_batch_size = 25\n",
    "\n",
    "meta_iters = 2000\n",
    "eval_iters = 5\n",
    "inner_iters = 4\n",
    "\n",
    "eval_interval = 1\n",
    "train_shots = 20\n",
    "shots = 5\n",
    "classes = 5"
   ]
  },
  {
   "cell_type": "code",
   "execution_count": 52,
   "id": "threatened-plane",
   "metadata": {},
   "outputs": [],
   "source": [
    "import tensorflow as tf\n",
    "from tensorflow.keras.models import Sequential\n",
    "\n",
    "from keras_fsl.models.head_models import DenseSigmoid\n",
    "from keras_fsl.layers import GramMatrix, Classification\n",
    "from keras_fsl.losses.gram_matrix_losses import BinaryCrossentropy\n",
    "from keras_fsl.metrics.gram_matrix_metrics import classification_accuracy, min_eigenvalue\n",
    "from keras_fsl.utils.tensors import get_dummies\n",
    "\n",
    "\n",
    "from tensorflow.keras.layers import Input, Dense\n",
    "from tensorflow.keras.models import Model\n",
    "from tensorflow.keras.optimizers import Adam"
   ]
  },
  {
   "cell_type": "code",
   "execution_count": 15,
   "id": "tender-happiness",
   "metadata": {},
   "outputs": [],
   "source": [
    "def print_results(y_test, y_pred):\n",
    "    \n",
    "    #print(f1_score(y_test.astype(int), y_pred))\n",
    "    precision, recall, _ = precision_recall_curve(y_test.astype(int), y_pred)\n",
    "    avs = average_precision_score(y_test.astype(int), y_pred)\n",
    "    print(f\"average_precision_score = {avs}\")\n",
    "\n",
    "    auc_score = auc(recall, precision)\n",
    "    print(f\"pr_auc = {auc_score}\")\n",
    "    plt.plot(recall, precision)\n",
    "    plt.show()\n",
    "    print(f\"holdout i = , roc_auc = {roc_auc_score(y_test.astype(int), y_pred)}\")\n",
    "    print('f')"
   ]
  },
  {
   "cell_type": "code",
   "execution_count": 16,
   "id": "abroad-excess",
   "metadata": {},
   "outputs": [],
   "source": [
    "\n",
    "    \n",
    "df_preprocessed, features, target_feature = load_data()\n",
    "df_preprocessed = df_preprocessed.dropna(subset = ['target_binary_intrusion'], how='any')\n",
    "    \n",
    "    \n",
    "    \n",
    "X, X_out, Y, y_out = train_test_split(df_preprocessed[features], df_preprocessed['target_binary_intrusion'],\\\n",
    "                                          test_size=0.15,\\\n",
    "                                          stratify=df_preprocessed['target_binary_intrusion'])\n",
    "\n",
    "\n",
    "cv = StratifiedKFold(5)"
   ]
  },
  {
   "cell_type": "code",
   "execution_count": 58,
   "id": "roman-complaint",
   "metadata": {},
   "outputs": [],
   "source": [
    "? Dense"
   ]
  },
  {
   "cell_type": "code",
   "execution_count": 50,
   "id": "sitting-tracker",
   "metadata": {},
   "outputs": [
    {
     "data": {
      "text/plain": [
       "(367, 73)"
      ]
     },
     "execution_count": 50,
     "metadata": {},
     "output_type": "execute_result"
    }
   ],
   "source": [
    "x_train.shape"
   ]
  },
  {
   "cell_type": "code",
   "execution_count": 62,
   "id": "federal-isolation",
   "metadata": {
    "scrolled": false
   },
   "outputs": [
    {
     "ename": "TypeError",
     "evalue": "__init__() missing 1 required positional argument: 'kernel'",
     "output_type": "error",
     "traceback": [
      "\u001b[1;31m---------------------------------------------------------------------------\u001b[0m",
      "\u001b[1;31mTypeError\u001b[0m                                 Traceback (most recent call last)",
      "\u001b[1;32m<ipython-input-62-42616fe96a94>\u001b[0m in \u001b[0;36m<module>\u001b[1;34m\u001b[0m\n\u001b[0;32m     10\u001b[0m     \u001b[1;31m#%% Training\u001b[0m\u001b[1;33m\u001b[0m\u001b[1;33m\u001b[0m\u001b[1;33m\u001b[0m\u001b[0m\n\u001b[0;32m     11\u001b[0m     \u001b[0mencoder\u001b[0m \u001b[1;33m=\u001b[0m \u001b[0mDense\u001b[0m\u001b[1;33m(\u001b[0m\u001b[1;36m73\u001b[0m\u001b[1;33m)\u001b[0m\u001b[1;33m\u001b[0m\u001b[1;33m\u001b[0m\u001b[0m\n\u001b[1;32m---> 12\u001b[1;33m     \u001b[0msupport_layer\u001b[0m \u001b[1;33m=\u001b[0m \u001b[0mClassification\u001b[0m\u001b[1;33m(\u001b[0m\u001b[1;33m)\u001b[0m\u001b[1;33m\u001b[0m\u001b[1;33m\u001b[0m\u001b[0m\n\u001b[0m\u001b[0;32m     13\u001b[0m     \u001b[0mmodel\u001b[0m \u001b[1;33m=\u001b[0m \u001b[0mSequential\u001b[0m\u001b[1;33m(\u001b[0m\u001b[1;33m[\u001b[0m\u001b[0mencoder\u001b[0m\u001b[1;33m,\u001b[0m \u001b[0msupport_layer\u001b[0m\u001b[1;33m]\u001b[0m\u001b[1;33m)\u001b[0m\u001b[1;33m\u001b[0m\u001b[1;33m\u001b[0m\u001b[0m\n\u001b[0;32m     14\u001b[0m     \u001b[0mmodel\u001b[0m\u001b[1;33m.\u001b[0m\u001b[0mcompile\u001b[0m\u001b[1;33m(\u001b[0m\u001b[0moptimizer\u001b[0m\u001b[1;33m=\u001b[0m\u001b[1;34m\"Adam\"\u001b[0m\u001b[1;33m,\u001b[0m \u001b[0mloss\u001b[0m\u001b[1;33m=\u001b[0m\u001b[0mBinaryCrossentropy\u001b[0m\u001b[1;33m(\u001b[0m\u001b[1;33m)\u001b[0m\u001b[1;33m,\u001b[0m \u001b[0mmetrics\u001b[0m\u001b[1;33m=\u001b[0m\u001b[1;33m[\u001b[0m\u001b[0mclassification_accuracy\u001b[0m\u001b[1;33m(\u001b[0m\u001b[1;33m)\u001b[0m\u001b[1;33m,\u001b[0m \u001b[0mmin_eigenvalue\u001b[0m\u001b[1;33m]\u001b[0m\u001b[1;33m)\u001b[0m\u001b[1;33m\u001b[0m\u001b[1;33m\u001b[0m\u001b[0m\n",
      "\u001b[1;31mTypeError\u001b[0m: __init__() missing 1 required positional argument: 'kernel'"
     ]
    }
   ],
   "source": [
    "\n",
    "for train, test in cv.split(X, Y):\n",
    "    x_train, y_train = X.iloc[train], Y.iloc[train]\n",
    "    x_test, y_test = X.iloc[test], Y.iloc[test]\n",
    "    x_support,  x_query, y_support, y_query = train_test_split(x_train, y_train, test_size=0.15,\n",
    "                                          stratify=y_train)\n",
    "    \n",
    "    # create the model\n",
    "    input_shape = x_support.shape[1]  # first shape is batch_size\n",
    "\n",
    "    #%% Training\n",
    "    encoder = Dense(73)\n",
    "    support_layer = Classification()\n",
    "    model = Sequential([encoder, support_layer])\n",
    "    model.compile(optimizer=\"Adam\", loss=BinaryCrossentropy(), metrics=[classification_accuracy(), min_eigenvalue])\n",
    "    model.fit(x = x_support, y = y_support, validation_data=([x_query], [y_query]), epochs=5)\n",
    "    \n",
    "    \n",
    "    #model = XGBClassifier(class_weights=[1,5])\n",
    "    #model.fit(x_train, y_train)\n",
    "\n",
    "\n",
    "    y_pred = model.predict_proba(x_test)[:,1]\n",
    "    print_results(y_test, y_pred)\n",
    "        \n",
    "   # y_pred = test_time_augmentation(model, x_test, n)\n",
    "    #print_results(y_test, y_pred)"
   ]
  },
  {
   "cell_type": "code",
   "execution_count": 63,
   "id": "cubic-pittsburgh",
   "metadata": {},
   "outputs": [],
   "source": [
    "? Classification"
   ]
  },
  {
   "cell_type": "code",
   "execution_count": 36,
   "id": "violent-polls",
   "metadata": {},
   "outputs": [
    {
     "data": {
      "text/plain": [
       "<keras_fsl.layers.classification.Classification at 0x1da553f6848>"
      ]
     },
     "execution_count": 36,
     "metadata": {},
     "output_type": "execute_result"
    }
   ],
   "source": [
    "support_layer"
   ]
  },
  {
   "cell_type": "code",
   "execution_count": null,
   "id": "distant-enforcement",
   "metadata": {},
   "outputs": [],
   "source": []
  }
 ],
 "metadata": {
  "kernelspec": {
   "display_name": "Python 3",
   "language": "python",
   "name": "python3"
  },
  "language_info": {
   "codemirror_mode": {
    "name": "ipython",
    "version": 3
   },
   "file_extension": ".py",
   "mimetype": "text/x-python",
   "name": "python",
   "nbconvert_exporter": "python",
   "pygments_lexer": "ipython3",
   "version": "3.7.4"
  }
 },
 "nbformat": 4,
 "nbformat_minor": 5
}
