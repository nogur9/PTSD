{
 "cells": [
  {
   "cell_type": "markdown",
   "metadata": {},
   "source": [
    "# Audio Recognition Using Siamese Network"
   ]
  },
  {
   "cell_type": "markdown",
   "metadata": {},
   "source": [
    "In the last tutorial, we saw how to use the siamese networks to recognize a face. Now we will see how to use the siamese networks to recognize the audio. We will train our network to differentiate between a dog's and a cat's sound. The dataset of cats and dogs audio can be downloaded from here https://www.kaggle.com/mmoreaux/audio-cats-and-dogs#cats_dogs.zip\n",
    "\n",
    "Once we have downloaded the data, we fragment our data into three folders Dogs, Sub_dogs, and Cats. In Dogs and Sub_dogs, we place the dog's barking audio and in Cats folder, we place the cat's audio. The objective of our network is to recognize whether the audio is the dog's barking sound or some different sound. As we know for a Siamese network, we need to feed input as a pair, we select an audio from Dogs and Sub_dogs folder and mark it as a genuine pair and we select an audio from Dogs and Cats folder and mark it as an imposite pair. That is, (dogs, subdogs) is genuine pair and (dogs, cats) is imposite pair.\n",
    "\n",
    "Now we will step by step how to train our siamese network to recognize whether the audio is the dog's barking sound or some different sound. First, We will load all the necessary libraries:"
   ]
  },
  {
   "cell_type": "code",
   "execution_count": 121,
   "metadata": {},
   "outputs": [
    {
     "name": "stdout",
     "output_type": "stream",
     "text": [
      "sad imports\n",
      "sad imports\n",
      "sad imports\n",
      "sad imports\n",
      "sad imports\n",
      "sad imports\n"
     ]
    }
   ],
   "source": [
    "\n",
    "# In[1]:\n",
    "from preprocessing import cv_preprocessing\n",
    "\n",
    "print(\"sad imports\")\n",
    "\n",
    "#basic imports\n",
    "import glob\n",
    "#import IPython\n",
    "from random import randint\n",
    "print(\"sad imports\")\n",
    "\n",
    "#data processing\n",
    "import numpy as np\n",
    "print(\"sad imports\")\n",
    "from sklearn.model_selection import train_test_split, StratifiedKFold, cross_val_score\n",
    "from sklearn.metrics import precision_score, roc_auc_score, auc, average_precision_score, precision_recall_curve\n",
    "import matplotlib.pyplot as plt\n",
    "\n",
    "#modelling\n",
    "from sklearn.model_selection import train_test_split\n",
    "print(\"sad imports\")\n",
    "import os\n",
    "os.environ['TF_CPP_MIN_LOG_LEVEL'] = '3'\n",
    "\n",
    "from keras import backend as K\n",
    "print(\"sad imports\")\n",
    "\n",
    "from keras.layers import Activation\n",
    "from keras.layers import Input, Lambda, Dense, Dropout, Flatten\n",
    "from keras.models import Model\n",
    "print(\"sad imports\")\n",
    "\n",
    "from keras.optimizers import RMSprop\n",
    "from load_data import load_data\n"
   ]
  },
  {
   "cell_type": "markdown",
   "metadata": {},
   "source": [
    "Before going ahead, We load and listen to the audio clips,"
   ]
  },
  {
   "cell_type": "markdown",
   "metadata": {},
   "source": [
    "So, how can we feed this raw audio to our network? How can we extract meaningful features from the raw audio? As we know neural networks accept only vectorized input, we need to convert our audio to a feature vector. How can we do that? Well, there are several mechanisms through which we can generate embeddings for the audio. One such popular mechanism is Mel-Frequency Cepstral Coefficients (MFCC). \n",
    "\n",
    "We use MFCC for vectorizing our audio. MFCC converts the short-term power spectrum of an audio using a linear cosine transform of a log power spectrum on a nonlinear mel scale of frequency. To learn more about MFCC check this nice tutorial (http://practicalcryptography.com/miscellaneous/machine-learning/guide-mel-frequency-cepstral-coefficients-mfccs/).\n",
    "\n",
    "We will use MFCC function from librosa library for generating the audio embeddings. So, we define a function called audio2vector which return the audio embeddings given the audio:"
   ]
  },
  {
   "cell_type": "code",
   "execution_count": 122,
   "metadata": {},
   "outputs": [],
   "source": [
    "\n",
    "def print_results(y_true, y_pred, name=''):\n",
    "    precision, recall, _ = precision_recall_curve(y_true, y_pred)\n",
    "    avs = average_precision_score(y_true, y_pred)\n",
    "    auc_score = auc(recall, precision)\n",
    "\n",
    "    print('/n/n', name)\n",
    "\n",
    "    plt.plot(recall, precision)\n",
    "    plt.title(\"recall precision curve\")\n",
    "\n",
    "    plt.show()\n",
    "\n",
    "    plt.hist(y_pred)\n",
    "    plt.title(\"prediction histogram\")\n",
    "    plt.show()\n",
    "\n",
    "    print(f\"pr_auc = {auc_score}\")\n",
    "\n",
    "    print(f\"average_precision_score = {avs}\")\n",
    "\n",
    "    print(f\"holdout i = , roc_auc = {roc_auc_score(y_true, y_pred)}\")\n",
    "\n"
   ]
  },
  {
   "cell_type": "markdown",
   "metadata": {},
   "source": [
    "We will load one audio file and see the embeddings"
   ]
  },
  {
   "cell_type": "markdown",
   "metadata": {},
   "source": [
    "Now that we have understood how to generate audio embeddings, we need to create the data for our Siamese network. As we know, Siamese network accepts the data in a pair, we define the function for getting our data. We will create the genuine pair as (Dogs, Sub_dogs) and assign label as 1 and imposite pair as (Dogs, Cats) and assign label as 0."
   ]
  },
  {
   "cell_type": "code",
   "execution_count": 123,
   "metadata": {},
   "outputs": [],
   "source": [
    "def get_training_data():\n",
    "    \n",
    "    pairs = []\n",
    "    labels = []\n",
    "    \n",
    "    Dogs = glob.glob('data/audio/Dogs/*.wav')\n",
    "    Sub_dogs = glob.glob('data/audio/Sub_dogs/*.wav')\n",
    "    Cats = glob.glob('data/audio/Cats/*.wav')\n",
    "    \n",
    "    \n",
    "    np.random.shuffle(Sub_dogs)\n",
    "    np.random.shuffle(Cats)\n",
    "    \n",
    "    for i in range(min(len(Cats),len(Sub_dogs))):\n",
    "        #imposite pair\n",
    "        if (i % 2) == 0:\n",
    "            pairs.append([audio2vector(Dogs[randint(0,3)]),audio2vector(Cats[i])])\n",
    "            labels.append(0)\n",
    "            \n",
    "        #genuine pair\n",
    "        else:\n",
    "            pairs.append([audio2vector(Dogs[randint(0,3)]),audio2vector(Sub_dogs[i])])\n",
    "            labels.append(1)\n",
    "            \n",
    "            \n",
    "    return np.array(pairs), np.array(labels)"
   ]
  },
  {
   "cell_type": "code",
   "execution_count": 146,
   "metadata": {},
   "outputs": [],
   "source": [
    "\n",
    "df_preprocessed, features, target_feature = load_data()\n",
    "df_preprocessed = df_preprocessed.dropna(subset=['target_binary_intrusion'], how='any')\n",
    "\n",
    "X_train, X_test, y_train, y_test = train_test_split(df_preprocessed[features], df_preprocessed['target_binary_intrusion'],\n",
    "                                      test_size=0.15, stratify=df_preprocessed['target_binary_intrusion'])\n",
    "X_train, X_test = cv_preprocessing(X_train, X_test)\n"
   ]
  },
  {
   "cell_type": "code",
   "execution_count": 148,
   "metadata": {},
   "outputs": [
    {
     "data": {
      "text/plain": [
       "array([ 1.70970083, -0.58489765])"
      ]
     },
     "execution_count": 148,
     "metadata": {},
     "output_type": "execute_result"
    }
   ],
   "source": [
    "X_train['binary_intrusion'].unique()"
   ]
  },
  {
   "cell_type": "code",
   "execution_count": 152,
   "metadata": {},
   "outputs": [
    {
     "name": "stdout",
     "output_type": "stream",
     "text": [
      "(61, 86)\n",
      "(197, 86)\n"
     ]
    }
   ],
   "source": [
    "X_train['label'] = y_train\n",
    "print(X_train[X_train['label']==1].shape)\n",
    "print(X_train[X_train['label']==0].shape)"
   ]
  },
  {
   "cell_type": "code",
   "execution_count": 154,
   "metadata": {},
   "outputs": [
    {
     "data": {
      "text/plain": [
       "129.0"
      ]
     },
     "execution_count": 154,
     "metadata": {},
     "output_type": "execute_result"
    }
   ],
   "source": [
    "(197+61)/2"
   ]
  },
  {
   "cell_type": "code",
   "execution_count": 166,
   "metadata": {},
   "outputs": [],
   "source": []
  },
  {
   "cell_type": "code",
   "execution_count": 167,
   "metadata": {},
   "outputs": [],
   "source": [
    "Sub_dogs = X_train[X_train['label']==0].iloc[129:].drop('label', axis=1)"
   ]
  },
  {
   "cell_type": "code",
   "execution_count": 168,
   "metadata": {},
   "outputs": [],
   "source": [
    "Cats = X_train[X_train['label']==1].drop('label', axis=1)"
   ]
  },
  {
   "cell_type": "code",
   "execution_count": 169,
   "metadata": {},
   "outputs": [],
   "source": [
    "pairs = []\n",
    "labels = []\n",
    "    \n",
    "Dogs = X_train[X_train['label']==0].iloc[:129].drop('label', axis=1)\n",
    "Sub_dogs = X_train[X_train['label']==0].iloc[129:].drop('label', axis=1)\n",
    "Cats = X_train[X_train['label']==1].drop('label', axis=1)    \n",
    "    "
   ]
  },
  {
   "cell_type": "code",
   "execution_count": 170,
   "metadata": {},
   "outputs": [],
   "source": [
    "    \n",
    "for i in range(len(Cats)+len(Sub_dogs)):\n",
    "        #imposite pair\n",
    "    if i == len(Dogs):\n",
    "        break\n",
    "    elif (i < len(Cats)):\n",
    "        pairs.append([Dogs.iloc[i],Cats.iloc[i]])\n",
    "        labels.append(0)\n",
    "            \n",
    "        #genuine pair\n",
    "    else:\n",
    "        pairs.append([Dogs.iloc[i],Sub_dogs.iloc[i-len(Cats)]])\n",
    "        labels.append(1)\n",
    "            \n"
   ]
  },
  {
   "cell_type": "code",
   "execution_count": 171,
   "metadata": {},
   "outputs": [],
   "source": [
    "X, Y = np.array(pairs), np.array(labels)"
   ]
  },
  {
   "cell_type": "markdown",
   "metadata": {},
   "source": [
    "Next, we split our data for training and testing with 75% training and 25% testing proportions:"
   ]
  },
  {
   "cell_type": "code",
   "execution_count": null,
   "metadata": {},
   "outputs": [],
   "source": []
  },
  {
   "cell_type": "markdown",
   "metadata": {},
   "source": [
    "Now that we have successfully generated our data, we build our Siamese network. We define our base network which is used for feature extraction, we use three dense layers with dropout layer in between."
   ]
  },
  {
   "cell_type": "code",
   "execution_count": 172,
   "metadata": {},
   "outputs": [],
   "source": [
    "def build_base_network(input_shape):\n",
    "    input_x = Input(shape=input_shape)\n",
    "    x = Dense(128, activation='relu')(input_x)\n",
    "    x = Dropout(0.1)(x)\n",
    "    return Model(input_x, x)"
   ]
  },
  {
   "cell_type": "markdown",
   "metadata": {},
   "source": [
    "Next, we feed the audio pair to the base network, which will return the features:"
   ]
  },
  {
   "cell_type": "code",
   "execution_count": 173,
   "metadata": {},
   "outputs": [],
   "source": [
    "input_dim = X.shape[2:]\n",
    "\n",
    "audio_a = Input(shape=input_dim)\n",
    "audio_b = Input(shape=input_dim)"
   ]
  },
  {
   "cell_type": "markdown",
   "metadata": {},
   "source": [
    "These feat_vecs_a and feat_vecs_b are the feature vectors of our audio pair. Next, we feed this feature vectors to the energy function to compute a distance between them, we use Euclidean distance as our energy function:"
   ]
  },
  {
   "cell_type": "code",
   "execution_count": 174,
   "metadata": {},
   "outputs": [],
   "source": [
    "def euclidean_distance(vects):\n",
    "    x, y = vects\n",
    "    return K.sqrt(K.sum(K.square(x - y), axis=1, keepdims=True))\n",
    "\n",
    "\n",
    "def eucl_dist_output_shape(shapes):\n",
    "    shape1, shape2 = shapes\n",
    "    return (shape1[0], 1)"
   ]
  },
  {
   "cell_type": "code",
   "execution_count": 175,
   "metadata": {},
   "outputs": [],
   "source": [
    "def contrastive_loss(y_true, y_pred):\n",
    "    margin = 1\n",
    "    return K.mean(y_true * K.square(y_pred) + (1 - y_true) * K.square(K.maximum(margin - y_pred, 0)))\n",
    "\n",
    "\n"
   ]
  },
  {
   "cell_type": "markdown",
   "metadata": {},
   "source": [
    "\n",
    "Next, we set the epoch length to 13 and we use RMS prop for optimization."
   ]
  },
  {
   "cell_type": "code",
   "execution_count": 176,
   "metadata": {
    "scrolled": false
   },
   "outputs": [
    {
     "name": "stdout",
     "output_type": "stream",
     "text": [
      "WARNING:tensorflow:5 out of the last 13 calls to <function Model.make_train_function.<locals>.train_function at 0x0000026EF34665E0> triggered tf.function retracing. Tracing is expensive and the excessive number of tracings could be due to (1) creating @tf.function repeatedly in a loop, (2) passing tensors with different shapes, (3) passing Python objects instead of tensors. For (1), please define your @tf.function outside of the loop. For (2), @tf.function has experimental_relax_shapes=True option that relaxes argument shapes that can avoid unnecessary retracing. For (3), please refer to https://www.tensorflow.org/tutorials/customization/performance#python_or_tensor_args and https://www.tensorflow.org/api_docs/python/tf/function for  more details.\n",
      "4/4 [==============================] - 0s 1ms/step - loss: 33.7988\n",
      "WARNING:tensorflow:8 out of the last 9 calls to <function Model.make_predict_function.<locals>.predict_function at 0x0000026EF356D040> triggered tf.function retracing. Tracing is expensive and the excessive number of tracings could be due to (1) creating @tf.function repeatedly in a loop, (2) passing tensors with different shapes, (3) passing Python objects instead of tensors. For (1), please define your @tf.function outside of the loop. For (2), @tf.function has experimental_relax_shapes=True option that relaxes argument shapes that can avoid unnecessary retracing. For (3), please refer to https://www.tensorflow.org/tutorials/customization/performance#python_or_tensor_args and https://www.tensorflow.org/api_docs/python/tf/function for  more details.\n",
      "/n/n \n"
     ]
    },
    {
     "data": {
      "image/png": "[encoded data removed]",
      "text/plain": [
       "<Figure size 432x288 with 1 Axes>"
      ]
     },
     "metadata": {
      "needs_background": "light"
     },
     "output_type": "display_data"
    },
    {
     "data": {
      "image/png": "[encoded data removed]",
      "text/plain": [
       "<Figure size 432x288 with 1 Axes>"
      ]
     },
     "metadata": {
      "needs_background": "light"
     },
     "output_type": "display_data"
    },
    {
     "name": "stdout",
     "output_type": "stream",
     "text": [
      "pr_auc = 0.7303834438562944\n",
      "average_precision_score = 0.7413186813186812\n",
      "holdout i = , roc_auc = 0.6568047337278107\n",
      "4/4 [==============================] - 0s 1ms/step - loss: 48.1413\n",
      "WARNING:tensorflow:9 out of the last 10 calls to <function Model.make_predict_function.<locals>.predict_function at 0x0000026EF35BE790> triggered tf.function retracing. Tracing is expensive and the excessive number of tracings could be due to (1) creating @tf.function repeatedly in a loop, (2) passing tensors with different shapes, (3) passing Python objects instead of tensors. For (1), please define your @tf.function outside of the loop. For (2), @tf.function has experimental_relax_shapes=True option that relaxes argument shapes that can avoid unnecessary retracing. For (3), please refer to https://www.tensorflow.org/tutorials/customization/performance#python_or_tensor_args and https://www.tensorflow.org/api_docs/python/tf/function for  more details.\n",
      "/n/n \n"
     ]
    },
    {
     "data": {
      "image/png": "[encoded data removed]",
      "text/plain": [
       "<Figure size 432x288 with 1 Axes>"
      ]
     },
     "metadata": {
      "needs_background": "light"
     },
     "output_type": "display_data"
    },
    {
     "data": {
      "image/png": "[encoded data removed]",
      "text/plain": [
       "<Figure size 432x288 with 1 Axes>"
      ]
     },
     "metadata": {
      "needs_background": "light"
     },
     "output_type": "display_data"
    },
    {
     "name": "stdout",
     "output_type": "stream",
     "text": [
      "pr_auc = 0.4548332853995267\n",
      "average_precision_score = 0.484625733951494\n",
      "holdout i = , roc_auc = 0.4285714285714286\n",
      "4/4 [==============================] - 0s 1ms/step - loss: 38.9085\n",
      "WARNING:tensorflow:10 out of the last 11 calls to <function Model.make_predict_function.<locals>.predict_function at 0x0000026EF5F9C3A0> triggered tf.function retracing. Tracing is expensive and the excessive number of tracings could be due to (1) creating @tf.function repeatedly in a loop, (2) passing tensors with different shapes, (3) passing Python objects instead of tensors. For (1), please define your @tf.function outside of the loop. For (2), @tf.function has experimental_relax_shapes=True option that relaxes argument shapes that can avoid unnecessary retracing. For (3), please refer to https://www.tensorflow.org/tutorials/customization/performance#python_or_tensor_args and https://www.tensorflow.org/api_docs/python/tf/function for  more details.\n",
      "/n/n \n"
     ]
    },
    {
     "data": {
      "image/png": "[encoded data removed]",
      "text/plain": [
       "<Figure size 432x288 with 1 Axes>"
      ]
     },
     "metadata": {
      "needs_background": "light"
     },
     "output_type": "display_data"
    },
    {
     "data": {
      "image/png": "[encoded data removed]",
      "text/plain": [
       "<Figure size 432x288 with 1 Axes>"
      ]
     },
     "metadata": {
      "needs_background": "light"
     },
     "output_type": "display_data"
    },
    {
     "name": "stdout",
     "output_type": "stream",
     "text": [
      "pr_auc = 0.49905326790693977\n",
      "average_precision_score = 0.5399695761551808\n",
      "holdout i = , roc_auc = 0.42261904761904756\n",
      "4/4 [==============================] - 0s 1ms/step - loss: 32.7522\n",
      "WARNING:tensorflow:11 out of the last 12 calls to <function Model.make_predict_function.<locals>.predict_function at 0x0000026EF60A7940> triggered tf.function retracing. Tracing is expensive and the excessive number of tracings could be due to (1) creating @tf.function repeatedly in a loop, (2) passing tensors with different shapes, (3) passing Python objects instead of tensors. For (1), please define your @tf.function outside of the loop. For (2), @tf.function has experimental_relax_shapes=True option that relaxes argument shapes that can avoid unnecessary retracing. For (3), please refer to https://www.tensorflow.org/tutorials/customization/performance#python_or_tensor_args and https://www.tensorflow.org/api_docs/python/tf/function for  more details.\n",
      "/n/n \n"
     ]
    },
    {
     "data": {
      "image/png": "[encoded data removed]",
      "text/plain": [
       "<Figure size 432x288 with 1 Axes>"
      ]
     },
     "metadata": {
      "needs_background": "light"
     },
     "output_type": "display_data"
    },
    {
     "data": {
      "image/png": "[encoded data removed]",
      "text/plain": [
       "<Figure size 432x288 with 1 Axes>"
      ]
     },
     "metadata": {
      "needs_background": "light"
     },
     "output_type": "display_data"
    },
    {
     "name": "stdout",
     "output_type": "stream",
     "text": [
      "pr_auc = 0.5819775175516431\n",
      "average_precision_score = 0.5986243429484684\n",
      "holdout i = , roc_auc = 0.4285714285714286\n",
      "4/4 [==============================] - 0s 833us/step - loss: 44.8888\n",
      "WARNING:tensorflow:11 out of the last 11 calls to <function Model.make_predict_function.<locals>.predict_function at 0x0000026EF46E5B80> triggered tf.function retracing. Tracing is expensive and the excessive number of tracings could be due to (1) creating @tf.function repeatedly in a loop, (2) passing tensors with different shapes, (3) passing Python objects instead of tensors. For (1), please define your @tf.function outside of the loop. For (2), @tf.function has experimental_relax_shapes=True option that relaxes argument shapes that can avoid unnecessary retracing. For (3), please refer to https://www.tensorflow.org/tutorials/customization/performance#python_or_tensor_args and https://www.tensorflow.org/api_docs/python/tf/function for  more details.\n",
      "/n/n \n"
     ]
    },
    {
     "data": {
      "image/png": "[encoded data removed]",
      "text/plain": [
       "<Figure size 432x288 with 1 Axes>"
      ]
     },
     "metadata": {
      "needs_background": "light"
     },
     "output_type": "display_data"
    },
    {
     "data": {
      "image/png": "[encoded data removed]",
      "text/plain": [
       "<Figure size 432x288 with 1 Axes>"
      ]
     },
     "metadata": {
      "needs_background": "light"
     },
     "output_type": "display_data"
    },
    {
     "name": "stdout",
     "output_type": "stream",
     "text": [
      "pr_auc = 0.47824823790067844\n",
      "average_precision_score = 0.511466116517604\n",
      "holdout i = , roc_auc = 0.4871794871794872\n"
     ]
    }
   ],
   "source": [
    "cv = StratifiedKFold(5)\n",
    "\n",
    "for train, test in cv.split(X, Y):\n",
    "    \n",
    "    x_train, y_train = X[train], Y[train]\n",
    "    x_test, y_test = X[test], Y[test]\n",
    "    epochs = 13\n",
    "    rms = RMSprop()\n",
    "\n",
    "    base_network = build_base_network(input_dim)\n",
    "    audio_1 = x_train[:, 0]\n",
    "    audio_2 = x_train[:, 1]\n",
    "    feat_vecs_a = base_network(audio_a)\n",
    "    feat_vecs_b = base_network(audio_b)\n",
    "    distance = Lambda(euclidean_distance, output_shape=eucl_dist_output_shape)([feat_vecs_a, feat_vecs_b])\n",
    "    model = Model(inputs = [audio_a, audio_b], outputs=distance)\n",
    "    model.compile(loss=contrastive_loss, optimizer=rms)\n",
    "\n",
    "\n",
    "\n",
    "    model.fit([audio_1, audio_2], y_train.astype(float))\n",
    "\n",
    "    print_results(y_test, model.predict([x_test[:,0], x_test[:,1]]))"
   ]
  },
  {
   "cell_type": "code",
   "execution_count": null,
   "metadata": {},
   "outputs": [],
   "source": []
  }
 ],
 "metadata": {
  "kernelspec": {
   "display_name": "Python 3",
   "language": "python",
   "name": "python3"
  },
  "language_info": {
   "codemirror_mode": {
    "name": "ipython",
    "version": 3
   },
   "file_extension": ".py",
   "mimetype": "text/x-python",
   "name": "python",
   "nbconvert_exporter": "python",
   "pygments_lexer": "ipython3",
   "version": "3.8.8"
  }
 },
 "nbformat": 4,
 "nbformat_minor": 2
}
